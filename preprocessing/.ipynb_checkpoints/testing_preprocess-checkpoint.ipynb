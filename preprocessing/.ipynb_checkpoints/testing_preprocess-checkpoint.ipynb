{
 "cells": [
  {
   "cell_type": "code",
   "execution_count": 69,
   "metadata": {},
   "outputs": [
    {
     "name": "stdout",
     "output_type": "stream",
     "text": [
      "Schema for filtered data\n",
      "-------------------------------------\n",
      "root\n",
      " |-- id: string (nullable = true)\n",
      " |-- title: string (nullable = true)\n",
      " |-- abstracts: string (nullable = true)\n",
      " |-- citations: string (nullable = true)\n",
      " |-- tags: string (nullable = true)\n",
      "\n",
      "Entries for filtered_df\n",
      "----------------------------\n",
      "+--------------------+--------------------+--------------------+---------+--------------------+\n",
      "|                  id|               title|           abstracts|citations|                tags|\n",
      "+--------------------+--------------------+--------------------+---------+--------------------+\n",
      "|4cbba8127c8747a3b...|Primary Debulking...|Primary debulking...|       27|\"Epithelial ovari...|\n",
      "|3316b8b97c1e17ac9...|Hypothalamic grow...|Experiments were ...|       20|\"ACTB gene\",\"Acti...|\n",
      "|69662bd2a2f5ff9cf...|High salt toleran...|The potential to ...|       26|\"Accession Number...|\n",
      "|3f1b5aa320422a4df...|Invisible emotion...|Emotions are an o...|       15|        \"Workaround\"|\n",
      "|453ae606c4c5f2dd2...|Beam control and ...|We demonstrate tu...|        1|\"Embedding\",\"Nume...|\n",
      "|cb61fc1ebdeb58354...|Effect of allopur...|A scald burn inju...|        1|\"Allopurinol\",\"Bo...|\n",
      "|50ef31b58a30dfefb...|Effects of radiat...|Megakaryocytes ar...|        0|\"Acetylcysteine\",...|\n",
      "|10b5e8d1ab6f8002c...|Ju n 20 06 A new ...|Time-dependent de...|        0|\"ALDOA gene\",\"Fun...|\n",
      "|ccc67f73db54afc3f...|On random walk si...|In this paper, we...|       17|\"Brownian motion\"...|\n",
      "|7e1dc0e805fbb1311...|[Ultrasound-guide...|OBJECTIVE To pres...|        0|                    |\n",
      "|177e662ac662c21b0...|[Unilateral heari...|BACKGROUND Unilat...|        4|\"Alexia, Pure\",\"B...|\n",
      "|ac1ccf2f8d373a496...|Magnesium in clin...|Until recently th...|       64|\"Critical Illness...|\n",
      "|06f3d20b2c9191b4f...|Gap junctions in ...|The analysis of c...|       25|\"Acids\",\"Analog\",...|\n",
      "|b048c1886c86e65fd...|Toxicokinetics of...|The toxicokinetic...|        9|                    |\n",
      "|a19381d3b56fbe1b7...|Causal Modeling o...|Inter-cellular co...|        7|\"Causal filter\",\"...|\n",
      "|213a87540ca26cc97...|Myocardial matrix...|Similar to other ...|       20|\"Acrylates\",\"Amin...|\n",
      "|dabb12f12f5ea2667...|Descriptions and ...|Updated descripti...|        2|\"Amblyraja radiat...|\n",
      "|9ecd00055f711268a...|Noninvasive local...|Multimodality evo...|        8|\"Acoustic Evoked ...|\n",
      "|2a16e045f92b79c50...|CMOS thermal sens...|A low-cost therma...|        6|\"CMOS\",\"Delta-sig...|\n",
      "|de0d959928f27cc5f...|Masterarbeit / Ma...|....................|        0|                    |\n",
      "+--------------------+--------------------+--------------------+---------+--------------------+\n",
      "only showing top 20 rows\n",
      "\n",
      "\n",
      "\n",
      "Number of rows! 78\n",
      "\n",
      "\n"
     ]
    }
   ],
   "source": [
    "import pyspark\n",
    "from pyspark.sql.window import Window\n",
    "from pyspark.sql.types import *\n",
    "from pyspark.sql.functions import udf, struct, col, rank\n",
    "from pyspark.sql import SQLContext\n",
    "from pyspark import SparkContext\n",
    "from pyspark.sql.session import SparkSession\n",
    "\n",
    "sc = SparkContext.getOrCreate()\n",
    "spark = SparkSession(sc)\n",
    "\n",
    "def get_id(line):\n",
    "    parenthesis = \"\\\"\" # string literal for \"\n",
    "    paper_id_tag = \"\\\"id\\\"\" # find the first occurence of \"id\"\n",
    "    id_label_start = line.find(paper_id_tag) # this is the index that the id label starts\n",
    "    id_tag_start = id_label_start + 6 # this is the index that the id tag starts. Always be 6.\n",
    "    id_tag_end = line.find(parenthesis, id_tag_start)  #this is the index that the id tag ends\n",
    "    id_tag = line[id_tag_start:id_tag_end] # id tag string \n",
    "    return id_tag\n",
    "\n",
    "def get_title(line):\n",
    "    # look for the title of the paper and return the tag \n",
    "    paper_title_tag = \"\\\"title\\\"\"\n",
    "    parenthesis = \"\\\"\" # string literal for \"\n",
    "    \n",
    "    title_label_start = line.find(paper_title_tag) # index for the title label start \n",
    "    title_tag_start = title_label_start + 9\n",
    "    title_tag_end = line.find(parenthesis+\",\\\"\", title_tag_start) \n",
    "    title_tag = line[title_tag_start:title_tag_end]\n",
    "    '''\n",
    "    if title_tag[-1] == \".\":\n",
    "        title_tag = title_tag.replace(\".\", \"\")\n",
    "    if title_tag[-1] == \"]\":\n",
    "        title_tag = title_tag.replace(\"]\", \"\")\n",
    "        title_tag = title_tag.replace(\"[\", \"\")\n",
    "    if \"\\\\\\\"\" in title_tag:\n",
    "        title_tag = title_tag.replace(\"\\\\\\\"\", \"\\\"\")\n",
    "    '''\n",
    "    return title_tag\n",
    "\n",
    "def get_abstract(line):\n",
    "    '''\n",
    "    this function looks for the abstract tag of the paper\n",
    "    '''\n",
    "    paper_abstract_tag = \"\\\"paperAbstract\\\"\"\n",
    "    parenthesis = \"\\\"\" # string literal for \"\n",
    "    \n",
    "    abstract_label_start = line.find(paper_abstract_tag) # index that the abstrat label starts\n",
    "    abstract_tag_start = abstract_label_start + 17 # the start of the abstract tag \n",
    "    abstract_tag_end = line.find(parenthesis, abstract_tag_start) # the end of the abstract tag \n",
    "    abstract_tag = line[abstract_tag_start:abstract_tag_end] # abstract tag string\n",
    "    if r\"\\n\" in abstract_tag:\n",
    "        abstract_tag = abstract_tag.replace(r\"\\n\", \" \")\n",
    "    return abstract_tag\n",
    "\n",
    "def get_citation(line):\n",
    "    '''\n",
    "    Get the citation from the values \n",
    "    '''\n",
    "    paper_citation_tag = \"\\\"inCitations\\\"\" # find the occurence of \"inCitations\"\n",
    "    bracket = r\"]\" # look for \"]\"\n",
    "    \n",
    "    citation_label_start = line.find(paper_citation_tag) # index that the citation label starts  \n",
    "    citation_tag_start = citation_label_start + 15 # index that the citation tag starts\n",
    "    citation_tag_end = line.find(bracket, citation_tag_start)  # this is the index that the citation tag ends \n",
    "    if citation_tag_start == citation_tag_end: # if there are no citations: \n",
    "        num_citations = 0\n",
    "        citation_list = []\n",
    "    else:\n",
    "        citation_list = line[citation_tag_start:citation_tag_end].split(\",\") # make it a list, count number of entries\n",
    "        num_citations = len(citation_list) # number of citations \n",
    "    return num_citations\n",
    "\n",
    "def get_tag(line):\n",
    "    '''\n",
    "    Extracts the tag from the value column in the dataframe \n",
    "    '''\n",
    "    paper_entities_tag = \"\\\"entities\\\"\"\n",
    "    bracket = r\"]\" # look for \"]\"\n",
    "    \n",
    "    entities_label_start = line.find(paper_entities_tag) # index for the title label start \n",
    "    entities_tag_start = entities_label_start + 12\n",
    "    entities_tag_end = line.find(bracket+\",\\\"\", entities_tag_start) \n",
    "    entities_tag = line[entities_tag_start:entities_tag_end]\n",
    "    return entities_tag \n",
    "\n",
    "def adding_ids(df):\n",
    "    '''\n",
    "    This function takes the raw data dataframe and adds on an id column for the data\n",
    "    Ex: \n",
    "    value        id \n",
    "    laeinaelk    23402939423\n",
    "    lakeflake    02398402384\n",
    "    ieifniena    23402938402\n",
    "    '''\n",
    "    add_ids = df.withColumn(\"id\", get_id_udf(df.value))\n",
    "    return add_ids\n",
    "\n",
    "def adding_titles(df):\n",
    "    '''\n",
    "    This function takes the raw data dataframe and adds on an id column for the data\n",
    "    Ex: \n",
    "    value        id             title \n",
    "    laeinaelk    23402939423    \"Mastering the game of Go\"\n",
    "    lakeflake    02398402384    \"Computer Science is fun!\"\n",
    "    ieifniena    23402938402    \"Who knows what to do????\"\n",
    "    '''\n",
    "    add_titles = df.withColumn(\"title\", get_title_udf(df.value))\n",
    "    return add_titles\n",
    "\n",
    "def adding_abstracts(df):\n",
    "    '''\n",
    "    This function takes the raw + id dataframe and adds on abstracts column for the data\n",
    "    Ex\n",
    "    value        id             title                         abstracts \n",
    "    laeinaelk    23402939423    \"Mastering the game of Go\"    Mastering the game of ...\n",
    "    lakeflake    02398402384    \"Computer Science is fun!\"    When people go outside...\n",
    "    ieifniena    23402938402    \"Who knows what to do????\"    Data engineers love to...\n",
    "    '''\n",
    "    add_abstracts = df.withColumn(\"abstracts\", get_abstract_udf(df.value))\n",
    "    return add_abstracts\n",
    "\n",
    "def adding_citations(df):\n",
    "    '''\n",
    "    This function takes the raw data dataframe and adds on a citation column for the data\n",
    "    Ex\n",
    "    value        id             title                         abstracts                  citations\n",
    "    laeinaelk    23402939423    \"Mastering the game of Go\"    Mastering the game of ...  18\n",
    "    lakeflake    02398402384    \"Computer Science is fun!\"    When people go outside...  2\n",
    "    ieifniena    23402938402    \"Who knows what to do????\"    Data engineers love to...  102\n",
    "     '''\n",
    "    add_citations = df.withColumn(\"citations\", get_citation_udf(df.value))\n",
    "    return add_citations\n",
    "\n",
    "def adding_tags(df):\n",
    "    '''\n",
    "    This function takes the raw data dataframe and adds on a citation column for the data\n",
    "    Ex\n",
    "    value        id             title                         abstracts                  citations   tags\n",
    "    laeinaelk    23402939423    \"Mastering the game of Go\"    Mastering the game of ...  18          \"CS\", \"Game\"\n",
    "    lakeflake    02398402384    \"Computer Science is fun!\"    When people go outside...  2           \"World\", \"Tree\"\n",
    "    ieifniena    23402938402    \"Who knows what to do????\"    Data engineers love to...  102         \"DE\", \"Spark\"\n",
    "     '''\n",
    "    add_tags = df.withColumn(\"tags\", get_tag_udf(df.value))\n",
    "    return add_tags \n",
    "\n",
    "def drop_values(df):\n",
    "    '''\n",
    "    This function takes the dataframe and drops the value column\n",
    "    Ex\n",
    "    id             title                         abstracts                  citations   tags\n",
    "    23402939423    \"Mastering the game of Go\"    Mastering the game of ...  18          \"CS\", \"Game\"\n",
    "    02398402384    \"Computer Science is fun!\"    When people go outside...  2           \"World\", \"Tree\"\n",
    "    23402938402    \"Who knows what to do????\"    Data engineers love to...  102         \"DE\", \"Spark\"\n",
    "    '''\n",
    "    return df.drop(df.value)\n",
    "\n",
    "def drop_empty_rows(df):\n",
    "    df_filtered = df.filter(df.abstracts != \"\")\n",
    "    return df_filtered\n",
    "\n",
    "# create a user defined function for get_id and get_abstract, which is compatable with a spark dataframe \n",
    "get_id_udf = udf(lambda line: get_id(line), StringType())\n",
    "get_abstract_udf = udf(lambda line: get_abstract(line), StringType())\n",
    "get_title_udf = udf(lambda line: get_title(line), StringType())\n",
    "get_citation_udf = udf(lambda line:get_citation(line), StringType())\n",
    "get_tag_udf = udf(lambda line:get_tag(line), StringType())\n",
    "\n",
    "# raw data filenames \n",
    "#filenames = \"s3a://open-research-corpus/sample-S2-records.gz\" # path to the example file from S3 file \n",
    "#filenames = \"s3a://open-research-corpus/sample-S2-records.gz\" # path to the example file from S3 file \n",
    "#filenames = \"s3a://open-research-corpus/corpus-2019-01-31/s2-corpus-00.gz\"\n",
    "\n",
    "# intial read in\n",
    "#df = spark.read.text(filenames)\n",
    "df = spark.read.text(\"sample-S2-records-Copy1.txt\")\n",
    "df = adding_ids(df)\n",
    "df = adding_titles(df)\n",
    "df = adding_abstracts(df)\n",
    "df = adding_citations(df)\n",
    "df = adding_tags(df)\n",
    "df = drop_values(df)\n",
    "df = drop_empty_rows(df)\n",
    " \n",
    "#df.write.parquet(\"s3a://preprocessed-open-research-corpus/sample.parquet\",mode=\"overwrite\")\n",
    "\n",
    "print(\"Schema for filtered data\")\n",
    "print(\"-------------------------------------\")\n",
    "df.createOrReplaceTempView(\"filtered_df\")\n",
    "df.printSchema()\n",
    "results = spark.sql(\"SELECT * FROM filtered_df\")\n",
    "print(\"Entries for filtered_df\")\n",
    "print(\"----------------------------\")\n",
    "results.show()\n",
    "print()\n",
    "print()\n",
    "print(\"Number of rows!\", results.count())\n",
    "print()\n",
    "print()\n"
   ]
  },
  {
   "cell_type": "markdown",
   "metadata": {},
   "source": [
    "## Computing metrics \n",
    "- histogram of number of papers by citations "
   ]
  },
  {
   "cell_type": "code",
   "execution_count": 32,
   "metadata": {},
   "outputs": [
    {
     "ename": "NameError",
     "evalue": "name 'matplotlib' is not defined",
     "output_type": "error",
     "traceback": [
      "\u001b[0;31m---------------------------------------------------------------------------\u001b[0m",
      "\u001b[0;31mNameError\u001b[0m                                 Traceback (most recent call last)",
      "\u001b[0;32m<ipython-input-32-45befc1331e9>\u001b[0m in \u001b[0;36m<module>\u001b[0;34m()\u001b[0m\n\u001b[1;32m      4\u001b[0m \u001b[0mget_ipython\u001b[0m\u001b[0;34m(\u001b[0m\u001b[0;34m)\u001b[0m\u001b[0;34m.\u001b[0m\u001b[0mmagic\u001b[0m\u001b[0;34m(\u001b[0m\u001b[0;34m'precision %g'\u001b[0m\u001b[0;34m)\u001b[0m\u001b[0;34m\u001b[0m\u001b[0;34m\u001b[0m\u001b[0m\n\u001b[1;32m      5\u001b[0m \u001b[0mget_ipython\u001b[0m\u001b[0;34m(\u001b[0m\u001b[0;34m)\u001b[0m\u001b[0;34m.\u001b[0m\u001b[0mmagic\u001b[0m\u001b[0;34m(\u001b[0m\u001b[0;34m\"config InlineBackend.figure_format = 'retina'\"\u001b[0m\u001b[0;34m)\u001b[0m\u001b[0;34m\u001b[0m\u001b[0;34m\u001b[0m\u001b[0m\n\u001b[0;32m----> 6\u001b[0;31m \u001b[0mmatplotlib\u001b[0m\u001b[0;34m.\u001b[0m\u001b[0mrcParams\u001b[0m\u001b[0;34m[\u001b[0m\u001b[0;34m'savefig.dpi'\u001b[0m\u001b[0;34m]\u001b[0m \u001b[0;34m=\u001b[0m \u001b[0;36m160\u001b[0m\u001b[0;34m\u001b[0m\u001b[0;34m\u001b[0m\u001b[0m\n\u001b[0m\u001b[1;32m      7\u001b[0m \u001b[0mmatplotlib\u001b[0m\u001b[0;34m.\u001b[0m\u001b[0mrcParams\u001b[0m\u001b[0;34m[\u001b[0m\u001b[0;34m'figure.dpi'\u001b[0m\u001b[0;34m]\u001b[0m \u001b[0;34m=\u001b[0m \u001b[0;36m160\u001b[0m\u001b[0;34m\u001b[0m\u001b[0;34m\u001b[0m\u001b[0m\n\u001b[1;32m      8\u001b[0m \u001b[0mmatplotlib\u001b[0m\u001b[0;34m.\u001b[0m\u001b[0mrcParams\u001b[0m\u001b[0;34m[\u001b[0m\u001b[0;34m'figure.figsize'\u001b[0m\u001b[0;34m]\u001b[0m \u001b[0;34m=\u001b[0m \u001b[0;34m[\u001b[0m\u001b[0;36m4\u001b[0m\u001b[0;34m,\u001b[0m \u001b[0;36m2\u001b[0m\u001b[0;34m]\u001b[0m\u001b[0;34m\u001b[0m\u001b[0;34m\u001b[0m\u001b[0m\n",
      "\u001b[0;31mNameError\u001b[0m: name 'matplotlib' is not defined"
     ]
    }
   ],
   "source": [
    "import matplotlib.pyplot as plt\n",
    "%matplotlib inline\n",
    "import numpy as np\n",
    "%precision %g\n",
    "%config InlineBackend.figure_format = 'retina'\n",
    "matplotlib.rcParams['savefig.dpi'] = 160\n",
    "matplotlib.rcParams['figure.dpi'] = 160\n",
    "matplotlib.rcParams['figure.figsize'] = [4, 2]\n",
    "from time import time\n",
    "import re"
   ]
  },
  {
   "cell_type": "code",
   "execution_count": 79,
   "metadata": {
    "collapsed": true
   },
   "outputs": [],
   "source": [
    "# Histogram of number of papers by citation\n",
    "num_rows = results.count() # number of rows in the table after clearing empty abstracts \n",
    "citation_list = []\n",
    "citation = df.select(df.citations).collect()\n",
    "for i in range(num_rows):\n",
    "    curr_citation = citation[i][\"citations\"]\n",
    "    citation_list.append(int(curr_citation))"
   ]
  },
  {
   "cell_type": "code",
   "execution_count": 150,
   "metadata": {},
   "outputs": [
    {
     "name": "stdout",
     "output_type": "stream",
     "text": [
      "[27, 20, 26, 15, 1, 1, 0, 0, 17, 0, 4, 64, 25, 9, 7, 20, 2, 8, 6, 0, 5, 0, 18, 18, 4, 4, 0, 0, 1, 9, 13, 30, 2, 1, 0, 6, 1, 0, 14, 14, 1, 0, 0, 0, 0, 3, 13, 0, 0, 2, 0, 0, 0, 1, 7, 0, 7, 0, 4, 8, 2, 0, 3, 4, 0, 1, 0, 0, 2, 5, 0, 6, 0, 12, 4, 12, 0, 12]\n"
     ]
    }
   ],
   "source": [
    "print(citation_list)"
   ]
  },
  {
   "cell_type": "code",
   "execution_count": 159,
   "metadata": {},
   "outputs": [
    {
     "name": "stdout",
     "output_type": "stream",
     "text": [
      "<class 'list'>\n",
      "[6, 11, 16, 21, 26, 31, 36, 41, 46, 51, 56, 61, 66]\n",
      "[0, 6, 11, 16, 21, 26, 31, 36, 41, 46, 51, 56, 61, 66]\n"
     ]
    }
   ],
   "source": [
    "bin_size = list(range(6, max(citation_list)+5, 5))\n",
    "print(type(bin_size))\n",
    "print(bin_size)\n",
    "bin_size.insert(0, 0)\n",
    "print(bin_size)"
   ]
  },
  {
   "cell_type": "code",
   "execution_count": 192,
   "metadata": {},
   "outputs": [
    {
     "name": "stdout",
     "output_type": "stream",
     "text": [
      "[50. 10.  8.  5.  1.  3.  0.  0.  0.  0.  0.  0.  1.]\n",
      "[ 0  6 11 16 21 26 31 36 41 46 51 56 61 66]\n"
     ]
    },
    {
     "data": {
      "image/png": "[encoded data removed]",
      "text/plain": [
       "<matplotlib.figure.Figure at 0x111fd6cf8>"
      ]
     },
     "metadata": {
      "image/png": {
       "height": 374,
       "width": 611
      }
     },
     "output_type": "display_data"
    }
   ],
   "source": [
    "citations = plt.hist(citation_list, bins = bin_size, align = 'mid')\n",
    "plt.ylabel(\"Number of papers\")\n",
    "plt.xlabel(\"Number of citations\")\n",
    "plt.title(\"Number of citations by paper\")\n",
    "print(citations[0])\n",
    "print(citations[1])"
   ]
  },
  {
   "cell_type": "code",
   "execution_count": 162,
   "metadata": {
    "collapsed": true
   },
   "outputs": [],
   "source": [
    "perc_citations = []\n",
    "for cit_num in citations[0]:\n",
    "    perc_citations.append(cit_num/num_rows)"
   ]
  },
  {
   "cell_type": "code",
   "execution_count": 163,
   "metadata": {},
   "outputs": [
    {
     "name": "stdout",
     "output_type": "stream",
     "text": [
      "[0.6410256410256411, 0.1282051282051282, 0.10256410256410256, 0.0641025641025641, 0.01282051282051282, 0.038461538461538464, 0.0, 0.0, 0.0, 0.0, 0.0, 0.0, 0.01282051282051282]\n"
     ]
    }
   ],
   "source": [
    "print(perc_citations)"
   ]
  },
  {
   "cell_type": "code",
   "execution_count": 224,
   "metadata": {
    "collapsed": true
   },
   "outputs": [],
   "source": [
    "citation_labels = []\n",
    "for i in range(len(citations[1]) - 1):\n",
    "    citation_labels.append(str(citations[1][i]) + \"-\" + str(citations[1][i+1] - 1) + \" citations\")\n"
   ]
  },
  {
   "cell_type": "code",
   "execution_count": 212,
   "metadata": {},
   "outputs": [
    {
     "name": "stdout",
     "output_type": "stream",
     "text": [
      "['0-6 citations', '6-11 citations', '11-16 citations', '16-21 citations', '21-26 citations', '26-31 citations', '31-36 citations', '36-41 citations', '41-46 citations', '46-51 citations', '51-56 citations', '56-61 citations', '61-66 citations']\n"
     ]
    }
   ],
   "source": [
    "print(citation_labels)"
   ]
  },
  {
   "cell_type": "code",
   "execution_count": 230,
   "metadata": {},
   "outputs": [
    {
     "data": {
      "text/plain": [
       "<matplotlib.legend.Legend at 0x111cee048>"
      ]
     },
     "execution_count": 230,
     "metadata": {},
     "output_type": "execute_result"
    },
    {
     "data": {
      "image/png": "[encoded data removed]",
      "text/plain": [
       "<matplotlib.figure.Figure at 0x10bbdd5f8>"
      ]
     },
     "metadata": {
      "image/png": {
       "height": 436,
       "width": 488
      }
     },
     "output_type": "display_data"
    }
   ],
   "source": [
    "plt.rcParams['font.size'] = 4\n",
    "matplotlib.rcParams['figure.figsize'] = [3, 3]\n",
    "pie_chart = plt.pie(perc_citations, labels=citation_labels, autopct='%1.1f%%')\n",
    "plt.axis('equal')\n",
    "plt.title(\"Range of citations\")\n",
    "plt.legend()\n",
    "#pie_chart.set_size_inches(18.5, 10.5)\n",
    "#pie_chart.savefig('test2png.png', dpi=100)"
   ]
  },
  {
   "cell_type": "markdown",
   "metadata": {},
   "source": [
    "## Computing metrics \n",
    "- top most common tags and how many times they appear \n",
    "- histogram of top 10 most common tags"
   ]
  },
  {
   "cell_type": "code",
   "execution_count": 308,
   "metadata": {},
   "outputs": [
    {
     "name": "stdout",
     "output_type": "stream",
     "text": [
      "['\"Epithelial ovarian cancer\"', '\"Excision\"', '\"Extraction\"', '\"Hospital admission\"', '\"Malignant neoplasm of ovary\"', '\"Morbidity - disease rate\"', '\"Neoadjuvant Therapy\"', '\"Neoplasms\"', '\"Overall Survival\"', '\"Patients\"', '\"Postoperative Complications\"', '\"Residual Tumor\"', '\"SLC13A5 gene\"', '\"Stage IV Ovarian Carcinoma\"', '\"Tumor Debulking\"', '\"intensive care unit\"', '\"ovarian neoplasm\"', '\"stage IV childhood Hodgkin\\'s lymphoma\"']\n"
     ]
    }
   ],
   "source": [
    "# Histogram of most common tags\n",
    "num_rows = results.count() # number of rows in the table after clearing empty abstracts \n",
    "tag_dictionary = {}\n",
    "#tag_list = df.select(df.tags, df.id).show()\n",
    "tag_id_list = df.select(df.tags, df.id).collect()\n",
    "tag_list = tag_id_list[0][0].split(\",\")\n",
    "print(tag_list)\n",
    "current_id = tag_id_list[0][1]\n",
    "for i in range(num_rows):\n",
    "    tag_list = tag_id_list[i][0].split(\",\")\n",
    "    for tag in tag_list: \n",
    "        if tag not in tag_dictionary and tag != \"\":\n",
    "            tag_dictionary[tag] = 1 \n",
    "        elif tag != \"\":\n",
    "            tag_dictionary[tag] += 1 "
   ]
  },
  {
   "cell_type": "code",
   "execution_count": 310,
   "metadata": {},
   "outputs": [
    {
     "name": "stdout",
     "output_type": "stream",
     "text": [
      "721\n"
     ]
    }
   ],
   "source": [
    "print(len(list(tag_dictionary.keys())))"
   ]
  },
  {
   "cell_type": "code",
   "execution_count": 311,
   "metadata": {},
   "outputs": [
    {
     "name": "stdout",
     "output_type": "stream",
     "text": [
      "[1, 1, 1, 1, 1, 1, 1, 3, 1, 9, 1, 1, 1, 1, 1, 1, 1, 1, 1, 1, 1, 1, 1, 2, 1, 1, 1, 1, 1, 1, 1, 1, 1, 1, 1, 1, 1, 2, 3, 2, 1, 1, 1, 1, 1, 1, 1, 2, 1, 1, 2, 1, 1, 1, 1, 1, 1, 1, 1, 1, 1, 1, 1, 1, 1, 1, 1, 1, 1, 1, 1, 1, 1, 1, 1, 1, 1, 2, 1, 1, 1, 4, 1, 1, 1, 1, 1, 1, 1, 1, 1, 2, 1, 1, 1, 1, 1, 1, 1, 1, 1, 1, 2, 1, 1, 1, 2, 1, 1, 1, 1, 1, 1, 1, 1, 2, 1, 1, 1, 1, 1, 1, 1, 1, 1, 2, 1, 2, 1, 1, 1, 1, 2, 1, 1, 1, 1, 1, 1, 1, 1, 1, 1, 1, 1, 1, 1, 1, 1, 3, 1, 3, 1, 1, 1, 6, 2, 1, 1, 1, 3, 1, 2, 1, 1, 2, 1, 1, 1, 1, 1, 1, 1, 1, 1, 1, 1, 1, 1, 1, 1, 1, 1, 1, 1, 1, 3, 1, 1, 1, 1, 1, 1, 1, 1, 2, 1, 1, 1, 1, 2, 1, 1, 1, 1, 1, 1, 1, 1, 2, 1, 1, 2, 1, 1, 1, 1, 1, 1, 1, 1, 1, 1, 1, 1, 1, 1, 1, 1, 1, 1, 1, 1, 1, 1, 1, 1, 1, 1, 2, 1, 1, 1, 2, 1, 1, 1, 1, 1, 1, 1, 1, 1, 1, 1, 1, 1, 1, 2, 1, 1, 1, 1, 1, 1, 1, 1, 1, 2, 1, 1, 1, 1, 1, 1, 1, 1, 2, 1, 1, 1, 1, 1, 1, 2, 1, 1, 1, 1, 2, 2, 5, 1, 1, 1, 1, 1, 1, 1, 1, 1, 1, 1, 1, 1, 1, 1, 1, 3, 1, 1, 1, 1, 1, 1, 1, 2, 1, 1, 1, 1, 1, 1, 1, 1, 1, 1, 2, 2, 1, 1, 1, 1, 1, 1, 1, 1, 1, 1, 1, 1, 1, 1, 1, 1, 1, 1, 1, 1, 2, 1, 1, 1, 1, 1, 1, 1, 1, 1, 1, 1, 1, 1, 1, 1, 1, 1, 1, 1, 1, 1, 1, 1, 1, 1, 1, 1, 1, 1, 1, 1, 1, 1, 1, 1, 1, 1, 1, 1, 1, 1, 1, 1, 1, 1, 1, 1, 1, 1, 1, 1, 1, 2, 1, 1, 1, 1, 1, 1, 1, 1, 2, 1, 2, 1, 1, 1, 1, 1, 1, 1, 1, 1, 1, 1, 1, 1, 1, 1, 2, 1, 1, 2, 1, 1, 1, 1, 1, 1, 1, 1, 1, 1, 1, 1, 1, 1, 1, 1, 1, 1, 1, 1, 1, 1, 1, 1, 1, 1, 1, 1, 1, 2, 1, 1, 1, 1, 1, 1, 1, 1, 1, 1, 1, 1, 2, 1, 1, 1, 1, 1, 1, 1, 1, 1, 1, 1, 1, 1, 1, 1, 1, 1, 1, 1, 1, 1, 1, 1, 1, 1, 1, 1, 1, 1, 1, 1, 1, 1, 1, 1, 1, 1, 1, 1, 1, 1, 1, 1, 1, 1, 1, 1, 1, 1, 1, 1, 1, 1, 1, 1, 1, 1, 1, 1, 1, 1, 1, 1, 1, 2, 1, 1, 1, 1, 1, 1, 1, 1, 2, 1, 1, 1, 1, 1, 1, 1, 1, 1, 1, 1, 1, 1, 1, 1, 1, 2, 1, 1, 1, 1, 1, 1, 1, 1, 1, 1, 1, 1, 1, 1, 1, 1, 1, 1, 1, 1, 1, 2, 1, 1, 1, 1, 1, 1, 1, 1, 1, 1, 1, 1, 1, 1, 1, 1, 1, 1, 1, 1, 1, 1, 1, 1, 1, 1, 1, 1, 1, 1, 1, 1, 1, 1, 1, 1, 1, 1, 1, 1, 1, 1, 1, 1, 1, 1, 1, 1, 1, 1, 1, 1, 1, 1, 1, 1, 1, 1, 1, 1, 1, 1, 1, 1, 1, 1, 1, 1, 1, 1, 1, 1, 1, 1, 1, 1, 1, 1, 1, 1, 1, 1, 1, 1, 1, 1, 1, 1, 1, 1, 1, 1, 1, 1, 1, 1, 1, 1, 1, 1, 1, 1, 1, 1, 1, 1, 1, 1, 1, 1, 1, 1, 1, 1, 1, 1, 1, 1, 1, 1, 1, 1, 1, 1, 1, 1, 1, 1, 1, 1, 1, 1]\n"
     ]
    }
   ],
   "source": [
    "tag_occurences = [] # number of times that tag showed up\n",
    "for key in list(tag_dictionary.keys()):\n",
    "    tag_occurences.append(tag_dictionary[key])\n",
    "print(tag_occurences)"
   ]
  },
  {
   "cell_type": "code",
   "execution_count": 312,
   "metadata": {},
   "outputs": [
    {
     "name": "stdout",
     "output_type": "stream",
     "text": [
      "[1, 2, 3, 4, 5, 6, 7, 8, 9, 10, 11, 12, 13]\n"
     ]
    }
   ],
   "source": [
    "bin_size = list(range(1, max(tag_occurences)+5, 1))\n",
    "print(bin_size)\n",
    "#bin_size.insert(0, 0)"
   ]
  },
  {
   "cell_type": "code",
   "execution_count": 313,
   "metadata": {},
   "outputs": [
    {
     "name": "stdout",
     "output_type": "stream",
     "text": [
      "[667.  43.   7.   1.   1.   1.   0.   0.   1.   0.   0.   0.]\n",
      "[ 1  2  3  4  5  6  7  8  9 10 11 12 13]\n"
     ]
    },
    {
     "data": {
      "image/png": "[encoded data removed]",
      "text/plain": [
       "<matplotlib.figure.Figure at 0x1123cba20>"
      ]
     },
     "metadata": {
      "image/png": {
       "height": 461,
       "width": 454
      }
     },
     "output_type": "display_data"
    }
   ],
   "source": [
    "tag_counts = plt.hist(tag_occurences, bins = bin_size, align = 'mid', log=True)\n",
    "plt.ylabel(\"Number of tag occurences\")\n",
    "plt.xlabel(\"Number of tags\")\n",
    "plt.title(\"Number of tag occurences\")\n",
    "print(tag_counts[0])\n",
    "print(tag_counts[1])"
   ]
  },
  {
   "cell_type": "code",
   "execution_count": 316,
   "metadata": {},
   "outputs": [
    {
     "name": "stdout",
     "output_type": "stream",
     "text": [
      "Number with more than one 54\n"
     ]
    }
   ],
   "source": [
    "more_than_one = []\n",
    "more_than_two = []\n",
    "more_than_three = []\n",
    "more_than_eight = []\n",
    "for key in list(tag_dictionary.keys()):\n",
    "    if tag_dictionary[key] > 1: \n",
    "        more_than_one.append(key)\n",
    "    if tag_dictionary[key] > 2:\n",
    "        more_than_two.append(key)\n",
    "    if tag_dictionary[key] > 3:\n",
    "        more_than_three.append(key)\n",
    "    if tag_dictionary[key] > 8:\n",
    "        more_than_eight.append(key)\n",
    "print(\"Number with more than one\", len(more_than_one))"
   ]
  },
  {
   "cell_type": "code",
   "execution_count": 290,
   "metadata": {},
   "outputs": [
    {
     "name": "stdout",
     "output_type": "stream",
     "text": [
      "\"Neoplasms\"\n",
      "\"Patients\"\n",
      "\"Numerous\"\n",
      "\"Simulation\"\n",
      "\n",
      "\"Body tissue\"\n",
      "\"Diameter (qualifier value)\"\n",
      " human\"\n",
      "\"In Vitro [Publication Type]\"\n",
      "\"Cessation of life\"\n",
      "\"Algorithm\"\n",
      "\"Gradient\"\n"
     ]
    }
   ],
   "source": [
    "for i in more_than_two:\n",
    "    print(i)\n"
   ]
  },
  {
   "cell_type": "code",
   "execution_count": 293,
   "metadata": {},
   "outputs": [
    {
     "name": "stdout",
     "output_type": "stream",
     "text": [
      "\"Patients\"\n",
      "\"Simulation\"\n",
      "\n",
      " human\"\n",
      "\"Algorithm\"\n"
     ]
    }
   ],
   "source": [
    "for i in more_than_three:\n",
    "    print(i)"
   ]
  },
  {
   "cell_type": "code",
   "execution_count": 317,
   "metadata": {},
   "outputs": [
    {
     "name": "stdout",
     "output_type": "stream",
     "text": [
      "\"Patients\"\n"
     ]
    }
   ],
   "source": [
    "for i in more_than_eight: \n",
    "    print(i)"
   ]
  },
  {
   "cell_type": "code",
   "execution_count": 318,
   "metadata": {
    "collapsed": true
   },
   "outputs": [],
   "source": [
    "millions = []\n",
    "for i in range(0, 1000000):\n",
    "    millions.append(i)\n"
   ]
  },
  {
   "cell_type": "code",
   "execution_count": 319,
   "metadata": {},
   "outputs": [
    {
     "name": "stdout",
     "output_type": "stream",
     "text": [
      "1000000\n"
     ]
    }
   ],
   "source": [
    "print(len(millions))"
   ]
  },
  {
   "cell_type": "code",
   "execution_count": 68,
   "metadata": {},
   "outputs": [
    {
     "name": "stdout",
     "output_type": "stream",
     "text": [
      "78\n"
     ]
    }
   ],
   "source": [
    "print(df.select(df['(citations > 10)'] == 0).count())"
   ]
  },
  {
   "cell_type": "markdown",
   "metadata": {},
   "source": [
    "# looking at a million rows"
   ]
  },
  {
   "cell_type": "code",
   "execution_count": 229,
   "metadata": {},
   "outputs": [
    {
     "name": "stdout",
     "output_type": "stream",
     "text": [
      "Schema for filtered data\n",
      "-------------------------------------\n",
      "root\n",
      " |-- id: string (nullable = true)\n",
      " |-- title: string (nullable = true)\n",
      " |-- abstracts: string (nullable = true)\n",
      " |-- citations: string (nullable = true)\n",
      " |-- tags: string (nullable = true)\n",
      "\n",
      "Entries for filtered_df\n",
      "----------------------------\n",
      "+--------------------+--------------------+--------------------+---------+--------------------+\n",
      "|                  id|               title|           abstracts|citations|                tags|\n",
      "+--------------------+--------------------+--------------------+---------+--------------------+\n",
      "|7e58b926bbbc122ed...|Ecomorphological ...|The marsh frog is...|        0|\"Amphibians\",\"Anu...|\n",
      "|5fe604355580626e0...|Oxidative kinetic...|Three new chiral ...|        1|\"Eighty Nine\",\"Et...|\n",
      "|cfa06e42e05780113...|Dilated cardiomyo...|The case records ...|       13|\"Atrial Fibrillat...|\n",
      "|79194916992aa261c...|Giant virilizing ...|Adrenocortical tu...|        0|                    |\n",
      "|4a6725fbfcea918c6...|Electron cryomicr...|Freezing artifact...|        2|\"Coefficient\",\"Co...|\n",
      "|01276e6f0d18c35d5...|Structure of a ga...|Gammadelta T cell...|       79|\"Complementarity ...|\n",
      "|4cc65d4f5cde5284e...|DISCOVERY OF “ WA...|Using far-infrare...|        0|\"Active galactic ...|\n",
      "|db9e26420155706dd...|High-dose Chemoth...|An adult woman de...|        0|\"Autologous Stem ...|\n",
      "|63e0427caaaae0211...|High dose-rate br...|Traditionally, ra...|       12|\"Brachytherapy\",\"...|\n",
      "|ecfc8dd2484de3c64...|Significance of i...|Twenty-two patien...|       19|\"Blood Platelet D...|\n",
      "|63b5f998c3d0dd93c...|[Organization of ...|In war-time or in...|        0|       \"Burn injury\"|\n",
      "|404b03f473f95bc2d...|Expression of mTe...|Here, we show tha...|       41|\"Catalytic Domain...|\n",
      "|30aaf92bde9bf6cdc...|Circadian drinkin...|The present study...|       24|\"Eating\",\"Ethanol...|\n",
      "|6074a8df536873e90...|Effects of acerol...|The effects of ad...|        3|\"Acerola\",\"Antiox...|\n",
      "|6833beae06e51a604...|[Anti-transglutam...|UNLABELLED Celiac...|        0|\"American College...|\n",
      "|bfea5a8c0ed0bc15f...|Identifying the r...|Compassion fatigu...|        4|\"Cessation of lif...|\n",
      "|b8be59215c7f983bd...|The anterior grad...|Low-grade (LG) se...|       29|\"Anaplasia\",\"Body...|\n",
      "|ed6f7f0d65f4c8bde...|Predation, seed s...|I compare the rel...|        4|\"Body Dysmorphic ...|\n",
      "|6c94a3e80a163fe89...|Empty spiracles, ...|The empty spiracl...|       64|\"Acids\",\"Amino Ac...|\n",
      "|36efcd42e8fbe18e0...|Apolipoprotein B-...|Genetic polymorph...|        4|\"Apolipoprotein B...|\n",
      "+--------------------+--------------------+--------------------+---------+--------------------+\n",
      "only showing top 20 rows\n",
      "\n",
      "\n",
      "\n",
      "Number of rows! 685397\n",
      "\n",
      "\n"
     ]
    }
   ],
   "source": [
    "import pyspark\n",
    "from pyspark.sql.types import *\n",
    "from pyspark.sql.functions import udf, struct, col\n",
    "from pyspark.sql import SQLContext\n",
    "from pyspark import SparkContext\n",
    "from pyspark.sql.session import SparkSession\n",
    "\n",
    "sc = SparkContext.getOrCreate()\n",
    "spark = SparkSession(sc)\n",
    "\n",
    "def get_id(line):\n",
    "    parenthesis = \"\\\"\" # string literal for \"\n",
    "    paper_id_tag = \"\\\"id\\\"\" # find the first occurence of \"id\"\n",
    "    id_label_start = line.find(paper_id_tag) # this is the index that the id label starts\n",
    "    id_tag_start = id_label_start + 6 # this is the index that the id tag starts. Always be 6.\n",
    "    id_tag_end = line.find(parenthesis, id_tag_start)  #this is the index that the id tag ends\n",
    "    id_tag = line[id_tag_start:id_tag_end] # id tag string \n",
    "    return id_tag\n",
    "\n",
    "def get_title(line):\n",
    "    # look for the title of the paper and return the tag \n",
    "    paper_title_tag = \"\\\"title\\\"\"\n",
    "    parenthesis = \"\\\"\" # string literal for \"\n",
    "    \n",
    "    title_label_start = line.find(paper_title_tag) # index for the title label start \n",
    "    title_tag_start = title_label_start + 9\n",
    "    title_tag_end = line.find(parenthesis+\",\\\"\", title_tag_start) \n",
    "    title_tag = line[title_tag_start:title_tag_end]\n",
    "    '''\n",
    "    if title_tag[-1] == \".\":\n",
    "        title_tag = title_tag.replace(\".\", \"\")\n",
    "    if title_tag[-1] == \"]\":\n",
    "        title_tag = title_tag.replace(\"]\", \"\")\n",
    "        title_tag = title_tag.replace(\"[\", \"\")\n",
    "    if \"\\\\\\\"\" in title_tag:\n",
    "        title_tag = title_tag.replace(\"\\\\\\\"\", \"\\\"\")\n",
    "    '''\n",
    "    return title_tag\n",
    "\n",
    "def get_abstract(line):\n",
    "    '''\n",
    "    this function looks for the abstract tag of the paper\n",
    "    '''\n",
    "    paper_abstract_tag = \"\\\"paperAbstract\\\"\"\n",
    "    parenthesis = \"\\\"\" # string literal for \"\n",
    "    \n",
    "    abstract_label_start = line.find(paper_abstract_tag) # index that the abstrat label starts\n",
    "    abstract_tag_start = abstract_label_start + 17 # the start of the abstract tag \n",
    "    abstract_tag_end = line.find(parenthesis, abstract_tag_start) # the end of the abstract tag \n",
    "    abstract_tag = line[abstract_tag_start:abstract_tag_end] # abstract tag string\n",
    "    if r\"\\n\" in abstract_tag:\n",
    "        abstract_tag = abstract_tag.replace(r\"\\n\", \" \")\n",
    "    return abstract_tag\n",
    "\n",
    "def get_citation(line):\n",
    "    '''\n",
    "    Get the citation from the values \n",
    "    '''\n",
    "    paper_citation_tag = \"\\\"inCitations\\\"\" # find the occurence of \"inCitations\"\n",
    "    bracket = r\"]\" # look for \"]\"\n",
    "    \n",
    "    citation_label_start = line.find(paper_citation_tag) # index that the citation label starts  \n",
    "    citation_tag_start = citation_label_start + 15 # index that the citation tag starts\n",
    "    citation_tag_end = line.find(bracket, citation_tag_start)  # this is the index that the citation tag ends \n",
    "    if citation_tag_start == citation_tag_end: # if there are no citations: \n",
    "        num_citations = 0\n",
    "        citation_list = []\n",
    "    else:\n",
    "        citation_list = line[citation_tag_start:citation_tag_end].split(\",\") # make it a list, count number of entries\n",
    "        num_citations = len(citation_list) # number of citations \n",
    "    return num_citations\n",
    "\n",
    "def get_tag(line):\n",
    "    '''\n",
    "    Extracts the tag from the value column in the dataframe \n",
    "    '''\n",
    "    paper_entities_tag = \"\\\"entities\\\"\"\n",
    "    bracket = r\"]\" # look for \"]\"\n",
    "    \n",
    "    entities_label_start = line.find(paper_entities_tag) # index for the title label start \n",
    "    entities_tag_start = entities_label_start + 12\n",
    "    entities_tag_end = line.find(bracket+\",\\\"\", entities_tag_start) \n",
    "    entities_tag = line[entities_tag_start:entities_tag_end]\n",
    "    return entities_tag \n",
    "\n",
    "def adding_ids(df):\n",
    "    '''\n",
    "    This function takes the raw data dataframe and adds on an id column for the data\n",
    "    Ex: \n",
    "    value        id \n",
    "    laeinaelk    23402939423\n",
    "    lakeflake    02398402384\n",
    "    ieifniena    23402938402\n",
    "    '''\n",
    "    add_ids = df.withColumn(\"id\", get_id_udf(df.value))\n",
    "    return add_ids\n",
    "\n",
    "def adding_titles(df):\n",
    "    '''\n",
    "    This function takes the raw data dataframe and adds on an id column for the data\n",
    "    Ex: \n",
    "    value        id             title \n",
    "    laeinaelk    23402939423    \"Mastering the game of Go\"\n",
    "    lakeflake    02398402384    \"Computer Science is fun!\"\n",
    "    ieifniena    23402938402    \"Who knows what to do????\"\n",
    "    '''\n",
    "    add_titles = df.withColumn(\"title\", get_title_udf(df.value))\n",
    "    return add_titles\n",
    "\n",
    "def adding_abstracts(df):\n",
    "    '''\n",
    "    This function takes the raw + id dataframe and adds on abstracts column for the data\n",
    "    Ex\n",
    "    value        id             title                         abstracts \n",
    "    laeinaelk    23402939423    \"Mastering the game of Go\"    Mastering the game of ...\n",
    "    lakeflake    02398402384    \"Computer Science is fun!\"    When people go outside...\n",
    "    ieifniena    23402938402    \"Who knows what to do????\"    Data engineers love to...\n",
    "    '''\n",
    "    add_abstracts = df.withColumn(\"abstracts\", get_abstract_udf(df.value))\n",
    "    return add_abstracts\n",
    "\n",
    "def adding_citations(df):\n",
    "    '''\n",
    "    This function takes the raw data dataframe and adds on a citation column for the data\n",
    "    Ex\n",
    "    value        id             title                         abstracts                  citations\n",
    "    laeinaelk    23402939423    \"Mastering the game of Go\"    Mastering the game of ...  18\n",
    "    lakeflake    02398402384    \"Computer Science is fun!\"    When people go outside...  2\n",
    "    ieifniena    23402938402    \"Who knows what to do????\"    Data engineers love to...  102\n",
    "     '''\n",
    "    add_citations = df.withColumn(\"citations\", get_citation_udf(df.value))\n",
    "    return add_citations\n",
    "\n",
    "def adding_tags(df):\n",
    "    '''\n",
    "    This function takes the raw data dataframe and adds on a citation column for the data\n",
    "    Ex\n",
    "    value        id             title                         abstracts                  citations   tags\n",
    "    laeinaelk    23402939423    \"Mastering the game of Go\"    Mastering the game of ...  18          \"CS\", \"Game\"\n",
    "    lakeflake    02398402384    \"Computer Science is fun!\"    When people go outside...  2           \"World\", \"Tree\"\n",
    "    ieifniena    23402938402    \"Who knows what to do????\"    Data engineers love to...  102         \"DE\", \"Spark\"\n",
    "     '''\n",
    "    add_tags = df.withColumn(\"tags\", get_tag_udf(df.value))\n",
    "    return add_tags \n",
    "\n",
    "def drop_values(df):\n",
    "    '''\n",
    "    This function takes the dataframe and drops the value column\n",
    "    Ex\n",
    "    id             title                         abstracts                  citations   tags\n",
    "    23402939423    \"Mastering the game of Go\"    Mastering the game of ...  18          \"CS\", \"Game\"\n",
    "    02398402384    \"Computer Science is fun!\"    When people go outside...  2           \"World\", \"Tree\"\n",
    "    23402938402    \"Who knows what to do????\"    Data engineers love to...  102         \"DE\", \"Spark\"\n",
    "    '''\n",
    "    return df.drop(df.value)\n",
    "\n",
    "def drop_empty_rows(df):\n",
    "    df_filtered = df.filter(df.abstracts != \"\")\n",
    "    return df_filtered\n",
    "\n",
    "# create a user defined function for get_id and get_abstract, which is compatable with a spark dataframe \n",
    "get_id_udf = udf(lambda line: get_id(line), StringType())\n",
    "get_abstract_udf = udf(lambda line: get_abstract(line), StringType())\n",
    "get_title_udf = udf(lambda line: get_title(line), StringType())\n",
    "get_citation_udf = udf(lambda line:get_citation(line), StringType())\n",
    "get_tag_udf = udf(lambda line:get_tag(line), StringType())\n",
    "\n",
    "# raw data filenames \n",
    "#filenames = \"s3a://open-research-corpus/sample-S2-records.gz\" # path to the example file from S3 file \n",
    "#filenames = \"s3a://open-research-corpus/sample-S2-records.gz\" # path to the example file from S3 file \n",
    "#filenames = \"s3a://open-research-corpus/corpus-2019-01-31/s2-corpus-00.gz\"\n",
    "\n",
    "# intial read in\n",
    "#df = spark.read.text(filenames)\n",
    "df = spark.read.text(\"s2-corpus-00.gz\")\n",
    "df = adding_ids(df)\n",
    "df = adding_titles(df)\n",
    "df = adding_abstracts(df)\n",
    "df = adding_citations(df)\n",
    "df = adding_tags(df)\n",
    "df = drop_values(df)\n",
    "df = drop_empty_rows(df)\n",
    " \n",
    "#df.write.parquet(\"s3a://preprocessed-open-research-corpus/sample.parquet\",mode=\"overwrite\")\n",
    "\n",
    "print(\"Schema for filtered data\")\n",
    "print(\"-------------------------------------\")\n",
    "df.createOrReplaceTempView(\"filtered_df\")\n",
    "df.printSchema()\n",
    "results = spark.sql(\"SELECT * FROM filtered_df\")\n",
    "print(\"Entries for filtered_df\")\n",
    "print(\"----------------------------\")\n",
    "results.show()\n",
    "print()\n",
    "print()\n",
    "print(\"Number of rows!\", results.count())\n",
    "print()\n",
    "print()\n"
   ]
  },
  {
   "cell_type": "markdown",
   "metadata": {},
   "source": [
    "## Computing metrics \n",
    "- histogram of number of papers by citations "
   ]
  },
  {
   "cell_type": "code",
   "execution_count": 66,
   "metadata": {
    "collapsed": true
   },
   "outputs": [],
   "source": [
    "# Histogram of number of papers by citation\n",
    "num_rows = results.count() # number of rows in the table after clearing empty abstracts \n",
    "citation_list = []\n",
    "citation = df.select(df.citations).collect()\n",
    "for i in range(num_rows):\n",
    "    curr_citation = citation[i][\"citations\"]\n",
    "    citation_list.append(int(curr_citation))"
   ]
  },
  {
   "cell_type": "code",
   "execution_count": 341,
   "metadata": {
    "collapsed": true
   },
   "outputs": [],
   "source": [
    "bin_size = list(range(11, max(citation_list)+5, 10))\n",
    "#print(bin_size)\n",
    "bin_size.insert(0, 0)\n",
    "#print(bin_size)"
   ]
  },
  {
   "cell_type": "code",
   "execution_count": 65,
   "metadata": {},
   "outputs": [
    {
     "ename": "NameError",
     "evalue": "name 'citation_list' is not defined",
     "output_type": "error",
     "traceback": [
      "\u001b[0;31m---------------------------------------------------------------------------\u001b[0m",
      "\u001b[0;31mNameError\u001b[0m                                 Traceback (most recent call last)",
      "\u001b[0;32m<ipython-input-65-eb60caa4e84d>\u001b[0m in \u001b[0;36m<module>\u001b[0;34m()\u001b[0m\n\u001b[1;32m      2\u001b[0m \u001b[0;31m#citations = plt.hist(citation_list, bins = bin_size, align = 'mid', log=True)\u001b[0m\u001b[0;34m\u001b[0m\u001b[0;34m\u001b[0m\u001b[0;34m\u001b[0m\u001b[0m\n\u001b[1;32m      3\u001b[0m \u001b[0mmatplotlib\u001b[0m\u001b[0;34m.\u001b[0m\u001b[0mrcParams\u001b[0m\u001b[0;34m[\u001b[0m\u001b[0;34m'figure.figsize'\u001b[0m\u001b[0;34m]\u001b[0m \u001b[0;34m=\u001b[0m \u001b[0;34m[\u001b[0m\u001b[0;36m5\u001b[0m\u001b[0;34m,\u001b[0m \u001b[0;36m3\u001b[0m\u001b[0;34m]\u001b[0m\u001b[0;34m\u001b[0m\u001b[0;34m\u001b[0m\u001b[0m\n\u001b[0;32m----> 4\u001b[0;31m \u001b[0mcitations\u001b[0m \u001b[0;34m=\u001b[0m \u001b[0mplt\u001b[0m\u001b[0;34m.\u001b[0m\u001b[0mhist\u001b[0m\u001b[0;34m(\u001b[0m\u001b[0mcitation_list\u001b[0m\u001b[0;34m,\u001b[0m \u001b[0mbins\u001b[0m \u001b[0;34m=\u001b[0m \u001b[0mbin_size\u001b[0m\u001b[0;34m,\u001b[0m \u001b[0malign\u001b[0m \u001b[0;34m=\u001b[0m \u001b[0;34m'mid'\u001b[0m\u001b[0;34m,\u001b[0m \u001b[0mlog\u001b[0m\u001b[0;34m=\u001b[0m\u001b[0;32mTrue\u001b[0m\u001b[0;34m)\u001b[0m\u001b[0;34m\u001b[0m\u001b[0;34m\u001b[0m\u001b[0m\n\u001b[0m\u001b[1;32m      5\u001b[0m \u001b[0mplt\u001b[0m\u001b[0;34m.\u001b[0m\u001b[0mylabel\u001b[0m\u001b[0;34m(\u001b[0m\u001b[0;34m\"Number of papers\"\u001b[0m\u001b[0;34m)\u001b[0m\u001b[0;34m\u001b[0m\u001b[0;34m\u001b[0m\u001b[0m\n\u001b[1;32m      6\u001b[0m \u001b[0mplt\u001b[0m\u001b[0;34m.\u001b[0m\u001b[0mxlabel\u001b[0m\u001b[0;34m(\u001b[0m\u001b[0;34m\"Number of citations\"\u001b[0m\u001b[0;34m)\u001b[0m\u001b[0;34m\u001b[0m\u001b[0;34m\u001b[0m\u001b[0m\n",
      "\u001b[0;31mNameError\u001b[0m: name 'citation_list' is not defined"
     ]
    }
   ],
   "source": [
    "#citations = plt.hist(citation_list, bins = bin_size, align = 'mid')\n",
    "#citations = plt.hist(citation_list, bins = bin_size, align = 'mid', log=True)\n",
    "matplotlib.rcParams['figure.figsize'] = [5, 3]\n",
    "citations = plt.hist(citation_list, bins = bin_size, align = 'mid', log=True)\n",
    "plt.ylabel(\"Number of papers\")\n",
    "plt.xlabel(\"Number of citations\")\n",
    "plt.title(\"Number of citations by paper\")\n",
    "plt.xlim(0, 3000)\n",
    "#print(citations[0])\n",
    "#print(citations[1])"
   ]
  },
  {
   "cell_type": "code",
   "execution_count": 64,
   "metadata": {},
   "outputs": [
    {
     "ename": "NameError",
     "evalue": "name 'citations' is not defined",
     "output_type": "error",
     "traceback": [
      "\u001b[0;31m---------------------------------------------------------------------------\u001b[0m",
      "\u001b[0;31mNameError\u001b[0m                                 Traceback (most recent call last)",
      "\u001b[0;32m<ipython-input-64-bd2a0446f372>\u001b[0m in \u001b[0;36m<module>\u001b[0;34m()\u001b[0m\n\u001b[1;32m      1\u001b[0m \u001b[0mperc_citations\u001b[0m \u001b[0;34m=\u001b[0m \u001b[0;34m[\u001b[0m\u001b[0;34m]\u001b[0m\u001b[0;34m\u001b[0m\u001b[0;34m\u001b[0m\u001b[0m\n\u001b[0;32m----> 2\u001b[0;31m \u001b[0;32mfor\u001b[0m \u001b[0mcit_num\u001b[0m \u001b[0;32min\u001b[0m \u001b[0mcitations\u001b[0m\u001b[0;34m[\u001b[0m\u001b[0;36m0\u001b[0m\u001b[0;34m]\u001b[0m\u001b[0;34m:\u001b[0m\u001b[0;34m\u001b[0m\u001b[0;34m\u001b[0m\u001b[0m\n\u001b[0m\u001b[1;32m      3\u001b[0m     \u001b[0mperc_citations\u001b[0m\u001b[0;34m.\u001b[0m\u001b[0mappend\u001b[0m\u001b[0;34m(\u001b[0m\u001b[0mcit_num\u001b[0m\u001b[0;34m/\u001b[0m\u001b[0mnum_rows\u001b[0m\u001b[0;34m)\u001b[0m\u001b[0;34m\u001b[0m\u001b[0;34m\u001b[0m\u001b[0m\n",
      "\u001b[0;31mNameError\u001b[0m: name 'citations' is not defined"
     ]
    }
   ],
   "source": [
    "perc_citations = []\n",
    "for cit_num in citations[0]:\n",
    "    perc_citations.append(cit_num/num_rows)"
   ]
  },
  {
   "cell_type": "code",
   "execution_count": 344,
   "metadata": {
    "collapsed": true
   },
   "outputs": [],
   "source": [
    "citation_labels = []\n",
    "for i in range(len(citations[1]) - 1):\n",
    "    citation_labels.append(str(citations[1][i]) + \"-\" + str(citations[1][i+1] - 1) + \" citations\")\n"
   ]
  },
  {
   "cell_type": "code",
   "execution_count": 63,
   "metadata": {},
   "outputs": [
    {
     "ename": "NameError",
     "evalue": "name 'perc_citations' is not defined",
     "output_type": "error",
     "traceback": [
      "\u001b[0;31m---------------------------------------------------------------------------\u001b[0m",
      "\u001b[0;31mNameError\u001b[0m                                 Traceback (most recent call last)",
      "\u001b[0;32m<ipython-input-63-d9b86fa46e4c>\u001b[0m in \u001b[0;36m<module>\u001b[0;34m()\u001b[0m\n\u001b[1;32m      1\u001b[0m \u001b[0mfirst_4_and_rest_citation_perc\u001b[0m \u001b[0;34m=\u001b[0m \u001b[0;34m[\u001b[0m\u001b[0;34m]\u001b[0m\u001b[0;34m\u001b[0m\u001b[0;34m\u001b[0m\u001b[0m\n\u001b[1;32m      2\u001b[0m \u001b[0;32mfor\u001b[0m \u001b[0mi\u001b[0m \u001b[0;32min\u001b[0m \u001b[0mrange\u001b[0m\u001b[0;34m(\u001b[0m\u001b[0;36m0\u001b[0m\u001b[0;34m,\u001b[0m \u001b[0;36m4\u001b[0m\u001b[0;34m)\u001b[0m\u001b[0;34m:\u001b[0m\u001b[0;34m\u001b[0m\u001b[0;34m\u001b[0m\u001b[0m\n\u001b[0;32m----> 3\u001b[0;31m     \u001b[0mfirst_4_and_rest_citation_perc\u001b[0m\u001b[0;34m.\u001b[0m\u001b[0mappend\u001b[0m\u001b[0;34m(\u001b[0m\u001b[0mperc_citations\u001b[0m\u001b[0;34m[\u001b[0m\u001b[0mi\u001b[0m\u001b[0;34m]\u001b[0m\u001b[0;34m)\u001b[0m\u001b[0;34m\u001b[0m\u001b[0;34m\u001b[0m\u001b[0m\n\u001b[0m",
      "\u001b[0;31mNameError\u001b[0m: name 'perc_citations' is not defined"
     ]
    }
   ],
   "source": [
    "first_4_and_rest_citation_perc = []\n",
    "for i in range(0, 4):\n",
    "    first_4_and_rest_citation_perc.append(perc_citations[i])"
   ]
  },
  {
   "cell_type": "code",
   "execution_count": 362,
   "metadata": {},
   "outputs": [
    {
     "name": "stdout",
     "output_type": "stream",
     "text": [
      "[0.7929346057832176, 0.0967526849402609, 0.04110464446153105, 0.021409489682621897]\n",
      "0.9522014248676315\n"
     ]
    }
   ],
   "source": [
    "print(first_4_and_rest_citation_perc)\n",
    "print(sum(first_4_and_rest_citation_perc))"
   ]
  },
  {
   "cell_type": "code",
   "execution_count": 364,
   "metadata": {
    "collapsed": true
   },
   "outputs": [],
   "source": [
    "first_4_and_rest_citation_perc.append(1 - sum(first_4_and_rest_citation_perc))"
   ]
  },
  {
   "cell_type": "code",
   "execution_count": 365,
   "metadata": {},
   "outputs": [
    {
     "name": "stdout",
     "output_type": "stream",
     "text": [
      "[0.7929346057832176, 0.0967526849402609, 0.04110464446153105, 0.021409489682621897, 0.047798575132368515]\n"
     ]
    }
   ],
   "source": [
    "print(first_4_and_rest_citation_perc)"
   ]
  },
  {
   "cell_type": "code",
   "execution_count": 368,
   "metadata": {
    "collapsed": true
   },
   "outputs": [],
   "source": [
    "citation_labels = [\"0-10\", \"11-20\", \"21-30\", \"31-40\", \">41\"]"
   ]
  },
  {
   "cell_type": "code",
   "execution_count": 62,
   "metadata": {},
   "outputs": [
    {
     "ename": "NameError",
     "evalue": "name 'first_4_and_rest_citation_perc' is not defined",
     "output_type": "error",
     "traceback": [
      "\u001b[0;31m---------------------------------------------------------------------------\u001b[0m",
      "\u001b[0;31mNameError\u001b[0m                                 Traceback (most recent call last)",
      "\u001b[0;32m<ipython-input-62-c4c8f0b2404d>\u001b[0m in \u001b[0;36m<module>\u001b[0;34m()\u001b[0m\n\u001b[1;32m      2\u001b[0m \u001b[0mmatplotlib\u001b[0m\u001b[0;34m.\u001b[0m\u001b[0mrcParams\u001b[0m\u001b[0;34m[\u001b[0m\u001b[0;34m'figure.figsize'\u001b[0m\u001b[0;34m]\u001b[0m \u001b[0;34m=\u001b[0m \u001b[0;34m[\u001b[0m\u001b[0;36m3\u001b[0m\u001b[0;34m,\u001b[0m \u001b[0;36m3\u001b[0m\u001b[0;34m]\u001b[0m\u001b[0;34m\u001b[0m\u001b[0;34m\u001b[0m\u001b[0m\n\u001b[1;32m      3\u001b[0m \u001b[0;31m#pie_chart = plt.pie(perc_citations, labels=citation_labels, autopct='%1.1f%%')\u001b[0m\u001b[0;34m\u001b[0m\u001b[0;34m\u001b[0m\u001b[0;34m\u001b[0m\u001b[0m\n\u001b[0;32m----> 4\u001b[0;31m \u001b[0mpie_chart\u001b[0m \u001b[0;34m=\u001b[0m \u001b[0mplt\u001b[0m\u001b[0;34m.\u001b[0m\u001b[0mpie\u001b[0m\u001b[0;34m(\u001b[0m\u001b[0mfirst_4_and_rest_citation_perc\u001b[0m\u001b[0;34m,\u001b[0m \u001b[0mlabels\u001b[0m\u001b[0;34m=\u001b[0m\u001b[0mcitation_labels\u001b[0m\u001b[0;34m,\u001b[0m \u001b[0mautopct\u001b[0m\u001b[0;34m=\u001b[0m\u001b[0;34m'%1.1f%%'\u001b[0m\u001b[0;34m)\u001b[0m\u001b[0;34m\u001b[0m\u001b[0;34m\u001b[0m\u001b[0m\n\u001b[0m\u001b[1;32m      5\u001b[0m \u001b[0mplt\u001b[0m\u001b[0;34m.\u001b[0m\u001b[0maxis\u001b[0m\u001b[0;34m(\u001b[0m\u001b[0;34m'equal'\u001b[0m\u001b[0;34m)\u001b[0m\u001b[0;34m\u001b[0m\u001b[0;34m\u001b[0m\u001b[0m\n\u001b[1;32m      6\u001b[0m \u001b[0mplt\u001b[0m\u001b[0;34m.\u001b[0m\u001b[0mtitle\u001b[0m\u001b[0;34m(\u001b[0m\u001b[0;34m\"Range of citations\"\u001b[0m\u001b[0;34m)\u001b[0m\u001b[0;34m\u001b[0m\u001b[0;34m\u001b[0m\u001b[0m\n",
      "\u001b[0;31mNameError\u001b[0m: name 'first_4_and_rest_citation_perc' is not defined"
     ]
    }
   ],
   "source": [
    "plt.rcParams['font.size'] = 6\n",
    "matplotlib.rcParams['figure.figsize'] = [3, 3]\n",
    "#pie_chart = plt.pie(perc_citations, labels=citation_labels, autopct='%1.1f%%')\n",
    "pie_chart = plt.pie(first_4_and_rest_citation_perc, labels=citation_labels, autopct='%1.1f%%')\n",
    "plt.axis('equal')\n",
    "plt.title(\"Range of citations\")\n",
    "plt.legend()\n",
    "#pie_chart.set_size_inches(18.5, 10.5)\n",
    "#pie_chart.savefig('test2png.png', dpi=100)"
   ]
  },
  {
   "cell_type": "code",
   "execution_count": 393,
   "metadata": {},
   "outputs": [
    {
     "name": "stdout",
     "output_type": "stream",
     "text": [
      "0.047798575132368515\n"
     ]
    }
   ],
   "source": [
    "over_41_perc = first_4_and_rest_citation_perc[-1]\n",
    "print(over_41_perc)"
   ]
  },
  {
   "cell_type": "code",
   "execution_count": 409,
   "metadata": {},
   "outputs": [
    {
     "name": "stdout",
     "output_type": "stream",
     "text": [
      "Number of starting papers: 45000000\n",
      "Number after dropping empty rows: 30842865 or 68.54% of start\n",
      "Number after dropping citations under 40: 1474245 or 3.28% of start\n"
     ]
    }
   ],
   "source": [
    "start = 45000000\n",
    "print(\"Number of starting papers:\", start)\n",
    "drop_empty = (num_rows / 1000000) * start \n",
    "perc_of_start = 100 * drop_empty / start\n",
    "print(\"Number after dropping empty rows: {0:.0f} or {1:.2f}% of start\".format(drop_empty, perc_of_start))\n",
    "over_41 = over_41_perc * drop_empty\n",
    "perc_of_start_41 = 100 * over_41 / start\n",
    "print(\"Number after dropping citations under 40: {0:.0f} or {1:.2f}% of start\".format(over_41, perc_of_start_41))"
   ]
  },
  {
   "cell_type": "markdown",
   "metadata": {},
   "source": [
    "## Computing metrics \n",
    "- top most common tags and how many times they appear \n",
    "- histogram of top 10 most common tags"
   ]
  },
  {
   "cell_type": "code",
   "execution_count": 5,
   "metadata": {},
   "outputs": [
    {
     "name": "stdout",
     "output_type": "stream",
     "text": [
      "['\"Amphibians\"', '\"Anura\"', '\"Apache Gora\"', '\"Aquatic ecosystem\"', '\"Blue Frog\"', '\"Diazooxonorleucine\"', '\"Habitat\"', '\"Natural Selection\"', '\"Natural Springs\"', '\"Population\"', '\"Rana esculenta\"', '\"Rana temporaria\"']\n"
     ]
    }
   ],
   "source": [
    "# Histogram of most common tags\n",
    "num_rows = results.count() # number of rows in the table after clearing empty abstracts \n",
    "tag_dictionary = {}\n",
    "tag_id_list = df.select(df.tags, df.id).collect()\n",
    "tag_list = tag_id_list[0][0].split(\",\")\n",
    "print(tag_list)\n",
    "current_id = tag_id_list[0][1]\n",
    "for i in range(num_rows):\n",
    "    tag_list = tag_id_list[i][0].split(\",\")\n",
    "    for tag in tag_list: \n",
    "        if tag not in tag_dictionary and tag != \"\":\n",
    "            tag_dictionary[tag] = 1 \n",
    "        elif tag != \"\":\n",
    "            tag_dictionary[tag] += 1 "
   ]
  },
  {
   "cell_type": "code",
   "execution_count": 25,
   "metadata": {},
   "outputs": [
    {
     "name": "stdout",
     "output_type": "stream",
     "text": [
      "158513\n"
     ]
    }
   ],
   "source": [
    "print(len(tag_dictionary))"
   ]
  },
  {
   "cell_type": "code",
   "execution_count": 7,
   "metadata": {
    "collapsed": true
   },
   "outputs": [],
   "source": [
    "tag_occurences = [] # number of times that tag showed up\n",
    "for key in list(tag_dictionary.keys()):\n",
    "    tag_occurences.append(tag_dictionary[key])"
   ]
  },
  {
   "cell_type": "code",
   "execution_count": 21,
   "metadata": {
    "collapsed": true
   },
   "outputs": [],
   "source": [
    "more_than_100 = []\n",
    "more_than_1000 = []\n",
    "more_than_10000 = []\n",
    "more_than_100000 = []\n",
    "for key in list(tag_dictionary.keys()):\n",
    "    if tag_dictionary[key] > 100: \n",
    "        more_than_100.append(key)\n",
    "    if tag_dictionary[key] > 1000: \n",
    "        more_than_1000.append(key)\n",
    "    if tag_dictionary[key] > 10000:\n",
    "        more_than_10000.append(key)\n",
    "    if tag_dictionary[key] > 100000:\n",
    "        more_than_100000.append(key)"
   ]
  },
  {
   "cell_type": "code",
   "execution_count": 22,
   "metadata": {},
   "outputs": [
    {
     "name": "stdout",
     "output_type": "stream",
     "text": [
      "Number of tags on more than 100 papers: 11752\n",
      "Number of tags on more than 1,000 papers: 1396\n",
      "Number of tags on more than 10,000 papers: 20\n",
      "Number of tags on more than 100,000 papers: 1\n"
     ]
    }
   ],
   "source": [
    "print(\"Number of tags on more than 100 papers:\", len(more_than_100))\n",
    "print(\"Number of tags on more than 1,000 papers:\", len(more_than_1000))\n",
    "print(\"Number of tags on more than 10,000 papers:\", len(more_than_10000))\n",
    "print(\"Number of tags on more than 100,000 papers:\", len(more_than_100000))"
   ]
  },
  {
   "cell_type": "code",
   "execution_count": 24,
   "metadata": {},
   "outputs": [
    {
     "name": "stdout",
     "output_type": "stream",
     "text": [
      "[' human\"', '\"Leukemia', ' B-Cell\"', '\"Patients\"', '\"Cessation of life\"', '\"Body tissue\"', '\"Large\"', '\"Scientific Publication\"', '\"Simulation\"', '\"Tissue membrane\"', '\"Adverse reaction to drug\"', '\"Algorithm\"', '\"Neoplasms\"', '\"Experiment\"', '\"Diabetes Mellitus\"', '\"CNS disorder\"', '\"Congenital Abnormality\"', '\"Mathematical optimization\"', '\"Estimated\"', '\"Numerous\"']\n"
     ]
    }
   ],
   "source": [
    "print(more_than_10000)"
   ]
  },
  {
   "cell_type": "code",
   "execution_count": 9,
   "metadata": {},
   "outputs": [
    {
     "name": "stdout",
     "output_type": "stream",
     "text": [
      "[513, 720, 5, 485, 17, 270, 1317, 378, 286, 3170]\n"
     ]
    }
   ],
   "source": [
    "print(tag_occurences[0:10])"
   ]
  },
  {
   "cell_type": "code",
   "execution_count": 414,
   "metadata": {
    "collapsed": true
   },
   "outputs": [],
   "source": [
    "bin_size = list(range(1, max(tag_occurences)+5, 1))\n",
    "#print(bin_size)\n",
    "#bin_size.insert(0, 0)"
   ]
  },
  {
   "cell_type": "code",
   "execution_count": 57,
   "metadata": {
    "collapsed": true
   },
   "outputs": [],
   "source": [
    "def count_papers_with_tag(tag_dictionary):\n",
    "    '''\n",
    "    This function takes the dictionary of tag:num_of_papers_with_tag\n",
    "    and gives a list of values that represents the number of tags\n",
    "    that appear on a given range of papers.\n",
    "    \n",
    "    Ex: [102, 23, 5, 3] would be a list representing 102 tags that are on \n",
    "    1-100 papers, 23 tags that are on 101-1000 papers, 5 tags that are on 1,001-10,000 \n",
    "    papers, and 3 tags that are on >10,000 papers \n",
    "    \n",
    "    '''\n",
    "    tags_on_papers = [0, 0, 0]\n",
    "    for key in list(tag_dictionary.keys()):\n",
    "        if tag_dictionary[key] >= 1 and tag_dictionary[key] <=100:\n",
    "            tags_on_papers[0] += 1\n",
    "        if tag_dictionary[key] >= 101 and tag_dictionary[key] <=1000:\n",
    "            tags_on_papers[1] += 1\n",
    "        if tag_dictionary[key] > 1000:\n",
    "            tags_on_papers[2] += 1\n",
    "        \n",
    "    return tags_on_papers"
   ]
  },
  {
   "cell_type": "code",
   "execution_count": 58,
   "metadata": {},
   "outputs": [
    {
     "name": "stdout",
     "output_type": "stream",
     "text": [
      "[146761, 10356, 1396]\n",
      "['0-100', '101-1,000', '>1,000']\n"
     ]
    }
   ],
   "source": [
    "num_tags_on_papers = count_papers_with_tag(tag_dictionary)\n",
    "print(num_tags_on_papers)\n",
    "tag_labels = [\"0-100\", \"101-1,000\", \">1,000\"]\n",
    "print(tag_labels)"
   ]
  },
  {
   "cell_type": "code",
   "execution_count": 59,
   "metadata": {},
   "outputs": [
    {
     "data": {
      "text/plain": [
       "'%g'"
      ]
     },
     "execution_count": 59,
     "metadata": {},
     "output_type": "execute_result"
    }
   ],
   "source": [
    "import matplotlib.pyplot as plt\n",
    "import matplotlib\n",
    "%matplotlib inline\n",
    "import numpy as np\n",
    "%precision %g"
   ]
  },
  {
   "cell_type": "code",
   "execution_count": 61,
   "metadata": {},
   "outputs": [
    {
     "data": {
      "text/plain": [
       "<matplotlib.legend.Legend at 0x137c4ef98>"
      ]
     },
     "execution_count": 61,
     "metadata": {},
     "output_type": "execute_result"
    },
    {
     "data": {
      "image/png": "[encoded data removed]",
      "text/plain": [
       "<matplotlib.figure.Figure at 0x137c4ecf8>"
      ]
     },
     "metadata": {
      "image/png": {
       "height": 559,
       "width": 737
      }
     },
     "output_type": "display_data"
    }
   ],
   "source": [
    "%config InlineBackend.figure_format = 'retina'\n",
    "matplotlib.rcParams['savefig.dpi'] = 160\n",
    "matplotlib.rcParams['figure.dpi'] = 160\n",
    "matplotlib.rcParams['figure.figsize'] = [4, 4]\n",
    "tag_pie_chart = plt.pie(num_tags_on_papers, labels = tag_labels, autopct='%1.1f%%')\n",
    "plt.title(\"Number of occurences of a tag on unique papers\")\n",
    "plt.axis(\"equal\")\n",
    "plt.legend()"
   ]
  },
  {
   "cell_type": "markdown",
   "metadata": {},
   "source": [
    "## Looking at a million rows, filtering by citation < 40"
   ]
  },
  {
   "cell_type": "code",
   "execution_count": 84,
   "metadata": {},
   "outputs": [
    {
     "name": "stdout",
     "output_type": "stream",
     "text": [
      "Schema for filtered data\n",
      "-------------------------------------\n",
      "root\n",
      " |-- id: string (nullable = true)\n",
      " |-- title: string (nullable = true)\n",
      " |-- abstracts: string (nullable = true)\n",
      " |-- citations: string (nullable = true)\n",
      " |-- tags: string (nullable = true)\n",
      "\n",
      "Entries for filtered_df\n",
      "----------------------------\n",
      "+--------------------+--------------------+--------------------+---------+--------------------+\n",
      "|                  id|               title|           abstracts|citations|                tags|\n",
      "+--------------------+--------------------+--------------------+---------+--------------------+\n",
      "|01276e6f0d18c35d5...|Structure of a ga...|Gammadelta T cell...|       79|Complementarity D...|\n",
      "|404b03f473f95bc2d...|Expression of mTe...|Here, we show tha...|       41|Catalytic Domain,...|\n",
      "|30aaf92bde9bf6cdc...|Circadian drinkin...|The present study...|       24|Eating,Ethanol,Ph...|\n",
      "|b8be59215c7f983bd...|The anterior grad...|Low-grade (LG) se...|       29|Anaplasia,Body ti...|\n",
      "|6c94a3e80a163fe89...|Empty spiracles, ...|The empty spiracl...|       64|Acids,Amino Acid ...|\n",
      "|476f12c4714d21ce4...|Role of human liv...|To measure 1) the...|       44|Body tissue,Calor...|\n",
      "|eb925f6f4fa7eb9e2...|Localization of R...|RNA polymerase (R...|       69|Anisotropic band,...|\n",
      "|63c46ec7baea8037d...|Alcohol effects o...|Despite a well-es...|       63|                    |\n",
      "|82652b78eabfb9c9e...|Immunolocalizatio...|Recently, a famil...|      102|Anions,Breast col...|\n",
      "|d0e44ad4906651e64...|Circulating insul...|Four meta-analyse...|       50|Confidence Interv...|\n",
      "|141326eb5eb3c01c4...|Lsm proteins are ...|Depletion of any ...|       34|Fc-Gamma Receptor...|\n",
      "|08cc8f7995816d162...|Comprehensive res...|Recently, genome-...|       52|8q24,Biopolymer S...|\n",
      "|2f45b6c0807613f93...|Using multilevel ...|BACKGROUND Outcom...|       21|Patients,Regressi...|\n",
      "|a6166a0412444cf74...|Episodic hypergly...|AIMS To test the ...|       24|Blood Glucose,Dia...|\n",
      "|ff3285596311feaff...|Evaluation of lig...|Estrogens control...|       62|Adrenergic alpha-...|\n",
      "|19ead1a0c83d0bf3d...|Food addiction in...|Some forms of ove...|       24|Addictive Behavio...|\n",
      "|a9faccd3c89ce327e...|The role of vocal...|The importance of...|       75|Auditory Percepti...|\n",
      "|eb0f0f766105ce111...|Site of bleeding ...|OBJECTIVES To des...|       24|Ataxia,Basal Gang...|\n",
      "|36ae99662ec931a3c...|Cryogenic grindin...|The effect of cry...|       65|Calorimetry,Calor...|\n",
      "|c4062742b4e0d13cf...|Patient preferenc...|OBJECTIVE: To mea...|       74|Colon Carcinoma,D...|\n",
      "+--------------------+--------------------+--------------------+---------+--------------------+\n",
      "only showing top 20 rows\n",
      "\n",
      "\n",
      "\n",
      "Number of rows! 75608\n",
      "\n",
      "\n"
     ]
    }
   ],
   "source": [
    "import pyspark\n",
    "from pyspark.sql.types import *\n",
    "from pyspark.sql.functions import udf, struct, col\n",
    "from pyspark.sql import SQLContext\n",
    "from pyspark import SparkContext\n",
    "from pyspark.sql.session import SparkSession\n",
    "\n",
    "sc = SparkContext.getOrCreate()\n",
    "spark = SparkSession(sc)\n",
    "\n",
    "def get_id(line):\n",
    "    parenthesis = \"\\\"\" # string literal for \"\n",
    "    paper_id_tag = \"\\\"id\\\"\" # find the first occurence of \"id\"\n",
    "    id_label_start = line.find(paper_id_tag) # this is the index that the id label starts\n",
    "    id_tag_start = id_label_start + 6 # this is the index that the id tag starts. Always be 6.\n",
    "    id_tag_end = line.find(parenthesis, id_tag_start)  #this is the index that the id tag ends\n",
    "    id_tag = line[id_tag_start:id_tag_end] # id tag string \n",
    "    return id_tag\n",
    "\n",
    "def get_title(line):\n",
    "    # look for the title of the paper and return the tag \n",
    "    paper_title_tag = \"\\\"title\\\"\"\n",
    "    parenthesis = \"\\\"\" # string literal for \"\n",
    "    \n",
    "    title_label_start = line.find(paper_title_tag) # index for the title label start \n",
    "    title_tag_start = title_label_start + 9\n",
    "    title_tag_end = line.find(parenthesis+\",\\\"\", title_tag_start) \n",
    "    title_tag = line[title_tag_start:title_tag_end]\n",
    "    '''\n",
    "    if title_tag[-1] == \".\":\n",
    "        title_tag = title_tag.replace(\".\", \"\")\n",
    "    if title_tag[-1] == \"]\":\n",
    "        title_tag = title_tag.replace(\"]\", \"\")\n",
    "        title_tag = title_tag.replace(\"[\", \"\")\n",
    "    if \"\\\\\\\"\" in title_tag:\n",
    "        title_tag = title_tag.replace(\"\\\\\\\"\", \"\\\"\")\n",
    "    '''\n",
    "    return title_tag\n",
    "\n",
    "def get_abstract(line):\n",
    "    '''\n",
    "    this function looks for the abstract tag of the paper\n",
    "    '''\n",
    "    paper_abstract_tag = \"\\\"paperAbstract\\\"\"\n",
    "    parenthesis = \"\\\"\" # string literal for \"\n",
    "    \n",
    "    abstract_label_start = line.find(paper_abstract_tag) # index that the abstrat label starts\n",
    "    abstract_tag_start = abstract_label_start + 17 # the start of the abstract tag \n",
    "    abstract_tag_end = line.find(parenthesis, abstract_tag_start) # the end of the abstract tag \n",
    "    abstract_tag = line[abstract_tag_start:abstract_tag_end] # abstract tag string\n",
    "    if r\"\\n\" in abstract_tag:\n",
    "        abstract_tag = abstract_tag.replace(r\"\\n\", \" \")\n",
    "    return abstract_tag\n",
    "\n",
    "def get_citation(line):\n",
    "    '''\n",
    "    Get the citation from the values \n",
    "    '''\n",
    "    paper_citation_tag = \"\\\"inCitations\\\"\" # find the occurence of \"inCitations\"\n",
    "    bracket = r\"]\" # look for \"]\"\n",
    "    \n",
    "    citation_label_start = line.find(paper_citation_tag) # index that the citation label starts  \n",
    "    citation_tag_start = citation_label_start + 15 # index that the citation tag starts\n",
    "    citation_tag_end = line.find(bracket, citation_tag_start)  # this is the index that the citation tag ends \n",
    "    if citation_tag_start == citation_tag_end: # if there are no citations: \n",
    "        num_citations = 0\n",
    "        citation_list = []\n",
    "    else:\n",
    "        citation_list = line[citation_tag_start:citation_tag_end].split(\",\") # make it a list, count number of entries\n",
    "        num_citations = len(citation_list) # number of citations \n",
    "    return num_citations\n",
    "\n",
    "def get_tag(line):\n",
    "    '''\n",
    "    Extracts the tag from the value column in the dataframe \n",
    "    '''\n",
    "    paper_entities_tag = \"\\\"entities\\\"\"\n",
    "    bracket = r\"]\" # look for \"]\"\n",
    "    \n",
    "    entities_label_start = line.find(paper_entities_tag) # index for the title label start \n",
    "    entities_tag_start = entities_label_start + 12\n",
    "    entities_tag_end = line.find(bracket+\",\\\"\", entities_tag_start) \n",
    "    entities_tag = line[entities_tag_start:entities_tag_end]\n",
    "    if \"\\\"\" in entities_tag:\n",
    "        entities_tag = entities_tag.replace(\"\\\"\", \"\")\n",
    "    return entities_tag \n",
    "\n",
    "def adding_ids(df):\n",
    "    '''\n",
    "    This function takes the raw data dataframe and adds on an id column for the data\n",
    "    Ex: \n",
    "    value        id \n",
    "    laeinaelk    23402939423\n",
    "    lakeflake    02398402384\n",
    "    ieifniena    23402938402\n",
    "    '''\n",
    "    add_ids = df.withColumn(\"id\", get_id_udf(df.value))\n",
    "    return add_ids\n",
    "\n",
    "def adding_titles(df):\n",
    "    '''\n",
    "    This function takes the raw data dataframe and adds on an id column for the data\n",
    "    Ex: \n",
    "    value        id             title \n",
    "    laeinaelk    23402939423    \"Mastering the game of Go\"\n",
    "    lakeflake    02398402384    \"Computer Science is fun!\"\n",
    "    ieifniena    23402938402    \"Who knows what to do????\"\n",
    "    '''\n",
    "    add_titles = df.withColumn(\"title\", get_title_udf(df.value))\n",
    "    return add_titles\n",
    "\n",
    "def adding_abstracts(df):\n",
    "    '''\n",
    "    This function takes the raw + id dataframe and adds on abstracts column for the data\n",
    "    Ex\n",
    "    value        id             title                         abstracts \n",
    "    laeinaelk    23402939423    \"Mastering the game of Go\"    Mastering the game of ...\n",
    "    lakeflake    02398402384    \"Computer Science is fun!\"    When people go outside...\n",
    "    ieifniena    23402938402    \"Who knows what to do????\"    Data engineers love to...\n",
    "    '''\n",
    "    add_abstracts = df.withColumn(\"abstracts\", get_abstract_udf(df.value))\n",
    "    return add_abstracts\n",
    "\n",
    "def adding_citations(df):\n",
    "    '''\n",
    "    This function takes the raw data dataframe and adds on a citation column for the data\n",
    "    Ex\n",
    "    value        id             title                         abstracts                  citations\n",
    "    laeinaelk    23402939423    \"Mastering the game of Go\"    Mastering the game of ...  18\n",
    "    lakeflake    02398402384    \"Computer Science is fun!\"    When people go outside...  2\n",
    "    ieifniena    23402938402    \"Who knows what to do????\"    Data engineers love to...  102\n",
    "     '''\n",
    "    add_citations = df.withColumn(\"citations\", get_citation_udf(df.value))\n",
    "    return add_citations\n",
    "\n",
    "def adding_tags(df):\n",
    "    '''\n",
    "    This function takes the raw data dataframe and adds on a citation column for the data\n",
    "    Ex\n",
    "    value        id             title                         abstracts                  citations   tags\n",
    "    laeinaelk    23402939423    \"Mastering the game of Go\"    Mastering the game of ...  18          \"CS\", \"Game\"\n",
    "    lakeflake    02398402384    \"Computer Science is fun!\"    When people go outside...  2           \"World\", \"Tree\"\n",
    "    ieifniena    23402938402    \"Who knows what to do????\"    Data engineers love to...  102         \"DE\", \"Spark\"\n",
    "     '''\n",
    "    add_tags = df.withColumn(\"tags\", get_tag_udf(df.value))\n",
    "    return add_tags \n",
    "\n",
    "def drop_values(df):\n",
    "    '''\n",
    "    This function takes the dataframe and drops the value column\n",
    "    Ex\n",
    "    id             title                         abstracts                  citations   tags\n",
    "    23402939423    \"Mastering the game of Go\"    Mastering the game of ...  18          \"CS\", \"Game\"\n",
    "    02398402384    \"Computer Science is fun!\"    When people go outside...  2           \"World\", \"Tree\"\n",
    "    23402938402    \"Who knows what to do????\"    Data engineers love to...  102         \"DE\", \"Spark\"\n",
    "    '''\n",
    "    return df.drop(df.value)\n",
    "\n",
    "def drop_empty_rows(df):\n",
    "    df_filtered = df.filter(df.abstracts != \"\")\n",
    "    return df_filtered\n",
    "\n",
    "def filter_by_citation(df):\n",
    "    df_filtered = df.filter(df.citations > 20)\n",
    "    return df_filtered\n",
    "\n",
    "# create a user defined function for get_id and get_abstract, which is compatable with a spark dataframe \n",
    "get_id_udf = udf(lambda line: get_id(line), StringType())\n",
    "get_abstract_udf = udf(lambda line: get_abstract(line), StringType())\n",
    "get_title_udf = udf(lambda line: get_title(line), StringType())\n",
    "get_citation_udf = udf(lambda line:get_citation(line), StringType())\n",
    "get_tag_udf = udf(lambda line:get_tag(line), StringType())\n",
    "\n",
    "# raw data filenames \n",
    "#filenames = \"s3a://open-research-corpus/sample-S2-records.gz\" # path to the example file from S3 file \n",
    "#filenames = \"s3a://open-research-corpus/sample-S2-records.gz\" # path to the example file from S3 file \n",
    "#filenames = \"s3a://open-research-corpus/corpus-2019-01-31/s2-corpus-00.gz\"\n",
    "\n",
    "# intial read in\n",
    "#df = spark.read.text(filenames)\n",
    "df = spark.read.text(\"s2-corpus-00.gz\")\n",
    "df = adding_ids(df)\n",
    "df = adding_titles(df)\n",
    "df = adding_abstracts(df)\n",
    "df = adding_citations(df)\n",
    "df = adding_tags(df)\n",
    "df = drop_values(df)\n",
    "df = drop_empty_rows(df)\n",
    "df = filter_by_citation(df)\n",
    " \n",
    "#df.write.parquet(\"s3a://preprocessed-open-research-corpus/sample.parquet\",mode=\"overwrite\")\n",
    "\n",
    "print(\"Schema for filtered data\")\n",
    "print(\"-------------------------------------\")\n",
    "df.createOrReplaceTempView(\"filtered_df\")\n",
    "df.printSchema()\n",
    "results = spark.sql(\"SELECT * FROM filtered_df\")\n",
    "print(\"Entries for filtered_df\")\n",
    "print(\"----------------------------\")\n",
    "results.show()\n",
    "print()\n",
    "print()\n",
    "print(\"Number of rows!\", results.count())\n",
    "print()\n",
    "print()\n"
   ]
  },
  {
   "cell_type": "code",
   "execution_count": 85,
   "metadata": {},
   "outputs": [
    {
     "name": "stdout",
     "output_type": "stream",
     "text": [
      "['Complementarity Determining Regions', 'Immunoglobulin Heavy Chain Complementarity Determining Region 3', 'Ligands', 'Major Histocompatibility Complex', 'Receptors', ' Antigen', 'T-Lymphocyte', 'T-cell receptor complex location']\n"
     ]
    }
   ],
   "source": [
    "# Histogram of most common tags\n",
    "num_rows = results.count() # number of rows in the table after clearing empty abstracts \n",
    "tag_dictionary = {}\n",
    "tag_id_list = df.select(df.tags, df.id).collect()\n",
    "tag_list = tag_id_list[0][0].split(\",\")\n",
    "print(tag_list)\n",
    "current_id = tag_id_list[0][1]\n",
    "for i in range(num_rows):\n",
    "    tag_list = tag_id_list[i][0].split(\",\")\n",
    "    for tag in tag_list: \n",
    "        if tag not in tag_dictionary and tag != \"\":\n",
    "            tag_dictionary[tag] = 1 \n",
    "        elif tag != \"\":\n",
    "            tag_dictionary[tag] += 1 "
   ]
  },
  {
   "cell_type": "code",
   "execution_count": 3,
   "metadata": {
    "collapsed": true
   },
   "outputs": [],
   "source": [
    "def count_papers_with_tag(tag_dictionary):\n",
    "    '''\n",
    "    This function takes the dictionary of tag:num_of_papers_with_tag\n",
    "    and gives a list of values that represents the number of tags\n",
    "    that appear on a given range of papers.\n",
    "    \n",
    "    Ex: [102, 23, 5, 3] would be a list representing 102 tags that are on \n",
    "    1-100 papers, 23 tags that are on 101-1000 papers, 5 tags that are on 1,001-10,000 \n",
    "    papers, and 3 tags that are on >10,000 papers \n",
    "    \n",
    "    '''\n",
    "    tags_on_papers = [0, 0, 0, 0]\n",
    "    for key in list(tag_dictionary.keys()):\n",
    "        if tag_dictionary[key] >= 1 and tag_dictionary[key] <=10:\n",
    "            tags_on_papers[0] += 1\n",
    "        if tag_dictionary[key] >=11 and tag_dictionary[key] <=100:\n",
    "            tags_on_papers[1] += 1\n",
    "        if tag_dictionary[key] >= 101 and tag_dictionary[key] <=1000:\n",
    "            tags_on_papers[2] += 1\n",
    "        if tag_dictionary[key] > 1000:\n",
    "            tags_on_papers[3] += 1\n",
    "        \n",
    "    return tags_on_papers"
   ]
  },
  {
   "cell_type": "code",
   "execution_count": 4,
   "metadata": {},
   "outputs": [
    {
     "name": "stdout",
     "output_type": "stream",
     "text": [
      "[113516, 32360, 10215, 1406]\n",
      "['0-10', '11-100', '101-1,000', '>1,000']\n"
     ]
    }
   ],
   "source": [
    "num_tags_on_papers = count_papers_with_tag(tag_dictionary)\n",
    "print(num_tags_on_papers)\n",
    "tag_labels = [\"0-10\", \"11-100\", \"101-1,000\", \">1,000\"]\n",
    "print(tag_labels)"
   ]
  },
  {
   "cell_type": "code",
   "execution_count": 7,
   "metadata": {
    "collapsed": true
   },
   "outputs": [],
   "source": [
    "import matplotlib.pyplot as plt\n",
    "import matplotlib\n",
    "%matplotlib inline\n",
    "import numpy as np\n",
    "%precision %g\n",
    "%config InlineBackend.figure_format = 'retina'\n",
    "matplotlib.rcParams['savefig.dpi'] = 160\n",
    "matplotlib.rcParams['figure.dpi'] = 160\n",
    "matplotlib.rcParams['figure.figsize'] = [4, 2]\n",
    "from time import time\n",
    "import re"
   ]
  },
  {
   "cell_type": "code",
   "execution_count": 8,
   "metadata": {},
   "outputs": [
    {
     "data": {
      "text/plain": [
       "<matplotlib.legend.Legend at 0x126cad940>"
      ]
     },
     "execution_count": 8,
     "metadata": {},
     "output_type": "execute_result"
    },
    {
     "data": {
      "image/png": "[encoded data removed]",
      "text/plain": [
       "<matplotlib.figure.Figure at 0x126cad7f0>"
      ]
     },
     "metadata": {
      "image/png": {
       "height": 561,
       "width": 734
      }
     },
     "output_type": "display_data"
    }
   ],
   "source": [
    "%config InlineBackend.figure_format = 'retina'\n",
    "matplotlib.rcParams['savefig.dpi'] = 160\n",
    "matplotlib.rcParams['figure.dpi'] = 160\n",
    "matplotlib.rcParams['figure.figsize'] = [4, 4]\n",
    "tag_pie_chart = plt.pie(num_tags_on_papers, labels = tag_labels, autopct='%1.0f%%')\n",
    "plt.title(\"Number of occurences of a tag on unique papers\")\n",
    "plt.axis(\"equal\")\n",
    "plt.legend()"
   ]
  },
  {
   "cell_type": "code",
   "execution_count": 13,
   "metadata": {
    "collapsed": true
   },
   "outputs": [],
   "source": [
    "more_than_100 = []\n",
    "more_than_1000 = []\n",
    "for key in list(tag_dictionary.keys()):\n",
    "    if tag_dictionary[key] > 100: \n",
    "        more_than_100.append(key)\n",
    "    if tag_dictionary[key] > 1000: \n",
    "        more_than_1000.append(key)"
   ]
  },
  {
   "cell_type": "code",
   "execution_count": 14,
   "metadata": {},
   "outputs": [
    {
     "name": "stdout",
     "output_type": "stream",
     "text": [
      "['Habitat', 'Population', 'Eighty Nine', 'Ethanol', 'Kinetics', 'Ligands', 'Oxidants', 'Spectroscopy', ' Fourier Transform Infrared', 'Sugars', 'Atrial Fibrillation', 'Autopsy', 'Cardiomyopathies', 'Fibrosis', 'Heart failure', 'Tissue fiber', 'Coefficient', 'Cool - action', 'Diagnostic radiologic examination', 'Dilate procedure', 'Membrane Proteins', 'Morphologic artifacts', 'Physical object', 'Ring device', 'Specimen', 'Staining method', 'Receptors', 'T-Lymphocyte', 'Clinical Use Template', 'GUCY2C protein', ' human', 'Heating', 'Hematological Disease', 'Leukemia', ' B-Cell', 'Lymphadenopathy', 'Lymphoma', ' Non-Hodgkin', 'Mood Disorders', 'Transplanted tissue', 'Clinic', 'Registration', 'Forecast of outcome', 'Hemorrhage', 'Liver Failure', ' Acute', 'Moderate Response', 'Patients', 'Platelet Count measurement', 'Thrombocytopenia', 'heparin', 'Inhibition', 'Oncogenes', 'Promotion (action)', 'Repression', ' Psychology', 'Transforming Growth Factors', 'cellular targeting', 'Pharmacology', 'Antioxidants', 'Cattle', 'Immunostimulating conjugate (antigen)', 'Platelet Glycoprotein 4', 'Sodium Chloride', 'Differential Diagnosis', 'Peripheral Neuropathy', 'Poly A', 'Rheumatoid Arthritis', 'Cessation of life', 'Impacted tooth', 'Respiratory Distress Syndrome', ' Adult', 'Wounds and Injuries', 'Body tissue', 'Carcinoma', 'Cell Differentiation process', 'Gradient', 'Pituitary Neoplasms', 'Polymerase Chain Reaction', 'Western Blotting', 'ovarian neoplasm', 'Body Dysmorphic Disorders', 'Community', 'Large', 'Metabolic Process', ' Cellular', 'Acids', 'Amino Acid Sequence', 'Embryo', 'Embryonic Development', 'Eye', 'Homologous Gene', 'Muscle', 'Nucleic Acid Hybridization', 'Open Reading Frames', 'RNA', 'Genetic Polymorphism', 'Hereditary Diseases', 'Homozygote', 'Inference', 'Mental association', 'Particulate (substance)', 'Cleaved cell', 'Contain (action)', 'Map', 'Pierre Robin Syndrome', 'Randomness', 'Sampling (signal processing)', 'Sampling - Surgical action', 'Tracer', 'Calorimetry', 'Kidney Diseases', 'Lipoproteins', 'Liver diseases', 'Triglycerides', 'Elegant degradation', 'Greater Than', 'Maxima and minima', 'Microscope Device Component', 'Microscopy', 'Bands', 'Copy (object)', 'Electroconvulsive Therapy', 'Fluorescence', 'Fluorescent Antibody Technique', 'Histones', 'Larva', 'Physical Inactivity', 'Shock', 'One Thousand', 'Polymers', 'Computer simulation', 'Hydrogen', 'genetic linkage', 'Addresses (publication format)', 'MATLAB', 'Scientific Publication', 'Simulation', 'standards characteristics', 'Anions', 'Plasma membrane', 'Renal Tissue', 'Tissue membrane', 'Adverse reaction to drug', 'Norepinephrine', 'Psychotic Disorders', 'Schizophrenia', 'Confidence Intervals', 'Follow-Up Report', 'Mammary Neoplasms', 'Review [Publication Type]', 'Algorithm', 'Autonomous robot', 'Dynamical system', 'Feedback', 'Nonlinear system', 'Angiotensins', 'Chronic Kidney Diseases', 'Chronic Lymphocytic Leukemia', 'Cyclosporine', 'Early Diagnosis', 'Hemodialysis', 'Hypertensive disease', 'Kidney Failure', ' Chronic', 'Overall Survival', 'Renal Insufficiency', 'Seventy Nine', 'Dual', 'Cognition Disorders', 'Power (Psychology)', 'Lactic acid', 'Transcript', 'Contrast Media', 'Laboratory', 'Area Under Curve', ' Tumor', 'Culture Media', 'Cultured Cell Line', 'Folic Acid', 'In Vitro [Publication Type]', 'Isomerism', 'Neoplasms', 'Neoplastic Cell', 'mixture', 'monooxyethylene trimethylolpropane tristearate', 'Cyclophosphamide', 'Iontophoresis', 'Tellurium', 'Cerebrospinal Fluid', 'Epilepsy', 'Magnetic Resonance Imaging', 'Seizures', 'X-Ray Computed Tomography', 'Contribution', 'Plain x-ray', 'Apoptosis', 'Homeostasis', 'Mechanics', 'Biopolymer Sequencing', 'Choose (action)', 'Haplotypes', 'Prostatic Neoplasms', 'Single Nucleotide Polymorphism', 'Variation (Genetics)', 'Area striata structure', 'BaseLine dental cement', 'Hospital admission', 'Odds Ratio', 'Embedded system', 'Complement System Proteins', 'Dental Plaque', 'Dental caries', 'anatomical layer', 'Adrenergic alpha-Agonists', 'Approximation', 'Index', 'Numerical analysis', 'Population Parameter', 'Signal processing', 'Software propagation', 'sensor (device)', 'Drug Allergy', 'Infection', 'Leukocytes', 'Uterus', 'Vagina', 'Heart Atrium', 'Heart Diseases', 'Idiopathic Pulmonary Fibrosis', 'Myocardial Infarction', 'Myocardial Ischemia', 'Sample Variance', 'Vascular Diseases', 'Cellular Phone', 'Interferon Type II', 'Recombinant Interferon-gamma', 'TUBE', 'RECTAL', '24FR', 'PLASTIC B#6510', 'Anatomic Node', 'Anabolism', 'Ethanol 0.62 ML/ML Topical Gel', 'Frame (physical object)', 'Fungi', 'Reading Frames (Nucleotide Sequence)', 'TRANSCRIPTION FACTOR', 'Blinded', 'P-Value', 'Surgical Flaps', 'Dermatitis', 'Inhibitory Concentration 50', 'Necrosis', 'Therapeutic procedure', 'Ulcer', 'AROMATICS', 'Esters', 'Thioctic Acid', 'Regression Analysis', 'Pixel', 'Polynomial', 'Relevance', 'Cell Cycle', 'Van der Woude syndrome', 'Contract agreement', 'Experiment', 'Robot', 'Vertebral column', 'Adipose tissue', 'Epidermis', 'Fatty acid glycerol esters', 'Lupus Erythematosus', ' Systemic', 'Cholesterol', ' Mitochondrial', 'Coronary heart disease', 'Diabetes Mellitus', 'Glucose', 'Metabolic Syndrome X', 'Obesity', 'Revision procedure', 'Blood Vessel Tissue', 'Deploy', 'Cloud computing', 'Machine learning', 'Prototype', 'Ecosystem', 'Methanol', ' Plant', 'part per million (ppm)', 'Electrophoresis', 'Enzyme-Linked Immunosorbent Assay', 'Feces', 'Gel Electrophoresis (lab technique)', 'Mutation', 'Attempt', 'Bone Marrow Diseases', 'Brain', 'Cerebral Infarction', 'Cerebrovascular Disorders', 'Chemotherapy', 'Gastrointestinal Diseases', 'Obstruction', 'Outpatients', 'Parkinson Disease', 'Sepsis', 'Thrombosis', 'Biopsy', 'Calcium', 'Survivors', 'pediatric intracranial germ cell brain tumor', 'Digital Object Identifier', 'Implants', 'Tachycardia', 'Transcription Initiation', 'Ventricular Fibrillation', 'Projections and Predictions', 'Bone Tissue', 'Mandibular right second molar tooth', 'Maxilla', 'CNS disorder', 'Conditioning (Psychology)', 'Emoticon', 'Immune system', 'Interaction', 'Learning Disorders', 'Rule (guideline)', 'physiological aspects', 'Abnormal degeneration', 'Anatomical compartments', 'Axon', 'Congenital Abnormality', 'Greater', 'Sensorineural Hearing Loss (disorder)', 'Behaviorial Habits', 'Cesarean section', 'Chronic disease', 'Exclusion', 'Infant', ' Newborn', 'Milk (body substance)', ' Human', 'Physiological Sexual Disorders', 'Score', 'Urea', 'disease transmission', ' Insulin-Dependent', 'Hyperglycemia', 'Internet', 'Mathematics', '101 Mouse', 'benefit', 'explanation', 'Colony-forming unit', 'Flow Cytometry', 'Umbilicus (Anatomy)', 'cytokine', 'Estrogens', 'Luciferases', 'Subtype (attribute)', 'Transcription', ' Genetic', 'Analgesics', 'Operative Surgical Procedures', 'Pain', 'Parasitic Diseases', 'Communicable Diseases', 'Confusion', 'Morbidity - disease rate', 'Paper', 'Adenocarcinoma', 'Carcinogenesis', 'Gene Expression', 'Progesterone', 'HIV Infections', 'Cluster analysis', 'Node - plant part', 'Amines', 'DNA Sequence Rearrangement', 'Precipitating Factors', 'Antigens', 'Clone', ' Myelocytic', 'Monoclonal Antibodies', 'Myeloid Leukemia', 'Adolescent (age group)', 'Depressive disorder', 'Overweight', 'Subgroup', 'hearing impairment', 'Acclimatization', 'Cisplatin', 'Hypoxia', 'Oxygen', 'Retina', 'confirmation - ResponseLevel', 'Acquired Immunodeficiency Syndrome', 'Immunity', 'Immunoglobulins', 'Peripheral Vascular Diseases', 'mg/kg', 'License', 'Neuroscience discipline', 'Quantitation', 'density', 'Adverse event', 'Hepatitis', 'Hospitals', 'Patient referral', 'Plant Roots', 'Classification', 'Monkeys', 'Primates', 'Organ', 'Plant seeds', 'Equilibrium', 'Instability', 'Thermodynamics', 'width', 'Description', 'Carbohydrates', 'Cell secretion', 'Recombinants', 'Gonadorelin', 'Blood Vessel', 'Veins', 'Accident and Emergency department', 'Approximation algorithm', 'Email', 'Genetic algorithm', 'Iteration', 'Linear programming relaxation', 'Mathematical optimization', 'Optimization problem', 'Preprocessor', \"Whole Earth 'Lectronic Link\", 'Real-time clock', 'Real-time transcription', 'Small', 'Food', 'Forty Nine', 'Nutrients', 'Polysaccharides', 'Biologic Preservation', 'Excision', 'Ischemia', 'Lung diseases', 'Reperfusion Therapy', 'filtration', 'High- and low-level', 'Iterative method', 'Mobile device', 'Time complexity', 'Computation', 'Embedding', 'MATCHING', 'Markov chain', 'Structure of parenchyma of lung', 'biological signaling', 'Semiconductor industry', 'Code', 'Experience', 'Norm (social)', 'Cyclic AMP', 'Intestines', 'Potassium', 'Atherosclerosis', 'Imaging Techniques', 'Multiple Sclerosis', 'Conflict (Psychology)', 'Amino Acids', 'DNA', 'Protons', 'Fatty Acids', 'PersonNameUse - assigned', 'Malnutrition', 'Status Epilepticus', 'Clinical act of insertion', 'Insertion Mutation', 'Protein Domain', 'Brain Stem', 'Cerebrovascular accident', 'Gastrointestinal Hemorrhage', 'Genetic Heterogeneity', 'Registries', 'Thalamic structure', 'Diameter (qualifier value)', 'Normal Statistical Distribution', 'wavelength', 'Cell Nucleus', 'Authentication', 'Computer', 'Sensor', 'Expiration', ' function', 'Nitric Oxide', 'Eighty', 'Immune Tolerance', 'Infiltration', 'Interleukins', 'Kidney Transplantation', 'lymph nodes', 'Adenosine Triphosphate', 'Attention deficit hyperactivity disorder', 'Flatulence', 'International System of Units', 'Iron', 'interest', 'Blood Coagulation Disorders', 'Traumatic injury', 'Binding Sites', 'Phospholipids', 'Protein Kinases', 'Stimulation (motivation)', 'Thyroid Diseases', 'Gel Chromatography', 'type I interferon receptor', 'Brain Neoplasms', 'Nasal sinus', 'Diastole', 'Hypertrophy', 'Natural History', 'Magnetic Fields', 'algorithm', 'Control system', 'Stationary process', 'Categories', 'Evaluation procedure', 'Judgment', 'Surgical revision', 'Colorectal Carcinoma', 'Non-Small Cell Lung Carcinoma', 'Behavior', 'Biological Markers', 'Alcohol consumption', 'Mast/Stem Cell Growth Factor Receptor Kit', 'Reverse Transcriptase Polymerase Chain Reaction', 'Smoke', 'Squamous cell carcinoma', 'Anxiety Disorders', 'Occur (action)', 'neutrophil', 'Malignant Childhood Central Nervous System Neoplasm', 'Malignant Neoplasms', 'Alanine', 'Glycerin', 'Dopamine Hydrochloride', 'N-Methylaspartate', 'Neurons', 'Subgroup A Nepoviruses', 'Adrenal Cortex Hormones', 'Wolff-Parkinson-White Syndrome', 'Computation (action)', 'Scalability', 'Genus', 'Personality Character', 'Abdominal Pain', 'Antibiotics', 'Fever', 'Hemoglobin', 'peripheral blood', 'Decision Making', 'Bone structure of spine', 'Chest', 'Scanning', 'Display resolution', 'Colon Carcinoma', 'Enlargement procedure', 'Phenobarbital', 'Electricity', 'Excitation', 'Solutions', 'Rupture', 'Ultrasonography', 'angiogram', 'Affinity', 'Entity Name Part Qualifier - adopted', 'Compiler', 'Entity', 'Online and offline', 'Routing', 'Turing completeness', 'Fifty Nine', 'procollagen Type I N-terminal peptide', 'Consultation', 'Ephrin Type-B Receptor 1', 'Financial cost', 'Analog', 'Biological Assay', 'Chloride Ion', 'Diethylstilbestrol', 'Glycine', 'Liquid Chromatography', 'Phenylalanine', 'Resins', 'Threonine', 'Dimensions', 'Color gradient', 'Medicine', ' East Asian Traditional', 'Mental disorders', 'Onset (audio)', 'REM Sleep Behavior Disorder', 'Adhesives', 'Odontogenic Tissue', 'Pyschological Bonding', 'Gain', 'Steady state', 'Suspensions', 'Hydrodynamics', 'electrode', 'voltage', 'Aging', \"Alzheimer's Disease\", 'Dementia', 'Health Care', 'Illness (finding)', 'Instrument - device', 'Societies', 'Coping Behavior', 'Diploid Cell', 'Molecular Weight', 'Serum Albumin', 'Centrifugation', 'Irrigation', 'Particle Size', 'Pathogenic organism', 'Reproduction', 'Soil', 'Charge (electrical)', 'Kinetics (discipline)', 'Polyethylene Glycols', 'Small Molecule', 'monomer', 'Cell Death', 'Arabic numeral 0', 'Dyes', 'Microorganism', 'Intubation', 'Mercury', 'Respiration', 'Respiratory Insufficiency', 'Tension', 'intensive care unit', 'Phase Transition', 'Antifungal Agents', 'Demography', 'Bladder Neoplasm', 'Bladder Tissue', 'Limited stage (cancer stage)', 'Urinary Bladder', 'Antiviral Agents', 'Green Fluorescent Proteins', 'Immunologic Deficiency Syndromes', 'Stiff-Person Syndrome', 'Sturge-Weber Syndrome', 'Body cavities', 'Flow', 'physical hard work', 'Aspartate Transaminase', 'Version', 'Cell physiology', 'Microwave', 'Plasma Active', 'Silicon', 'Software bug', 'Aggregate data', 'Requirement', 'F Factor', 'Mediator brand of benfluorex hydrochloride', 'Tumor Necrosis Factors', 'Cell Proliferation', 'Hyperactive behavior', 'Lipid Metabolism Disorders', 'Drug vehicle', 'Movement', 'Published Comment', 'Velocity (software development)', 'Word lists by frequency', 'Hypothalamic structure', '1', 'Metabolite', 'Plant Leaves', 'Unstable Medical Device Problem', 'oxidation', 'Reagents', 'Sulfhydryl Compounds', 'Characteristic impedance', 'Printing', 'Quantitative impedance', 'Specification', 'Cerebral cortex', 'Assumed', 'Linguistics', 'Memory Disorders', 'Name', 'Pseudo brand of pseudoephedrine', 'Randomized algorithm', 'Genes', ' vif', 'Ligation', 'Critical Illness', 'Pulmonary artery structure', 'Agar', 'Animal Model', 'Anti-Inflammatory Agents', 'Biomarkers', 'Exhibits as Topic', 'Inflammation', 'Inflammatory Bowel Diseases', 'Lipopolysaccharides', 'Nitric Oxide Synthase', 'Plants', 'Prostaglandins', 'Proto-Oncogene Proteins c-akt', 'Transducers', 'Class', 'Graph - visual representation', 'Endopeptidases', 'Adrenal Glands', 'emotional dependency', 'Nanostructured Materials', 'Nanotubes', 'Data mining', 'Extraction', 'Server (computing)', 'World Wide Web', 'Coughing', 'Lung', 'Carbon Dioxide', 'School', ' Medical', 'Body mass index', 'Parasites', 'Heuristic', 'Quality of service', 'Run time (program lifecycle phase)', 'Neurodegenerative Disorders', 'Blood specimen', 'Estradiol', 'Growth Factor', 'Microgram per Liter', 'Pooled Sample', 'Concentrate Dosage Form', 'Generic Drugs', 'Monte Carlo method', 'Performance Evaluation', 'Preparation', 'cell transformation', 't test', 'Dopamine', 'Rest', 'Serotonin', 'Genetic Translation Process', 'Mathematical model', 'Artificial neural network', 'Epidemiology', 'Nitroprusside', 'inflammatory response', 'Addison Disease', 'Exercise', 'CMOS', 'Input/output', 'Interference (communication)', 'Radio frequency', 'Breast Feeding', 'Surgical Wound Infection', 'Vesicle (morphologic abnormality)', 'Efficiency', 'Lateral thinking', 'Evaluation', 'Gentamicins', 'Hospitalization', 'inpatient', 'Adenosine Diphosphate', 'Blood Platelets', 'Cardiovascular Diseases', 'Epinephrine', 'Excretory function', ' Psychological', 'Volume fraction', 'Choice Behavior', 'Mammals', 'Myocytes', ' Cardiac', 'promoter', 'Base Sequence', 'Nucleic Acids', 'Nucleotides', 'Reactive Oxygen Species', 'cancer cell', 'incubated', 'Stenosis', 'Stent', ' device', 'Endometrial Intraepithelial Neoplasia', 'Cumulative Trauma Disorders', 'Ions', 'Distance', 'Emission - Male genitalia finding', 'Quantity', 'Theory', 'Acetylcholine', 'Ganglia', 'Metals', ' Heavy', 'Offset binary', 'Hepatitis B Surface Antigens', 'Silver', 'Increment', 'Hepatitis C virus', 'Herpesvirus 1', 'Liver carcinoma', 'Carcinoma of lung', 'Hydrocarbons', 'Artificial cardiac pacemaker', 'Cardiac Arrest', 'Handling (Psychology)', 'Protocols documentation', 'Throughput', 'Usability', 'Deletion Mutation', 'Null Value', 'Neck', 'Cognition', 'HL7PublishingSubSection <operations>', 'Extracellular Matrix', 'orders - HL7PublishingDomain', 'Leucine', 'Lysine', 'Tyrosine', 'Echocardiography', 'Premature ventricular contractions', 'Creatinine', 'Senile Plaques', 'Stratification', 'Head and Neck Neoplasms', 'protein expression', 'Health Services', 'mental health', 'tertiary', 'Deny (action)', 'AngularJS', 'Antenna Device Component', 'Neoplasm Metastasis', 'Zero suppression', 'Activation action', 'Biologic Development', 'Clone Cells', 'Avian crop', 'inorganic phosphate', 'Control Groups', 'Hydrogen Peroxide', 'Peroxides', 'Flavonoids', 'Finite element method', 'Sensitivity and specificity', 'Fatigue', 'Headache', 'Phenotype', 'Sarcoma', 'Androgens', 'Ovarian Follicle', 'Steroids', 'Testosterone', 'Canis familiaris', 'Document completion status - Documented', 'Primary Health Care', 'Genome', 'HIV', 'viral capsid secondary envelopment', 'Graphical user interface', 'Converter Device Component', 'Inspiration function', 'Acoustic cryptanalysis', 'Therapeutic radiology procedure', 'Estimated', 'Limb structure', 'Temporomandibular Joint Disorders', '8-chloro-cyclic adenosine monophosphate', 'Erythrocytes', 'cell type', 'Chromosomes', 'Hearing Loss', 'Erectile dysfunction', ' Non-Insulin-Dependent', 'Genotype', 'Insulin Resistance', 'enzyme activity', 'Phantoms', ' Imaging', 'Algorithmic efficiency', 'Buffers', 'Data compression', 'Network packet', 'Programming paradigm', 'Real-time computing', 'Polypeptides', 'Displacement mapping', 'Image processing', 'Psychologic Displacement', 'Antibodies', 'Gilles de la Tourette syndrome', 'Linear algebra', 'Pesticides', ' Complementary', 'Introns', 'Reverse Transcription', 'Sequence Analysis', 'Liquid substance', 'Murine sarcoma viruses', 'Gonadotropins', 'Infertility study', 'Asthma', 'Antilymphocyte Serum', 'EINE and ZWEI', 'Reflex', 'VHF omnidirectional range', 'Hertz (Hz)', 'Aspartic Acid', 'Glutamic Acid', 'Transaminases', 'Degenerative polyarthritis', 'Performance', 'Transistor', 'Interface Device Component', 'Protein Isoforms', 'RNA Splicing', 'non-T', ' non-B childhood acute lymphoblastic leukemia', 'Computational complexity theory', 'Heart Ventricle', 'Manuscripts', 'Myocardium', 'Stem cells', 'cell growth', 'Post-Traumatic Stress Disorder', 'Calibration', 'Dosage Forms', 'Policy', 'Fracture', 'Sixty Nine', 'Detectors', 'Blood Cells', 'gram', 'Convergence (action)', 'Numerical method', 'DNA Replication', 'Flank (surface region)', 'Open-source software', 'Diarrhea', 'Probability', 'Control theory', 'David H. Koch Institute for Integrative Cancer Research at MIT', 'Edema', 'Feeling/behaving old/senile', 'Imagery', 'Aortic Aneurysm', 'Aortic Valve Insufficiency', 'Prosthesis Implantation', 'Bipolar Disorder', 'CT scan', 'Cartilage', 'Abnormal behavior', 'Extravasation', 'Central processing unit', 'Distributed computing', 'Field-programmable gate array', 'Gases', 'Occupations', 'Modulation', 'Transferase', 'nervous system disorder', 'Kind of quantity - Equilibrium', 'Less Than', 'Antineoplastic Agents', 'Spinal Cord', 'Reactor Device Component', 'Generalization (Psychology)', 'Calcium ion', 'Sodium', 'Pulmonary Hypertension', 'Ventricular Dysfunction', 'Sucrose', 'Hemodynamics', 'Lipid Peroxidation', 'Oxidative Stress', 'Gastric Tissue', 'Isotopes', 'Attitude', 'Tritium', 'Electron', 'Fetus', 'Myalgia', 'Numerous', 'Photons', 'Autoimmune Diseases', 'Mice', 'MicroRNAs', 'study of epigenetics', 'Information system', 'millimole', 'Reservoir Device Component', 'Rodent', 'Female child', 'Categorization', 'Clomiphene', 'Science', \"Paget's Disease\", ' Mammary', 'Benchmark (computing)', 'Pharmaceutical Adjuvants', 'Computed Tomography Scanning Systems', 'Transmission Electron Microscopy', 'Glaucoma', 'Smooth muscle (tissue)', 'Parallel computing', 'Scheduling (computing)', 'Dyspnea', 'Postoperative Complications', 'Abstract Summary', 'Data Collection', 'Journal', 'Radioactivity', 'Free Radicals', 'Superoxides', 'Mucous Membrane', 'Stomach Carcinoma', 'Skeletal muscle structure', 'Alkaline Phosphatase', 'Nevus sebaceous', 'Small cell carcinoma of lung', 'Administration', ' Oral', 'Arthritis', 'Virus Diseases', 'Condoms', ' Unspecified', 'Atrophic', 'Neurotoxicity Syndromes', 'Physiologic calcification', 'newton', 'Urinary tract infection', 'Surgical incisions', 'Closure', 'Compression', 'Specimen Source Codes - Tube', 'Education', 'contents - HtmlLinkType', 'Cell Count', 'Dropping', 'Breeding', 'Magnet <device>', 'Outlines (document)', 'Cicatrix', 'Duodenum', 'Mitogens', 'Protein Tyrosine Kinase', 'granulocyte', 'Computer science', 'Water', 'Cell Culture Techniques', 'Intrinsic drive', 'Discharger', 'polarity', 'Breast Carcinoma', 'Maximal set', 'Infertility', 'Signs and Symptoms', 'alpha-Mannosidosis', 'Hepatitis B', 'Biomass', 'Partial', 'Cascade Device Component', 'Waveguide Device Component', 'message', 'Major Depressive Disorder', 'Body of uterus', 'Menopause', 'Genetic Selection', 'Neural Tube Defects', 'Fertilization', 'Resonance', 'Thickness (graph theory)', 'Controllers', 'Chemical and Drug Induced Liver Injury', ' Obstructive', 'Lung Diseases', 'Down-Regulation', 'Neurotransmitters', 'Up-Regulation (Physiology)', 'Hydrocortisone', 'Isoproterenol', 'Computer vision', 'Image scaling', ' Near-Infrared', 'Test scaling', 'Base', 'Tree accumulation', 'Stomach Neoplasms', 'Squamous Epithelial Cells', 'Blood urea nitrogen measurement', 'Verification of Theories', 'Architecture as Topic', 'Overhead (computing)', 'Tendon structure', 'Exons', 'Parkinsonian Disorders', 'Antidepressive Agents', 'Transmitter', 'SIE (file format)', 'Biological Evolution', 'Nervous system structure', 'Regulation', 'Ninety Nine', 'Heart rate variability', 'Hippocampus (Brain)', 'Ploidies', 'exponential', 'Centralized computing', 'Modified RANO Van Den Bent Glioma 2011 Oncology Response Criteria', 'Spinal Cord Neoplasms', 'Coherence (physics)', 'Cross Reactions', 'Fertility', 'Neutrons', 'Exanthema', 'Sensitization (observable entity)', 'CDISC SEND Biospecimens Terminology', ' Pulmonary', 'Hepatocyte', 'Bone structure of tibia', 'Composition', 'Clarify', 'Pneumonia', 'Tuberculosis', 'Endocrine System Diseases', 'Time series', 'Arginine', 'Pathologic Neovascularization', 'Alveolar rhabdomyosarcoma', 'Distortion', 'Radionuclide Imaging', 'Lasers', 'Virulence', 'Artificial nanoparticles', 'Tomography', ' Emission-Computed', 'Image resolution', 'Bacteria', 'Cations', 'Sex Characteristics', 'Cell Survival', 'Axis vertebra', 'Adjudication', 'Muscle Cells', 'Rats', 'Carboxyl Group', 'Anti-Bacterial Agents', 'Alleles', 'Spleen Tissue', 'Anemia', 'Mathematical morphology', 'Radial (radio)', 'biologic segmentation', 'Staphylococcal Protein A', 'Angina Pectoris', 'Synaptic Transmission', 'Drug Delivery Systems', 'Endoplasmic Reticulum', 'Neuroglia', 'Computer cooling', 'Epitopes', 'Immune Sera', 'Immunoblotting', 'Bos taurus', 'Catecholamines', 'Diode Device Component', 'Polarization (waves)', 'pump (device)', 'Trees (plant)', 'Osteogenesis', 'Polymer', 'Silicon Dioxide', 'Osteoporosis', 'Adrenergic beta-Antagonists', 'Bile fluid', 'Progressive Disease', 'Mitochondrial Diseases', 'Scanning Electron Microscopy', 'beta Thalassemia', 'Sleep Apnea Syndromes', 'Drug abuse', 'Colon structure (body structure)', 'Gastrointestinal tract structure', 'Small Intestinal Wall Tissue', 'Brain Injuries', 'Video-in video-out', 'White matter', 'soft tissue', 'Electron Microscopy', 'Micron', 'Spermatozoa Cell Count', 'Sparse matrix', 'Heparin', ' Low-Molecular-Weight', 'Ultrasonics (sound)', 'Appendix', 'Biological Factors', 'Fill', 'Tretinoin', 'Alignment', 'Adrenergic Receptor', 'Incidence matrix', 'Intestinal Diseases', 'Western Blot', 'Bone Marrow', 'Abducens Nerve Diseases', 'Angiotensin-Converting Enzyme Inhibitors', 'Hematoma', 'Conferences', 'Reflex action', 'Porcine species', 'Coronary Artery Disease', '3', '4-Methylenedioxyamphetamine', 'CATALASE', 'Oral cavity', 'Superoxide Dismutase', 'Basal Ganglia Diseases', 'Glucose Metabolism Disorders', 'Physical Examination', 'Multiple Myeloma', 'Anatomy', ' Regional', 'statistical cluster', 'Seedlings', 'Brain Diseases', 'Neostriatum', 'Aspirin', 'Labor (Childbirth)', 'Mesenchymal Stem Cells', 'Cell Respiration', 'Diagram', 'Energy', ' Physics', 'Mandatory - HL7DefinedRoseProperty', ' High-Frequency', 'Cellulose', 'Adipocytes', 'Weight', 'Aneurysm', 'Largest', 'Histopathology', 'Titanium', 'nickel', 'Natural regeneration', 'Manufactured Supplies', 'Sequela of disorder', 'Correctness (computer science)', 'Accidental Falls', 'Internet Explorer', 'Unified Model', 'Anatomic structures', 'Aorta', 'Gastroesophageal reflux disease', 'Cell Wall', 'Walls of a building', 'Gold', 'Positron-Emission Tomography', 'Positrons', 'Phosphorus', 'Arteriopathic disease', 'Providing (action)', 'Radiation', 'Spectrometry', 'Spatial variability', 'torr', 'Chromatography', 'Dexamethasone', 'Mental Suffering', 'High-level programming language', 'High pressure liquid chromatography procedure', 'Tandem Mass Spectrometry', 'Mitosis', 'Network switch', 'Signal Transduction', 'Glutathione', 'Collections (publication)', 'Coating Excipient', 'Endothelium', 'Semiconductor', 'Pregnancy', 'Hoc (programming language)', 'Organic Chemicals', 'Baseline (configuration management)', 'Biological Science Disciplines', 'collision', 'Histopathologic Grade', 'Interpretation Process', 'Spectral leakage', 'analyte', 'Semantics (computer science)', 'Aves', 'Silo (dataset)', 'Mean squared error', 'Signal-to-noise ratio', 'DUOXA1 gene', 'Feature extraction', 'Ovum', 'Ejection fraction (procedure)', 'Chronic Obstructive Airway Disease', 'Staphylococcus aureus', 'Cold Temperature', 'Departure - action', 'Lower Extremity', 'Fruit', 'Signal Transduction Pathways', 'Copyright', 'Data Table', 'Endothelial Cells', 'Hydroxyl Radical', 'Forests', 'Checking (action)', 'Software deployment', 'Mitochondrial Inheritance', 'Natural Science Disciplines', 'gamma-Aminobutyric Acid', 'Social inequality', 'Heterozygote', 'Frequency band', 'Megahertz', 'Cervix carcinoma', 'Dermatologic disorders', 'Growth Factor Receptors', 'Neural Network Simulation', 'Die (integrated circuit)', 'Schedule (document type)', 'leukemia', 'Antihypertensive Agents', 'Anticoagulants', 'Catalysis', 'Wild Type', 'mutant', 'TRICYCLIC ANTIDEPRESSANTS TESTED FOR:PRID:PT:UR:NAR:SCREEN', 'Loss function', 'Data structure', 'Muscle Rigidity', 'funding grant', 'Electroencephalography', 'Recursion', 'Gene regulatory network', '2', 'Scheduling - HL7 Publishing Domain', 'Metalloproteases', 'Note (document)', 'Malaria', 'Apache Axis', 'Cytoplasmic matrix', 'Emergence', 'Placenta', ' Mass', 'Artificial intelligence', 'National origin', 'Biological Neural Networks', 'Electrons', 'Retinal Diseases', 'Standard deviation', 'Trait', 'Programming Languages', 'Synthetic intelligence', 'Syndrome', 'NG-Nitroarginine Methyl Ester', 'Operating system', 'Structure of lumen of body system', 'Lithium', 'Database', 'Intestinal Wall Tissue', 'Utility functions on indivisible goods', 'Doxorubicin', ' Smooth Muscle', 'Lysis', 'Money', 'Skeletal bone', 'Wound Healing', 'Traumatic Brain Injury', 'Endothelial Growth Factors', 'caspase-3', 'Grade', 'Face', 'Ecology', 'fMRI', 'Polyacrylamide Gel Electrophoresis', 'polyacrylamide gels', 'Sex Factors', ' Autoimmune', ' Vascular', 'Chromium', 'Optical fiber', 'Catabolism', 'Mixed Function Oxygenases', 'Universities', 'Support vector machine', 'Optics', 'Membrane Potentials']\n"
     ]
    }
   ],
   "source": [
    "print(more_than_1000)"
   ]
  },
  {
   "cell_type": "code",
   "execution_count": null,
   "metadata": {
    "collapsed": true
   },
   "outputs": [],
   "source": [
    "df = spark.read.text(\"sample-S2-records-Copy1.txt\")"
   ]
  },
  {
   "cell_type": "code",
   "execution_count": 21,
   "metadata": {},
   "outputs": [
    {
     "name": "stdout",
     "output_type": "stream",
     "text": [
      "Schema for filtered data\n",
      "-------------------------------------\n",
      "root\n",
      " |-- id: string (nullable = true)\n",
      " |-- title: string (nullable = true)\n",
      " |-- abstracts: string (nullable = true)\n",
      " |-- citations: string (nullable = true)\n",
      " |-- tags: string (nullable = true)\n",
      "\n",
      "Entries for filtered_df\n",
      "----------------------------\n",
      "+--------------------+--------------------+--------------------+---------+--------------------+\n",
      "|                  id|               title|           abstracts|citations|                tags|\n",
      "+--------------------+--------------------+--------------------+---------+--------------------+\n",
      "|03717670dae5f950a...|Funding Criteria ...|Department of Ene...|      129|Review [Publicati...|\n",
      "|5ce47ace01b405370...|Implicit negotiat...|The authors argue...|       33|           Increment|\n",
      "|3309dae98ec7f2a32...|Anticipating crit...|Tipping points in...|      291|       Generic Drugs|\n",
      "|afa7d21b1e809f96d...|A global look at ...|This paper presen...|       21|         Eighty Nine|\n",
      "|1a7b536c23a1aae6f...|Can people tap co...|If people could t...|       25|       Specification|\n",
      "|40e3bb6e03a419825...|Perception of ran...|People tend to th...|       22|          Experience|\n",
      "|7e6147724ae2bd087...|Diagnosis with Be...|Diagnostic tasks ...|      239|              Theory|\n",
      "|5d656343b88a3df05...|Stability and cha...|Understanding the...|       27|        Epidemiology|\n",
      "|63a137631a804a581...|Enhanced infrared...|We report the obs...|       37|Diameter (qualifi...|\n",
      "|52a1a2a450d3022f4...|Subnuclear organi...|Bulbospinal and p...|       21|      Catecholamines|\n",
      "|692ee1ba84ee7e7cd...|Similarity of out...|Dating couples (N...|       25|          Fifty Nine|\n",
      "|596e9ed947c233366...|A longitudinal st...|A large sample of...|       53|   Abnormal behavior|\n",
      "|5c266fe7c07f5452e...|Behavioural react...|Recent studies in...|      369|             Ecology|\n",
      "|b2234bee0bb763130...|On Necessity and ...|In this paper, we...|       24|        Steady state|\n",
      "|2aa97a3bbcec17be1...|Ecology, evolutio...|Among ecologists,...|      158|         Description|\n",
      "|f8cd32d65d2b0c828...|Development of nu...|Two experiments e...|      309|           Estimated|\n",
      "|8b4ce7ed8548434f6...|Pathways of corne...|The goal of this ...|       21|         Conferences|\n",
      "|d7a90eee1c3114a27...|Heritage and Aggl...|We use new data o...|       76|Concentrate Dosag...|\n",
      "|c30228e1f6ffaa877...|Conflict manageme...|The aim of this s...|       31| Sex Characteristics|\n",
      "|268f606df26ccb8bb...|Role of adaptive ...|Recent work has r...|       32|  Promotion (action)|\n",
      "+--------------------+--------------------+--------------------+---------+--------------------+\n",
      "only showing top 20 rows\n",
      "\n",
      "\n",
      "\n",
      "Number of rows! 211\n",
      "\n",
      "\n"
     ]
    }
   ],
   "source": [
    "import pyspark\n",
    "from pyspark.sql.types import *\n",
    "from pyspark.sql.functions import udf, struct, col\n",
    "from pyspark.sql import SQLContext\n",
    "from pyspark import SparkContext\n",
    "from pyspark.sql.session import SparkSession\n",
    "\n",
    "sc = SparkContext.getOrCreate()\n",
    "spark = SparkSession(sc)\n",
    "\n",
    "def get_id(line):\n",
    "    parenthesis = \"\\\"\" # string literal for \"\n",
    "    paper_id_tag = \"\\\"id\\\"\" # find the first occurence of \"id\"\n",
    "    id_label_start = line.find(paper_id_tag) # this is the index that the id label starts\n",
    "    id_tag_start = id_label_start + 6 # this is the index that the id tag starts. Always be 6.\n",
    "    id_tag_end = line.find(parenthesis, id_tag_start)  #this is the index that the id tag ends\n",
    "    id_tag = line[id_tag_start:id_tag_end] # id tag string \n",
    "    return id_tag\n",
    "\n",
    "def get_title(line):\n",
    "    # look for the title of the paper and return the tag \n",
    "    paper_title_tag = \"\\\"title\\\"\"\n",
    "    parenthesis = \"\\\"\" # string literal for \"\n",
    "    \n",
    "    title_label_start = line.find(paper_title_tag) # index for the title label start \n",
    "    title_tag_start = title_label_start + 9\n",
    "    title_tag_end = line.find(parenthesis+\",\\\"\", title_tag_start) \n",
    "    title_tag = line[title_tag_start:title_tag_end]\n",
    "    '''\n",
    "    if title_tag[-1] == \".\":\n",
    "        title_tag = title_tag.replace(\".\", \"\")\n",
    "    if title_tag[-1] == \"]\":\n",
    "        title_tag = title_tag.replace(\"]\", \"\")\n",
    "        title_tag = title_tag.replace(\"[\", \"\")\n",
    "    if \"\\\\\\\"\" in title_tag:\n",
    "        title_tag = title_tag.replace(\"\\\\\\\"\", \"\\\"\")\n",
    "    '''\n",
    "    return title_tag\n",
    "\n",
    "def get_abstract(line):\n",
    "    '''\n",
    "    this function looks for the abstract tag of the paper\n",
    "    '''\n",
    "    paper_abstract_tag = \"\\\"paperAbstract\\\"\"\n",
    "    parenthesis = \"\\\"\" # string literal for \"\n",
    "    \n",
    "    abstract_label_start = line.find(paper_abstract_tag) # index that the abstrat label starts\n",
    "    abstract_tag_start = abstract_label_start + 17 # the start of the abstract tag \n",
    "    abstract_tag_end = line.find(parenthesis, abstract_tag_start) # the end of the abstract tag \n",
    "    abstract_tag = line[abstract_tag_start:abstract_tag_end] # abstract tag string\n",
    "    if r\"\\n\" in abstract_tag:\n",
    "        abstract_tag = abstract_tag.replace(r\"\\n\", \" \")\n",
    "    return abstract_tag\n",
    "\n",
    "def get_citation(line):\n",
    "    '''\n",
    "    Get the citation from the values \n",
    "    '''\n",
    "    paper_citation_tag = \"\\\"inCitations\\\"\" # find the occurence of \"inCitations\"\n",
    "    bracket = r\"]\" # look for \"]\"\n",
    "    \n",
    "    citation_label_start = line.find(paper_citation_tag) # index that the citation label starts  \n",
    "    citation_tag_start = citation_label_start + 15 # index that the citation tag starts\n",
    "    citation_tag_end = line.find(bracket, citation_tag_start)  # this is the index that the citation tag ends \n",
    "    if citation_tag_start == citation_tag_end: # if there are no citations: \n",
    "        num_citations = 0\n",
    "        citation_list = []\n",
    "    else:\n",
    "        citation_list = line[citation_tag_start:citation_tag_end].split(\",\") # make it a list, count number of entries\n",
    "        num_citations = len(citation_list) # number of citations \n",
    "    return num_citations\n",
    "\n",
    "def get_tag(line):\n",
    "    '''\n",
    "    Extracts the tag from the value column in the dataframe \n",
    "    '''\n",
    "    paper_entities_tag = \"\\\"entities\\\"\"\n",
    "    bracket = r\"]\" # look for \"]\"\n",
    "    \n",
    "    entities_label_start = line.find(paper_entities_tag) # index for the title label start \n",
    "    entities_tag_start = entities_label_start + 12\n",
    "    entities_tag_end = line.find(bracket+\",\\\"\", entities_tag_start) \n",
    "    entities_tag = line[entities_tag_start:entities_tag_end]\n",
    "    if \"\\\"\" in entities_tag:\n",
    "        entities_tag = entities_tag.replace(\"\\\"\", \"\")\n",
    "    return entities_tag \n",
    "\n",
    "def adding_ids(df):\n",
    "    '''\n",
    "    This function takes the raw data dataframe and adds on an id column for the data\n",
    "    Ex: \n",
    "    value        id \n",
    "    laeinaelk    23402939423\n",
    "    lakeflake    02398402384\n",
    "    ieifniena    23402938402\n",
    "    '''\n",
    "    add_ids = df.withColumn(\"id\", get_id_udf(df.value))\n",
    "    return add_ids\n",
    "\n",
    "def adding_titles(df):\n",
    "    '''\n",
    "    This function takes the raw data dataframe and adds on an id column for the data\n",
    "    Ex: \n",
    "    value        id             title \n",
    "    laeinaelk    23402939423    \"Mastering the game of Go\"\n",
    "    lakeflake    02398402384    \"Computer Science is fun!\"\n",
    "    ieifniena    23402938402    \"Who knows what to do????\"\n",
    "    '''\n",
    "    add_titles = df.withColumn(\"title\", get_title_udf(df.value))\n",
    "    return add_titles\n",
    "\n",
    "def adding_abstracts(df):\n",
    "    '''\n",
    "    This function takes the raw + id dataframe and adds on abstracts column for the data\n",
    "    Ex\n",
    "    value        id             title                         abstracts \n",
    "    laeinaelk    23402939423    \"Mastering the game of Go\"    Mastering the game of ...\n",
    "    lakeflake    02398402384    \"Computer Science is fun!\"    When people go outside...\n",
    "    ieifniena    23402938402    \"Who knows what to do????\"    Data engineers love to...\n",
    "    '''\n",
    "    add_abstracts = df.withColumn(\"abstracts\", get_abstract_udf(df.value))\n",
    "    return add_abstracts\n",
    "\n",
    "def adding_citations(df):\n",
    "    '''\n",
    "    This function takes the raw data dataframe and adds on a citation column for the data\n",
    "    Ex\n",
    "    value        id             title                         abstracts                  citations\n",
    "    laeinaelk    23402939423    \"Mastering the game of Go\"    Mastering the game of ...  18\n",
    "    lakeflake    02398402384    \"Computer Science is fun!\"    When people go outside...  2\n",
    "    ieifniena    23402938402    \"Who knows what to do????\"    Data engineers love to...  102\n",
    "     '''\n",
    "    add_citations = df.withColumn(\"citations\", get_citation_udf(df.value))\n",
    "    return add_citations\n",
    "\n",
    "def adding_tags(df):\n",
    "    '''\n",
    "    This function takes the raw data dataframe and adds on a citation column for the data\n",
    "    Ex\n",
    "    value        id             title                         abstracts                  citations   tags\n",
    "    laeinaelk    23402939423    \"Mastering the game of Go\"    Mastering the game of ...  18          \"CS\", \"Game\"\n",
    "    lakeflake    02398402384    \"Computer Science is fun!\"    When people go outside...  2           \"World\", \"Tree\"\n",
    "    ieifniena    23402938402    \"Who knows what to do????\"    Data engineers love to...  102         \"DE\", \"Spark\"\n",
    "     '''\n",
    "    add_tags = df.withColumn(\"tags\", get_tag_udf(df.value))\n",
    "    return add_tags \n",
    "\n",
    "def drop_values(df):\n",
    "    '''\n",
    "    This function takes the dataframe and drops the value column\n",
    "    Ex\n",
    "    id             title                         abstracts                  citations   tags\n",
    "    23402939423    \"Mastering the game of Go\"    Mastering the game of ...  18          \"CS\", \"Game\"\n",
    "    02398402384    \"Computer Science is fun!\"    When people go outside...  2           \"World\", \"Tree\"\n",
    "    23402938402    \"Who knows what to do????\"    Data engineers love to...  102         \"DE\", \"Spark\"\n",
    "    '''\n",
    "    return df.drop(df.value)\n",
    "\n",
    "def drop_empty_rows(df):\n",
    "    df_filtered = df.filter(df.abstracts != \"\")\n",
    "    return df_filtered\n",
    "\n",
    "def filter_by_citation(df):\n",
    "    df_filtered = df.filter(df.citations > 20)\n",
    "    return df_filtered\n",
    "\n",
    "def filter_by_tag(df, more_than_1000):\n",
    "    df_filtered = df.where(df.tags.isin(more_than_1000))\n",
    "    return df_filtered\n",
    "\n",
    "# create a user defined function for get_id and get_abstract, which is compatable with a spark dataframe \n",
    "get_id_udf = udf(lambda line: get_id(line), StringType())\n",
    "get_abstract_udf = udf(lambda line: get_abstract(line), StringType())\n",
    "get_title_udf = udf(lambda line: get_title(line), StringType())\n",
    "get_citation_udf = udf(lambda line:get_citation(line), StringType())\n",
    "get_tag_udf = udf(lambda line:get_tag(line), StringType())\n",
    "\n",
    "# raw data filenames \n",
    "#filenames = \"s3a://open-research-corpus/sample-S2-records.gz\" # path to the example file from S3 file \n",
    "#filenames = \"s3a://open-research-corpus/sample-S2-records.gz\" # path to the example file from S3 file \n",
    "#filenames = \"s3a://open-research-corpus/corpus-2019-01-31/s2-corpus-00.gz\"\n",
    "\n",
    "# intial read in\n",
    "#more_than_1000 = [\"Workaround\", \"Acids\"]\n",
    "#df = spark.read.text(filenames)\n",
    "#df = spark.read.text(\"sample-S2-records-Copy1.txt\")\n",
    "df = spark.read.text(\"s2-corpus-00.gz\")\n",
    "df = adding_ids(df)\n",
    "df = adding_titles(df)\n",
    "df = adding_abstracts(df)\n",
    "df = adding_citations(df)\n",
    "df = adding_tags(df)\n",
    "df = drop_values(df)\n",
    "df = drop_empty_rows(df)\n",
    "df = filter_by_citation(df)\n",
    "df = filter_by_tag(df, more_than_1000)\n",
    " \n",
    "#df.write.parquet(\"s3a://preprocessed-open-research-corpus/sample.parquet\",mode=\"overwrite\")\n",
    "\n",
    "print(\"Schema for filtered data\")\n",
    "print(\"-------------------------------------\")\n",
    "df.createOrReplaceTempView(\"filtered_df\")\n",
    "df.printSchema()\n",
    "results = spark.sql(\"SELECT * FROM filtered_df\")\n",
    "print(\"Entries for filtered_df\")\n",
    "print(\"----------------------------\")\n",
    "results.show()\n",
    "print()\n",
    "print()\n",
    "print(\"Number of rows!\", results.count())\n",
    "print()\n",
    "print()\n"
   ]
  },
  {
   "cell_type": "code",
   "execution_count": 316,
   "metadata": {},
   "outputs": [
    {
     "name": "stdout",
     "output_type": "stream",
     "text": [
      "\"Workaround\"\n"
     ]
    }
   ],
   "source": [
    "#print(more_than_1000)\n",
    "print(more_than_1000[0])"
   ]
  },
  {
   "cell_type": "code",
   "execution_count": 22,
   "metadata": {},
   "outputs": [
    {
     "data": {
      "text/plain": [
       "9000"
      ]
     },
     "execution_count": 22,
     "metadata": {},
     "output_type": "execute_result"
    }
   ],
   "source": [
    "45000000/ 5000"
   ]
  },
  {
   "cell_type": "code",
   "execution_count": 24,
   "metadata": {},
   "outputs": [
    {
     "data": {
      "text/plain": [
       "100000000"
      ]
     },
     "execution_count": 24,
     "metadata": {},
     "output_type": "execute_result"
    }
   ],
   "source": [
    "10000 * 10000"
   ]
  },
  {
   "cell_type": "code",
   "execution_count": 18,
   "metadata": {
    "collapsed": true
   },
   "outputs": [],
   "source": [
    "import numpy as np"
   ]
  },
  {
   "cell_type": "code",
   "execution_count": 19,
   "metadata": {},
   "outputs": [
    {
     "data": {
      "text/plain": [
       "20000"
      ]
     },
     "execution_count": 19,
     "metadata": {},
     "output_type": "execute_result"
    }
   ],
   "source": [
    "np.sqrt(400000000)"
   ]
  },
  {
   "cell_type": "code",
   "execution_count": null,
   "metadata": {
    "collapsed": true
   },
   "outputs": [],
   "source": []
  },
  {
   "cell_type": "code",
   "execution_count": null,
   "metadata": {
    "collapsed": true
   },
   "outputs": [],
   "source": []
  },
  {
   "cell_type": "code",
   "execution_count": null,
   "metadata": {
    "collapsed": true
   },
   "outputs": [],
   "source": []
  },
  {
   "cell_type": "code",
   "execution_count": null,
   "metadata": {
    "collapsed": true
   },
   "outputs": [],
   "source": []
  },
  {
   "cell_type": "code",
   "execution_count": null,
   "metadata": {
    "collapsed": true
   },
   "outputs": [],
   "source": []
  },
  {
   "cell_type": "code",
   "execution_count": null,
   "metadata": {
    "collapsed": true
   },
   "outputs": [],
   "source": []
  },
  {
   "cell_type": "code",
   "execution_count": null,
   "metadata": {
    "collapsed": true
   },
   "outputs": [],
   "source": []
  },
  {
   "cell_type": "code",
   "execution_count": 81,
   "metadata": {},
   "outputs": [
    {
     "name": "stdout",
     "output_type": "stream",
     "text": [
      "Schema for filtered data\n",
      "-------------------------------------\n",
      "root\n",
      " |-- title: string (nullable = true)\n",
      " |-- abstracts: string (nullable = true)\n",
      " |-- citations: string (nullable = true)\n",
      "\n",
      "Entries for filtered_df\n",
      "----------------------------\n",
      "+--------------------+--------------------+---------+\n",
      "|               title|           abstracts|citations|\n",
      "+--------------------+--------------------+---------+\n",
      "|Assessing depress...|Although several ...|       60|\n",
      "|Distributional Co...|Distributional co...|       13|\n",
      "|Causes of in-hosp...|BACKGROUND AND ME...|       11|\n",
      "|Uniqueness of a M...|In the paper we c...|       18|\n",
      "|Exact medial axis...|Medial Axis (MA),...|       35|\n",
      "|Collection device...|BACKGROUND Human ...|       21|\n",
      "|Bridging scales i...|A significant goa...|       17|\n",
      "|In vivo talocrura...|BACKGROUND To imp...|       14|\n",
      "|MRI predictors of...|OBJECTIVE To asse...|       23|\n",
      "|Epstein-Barr viru...|Latent membrane p...|       55|\n",
      "|Making connection...|Math textbooks, w...|       17|\n",
      "|Successful use of...|The patient was a...|      218|\n",
      "|Leap-Frog Path De...|We present a “lea...|       24|\n",
      "|Prokaryotic NavMs...|Voltage-gated sod...|       33|\n",
      "|Experiences of lo...|OBJECTIVE This st...|       17|\n",
      "|Dietary effects o...|Little is known a...|       30|\n",
      "|HSP70 protein pro...|Although both the...|       24|\n",
      "|Internucleosomal ...|Apoptosis is a di...|       13|\n",
      "|Time delay identi...|Frequency depende...|       23|\n",
      "|Reductions in Mot...|Axons regenerate ...|       18|\n",
      "+--------------------+--------------------+---------+\n",
      "only showing top 20 rows\n",
      "\n",
      "8\n",
      "\n",
      "\n",
      "Number of rows! 141922\n",
      "\n",
      "\n",
      "103.256064\n"
     ]
    }
   ],
   "source": [
    "import pyspark\n",
    "from pyspark.sql.types import *\n",
    "from pyspark.sql.functions import udf, struct, col\n",
    "from pyspark.sql import SQLContext\n",
    "from pyspark import SparkContext\n",
    "from pyspark.sql.session import SparkSession\n",
    "\n",
    "sc = SparkContext.getOrCreate()\n",
    "spark = SparkSession(sc)\n",
    "\n",
    "def get_id(line):\n",
    "    parenthesis = \"\\\"\" # string literal for \"\n",
    "    paper_id_tag = \"\\\"id\\\"\" # find the first occurence of \"id\"\n",
    "    id_label_start = line.find(paper_id_tag) # this is the index that the id label starts\n",
    "    id_tag_start = id_label_start + 6 # this is the index that the id tag starts. Always be 6.\n",
    "    id_tag_end = line.find(parenthesis, id_tag_start)  #this is the index that the id tag ends\n",
    "    id_tag = line[id_tag_start:id_tag_end] # id tag string \n",
    "    return id_tag\n",
    "\n",
    "def get_title(line):\n",
    "    # look for the title of the paper and return the tag \n",
    "    paper_title_tag = \"\\\"title\\\"\"\n",
    "    parenthesis = \"\\\"\" # string literal for \"\n",
    "    \n",
    "    title_label_start = line.find(paper_title_tag) # index for the title label start \n",
    "    title_tag_start = title_label_start + 9\n",
    "    title_tag_end = line.find(parenthesis+\",\\\"\", title_tag_start) \n",
    "    title_tag = line[title_tag_start:title_tag_end]\n",
    "    '''\n",
    "    if title_tag[-1] == \".\":\n",
    "        title_tag = title_tag.replace(\".\", \"\")\n",
    "    if title_tag[-1] == \"]\":\n",
    "        title_tag = title_tag.replace(\"]\", \"\")\n",
    "        title_tag = title_tag.replace(\"[\", \"\")\n",
    "    if \"\\\\\\\"\" in title_tag:\n",
    "        title_tag = title_tag.replace(\"\\\\\\\"\", \"\\\"\")\n",
    "    '''\n",
    "    return title_tag\n",
    "\n",
    "def get_abstract(line):\n",
    "    '''\n",
    "    this function looks for the abstract tag of the paper\n",
    "    '''\n",
    "    paper_abstract_tag = \"\\\"paperAbstract\\\"\"\n",
    "    parenthesis = \"\\\"\" # string literal for \"\n",
    "    \n",
    "    abstract_label_start = line.find(paper_abstract_tag) # index that the abstrat label starts\n",
    "    abstract_tag_start = abstract_label_start + 17 # the start of the abstract tag \n",
    "    abstract_tag_end = line.find(parenthesis, abstract_tag_start) # the end of the abstract tag \n",
    "    abstract_tag = line[abstract_tag_start:abstract_tag_end] # abstract tag string\n",
    "    if r\"\\n\" in abstract_tag:\n",
    "        abstract_tag = abstract_tag.replace(r\"\\n\", \" \")\n",
    "    return abstract_tag\n",
    "\n",
    "def get_citation(line):\n",
    "    '''\n",
    "    Get the citation from the values \n",
    "    '''\n",
    "    paper_citation_tag = \"\\\"inCitations\\\"\" # find the occurence of \"inCitations\"\n",
    "    bracket = r\"]\" # look for \"]\"\n",
    "    \n",
    "    citation_label_start = line.find(paper_citation_tag) # index that the citation label starts  \n",
    "    citation_tag_start = citation_label_start + 15 # index that the citation tag starts\n",
    "    citation_tag_end = line.find(bracket, citation_tag_start)  # this is the index that the citation tag ends \n",
    "    if citation_tag_start == citation_tag_end: # if there are no citations: \n",
    "        num_citations = 0\n",
    "        citation_list = []\n",
    "    else:\n",
    "        citation_list = line[citation_tag_start:citation_tag_end].split(\",\") # make it a list, count number of entries\n",
    "        num_citations = len(citation_list) # number of citations \n",
    "    return num_citations\n",
    "\n",
    "def get_tag(line):\n",
    "    '''\n",
    "    Extracts the tag from the value column in the dataframe \n",
    "    '''\n",
    "    paper_entities_tag = \"\\\"entities\\\"\"\n",
    "    bracket = r\"]\" # look for \"]\"\n",
    "    \n",
    "    entities_label_start = line.find(paper_entities_tag) # index for the title label start \n",
    "    entities_tag_start = entities_label_start + 12\n",
    "    entities_tag_end = line.find(bracket+\",\\\"\", entities_tag_start) \n",
    "    entities_tag = line[entities_tag_start:entities_tag_end]\n",
    "    return entities_tag \n",
    "\n",
    "def adding_ids(df):\n",
    "    '''\n",
    "    This function takes the raw data dataframe and adds on an id column for the data\n",
    "    Ex: \n",
    "    value        id \n",
    "    laeinaelk    23402939423\n",
    "    lakeflake    02398402384\n",
    "    ieifniena    23402938402\n",
    "    '''\n",
    "    add_ids = df.withColumn(\"id\", get_id_udf(df.value))\n",
    "    return add_ids\n",
    "\n",
    "def adding_titles(df):\n",
    "    '''\n",
    "    This function takes the raw data dataframe and adds on an id column for the data\n",
    "    Ex: \n",
    "    value        id             title \n",
    "    laeinaelk    23402939423    \"Mastering the game of Go\"\n",
    "    lakeflake    02398402384    \"Computer Science is fun!\"\n",
    "    ieifniena    23402938402    \"Who knows what to do????\"\n",
    "    '''\n",
    "    add_titles = df.withColumn(\"title\", get_title_udf(df.value))\n",
    "    return add_titles\n",
    "\n",
    "def adding_abstracts(df):\n",
    "    '''\n",
    "    This function takes the raw + id dataframe and adds on abstracts column for the data\n",
    "    Ex\n",
    "    value        id             title                         abstracts \n",
    "    laeinaelk    23402939423    \"Mastering the game of Go\"    Mastering the game of ...\n",
    "    lakeflake    02398402384    \"Computer Science is fun!\"    When people go outside...\n",
    "    ieifniena    23402938402    \"Who knows what to do????\"    Data engineers love to...\n",
    "    '''\n",
    "    add_abstracts = df.withColumn(\"abstracts\", get_abstract_udf(df.value))\n",
    "    return add_abstracts\n",
    "\n",
    "def adding_citations(df):\n",
    "    '''\n",
    "    This function takes the raw data dataframe and adds on a citation column for the data\n",
    "    Ex\n",
    "    value        id             title                         abstracts                  citations\n",
    "    laeinaelk    23402939423    \"Mastering the game of Go\"    Mastering the game of ...  18\n",
    "    lakeflake    02398402384    \"Computer Science is fun!\"    When people go outside...  2\n",
    "    ieifniena    23402938402    \"Who knows what to do????\"    Data engineers love to...  102\n",
    "     '''\n",
    "    add_citations = df.withColumn(\"citations\", get_citation_udf(df.value))\n",
    "    return add_citations\n",
    "\n",
    "def adding_tags(df):\n",
    "    '''\n",
    "    This function takes the raw data dataframe and adds on a citation column for the data\n",
    "    Ex\n",
    "    value        id             title                         abstracts                  citations   tags\n",
    "    laeinaelk    23402939423    \"Mastering the game of Go\"    Mastering the game of ...  18          \"CS\", \"Game\"\n",
    "    lakeflake    02398402384    \"Computer Science is fun!\"    When people go outside...  2           \"World\", \"Tree\"\n",
    "    ieifniena    23402938402    \"Who knows what to do????\"    Data engineers love to...  102         \"DE\", \"Spark\"\n",
    "     '''\n",
    "    add_tags = df.withColumn(\"tags\", get_tag_udf(df.value))\n",
    "    return add_tags \n",
    "\n",
    "def drop_values(df):\n",
    "    '''\n",
    "    This function takes the dataframe and drops the value column\n",
    "    Ex\n",
    "    id             title                         abstracts                  citations   tags\n",
    "    23402939423    \"Mastering the game of Go\"    Mastering the game of ...  18          \"CS\", \"Game\"\n",
    "    02398402384    \"Computer Science is fun!\"    When people go outside...  2           \"World\", \"Tree\"\n",
    "    23402938402    \"Who knows what to do????\"    Data engineers love to...  102         \"DE\", \"Spark\"\n",
    "    '''\n",
    "    return df.drop(df.value)\n",
    "\n",
    "def drop_empty_rows(df):\n",
    "    df_filtered = df.filter(df.abstracts != \"\")\n",
    "    return df_filtered\n",
    "\n",
    "def filter_by_citation(df):\n",
    "    df_filtered = df.filter(df.citations > 10)\n",
    "    return df_filtered\n",
    "\n",
    "# create a user defined function for get_id and get_abstract, which is compatable with a spark dataframe \n",
    "get_id_udf = udf(lambda line: get_id(line), StringType())\n",
    "get_abstract_udf = udf(lambda line: get_abstract(line), StringType())\n",
    "get_title_udf = udf(lambda line: get_title(line), StringType())\n",
    "get_citation_udf = udf(lambda line:get_citation(line), StringType())\n",
    "get_tag_udf = udf(lambda line:get_tag(line), StringType())\n",
    "\n",
    "# raw data filenames \n",
    "#filenames = \"s3a://open-research-corpus/sample-S2-records.gz\" # path to the example file from S3 file \n",
    "#filenames = \"s3a://open-research-corpus/sample-S2-records.gz\" # path to the example file from S3 file \n",
    "#filenames = \"s3a://open-research-corpus/corpus-2019-01-31/s2-corpus-00.gz\"\n",
    "\n",
    "# intial read in\n",
    "#df = spark.read.text(filenames)\n",
    "#df = spark.read.text(\"sample-S2-records-Copy1.txt\")\n",
    "df = spark.read.text(\"s2-corpus-00.gz\")\n",
    "#df = adding_ids(df)\n",
    "df = adding_titles(df)\n",
    "df = adding_abstracts(df)\n",
    "df = adding_citations(df)\n",
    "#df = adding_tags(df)\n",
    "df = drop_values(df)\n",
    "df = drop_empty_rows(df)\n",
    "df = filter_by_citation(df).repartition(8)\n",
    " \n",
    "#df.write.parquet(\"s3a://preprocessed-open-research-corpus/sample.parquet\",mode=\"overwrite\")\n",
    "\n",
    "print(\"Schema for filtered data\")\n",
    "print(\"-------------------------------------\")\n",
    "df.createOrReplaceTempView(\"filtered_df\")\n",
    "df.printSchema()\n",
    "results = spark.sql(\"SELECT * FROM filtered_df\")\n",
    "print(\"Entries for filtered_df\")\n",
    "print(\"----------------------------\")\n",
    "results.show()\n",
    "print(results.rdd.getNumPartitions())\n",
    "print()\n",
    "print()\n",
    "print(\"Number of rows!\", results.count())\n",
    "print()\n",
    "print()\n",
    "print(resource.getrusage(resource.RUSAGE_SELF).ru_maxrss * (1e-6))\n"
   ]
  },
  {
   "cell_type": "code",
   "execution_count": null,
   "metadata": {
    "collapsed": true
   },
   "outputs": [],
   "source": [
    "resource.getrusage(resource.RUSAGE_SELF).ru_maxrss * (1e-6) "
   ]
  },
  {
   "cell_type": "code",
   "execution_count": 70,
   "metadata": {},
   "outputs": [
    {
     "name": "stdout",
     "output_type": "stream",
     "text": [
      "Number of starting papers: 1000000 or 100% of start\n",
      "Number after dropping empty rows: 685397 or 68.54% of start\n",
      "Number after dropping citations under 40: 32761 or 3.28% of start\n"
     ]
    }
   ],
   "source": [
    "start = 1000000\n",
    "print(\"Number of starting papers: {0} or {1}% of start\".format(start, 100))\n",
    "drop_empty = (685397 / 1000000) * start \n",
    "perc_of_start = 100 * drop_empty / start\n",
    "print(\"Number after dropping empty rows: {0:.0f} or {1:.2f}% of start\".format(drop_empty, perc_of_start))\n",
    "over_41 = 32761\n",
    "perc_of_start_41 = 100 * over_41 / start\n",
    "print(\"Number after dropping citations under 40: {0:.0f} or {1:.2f}% of start\".format(over_41, perc_of_start_41))"
   ]
  },
  {
   "cell_type": "code",
   "execution_count": 270,
   "metadata": {
    "collapsed": true
   },
   "outputs": [],
   "source": [
    "def filter_and_join(df):\n",
    "    '''\n",
    "    takes only the id column, does a cartesian product, and returns the new df\n",
    "    '''\n",
    "    df = df.drop(df.citations)\n",
    "    df1 = df.alias(\"df1\")\n",
    "    df2 = df.alias(\"df2\")\n",
    "    df1_r = df1.select(*(col(x).alias(x + '_df1') for x in df1.columns))\n",
    "    df2_r = df1.select(*(col(x).alias(x + '_df2') for x in df2.columns))\n",
    "    outer_join = df1_r.join(df2_r, df1_r.title_df1 != df2_r.title_df2, how='outer')\n",
    "    return outer_join"
   ]
  },
  {
   "cell_type": "code",
   "execution_count": 271,
   "metadata": {
    "collapsed": true
   },
   "outputs": [],
   "source": [
    "df_joined = filter_and_join(df)"
   ]
  },
  {
   "cell_type": "code",
   "execution_count": 272,
   "metadata": {},
   "outputs": [
    {
     "name": "stdout",
     "output_type": "stream",
     "text": [
      "+--------------------+--------------------+--------------------+--------------------+\n",
      "|           title_df1|       abstracts_df1|           title_df2|       abstracts_df2|\n",
      "+--------------------+--------------------+--------------------+--------------------+\n",
      "|Primary Debulking...|Primary debulking...|Hypothalamic grow...|Experiments were ...|\n",
      "|Primary Debulking...|Primary debulking...|High salt toleran...|The potential to ...|\n",
      "|Primary Debulking...|Primary debulking...|Invisible emotion...|Emotions are an o...|\n",
      "|Primary Debulking...|Primary debulking...|On random walk si...|In this paper, we...|\n",
      "|Primary Debulking...|Primary debulking...|Magnesium in clin...|Until recently th...|\n",
      "|Primary Debulking...|Primary debulking...|Gap junctions in ...|The analysis of c...|\n",
      "|Primary Debulking...|Primary debulking...|Myocardial matrix...|Similar to other ...|\n",
      "|Primary Debulking...|Primary debulking...|Malaria in pregna...|Since 2000, the W...|\n",
      "|Primary Debulking...|Primary debulking...|One-step sandwich...|Six monoclonal an...|\n",
      "|Primary Debulking...|Primary debulking...|Initial and delay...|Gravitational str...|\n",
      "|Primary Debulking...|Primary debulking...|Quantitation of r...|We have developed...|\n",
      "|Primary Debulking...|Primary debulking...|Road-Sign Text Re...|Text recognition ...|\n",
      "|Primary Debulking...|Primary debulking...|Sustainability of...|The question addr...|\n",
      "|Primary Debulking...|Primary debulking...|Hemozoin formatio...|Rediae of the tre...|\n",
      "|Primary Debulking...|Primary debulking...|The screening of ...|Ten structurally ...|\n",
      "|Primary Debulking...|Primary debulking...|The fully human a...|5F11, a fully hum...|\n",
      "|Primary Debulking...|Primary debulking...|A Mechanized Bisi...|We introduce a Su...|\n",
      "|Hypothalamic grow...|Experiments were ...|Primary Debulking...|Primary debulking...|\n",
      "|Hypothalamic grow...|Experiments were ...|High salt toleran...|The potential to ...|\n",
      "|Hypothalamic grow...|Experiments were ...|Invisible emotion...|Emotions are an o...|\n",
      "+--------------------+--------------------+--------------------+--------------------+\n",
      "only showing top 20 rows\n",
      "\n",
      "root\n",
      " |-- title_df1: string (nullable = true)\n",
      " |-- abstracts_df1: string (nullable = true)\n",
      " |-- title_df2: string (nullable = true)\n",
      " |-- abstracts_df2: string (nullable = true)\n",
      "\n"
     ]
    }
   ],
   "source": [
    "df_joined.show()\n",
    "df_joined.count()\n",
    "df_joined.printSchema()"
   ]
  },
  {
   "cell_type": "code",
   "execution_count": 273,
   "metadata": {
    "collapsed": true
   },
   "outputs": [],
   "source": [
    "num_rows = df_joined.count()"
   ]
  },
  {
   "cell_type": "code",
   "execution_count": 188,
   "metadata": {},
   "outputs": [
    {
     "name": "stdout",
     "output_type": "stream",
     "text": [
      "306\n"
     ]
    }
   ],
   "source": [
    "print(num_rows)"
   ]
  },
  {
   "cell_type": "code",
   "execution_count": 274,
   "metadata": {
    "collapsed": true
   },
   "outputs": [],
   "source": [
    "def filter_join_jaccard(df):\n",
    "    '''\n",
    "    does a cartesian product, and returns the new df\n",
    "    '''\n",
    "    df = df.drop(df.citations)\n",
    "    df1 = df.alias(\"df1\")\n",
    "    df2 = df.alias(\"df2\")\n",
    "    df1_r = df1.select(*(col(x).alias(x + '_df1') for x in df1.columns))\n",
    "    df2_r = df1.select(*(col(x).alias(x + '_df2') for x in df2.columns))\n",
    "    outer_join_df = df1_r.join(df2_r, df1_r.title_df1 != df2_r.title_df2, how='outer')\n",
    "    # allows me to access all columns and put jaccard index as a new column \n",
    "    joined_jaccard_df = outer_join_df.withColumn(\"jaccard\", jaccard_index_udf(struct([outer_join_df[x] for x in outer_join_df.columns])))\n",
    "    \n",
    "    return joined_jaccard_df"
   ]
  },
  {
   "cell_type": "code",
   "execution_count": 275,
   "metadata": {
    "collapsed": true
   },
   "outputs": [],
   "source": [
    "import nltk\n",
    "from nltk.stem import PorterStemmer\n",
    "\n",
    "def tokenizer(abstract):\n",
    "    '''\n",
    "    This function takes a string and makes it a list of words \n",
    "    '''\n",
    "    token_abstract = abstract.split()\n",
    "    return token_abstract\n",
    "\n",
    "def stemming(list_abstract):\n",
    "    '''\n",
    "    This function takes a tokenized string of words and stems them \n",
    "    using the PorterStemmer from the nltk package \n",
    "    '''\n",
    "    stem_sentence=[]\n",
    "    for word in list_abstract:\n",
    "        stem_sentence.append(PorterStemmer().stem(word))\n",
    "    return stem_sentence"
   ]
  },
  {
   "cell_type": "code",
   "execution_count": 276,
   "metadata": {
    "collapsed": true
   },
   "outputs": [],
   "source": [
    "def jaccard_index(line):\n",
    "    '''\n",
    "    Calculates the jaccard index of two abstracts \n",
    "    '''\n",
    "\n",
    "    jiccard_index = None #initialize jiccard index \n",
    "    abstract_1 = line.abstracts_df1\n",
    "    abstract_2 = line.abstracts_df2\n",
    "     \n",
    "    # splits the abstracts into a list of words  \n",
    "    token_abst_1 = tokenizer(abstract_1) # this is a list of tokens from abstract 1\n",
    "    token_abst_2 = tokenizer(abstract_2) # this is a list of tokens from abstract 2\n",
    "    \n",
    "    # stem the words \n",
    "    stemmed_abst_1 = stemming(token_abst_1) # this is list of stemmed tokens from abstract 1 \n",
    "    stemmed_abst_2 =  stemming(token_abst_2) # this is a list of stemmed tokens from abstract 2 \n",
    "\n",
    "    # count number of words in each list \n",
    "    words_in_abst_1 = len(token_abst_1)# number of words in abstract 1\n",
    "    words_in_abst_2 = len(token_abst_2) # number of words in abstract 2 \n",
    "\n",
    "    # combines the two lists and takes the set to get total number of unique words \n",
    "    combined_set = set(stemmed_abst_1 + stemmed_abst_2)\n",
    "    \n",
    "    # Find the length of the set \n",
    "    words_in_combined_set = len(combined_set) # number of words in combined set\n",
    "    \n",
    "    same_words = 0 # initialize the number of same words \n",
    "    for word in stemmed_abst_1: \n",
    "        if word in stemmed_abst_2:\n",
    "            same_words +=1 \n",
    "\n",
    "    jaccard_index = same_words / words_in_combined_set\n",
    "    \n",
    "    return jaccard_index "
   ]
  },
  {
   "cell_type": "code",
   "execution_count": 277,
   "metadata": {
    "collapsed": true
   },
   "outputs": [],
   "source": [
    "jaccard_index_udf = udf(lambda line:jaccard_index(line), StringType())"
   ]
  },
  {
   "cell_type": "code",
   "execution_count": 278,
   "metadata": {
    "collapsed": true
   },
   "outputs": [],
   "source": [
    "df_jaccard = filter_join_jaccard(df)"
   ]
  },
  {
   "cell_type": "code",
   "execution_count": 280,
   "metadata": {},
   "outputs": [
    {
     "name": "stdout",
     "output_type": "stream",
     "text": [
      "+--------------------+--------------------+--------------------+--------------------+-------------------+\n",
      "|           title_df1|       abstracts_df1|           title_df2|       abstracts_df2|            jaccard|\n",
      "+--------------------+--------------------+--------------------+--------------------+-------------------+\n",
      "|Primary Debulking...|Primary debulking...|Hypothalamic grow...|Experiments were ...| 0.2619047619047619|\n",
      "|Primary Debulking...|Primary debulking...|High salt toleran...|The potential to ...| 0.2318840579710145|\n",
      "|Primary Debulking...|Primary debulking...|Invisible emotion...|Emotions are an o...| 0.2132701421800948|\n",
      "|Primary Debulking...|Primary debulking...|On random walk si...|In this paper, we...|0.23857868020304568|\n",
      "|Primary Debulking...|Primary debulking...|Magnesium in clin...|Until recently th...| 0.2177121771217712|\n",
      "|Primary Debulking...|Primary debulking...|Gap junctions in ...|The analysis of c...|0.20848056537102475|\n",
      "|Primary Debulking...|Primary debulking...|Myocardial matrix...|Similar to other ...|0.21160409556313994|\n",
      "|Primary Debulking...|Primary debulking...|Malaria in pregna...|Since 2000, the W...|0.23734177215189872|\n",
      "|Primary Debulking...|Primary debulking...|One-step sandwich...|Six monoclonal an...|               0.28|\n",
      "|Primary Debulking...|Primary debulking...|Initial and delay...|Gravitational str...|0.22270742358078602|\n",
      "|Primary Debulking...|Primary debulking...|Quantitation of r...|We have developed...|  0.242914979757085|\n",
      "|Primary Debulking...|Primary debulking...|Road-Sign Text Re...|Text recognition ...|0.22857142857142856|\n",
      "|Primary Debulking...|Primary debulking...|Sustainability of...|The question addr...|0.32608695652173914|\n",
      "|Primary Debulking...|Primary debulking...|Hemozoin formatio...|Rediae of the tre...|              0.192|\n",
      "|Primary Debulking...|Primary debulking...|The screening of ...|Ten structurally ...|0.22857142857142856|\n",
      "|Primary Debulking...|Primary debulking...|The fully human a...|5F11, a fully hum...|         0.24609375|\n",
      "|Primary Debulking...|Primary debulking...|A Mechanized Bisi...|We introduce a Su...| 0.2222222222222222|\n",
      "|Hypothalamic grow...|Experiments were ...|Primary Debulking...|Primary debulking...|0.18095238095238095|\n",
      "|Hypothalamic grow...|Experiments were ...|High salt toleran...|The potential to ...|0.26229508196721313|\n",
      "|Hypothalamic grow...|Experiments were ...|Invisible emotion...|Emotions are an o...|              0.224|\n",
      "+--------------------+--------------------+--------------------+--------------------+-------------------+\n",
      "only showing top 20 rows\n",
      "\n"
     ]
    }
   ],
   "source": [
    "df_jaccard.show()"
   ]
  },
  {
   "cell_type": "code",
   "execution_count": 194,
   "metadata": {},
   "outputs": [
    {
     "name": "stdout",
     "output_type": "stream",
     "text": [
      "+--------------------+--------------------+--------------------+--------------------+-------------------+----+\n",
      "|           title_df1|       abstracts_df1|           title_df2|       abstracts_df2|            jaccard|rank|\n",
      "+--------------------+--------------------+--------------------+--------------------+-------------------+----+\n",
      "|One-step sandwich...|Six monoclonal an...|On random walk si...|In this paper, we...| 0.2809917355371901|   1|\n",
      "|One-step sandwich...|Six monoclonal an...|High salt toleran...|The potential to ...| 0.2631578947368421|   2|\n",
      "|One-step sandwich...|Six monoclonal an...|Hypothalamic grow...|Experiments were ...|0.24285714285714285|   3|\n",
      "|One-step sandwich...|Six monoclonal an...|The screening of ...|Ten structurally ...|0.24242424242424243|   4|\n",
      "|One-step sandwich...|Six monoclonal an...|Sustainability of...|The question addr...| 0.2392638036809816|   5|\n",
      "|Road-Sign Text Re...|Text recognition ...|On random walk si...|In this paper, we...|0.31386861313868614|   1|\n",
      "|Road-Sign Text Re...|Text recognition ...|Invisible emotion...|Emotions are an o...|0.28187919463087246|   2|\n",
      "|Road-Sign Text Re...|Text recognition ...|Sustainability of...|The question addr...|0.25824175824175827|   3|\n",
      "|Road-Sign Text Re...|Text recognition ...|A Mechanized Bisi...|We introduce a Su...| 0.2537313432835821|   4|\n",
      "|Road-Sign Text Re...|Text recognition ...|Magnesium in clin...|Until recently th...| 0.2358490566037736|   5|\n",
      "|Primary Debulking...|Primary debulking...|Sustainability of...|The question addr...|0.32608695652173914|   1|\n",
      "|Primary Debulking...|Primary debulking...|One-step sandwich...|Six monoclonal an...|               0.28|   2|\n",
      "|Primary Debulking...|Primary debulking...|Hypothalamic grow...|Experiments were ...| 0.2619047619047619|   3|\n",
      "|Primary Debulking...|Primary debulking...|The fully human a...|5F11, a fully hum...|         0.24609375|   4|\n",
      "|Primary Debulking...|Primary debulking...|Quantitation of r...|We have developed...|  0.242914979757085|   5|\n",
      "|A Mechanized Bisi...|We introduce a Su...|On random walk si...|In this paper, we...| 0.2235294117647059|   1|\n",
      "|A Mechanized Bisi...|We introduce a Su...|One-step sandwich...|Six monoclonal an...|                0.2|   2|\n",
      "|A Mechanized Bisi...|We introduce a Su...|Invisible emotion...|Emotions are an o...|0.18181818181818182|   3|\n",
      "|A Mechanized Bisi...|We introduce a Su...|Sustainability of...|The question addr...|0.16030534351145037|   4|\n",
      "|A Mechanized Bisi...|We introduce a Su...|Initial and delay...|Gravitational str...|0.15966386554621848|   5|\n",
      "+--------------------+--------------------+--------------------+--------------------+-------------------+----+\n",
      "only showing top 20 rows\n",
      "\n"
     ]
    }
   ],
   "source": [
    "window = Window.partitionBy(df_jaccard['title_df1']).orderBy(df_jaccard['jaccard'].desc())\n",
    "df_jaccard_ranked = df_jaccard.select('*', rank().over(window).alias('rank')).filter(col('rank') <= 5)\n",
    "df_jaccard_ranked.show()"
   ]
  },
  {
   "cell_type": "code",
   "execution_count": null,
   "metadata": {
    "collapsed": true
   },
   "outputs": [],
   "source": [
    "def comparing_jaccard(line):\n",
    "    '''\n",
    "    This function takes a df and returns a dictionary with keys as each paper title and values a list of top\n",
    "    five most similar papers\n",
    "    \n",
    "    Returns {paper_1:[paper_2, paper4, paper10, paper11, paper15], paper2:[paper_1, paper7, ...]}\n",
    "    '''\n",
    "    \n",
    "    title_from_df1 = line.title_df1\n",
    "    title_from_df2 = line.title_df2\n",
    "    \n",
    "    d = {} # init dictionary\n",
    "    num_rows = df.count() # number of rows in the table after clearing empty abstracts \n",
    "    curr_citation_list = []\n",
    "    title = df.select(df.title_df1).collect()\n",
    "    \n",
    "for i in range(num_rows):\n",
    "    curr_citation = citation[i][\"citations\"]\n",
    "    citation_list.append(int(curr_citation))\n",
    "    \n",
    "    \n",
    "    return d\n"
   ]
  },
  {
   "cell_type": "code",
   "execution_count": null,
   "metadata": {
    "collapsed": true
   },
   "outputs": [],
   "source": [
    "comparing_jaccard_udf = udf(lambda line:comparing_jaccard(line), StringType())"
   ]
  },
  {
   "cell_type": "code",
   "execution_count": 196,
   "metadata": {
    "collapsed": true
   },
   "outputs": [],
   "source": [
    "num_rows = df_jaccard_ranked.count() # number of rows in the table after clearing empty abstracts \n",
    "d = {}\n",
    "info = df_jaccard_ranked.select(df_jaccard_ranked.title_df1, df_jaccard_ranked.title_df2).collect()"
   ]
  },
  {
   "cell_type": "code",
   "execution_count": 200,
   "metadata": {
    "collapsed": true
   },
   "outputs": [],
   "source": [
    "for i in range(num_rows):\n",
    "    source_title = info[i][0]\n",
    "    target_title = info[i][1]\n",
    "    if source_title not in d:\n",
    "        d[source_title] = [target_title]\n",
    "    else:\n",
    "        d[source_title].append(target_title)"
   ]
  },
  {
   "cell_type": "code",
   "execution_count": 203,
   "metadata": {},
   "outputs": [
    {
     "name": "stdout",
     "output_type": "stream",
     "text": [
      "18\n"
     ]
    }
   ],
   "source": [
    "print(len(d))"
   ]
  },
  {
   "cell_type": "code",
   "execution_count": 205,
   "metadata": {},
   "outputs": [
    {
     "name": "stdout",
     "output_type": "stream",
     "text": [
      "['On random walk simulation of one-dimensional di usion processes with discontinuous coe cients', 'High salt tolerance potential in Lycopersicon species during germination', 'Hypothalamic growth hormone-releasing hormone mRNA varies across the day in rats.', 'The screening of everyday life chemicals in validated assays targeting the pituitary-gonadal axis.', 'Sustainability of gains made in a primary school HIV prevention programme in Kenya into the secondary school years.']\n",
      "['On random walk simulation of one-dimensional di usion processes with discontinuous coe cients', 'Invisible emotion: information and interaction in an emergency room', 'Sustainability of gains made in a primary school HIV prevention programme in Kenya into the secondary school years.', 'A Mechanized Bisimulation for the Nu-Calculus', 'Magnesium in clinical medicine.']\n",
      "['Sustainability of gains made in a primary school HIV prevention programme in Kenya into the secondary school years.', 'One-step sandwich enzyme immunoassay for soluble human thrombomodulin using monoclonal antibodies.', 'Hypothalamic growth hormone-releasing hormone mRNA varies across the day in rats.', 'The fully human anti-CD30 antibody 5F11 activates NF-{kappa}B and sensitizes lymphoma cells to bortezomib-induced apoptosis.', 'Quantitation of radiation-, chemical-, or enzyme-induced single strand breaks in nonradioactive DNA by alkaline gel electrophoresis: application to pyrimidine dimers.']\n",
      "['On random walk simulation of one-dimensional di usion processes with discontinuous coe cients', 'One-step sandwich enzyme immunoassay for soluble human thrombomodulin using monoclonal antibodies.', 'Invisible emotion: information and interaction in an emergency room', 'Sustainability of gains made in a primary school HIV prevention programme in Kenya into the secondary school years.', 'Initial and delayed circulatory responses to orthostatic stress in normal humans and in subjects with orthostatic intolerance.']\n",
      "['Sustainability of gains made in a primary school HIV prevention programme in Kenya into the secondary school years.', 'One-step sandwich enzyme immunoassay for soluble human thrombomodulin using monoclonal antibodies.', 'Initial and delayed circulatory responses to orthostatic stress in normal humans and in subjects with orthostatic intolerance.', 'Hemozoin formation in Echinostoma trivolvis rediae.', 'On random walk simulation of one-dimensional di usion processes with discontinuous coe cients']\n",
      "['Road-Sign Text Recognition Architecture for Intelligent Transportation Systems', 'Initial and delayed circulatory responses to orthostatic stress in normal humans and in subjects with orthostatic intolerance.', 'On random walk simulation of one-dimensional di usion processes with discontinuous coe cients', 'Sustainability of gains made in a primary school HIV prevention programme in Kenya into the secondary school years.', 'Magnesium in clinical medicine.']\n",
      "['Invisible emotion: information and interaction in an emergency room', 'On random walk simulation of one-dimensional di usion processes with discontinuous coe cients', 'Sustainability of gains made in a primary school HIV prevention programme in Kenya into the secondary school years.', 'One-step sandwich enzyme immunoassay for soluble human thrombomodulin using monoclonal antibodies.', 'Hemozoin formation in Echinostoma trivolvis rediae.']\n",
      "['A Mechanized Bisimulation for the Nu-Calculus', 'One-step sandwich enzyme immunoassay for soluble human thrombomodulin using monoclonal antibodies.', 'Road-Sign Text Recognition Architecture for Intelligent Transportation Systems', 'Sustainability of gains made in a primary school HIV prevention programme in Kenya into the secondary school years.', 'Initial and delayed circulatory responses to orthostatic stress in normal humans and in subjects with orthostatic intolerance.']\n",
      "['One-step sandwich enzyme immunoassay for soluble human thrombomodulin using monoclonal antibodies.', 'Primary Debulking Surgery Versus Neoadjuvant Chemotherapy in Stage IV Ovarian Cancer', 'Invisible emotion: information and interaction in an emergency room', 'Hypothalamic growth hormone-releasing hormone mRNA varies across the day in rats.', 'On random walk simulation of one-dimensional di usion processes with discontinuous coe cients']\n",
      "['Sustainability of gains made in a primary school HIV prevention programme in Kenya into the secondary school years.', 'Hypothalamic growth hormone-releasing hormone mRNA varies across the day in rats.', 'One-step sandwich enzyme immunoassay for soluble human thrombomodulin using monoclonal antibodies.', 'High salt tolerance potential in Lycopersicon species during germination', 'Primary Debulking Surgery Versus Neoadjuvant Chemotherapy in Stage IV Ovarian Cancer']\n",
      "['One-step sandwich enzyme immunoassay for soluble human thrombomodulin using monoclonal antibodies.', 'Hypothalamic growth hormone-releasing hormone mRNA varies across the day in rats.', 'Magnesium in clinical medicine.', 'A Mechanized Bisimulation for the Nu-Calculus', 'High salt tolerance potential in Lycopersicon species during germination']\n",
      "['One-step sandwich enzyme immunoassay for soluble human thrombomodulin using monoclonal antibodies.', 'Hypothalamic growth hormone-releasing hormone mRNA varies across the day in rats.', 'A Mechanized Bisimulation for the Nu-Calculus', 'The screening of everyday life chemicals in validated assays targeting the pituitary-gonadal axis.', 'Initial and delayed circulatory responses to orthostatic stress in normal humans and in subjects with orthostatic intolerance.']\n",
      "['One-step sandwich enzyme immunoassay for soluble human thrombomodulin using monoclonal antibodies.', 'Sustainability of gains made in a primary school HIV prevention programme in Kenya into the secondary school years.', 'Hypothalamic growth hormone-releasing hormone mRNA varies across the day in rats.', 'High salt tolerance potential in Lycopersicon species during germination', 'Road-Sign Text Recognition Architecture for Intelligent Transportation Systems']\n",
      "['On random walk simulation of one-dimensional di usion processes with discontinuous coe cients', 'Initial and delayed circulatory responses to orthostatic stress in normal humans and in subjects with orthostatic intolerance.', 'Myocardial matrix-polyethylene glycol hybrid hydrogels for tissue engineering.', 'Hypothalamic growth hormone-releasing hormone mRNA varies across the day in rats.', 'Invisible emotion: information and interaction in an emergency room']\n",
      "['Invisible emotion: information and interaction in an emergency room', 'Quantitation of radiation-, chemical-, or enzyme-induced single strand breaks in nonradioactive DNA by alkaline gel electrophoresis: application to pyrimidine dimers.', 'Initial and delayed circulatory responses to orthostatic stress in normal humans and in subjects with orthostatic intolerance.', 'Road-Sign Text Recognition Architecture for Intelligent Transportation Systems', 'The fully human anti-CD30 antibody 5F11 activates NF-{kappa}B and sensitizes lymphoma cells to bortezomib-induced apoptosis.']\n",
      "['High salt tolerance potential in Lycopersicon species during germination', 'One-step sandwich enzyme immunoassay for soluble human thrombomodulin using monoclonal antibodies.', 'A Mechanized Bisimulation for the Nu-Calculus', 'Sustainability of gains made in a primary school HIV prevention programme in Kenya into the secondary school years.', 'Initial and delayed circulatory responses to orthostatic stress in normal humans and in subjects with orthostatic intolerance.']\n",
      "['One-step sandwich enzyme immunoassay for soluble human thrombomodulin using monoclonal antibodies.', 'On random walk simulation of one-dimensional di usion processes with discontinuous coe cients', 'Myocardial matrix-polyethylene glycol hybrid hydrogels for tissue engineering.', 'The screening of everyday life chemicals in validated assays targeting the pituitary-gonadal axis.', 'Initial and delayed circulatory responses to orthostatic stress in normal humans and in subjects with orthostatic intolerance.']\n",
      "['On random walk simulation of one-dimensional di usion processes with discontinuous coe cients', 'One-step sandwich enzyme immunoassay for soluble human thrombomodulin using monoclonal antibodies.', 'A Mechanized Bisimulation for the Nu-Calculus', 'Myocardial matrix-polyethylene glycol hybrid hydrogels for tissue engineering.', 'Hypothalamic growth hormone-releasing hormone mRNA varies across the day in rats.']\n"
     ]
    }
   ],
   "source": [
    "for key in list(d.keys()):\n",
    "    print(d[key])"
   ]
  },
  {
   "cell_type": "code",
   "execution_count": 207,
   "metadata": {
    "collapsed": true
   },
   "outputs": [],
   "source": [
    "test_key = 'On random walk simulation of one-dimensional di usion processes with discontinuous coe cients'"
   ]
  },
  {
   "cell_type": "code",
   "execution_count": 217,
   "metadata": {},
   "outputs": [
    {
     "name": "stdout",
     "output_type": "stream",
     "text": [
      "98\n",
      "78\n",
      "84\n",
      "45\n",
      "78\n",
      "67\n",
      "126\n",
      "93\n",
      "115\n",
      "97\n",
      "137\n",
      "72\n",
      "98\n",
      "51\n",
      "31\n",
      "81\n",
      "124\n",
      "166\n"
     ]
    }
   ],
   "source": [
    "for result in d:\n",
    "    print(len(result))"
   ]
  },
  {
   "cell_type": "code",
   "execution_count": 213,
   "metadata": {},
   "outputs": [
    {
     "name": "stdout",
     "output_type": "stream",
     "text": [
      "Welcome to Velma\n",
      "\n",
      "Abstract 1\n",
      "A Mechanized Bisimulation for the Nu-Calculus\n",
      "\n",
      "Abstract 2\n",
      "One-step sandwich enzyme immunoassay for soluble human thrombomodulin using monoclonal antibodies.\n",
      "\n",
      "Abstract 3\n",
      "Road-Sign Text Recognition Architecture for Intelligent Transportation Systems\n",
      "\n",
      "Abstract 4\n",
      "Sustainability of gains made in a primary school HIV prevention programme in Kenya into the secondary school years.\n",
      "\n",
      "Abstract 5\n",
      "Initial and delayed circulatory responses to orthostatic stress in normal humans and in subjects with orthostatic intolerance.\n",
      "\n"
     ]
    }
   ],
   "source": [
    "print(\"Welcome to Velma\")\n",
    "print()\n",
    "for i in range(len(d[test_key])):\n",
    "    print(\"Abstract {0}\".format(i+1))\n",
    "    print(d[test_key][i])\n",
    "    print()"
   ]
  },
  {
   "cell_type": "code",
   "execution_count": 226,
   "metadata": {
    "collapsed": true
   },
   "outputs": [],
   "source": [
    "import redis"
   ]
  },
  {
   "cell_type": "code",
   "execution_count": 227,
   "metadata": {
    "collapsed": true
   },
   "outputs": [],
   "source": [
    "rdb = redis.Redis(host = \"10.0.0.5\", port = 6379)"
   ]
  },
  {
   "cell_type": "code",
   "execution_count": 228,
   "metadata": {},
   "outputs": [
    {
     "ename": "KeyboardInterrupt",
     "evalue": "",
     "output_type": "error",
     "traceback": [
      "\u001b[0;31m---------------------------------------------------------------------------\u001b[0m",
      "\u001b[0;31mKeyboardInterrupt\u001b[0m                         Traceback (most recent call last)",
      "\u001b[0;32m<ipython-input-228-ac2b1640b281>\u001b[0m in \u001b[0;36m<module>\u001b[0;34m()\u001b[0m\n\u001b[0;32m----> 1\u001b[0;31m \u001b[0mtest\u001b[0m \u001b[0;34m=\u001b[0m \u001b[0mrdb\u001b[0m\u001b[0;34m.\u001b[0m\u001b[0mlrange\u001b[0m\u001b[0;34m(\u001b[0m\u001b[0;34m\"0bf6e21f6eaa4fec02f3c4573b0466b71c68814c\"\u001b[0m\u001b[0;34m,\u001b[0m \u001b[0;36m0\u001b[0m\u001b[0;34m,\u001b[0m \u001b[0;36m0\u001b[0m\u001b[0;34m)\u001b[0m\u001b[0;34m[\u001b[0m\u001b[0;36m0\u001b[0m\u001b[0;34m]\u001b[0m\u001b[0;34m\u001b[0m\u001b[0;34m\u001b[0m\u001b[0m\n\u001b[0m",
      "\u001b[0;32m/anaconda3/lib/python3.6/site-packages/redis/client.py\u001b[0m in \u001b[0;36mlrange\u001b[0;34m(self, name, start, end)\u001b[0m\n\u001b[1;32m   1623\u001b[0m         \u001b[0mPython\u001b[0m \u001b[0mslicing\u001b[0m \u001b[0mnotation\u001b[0m\u001b[0;34m\u001b[0m\u001b[0;34m\u001b[0m\u001b[0m\n\u001b[1;32m   1624\u001b[0m         \"\"\"\n\u001b[0;32m-> 1625\u001b[0;31m         \u001b[0;32mreturn\u001b[0m \u001b[0mself\u001b[0m\u001b[0;34m.\u001b[0m\u001b[0mexecute_command\u001b[0m\u001b[0;34m(\u001b[0m\u001b[0;34m'LRANGE'\u001b[0m\u001b[0;34m,\u001b[0m \u001b[0mname\u001b[0m\u001b[0;34m,\u001b[0m \u001b[0mstart\u001b[0m\u001b[0;34m,\u001b[0m \u001b[0mend\u001b[0m\u001b[0;34m)\u001b[0m\u001b[0;34m\u001b[0m\u001b[0;34m\u001b[0m\u001b[0m\n\u001b[0m\u001b[1;32m   1626\u001b[0m \u001b[0;34m\u001b[0m\u001b[0m\n\u001b[1;32m   1627\u001b[0m     \u001b[0;32mdef\u001b[0m \u001b[0mlrem\u001b[0m\u001b[0;34m(\u001b[0m\u001b[0mself\u001b[0m\u001b[0;34m,\u001b[0m \u001b[0mname\u001b[0m\u001b[0;34m,\u001b[0m \u001b[0mcount\u001b[0m\u001b[0;34m,\u001b[0m \u001b[0mvalue\u001b[0m\u001b[0;34m)\u001b[0m\u001b[0;34m:\u001b[0m\u001b[0;34m\u001b[0m\u001b[0;34m\u001b[0m\u001b[0m\n",
      "\u001b[0;32m/anaconda3/lib/python3.6/site-packages/redis/client.py\u001b[0m in \u001b[0;36mexecute_command\u001b[0;34m(self, *args, **options)\u001b[0m\n\u001b[1;32m    770\u001b[0m         \u001b[0mpool\u001b[0m \u001b[0;34m=\u001b[0m \u001b[0mself\u001b[0m\u001b[0;34m.\u001b[0m\u001b[0mconnection_pool\u001b[0m\u001b[0;34m\u001b[0m\u001b[0;34m\u001b[0m\u001b[0m\n\u001b[1;32m    771\u001b[0m         \u001b[0mcommand_name\u001b[0m \u001b[0;34m=\u001b[0m \u001b[0margs\u001b[0m\u001b[0;34m[\u001b[0m\u001b[0;36m0\u001b[0m\u001b[0;34m]\u001b[0m\u001b[0;34m\u001b[0m\u001b[0;34m\u001b[0m\u001b[0m\n\u001b[0;32m--> 772\u001b[0;31m         \u001b[0mconnection\u001b[0m \u001b[0;34m=\u001b[0m \u001b[0mpool\u001b[0m\u001b[0;34m.\u001b[0m\u001b[0mget_connection\u001b[0m\u001b[0;34m(\u001b[0m\u001b[0mcommand_name\u001b[0m\u001b[0;34m,\u001b[0m \u001b[0;34m**\u001b[0m\u001b[0moptions\u001b[0m\u001b[0;34m)\u001b[0m\u001b[0;34m\u001b[0m\u001b[0;34m\u001b[0m\u001b[0m\n\u001b[0m\u001b[1;32m    773\u001b[0m         \u001b[0;32mtry\u001b[0m\u001b[0;34m:\u001b[0m\u001b[0;34m\u001b[0m\u001b[0;34m\u001b[0m\u001b[0m\n\u001b[1;32m    774\u001b[0m             \u001b[0mconnection\u001b[0m\u001b[0;34m.\u001b[0m\u001b[0msend_command\u001b[0m\u001b[0;34m(\u001b[0m\u001b[0;34m*\u001b[0m\u001b[0margs\u001b[0m\u001b[0;34m)\u001b[0m\u001b[0;34m\u001b[0m\u001b[0;34m\u001b[0m\u001b[0m\n",
      "\u001b[0;32m/anaconda3/lib/python3.6/site-packages/redis/connection.py\u001b[0m in \u001b[0;36mget_connection\u001b[0;34m(self, command_name, *keys, **options)\u001b[0m\n\u001b[1;32m    992\u001b[0m         \u001b[0;32mtry\u001b[0m\u001b[0;34m:\u001b[0m\u001b[0;34m\u001b[0m\u001b[0;34m\u001b[0m\u001b[0m\n\u001b[1;32m    993\u001b[0m             \u001b[0;31m# ensure this connection is connected to Redis\u001b[0m\u001b[0;34m\u001b[0m\u001b[0;34m\u001b[0m\u001b[0;34m\u001b[0m\u001b[0m\n\u001b[0;32m--> 994\u001b[0;31m             \u001b[0mconnection\u001b[0m\u001b[0;34m.\u001b[0m\u001b[0mconnect\u001b[0m\u001b[0;34m(\u001b[0m\u001b[0;34m)\u001b[0m\u001b[0;34m\u001b[0m\u001b[0;34m\u001b[0m\u001b[0m\n\u001b[0m\u001b[1;32m    995\u001b[0m             \u001b[0;31m# connections that the pool provides should be ready to send\u001b[0m\u001b[0;34m\u001b[0m\u001b[0;34m\u001b[0m\u001b[0;34m\u001b[0m\u001b[0m\n\u001b[1;32m    996\u001b[0m             \u001b[0;31m# a command. if not, the connection was either returned to the\u001b[0m\u001b[0;34m\u001b[0m\u001b[0;34m\u001b[0m\u001b[0;34m\u001b[0m\u001b[0m\n",
      "\u001b[0;32m/anaconda3/lib/python3.6/site-packages/redis/connection.py\u001b[0m in \u001b[0;36mconnect\u001b[0;34m(self)\u001b[0m\n\u001b[1;32m    490\u001b[0m             \u001b[0;32mreturn\u001b[0m\u001b[0;34m\u001b[0m\u001b[0;34m\u001b[0m\u001b[0m\n\u001b[1;32m    491\u001b[0m         \u001b[0;32mtry\u001b[0m\u001b[0;34m:\u001b[0m\u001b[0;34m\u001b[0m\u001b[0;34m\u001b[0m\u001b[0m\n\u001b[0;32m--> 492\u001b[0;31m             \u001b[0msock\u001b[0m \u001b[0;34m=\u001b[0m \u001b[0mself\u001b[0m\u001b[0;34m.\u001b[0m\u001b[0m_connect\u001b[0m\u001b[0;34m(\u001b[0m\u001b[0;34m)\u001b[0m\u001b[0;34m\u001b[0m\u001b[0;34m\u001b[0m\u001b[0m\n\u001b[0m\u001b[1;32m    493\u001b[0m         \u001b[0;32mexcept\u001b[0m \u001b[0msocket\u001b[0m\u001b[0;34m.\u001b[0m\u001b[0mtimeout\u001b[0m\u001b[0;34m:\u001b[0m\u001b[0;34m\u001b[0m\u001b[0;34m\u001b[0m\u001b[0m\n\u001b[1;32m    494\u001b[0m             \u001b[0;32mraise\u001b[0m \u001b[0mTimeoutError\u001b[0m\u001b[0;34m(\u001b[0m\u001b[0;34m\"Timeout connecting to server\"\u001b[0m\u001b[0;34m)\u001b[0m\u001b[0;34m\u001b[0m\u001b[0;34m\u001b[0m\u001b[0m\n",
      "\u001b[0;32m/anaconda3/lib/python3.6/site-packages/redis/connection.py\u001b[0m in \u001b[0;36m_connect\u001b[0;34m(self)\u001b[0m\n\u001b[1;32m    536\u001b[0m \u001b[0;34m\u001b[0m\u001b[0m\n\u001b[1;32m    537\u001b[0m                 \u001b[0;31m# connect\u001b[0m\u001b[0;34m\u001b[0m\u001b[0;34m\u001b[0m\u001b[0;34m\u001b[0m\u001b[0m\n\u001b[0;32m--> 538\u001b[0;31m                 \u001b[0msock\u001b[0m\u001b[0;34m.\u001b[0m\u001b[0mconnect\u001b[0m\u001b[0;34m(\u001b[0m\u001b[0msocket_address\u001b[0m\u001b[0;34m)\u001b[0m\u001b[0;34m\u001b[0m\u001b[0;34m\u001b[0m\u001b[0m\n\u001b[0m\u001b[1;32m    539\u001b[0m \u001b[0;34m\u001b[0m\u001b[0m\n\u001b[1;32m    540\u001b[0m                 \u001b[0;31m# set the socket_timeout now that we're connected\u001b[0m\u001b[0;34m\u001b[0m\u001b[0;34m\u001b[0m\u001b[0;34m\u001b[0m\u001b[0m\n",
      "\u001b[0;31mKeyboardInterrupt\u001b[0m: "
     ]
    }
   ],
   "source": [
    "test = rdb.lrange(\"0bf6e21f6eaa4fec02f3c4573b0466b71c68814c\", 0, 0)[0]"
   ]
  },
  {
   "cell_type": "code",
   "execution_count": null,
   "metadata": {
    "collapsed": true
   },
   "outputs": [],
   "source": []
  },
  {
   "cell_type": "code",
   "execution_count": null,
   "metadata": {
    "collapsed": true
   },
   "outputs": [],
   "source": []
  },
  {
   "cell_type": "code",
   "execution_count": null,
   "metadata": {
    "collapsed": true
   },
   "outputs": [],
   "source": [
    "df = df.withColumn(\"jaccards\", calculate_jaccard_udf(struct([df[x] for x in df.columns])))"
   ]
  },
  {
   "cell_type": "code",
   "execution_count": 126,
   "metadata": {
    "collapsed": true
   },
   "outputs": [],
   "source": [
    "import nltk\n",
    "from nltk.stem import PorterStemmer\n",
    "\n",
    "def tokenizer(abstract):\n",
    "    '''\n",
    "    This function takes a string and makes it a list of words \n",
    "    '''\n",
    "    token_abstract = abstract.split()\n",
    "    return token_abstract\n",
    "\n",
    "def stemming(list_abstract):\n",
    "    '''\n",
    "    This function takes a tokenized string of words and stems them \n",
    "    using the PorterStemmer from the nltk package \n",
    "    '''\n",
    "    stem_sentence=[]\n",
    "    for word in list_abstract:\n",
    "        stem_sentence.append(PorterStemmer().stem(word))\n",
    "    return stem_sentence\n",
    "\n",
    "def jaccard_index(abstract_1, abstract_2):\n",
    "    '''\n",
    "    Calculates the jaccard index of two abstracts \n",
    "    '''\n",
    "\n",
    "    jiccard_index = None #initialize jiccard index \n",
    "     \n",
    "    # splits the abstracts into a list of words  \n",
    "    token_abst_1 = tokenizer(abstract_1) # this is a list of tokens from abstract 1\n",
    "    token_abst_2 = tokenizer(abstract_2) # this is a list of tokens from abstract 2\n",
    "    #print(token_abst_1)\n",
    "    #print(token_abst_2)\n",
    "    \n",
    "    # stem the words \n",
    "    stemmed_abst_1 = stemming(token_abst_1) # this is list of stemmed tokens from abstract 1 \n",
    "    stemmed_abst_2 =  stemming(token_abst_2) # this is a list of stemmed tokens from abstract 2 \n",
    "    #print(stemmed_abst_1)\n",
    "    #print(stemmed_abst_2)\n",
    "\n",
    "    # count number of words in each list \n",
    "    words_in_abst_1 = len(token_abst_1)# number of words in abstract 1\n",
    "    words_in_abst_2 = len(token_abst_2) # number of words in abstract 2 \n",
    "    #print(words_in_abst_1)\n",
    "    #print(words_in_abst_2)\n",
    "\n",
    "    # combines the two lists and takes the set to get total number of unique words \n",
    "    combined_set = set(stemmed_abst_1 + stemmed_abst_2)\n",
    "    #print(combined_set)\n",
    "    \n",
    "    # Find the length of the set \n",
    "    words_in_combined_set = len(combined_set) # number of words in combined set\n",
    "    #print(words_in_combined_set)\n",
    "    \n",
    "    same_words = 0 # initialize the number of same words \n",
    "    for word in stemmed_abst_1: \n",
    "        if word in stemmed_abst_2:\n",
    "            same_words +=1 \n",
    "\n",
    "    #print(same_words)\n",
    "    #print(words_in_combined_set)\n",
    "    jaccard_index = same_words / words_in_combined_set\n",
    "    \n",
    "    return jaccard_index "
   ]
  },
  {
   "cell_type": "code",
   "execution_count": 22,
   "metadata": {
    "collapsed": true
   },
   "outputs": [],
   "source": [
    "get_curr_id_udf = udf(lambda line: get_curr_id(line), StringType())\n",
    "get_curr_abstract_udf = udf(lambda line: get_curr_abstract(line), StringType())"
   ]
  },
  {
   "cell_type": "code",
   "execution_count": 55,
   "metadata": {
    "collapsed": true
   },
   "outputs": [],
   "source": [
    "preprocessed_bucket_name = \"preprocessed-open-research-corpus\"\n",
    "\n",
    "def read_parquet_from_bucket(bucket_name):\n",
    "    '''\n",
    "    Read a parquet from a AWS bucket\n",
    "    '''\n",
    "    return spark.read.parquet(\"s3a://{0}/*.parquet\".format(bucket_name))"
   ]
  },
  {
   "cell_type": "code",
   "execution_count": 195,
   "metadata": {
    "collapsed": true
   },
   "outputs": [],
   "source": [
    "def get_df(row):\n",
    "    '''\n",
    "    get dataframe from S3 \n",
    "    '''\n",
    "    target_id_tag = row.id \n",
    "    target_abstract = row.abstracts\n",
    "    #jaccard = str(jaccard_index(curr_abstract, target_abstract))\n",
    "    #return jaccard\n",
    "    print(type(target_id_tag))\n",
    "    return target_id_tag"
   ]
  },
  {
   "cell_type": "code",
   "execution_count": 196,
   "metadata": {
    "collapsed": true
   },
   "outputs": [],
   "source": [
    "def calculate_jaccard(source_row):\n",
    "    '''\n",
    "    '''\n",
    "    curr_id_tag = source_row.id\n",
    "    curr_abstract = source_row.abstracts\n",
    "    #abstract = test.abstracts\n",
    "    #get_df_udf = udf(lambda target_row: get_df(curr_abstract, target_row), StringType()) # get dataframe from S3 \n",
    "    #df = df.withColumn(\"Jaccards\", get_df_udf(struct([df[x] for x in df.columns])))\n",
    "    jaccards = \"3316b8b97c, 453ae, 7e1dc0e8, 213a8, 8a30d\"\n",
    "    return jaccards"
   ]
  },
  {
   "cell_type": "code",
   "execution_count": 197,
   "metadata": {
    "collapsed": true
   },
   "outputs": [],
   "source": [
    "calculate_jaccard_udf = udf(lambda row: calculate_jaccard(row), StringType())"
   ]
  },
  {
   "cell_type": "code",
   "execution_count": 198,
   "metadata": {},
   "outputs": [
    {
     "name": "stdout",
     "output_type": "stream",
     "text": [
      "+--------------------+--------------------+--------------------+---------+--------------------+--------------------+\n",
      "|                  id|               title|           abstracts|citations|                tags|            jaccards|\n",
      "+--------------------+--------------------+--------------------+---------+--------------------+--------------------+\n",
      "|4cbba8127c8747a3b...|Primary Debulking...|Primary debulking...|       27|\"Epithelial ovari...|3316b8b97c, 453ae...|\n",
      "|3316b8b97c1e17ac9...|Hypothalamic grow...|Experiments were ...|       20|\"ACTB gene\",\"Acti...|3316b8b97c, 453ae...|\n",
      "|69662bd2a2f5ff9cf...|High salt toleran...|The potential to ...|       26|\"Accession Number...|3316b8b97c, 453ae...|\n",
      "|3f1b5aa320422a4df...|Invisible emotion...|Emotions are an o...|       15|        \"Workaround\"|3316b8b97c, 453ae...|\n",
      "|453ae606c4c5f2dd2...|Beam control and ...|We demonstrate tu...|        1|\"Embedding\",\"Nume...|3316b8b97c, 453ae...|\n",
      "|cb61fc1ebdeb58354...|Effect of allopur...|A scald burn inju...|        1|\"Allopurinol\",\"Bo...|3316b8b97c, 453ae...|\n",
      "|50ef31b58a30dfefb...|Effects of radiat...|Megakaryocytes ar...|        0|\"Acetylcysteine\",...|3316b8b97c, 453ae...|\n",
      "|10b5e8d1ab6f8002c...|Ju n 20 06 A new ...|Time-dependent de...|        0|\"ALDOA gene\",\"Fun...|3316b8b97c, 453ae...|\n",
      "|ccc67f73db54afc3f...|On random walk si...|In this paper, we...|       17|\"Brownian motion\"...|3316b8b97c, 453ae...|\n",
      "|7e1dc0e805fbb1311...|[Ultrasound-guide...|OBJECTIVE To pres...|        0|                    |3316b8b97c, 453ae...|\n",
      "|177e662ac662c21b0...|[Unilateral heari...|BACKGROUND Unilat...|        4|\"Alexia, Pure\",\"B...|3316b8b97c, 453ae...|\n",
      "|ac1ccf2f8d373a496...|Magnesium in clin...|Until recently th...|       64|\"Critical Illness...|3316b8b97c, 453ae...|\n",
      "|06f3d20b2c9191b4f...|Gap junctions in ...|The analysis of c...|       25|\"Acids\",\"Analog\",...|3316b8b97c, 453ae...|\n",
      "|b048c1886c86e65fd...|Toxicokinetics of...|The toxicokinetic...|        9|                    |3316b8b97c, 453ae...|\n",
      "|a19381d3b56fbe1b7...|Causal Modeling o...|Inter-cellular co...|        7|\"Causal filter\",\"...|3316b8b97c, 453ae...|\n",
      "|213a87540ca26cc97...|Myocardial matrix...|Similar to other ...|       20|\"Acrylates\",\"Amin...|3316b8b97c, 453ae...|\n",
      "|dabb12f12f5ea2667...|Descriptions and ...|Updated descripti...|        2|\"Amblyraja radiat...|3316b8b97c, 453ae...|\n",
      "|9ecd00055f711268a...|Noninvasive local...|Multimodality evo...|        8|\"Acoustic Evoked ...|3316b8b97c, 453ae...|\n",
      "|2a16e045f92b79c50...|CMOS thermal sens...|A low-cost therma...|        6|\"CMOS\",\"Delta-sig...|3316b8b97c, 453ae...|\n",
      "|de0d959928f27cc5f...|Masterarbeit / Ma...|....................|        0|                    |3316b8b97c, 453ae...|\n",
      "+--------------------+--------------------+--------------------+---------+--------------------+--------------------+\n",
      "only showing top 20 rows\n",
      "\n"
     ]
    }
   ],
   "source": [
    "df = df.withColumn(\"jaccards\", calculate_jaccard_udf(struct([df[x] for x in df.columns])))\n",
    "df.show()"
   ]
  },
  {
   "cell_type": "code",
   "execution_count": 207,
   "metadata": {},
   "outputs": [
    {
     "data": {
      "text/plain": [
       "1"
      ]
     },
     "execution_count": 207,
     "metadata": {},
     "output_type": "execute_result"
    }
   ],
   "source": [
    "df.rdd.getNumPartitions() "
   ]
  },
  {
   "cell_type": "code",
   "execution_count": null,
   "metadata": {
    "collapsed": true
   },
   "outputs": [],
   "source": [
    "for "
   ]
  },
  {
   "cell_type": "code",
   "execution_count": null,
   "metadata": {
    "collapsed": true
   },
   "outputs": [],
   "source": [
    "w = Window.partitionBy(\"id\").orderBy(\"abstracts\")\n"
   ]
  },
  {
   "cell_type": "code",
   "execution_count": 39,
   "metadata": {},
   "outputs": [
    {
     "name": "stdout",
     "output_type": "stream",
     "text": [
      "Total time taken 0.0863809585571289\n"
     ]
    }
   ],
   "source": [
    "import time\n",
    "start = time.time()\n",
    "df.rdd.map(lambda r: r.abstracts).collect()\n",
    "end = time.time()\n",
    "total_time = end - start \n",
    "print(\"Total time taken\", total_time)"
   ]
  },
  {
   "cell_type": "code",
   "execution_count": 38,
   "metadata": {},
   "outputs": [
    {
     "name": "stdout",
     "output_type": "stream",
     "text": [
      "Total time taken 0.2263031005859375\n"
     ]
    }
   ],
   "source": [
    "start = time.time()\n",
    "df.select('abstracts').collect()\n",
    "end = time.time()\n",
    "total_time = end - start \n",
    "print(\"Total time taken\", total_time)"
   ]
  },
  {
   "cell_type": "code",
   "execution_count": 25,
   "metadata": {},
   "outputs": [
    {
     "data": {
      "text/plain": [
       "Column<b'<lambda>(id)'>"
      ]
     },
     "execution_count": 25,
     "metadata": {},
     "output_type": "execute_result"
    }
   ],
   "source": [
    "for id_tag, abstract in zip(df.id, df.abstract):\n",
    "    "
   ]
  },
  {
   "cell_type": "code",
   "execution_count": null,
   "metadata": {
    "collapsed": true
   },
   "outputs": [],
   "source": [
    "def compute_jaccard(abstract1, abstract2):\n",
    "    '''\n",
    "    Given a line of the dataframe, compute the jaccard index \n",
    "    '''\n",
    "    \n",
    "    return \n",
    "\n",
    "compute_jaccard_udf = udf(lambda line: compute_jaccard(line), StringType())"
   ]
  },
  {
   "cell_type": "code",
   "execution_count": 221,
   "metadata": {},
   "outputs": [
    {
     "data": {
      "text/plain": [
       "[3, 6, 2, 3, 1, 3, 3, 3, 4, 5]"
      ]
     },
     "execution_count": 221,
     "metadata": {},
     "output_type": "execute_result"
    }
   ],
   "source": [
    "import numpy as np\n",
    "x = sc.parallelize(np.random.randint(1, 6, 10))\n",
    "z = sc.parallelize(np.random.randint(1, 8, 10))\n",
    "x.collect()\n",
    "z.collect()"
   ]
  },
  {
   "cell_type": "code",
   "execution_count": 222,
   "metadata": {},
   "outputs": [
    {
     "data": {
      "text/plain": [
       "6"
      ]
     },
     "execution_count": 222,
     "metadata": {},
     "output_type": "execute_result"
    }
   ],
   "source": [
    "z.reduce(lambda x, y: x if x > y else y)"
   ]
  },
  {
   "cell_type": "code",
   "execution_count": 225,
   "metadata": {},
   "outputs": [
    {
     "data": {
      "text/plain": [
       "[(2, 3),\n",
       " (2, 6),\n",
       " (3, 3),\n",
       " (3, 6),\n",
       " (2, 2),\n",
       " (2, 3),\n",
       " (3, 2),\n",
       " (3, 3),\n",
       " (2, 1),\n",
       " (2, 3),\n",
       " (3, 1),\n",
       " (3, 3),\n",
       " (2, 3),\n",
       " (2, 3),\n",
       " (3, 3),\n",
       " (3, 3),\n",
       " (2, 4),\n",
       " (2, 5),\n",
       " (3, 4),\n",
       " (3, 5),\n",
       " (3, 3),\n",
       " (3, 6),\n",
       " (3, 3),\n",
       " (3, 6),\n",
       " (3, 2),\n",
       " (3, 3),\n",
       " (3, 2),\n",
       " (3, 3),\n",
       " (3, 1),\n",
       " (3, 3),\n",
       " (3, 1),\n",
       " (3, 3),\n",
       " (3, 3),\n",
       " (3, 3),\n",
       " (3, 3),\n",
       " (3, 3),\n",
       " (3, 4),\n",
       " (3, 5),\n",
       " (3, 4),\n",
       " (3, 5),\n",
       " (2, 3),\n",
       " (2, 6),\n",
       " (2, 3),\n",
       " (2, 6),\n",
       " (2, 2),\n",
       " (2, 3),\n",
       " (2, 2),\n",
       " (2, 3),\n",
       " (2, 1),\n",
       " (2, 3),\n",
       " (2, 1),\n",
       " (2, 3),\n",
       " (2, 3),\n",
       " (2, 3),\n",
       " (2, 3),\n",
       " (2, 3),\n",
       " (2, 4),\n",
       " (2, 5),\n",
       " (2, 4),\n",
       " (2, 5),\n",
       " (4, 3),\n",
       " (4, 6),\n",
       " (3, 3),\n",
       " (3, 6),\n",
       " (1, 3),\n",
       " (1, 6),\n",
       " (4, 3),\n",
       " (4, 6),\n",
       " (4, 2),\n",
       " (4, 3),\n",
       " (3, 2),\n",
       " (3, 3),\n",
       " (1, 2),\n",
       " (1, 3),\n",
       " (4, 2),\n",
       " (4, 3),\n",
       " (4, 1),\n",
       " (4, 3),\n",
       " (3, 1),\n",
       " (3, 3),\n",
       " (1, 1),\n",
       " (1, 3),\n",
       " (4, 1),\n",
       " (4, 3),\n",
       " (4, 3),\n",
       " (4, 3),\n",
       " (3, 3),\n",
       " (3, 3),\n",
       " (4, 4),\n",
       " (4, 5),\n",
       " (3, 4),\n",
       " (3, 5),\n",
       " (1, 3),\n",
       " (1, 3),\n",
       " (4, 3),\n",
       " (4, 3),\n",
       " (1, 4),\n",
       " (1, 5),\n",
       " (4, 4),\n",
       " (4, 5)]"
      ]
     },
     "execution_count": 225,
     "metadata": {},
     "output_type": "execute_result"
    }
   ],
   "source": [
    "x.cartesian(z).collect()"
   ]
  },
  {
   "cell_type": "code",
   "execution_count": 229,
   "metadata": {},
   "outputs": [
    {
     "ename": "Py4JJavaError",
     "evalue": "An error occurred while calling z:org.apache.spark.api.python.PythonRDD.collectAndServe.\n: org.apache.spark.SparkException: Job aborted due to stage failure: Task 0 in stage 103.0 failed 1 times, most recent failure: Lost task 0.0 in stage 103.0 (TID 160, localhost, executor driver): org.apache.spark.api.python.PythonException: Traceback (most recent call last):\n  File \"/opt/spark/python/lib/pyspark.zip/pyspark/worker.py\", line 377, in main\n    process()\n  File \"/opt/spark/python/lib/pyspark.zip/pyspark/worker.py\", line 372, in process\n    serializer.dump_stream(func(split_index, iterator), outfile)\n  File \"/opt/spark/python/lib/pyspark.zip/pyspark/serializers.py\", line 393, in dump_stream\n    vs = list(itertools.islice(iterator, batch))\n  File \"/opt/spark/python/lib/pyspark.zip/pyspark/util.py\", line 99, in wrapper\n    return f(*args, **kwargs)\nTypeError: 'str' object is not callable\n\n\tat org.apache.spark.api.python.BasePythonRunner$ReaderIterator.handlePythonException(PythonRunner.scala:452)\n\tat org.apache.spark.api.python.PythonRunner$$anon$1.read(PythonRunner.scala:588)\n\tat org.apache.spark.api.python.PythonRunner$$anon$1.read(PythonRunner.scala:571)\n\tat org.apache.spark.api.python.BasePythonRunner$ReaderIterator.hasNext(PythonRunner.scala:406)\n\tat org.apache.spark.InterruptibleIterator.hasNext(InterruptibleIterator.scala:37)\n\tat scala.collection.Iterator$class.foreach(Iterator.scala:891)\n\tat org.apache.spark.InterruptibleIterator.foreach(InterruptibleIterator.scala:28)\n\tat scala.collection.generic.Growable$class.$plus$plus$eq(Growable.scala:59)\n\tat scala.collection.mutable.ArrayBuffer.$plus$plus$eq(ArrayBuffer.scala:104)\n\tat scala.collection.mutable.ArrayBuffer.$plus$plus$eq(ArrayBuffer.scala:48)\n\tat scala.collection.TraversableOnce$class.to(TraversableOnce.scala:310)\n\tat org.apache.spark.InterruptibleIterator.to(InterruptibleIterator.scala:28)\n\tat scala.collection.TraversableOnce$class.toBuffer(TraversableOnce.scala:302)\n\tat org.apache.spark.InterruptibleIterator.toBuffer(InterruptibleIterator.scala:28)\n\tat scala.collection.TraversableOnce$class.toArray(TraversableOnce.scala:289)\n\tat org.apache.spark.InterruptibleIterator.toArray(InterruptibleIterator.scala:28)\n\tat org.apache.spark.rdd.RDD$$anonfun$collect$1$$anonfun$13.apply(RDD.scala:945)\n\tat org.apache.spark.rdd.RDD$$anonfun$collect$1$$anonfun$13.apply(RDD.scala:945)\n\tat org.apache.spark.SparkContext$$anonfun$runJob$5.apply(SparkContext.scala:2101)\n\tat org.apache.spark.SparkContext$$anonfun$runJob$5.apply(SparkContext.scala:2101)\n\tat org.apache.spark.scheduler.ResultTask.runTask(ResultTask.scala:90)\n\tat org.apache.spark.scheduler.Task.run(Task.scala:121)\n\tat org.apache.spark.executor.Executor$TaskRunner$$anonfun$10.apply(Executor.scala:403)\n\tat org.apache.spark.util.Utils$.tryWithSafeFinally(Utils.scala:1360)\n\tat org.apache.spark.executor.Executor$TaskRunner.run(Executor.scala:409)\n\tat java.util.concurrent.ThreadPoolExecutor.runWorker(ThreadPoolExecutor.java:1149)\n\tat java.util.concurrent.ThreadPoolExecutor$Worker.run(ThreadPoolExecutor.java:624)\n\tat java.lang.Thread.run(Thread.java:748)\n\nDriver stacktrace:\n\tat org.apache.spark.scheduler.DAGScheduler.org$apache$spark$scheduler$DAGScheduler$$failJobAndIndependentStages(DAGScheduler.scala:1889)\n\tat org.apache.spark.scheduler.DAGScheduler$$anonfun$abortStage$1.apply(DAGScheduler.scala:1877)\n\tat org.apache.spark.scheduler.DAGScheduler$$anonfun$abortStage$1.apply(DAGScheduler.scala:1876)\n\tat scala.collection.mutable.ResizableArray$class.foreach(ResizableArray.scala:59)\n\tat scala.collection.mutable.ArrayBuffer.foreach(ArrayBuffer.scala:48)\n\tat org.apache.spark.scheduler.DAGScheduler.abortStage(DAGScheduler.scala:1876)\n\tat org.apache.spark.scheduler.DAGScheduler$$anonfun$handleTaskSetFailed$1.apply(DAGScheduler.scala:926)\n\tat org.apache.spark.scheduler.DAGScheduler$$anonfun$handleTaskSetFailed$1.apply(DAGScheduler.scala:926)\n\tat scala.Option.foreach(Option.scala:257)\n\tat org.apache.spark.scheduler.DAGScheduler.handleTaskSetFailed(DAGScheduler.scala:926)\n\tat org.apache.spark.scheduler.DAGSchedulerEventProcessLoop.doOnReceive(DAGScheduler.scala:2110)\n\tat org.apache.spark.scheduler.DAGSchedulerEventProcessLoop.onReceive(DAGScheduler.scala:2059)\n\tat org.apache.spark.scheduler.DAGSchedulerEventProcessLoop.onReceive(DAGScheduler.scala:2048)\n\tat org.apache.spark.util.EventLoop$$anon$1.run(EventLoop.scala:49)\n\tat org.apache.spark.scheduler.DAGScheduler.runJob(DAGScheduler.scala:737)\n\tat org.apache.spark.SparkContext.runJob(SparkContext.scala:2061)\n\tat org.apache.spark.SparkContext.runJob(SparkContext.scala:2082)\n\tat org.apache.spark.SparkContext.runJob(SparkContext.scala:2101)\n\tat org.apache.spark.SparkContext.runJob(SparkContext.scala:2126)\n\tat org.apache.spark.rdd.RDD$$anonfun$collect$1.apply(RDD.scala:945)\n\tat org.apache.spark.rdd.RDDOperationScope$.withScope(RDDOperationScope.scala:151)\n\tat org.apache.spark.rdd.RDDOperationScope$.withScope(RDDOperationScope.scala:112)\n\tat org.apache.spark.rdd.RDD.withScope(RDD.scala:363)\n\tat org.apache.spark.rdd.RDD.collect(RDD.scala:944)\n\tat org.apache.spark.api.python.PythonRDD$.collectAndServe(PythonRDD.scala:166)\n\tat org.apache.spark.api.python.PythonRDD.collectAndServe(PythonRDD.scala)\n\tat sun.reflect.NativeMethodAccessorImpl.invoke0(Native Method)\n\tat sun.reflect.NativeMethodAccessorImpl.invoke(NativeMethodAccessorImpl.java:62)\n\tat sun.reflect.DelegatingMethodAccessorImpl.invoke(DelegatingMethodAccessorImpl.java:43)\n\tat java.lang.reflect.Method.invoke(Method.java:498)\n\tat py4j.reflection.MethodInvoker.invoke(MethodInvoker.java:244)\n\tat py4j.reflection.ReflectionEngine.invoke(ReflectionEngine.java:357)\n\tat py4j.Gateway.invoke(Gateway.java:282)\n\tat py4j.commands.AbstractCommand.invokeMethod(AbstractCommand.java:132)\n\tat py4j.commands.CallCommand.execute(CallCommand.java:79)\n\tat py4j.GatewayConnection.run(GatewayConnection.java:238)\n\tat java.lang.Thread.run(Thread.java:748)\nCaused by: org.apache.spark.api.python.PythonException: Traceback (most recent call last):\n  File \"/opt/spark/python/lib/pyspark.zip/pyspark/worker.py\", line 377, in main\n    process()\n  File \"/opt/spark/python/lib/pyspark.zip/pyspark/worker.py\", line 372, in process\n    serializer.dump_stream(func(split_index, iterator), outfile)\n  File \"/opt/spark/python/lib/pyspark.zip/pyspark/serializers.py\", line 393, in dump_stream\n    vs = list(itertools.islice(iterator, batch))\n  File \"/opt/spark/python/lib/pyspark.zip/pyspark/util.py\", line 99, in wrapper\n    return f(*args, **kwargs)\nTypeError: 'str' object is not callable\n\n\tat org.apache.spark.api.python.BasePythonRunner$ReaderIterator.handlePythonException(PythonRunner.scala:452)\n\tat org.apache.spark.api.python.PythonRunner$$anon$1.read(PythonRunner.scala:588)\n\tat org.apache.spark.api.python.PythonRunner$$anon$1.read(PythonRunner.scala:571)\n\tat org.apache.spark.api.python.BasePythonRunner$ReaderIterator.hasNext(PythonRunner.scala:406)\n\tat org.apache.spark.InterruptibleIterator.hasNext(InterruptibleIterator.scala:37)\n\tat scala.collection.Iterator$class.foreach(Iterator.scala:891)\n\tat org.apache.spark.InterruptibleIterator.foreach(InterruptibleIterator.scala:28)\n\tat scala.collection.generic.Growable$class.$plus$plus$eq(Growable.scala:59)\n\tat scala.collection.mutable.ArrayBuffer.$plus$plus$eq(ArrayBuffer.scala:104)\n\tat scala.collection.mutable.ArrayBuffer.$plus$plus$eq(ArrayBuffer.scala:48)\n\tat scala.collection.TraversableOnce$class.to(TraversableOnce.scala:310)\n\tat org.apache.spark.InterruptibleIterator.to(InterruptibleIterator.scala:28)\n\tat scala.collection.TraversableOnce$class.toBuffer(TraversableOnce.scala:302)\n\tat org.apache.spark.InterruptibleIterator.toBuffer(InterruptibleIterator.scala:28)\n\tat scala.collection.TraversableOnce$class.toArray(TraversableOnce.scala:289)\n\tat org.apache.spark.InterruptibleIterator.toArray(InterruptibleIterator.scala:28)\n\tat org.apache.spark.rdd.RDD$$anonfun$collect$1$$anonfun$13.apply(RDD.scala:945)\n\tat org.apache.spark.rdd.RDD$$anonfun$collect$1$$anonfun$13.apply(RDD.scala:945)\n\tat org.apache.spark.SparkContext$$anonfun$runJob$5.apply(SparkContext.scala:2101)\n\tat org.apache.spark.SparkContext$$anonfun$runJob$5.apply(SparkContext.scala:2101)\n\tat org.apache.spark.scheduler.ResultTask.runTask(ResultTask.scala:90)\n\tat org.apache.spark.scheduler.Task.run(Task.scala:121)\n\tat org.apache.spark.executor.Executor$TaskRunner$$anonfun$10.apply(Executor.scala:403)\n\tat org.apache.spark.util.Utils$.tryWithSafeFinally(Utils.scala:1360)\n\tat org.apache.spark.executor.Executor$TaskRunner.run(Executor.scala:409)\n\tat java.util.concurrent.ThreadPoolExecutor.runWorker(ThreadPoolExecutor.java:1149)\n\tat java.util.concurrent.ThreadPoolExecutor$Worker.run(ThreadPoolExecutor.java:624)\n\t... 1 more\n",
     "output_type": "error",
     "traceback": [
      "\u001b[0;31m---------------------------------------------------------------------------\u001b[0m",
      "\u001b[0;31mPy4JJavaError\u001b[0m                             Traceback (most recent call last)",
      "\u001b[0;32m<ipython-input-229-2e0a0c358526>\u001b[0m in \u001b[0;36m<module>\u001b[0;34m()\u001b[0m\n\u001b[0;32m----> 1\u001b[0;31m \u001b[0mdf\u001b[0m\u001b[0;34m.\u001b[0m\u001b[0mrdd\u001b[0m\u001b[0;34m.\u001b[0m\u001b[0mmap\u001b[0m\u001b[0;34m(\u001b[0m\u001b[0;34m\"citations\"\u001b[0m\u001b[0;34m)\u001b[0m\u001b[0;34m.\u001b[0m\u001b[0mcollect\u001b[0m\u001b[0;34m(\u001b[0m\u001b[0;34m)\u001b[0m\u001b[0;34m\u001b[0m\u001b[0;34m\u001b[0m\u001b[0m\n\u001b[0m",
      "\u001b[0;32m/opt/spark/python/pyspark/rdd.py\u001b[0m in \u001b[0;36mcollect\u001b[0;34m(self)\u001b[0m\n\u001b[1;32m    814\u001b[0m         \"\"\"\n\u001b[1;32m    815\u001b[0m         \u001b[0;32mwith\u001b[0m \u001b[0mSCCallSiteSync\u001b[0m\u001b[0;34m(\u001b[0m\u001b[0mself\u001b[0m\u001b[0;34m.\u001b[0m\u001b[0mcontext\u001b[0m\u001b[0;34m)\u001b[0m \u001b[0;32mas\u001b[0m \u001b[0mcss\u001b[0m\u001b[0;34m:\u001b[0m\u001b[0;34m\u001b[0m\u001b[0;34m\u001b[0m\u001b[0m\n\u001b[0;32m--> 816\u001b[0;31m             \u001b[0msock_info\u001b[0m \u001b[0;34m=\u001b[0m \u001b[0mself\u001b[0m\u001b[0;34m.\u001b[0m\u001b[0mctx\u001b[0m\u001b[0;34m.\u001b[0m\u001b[0m_jvm\u001b[0m\u001b[0;34m.\u001b[0m\u001b[0mPythonRDD\u001b[0m\u001b[0;34m.\u001b[0m\u001b[0mcollectAndServe\u001b[0m\u001b[0;34m(\u001b[0m\u001b[0mself\u001b[0m\u001b[0;34m.\u001b[0m\u001b[0m_jrdd\u001b[0m\u001b[0;34m.\u001b[0m\u001b[0mrdd\u001b[0m\u001b[0;34m(\u001b[0m\u001b[0;34m)\u001b[0m\u001b[0;34m)\u001b[0m\u001b[0;34m\u001b[0m\u001b[0;34m\u001b[0m\u001b[0m\n\u001b[0m\u001b[1;32m    817\u001b[0m         \u001b[0;32mreturn\u001b[0m \u001b[0mlist\u001b[0m\u001b[0;34m(\u001b[0m\u001b[0m_load_from_socket\u001b[0m\u001b[0;34m(\u001b[0m\u001b[0msock_info\u001b[0m\u001b[0;34m,\u001b[0m \u001b[0mself\u001b[0m\u001b[0;34m.\u001b[0m\u001b[0m_jrdd_deserializer\u001b[0m\u001b[0;34m)\u001b[0m\u001b[0;34m)\u001b[0m\u001b[0;34m\u001b[0m\u001b[0;34m\u001b[0m\u001b[0m\n\u001b[1;32m    818\u001b[0m \u001b[0;34m\u001b[0m\u001b[0m\n",
      "\u001b[0;32m/opt/spark/python/lib/py4j-0.10.7-src.zip/py4j/java_gateway.py\u001b[0m in \u001b[0;36m__call__\u001b[0;34m(self, *args)\u001b[0m\n\u001b[1;32m   1255\u001b[0m         \u001b[0manswer\u001b[0m \u001b[0;34m=\u001b[0m \u001b[0mself\u001b[0m\u001b[0;34m.\u001b[0m\u001b[0mgateway_client\u001b[0m\u001b[0;34m.\u001b[0m\u001b[0msend_command\u001b[0m\u001b[0;34m(\u001b[0m\u001b[0mcommand\u001b[0m\u001b[0;34m)\u001b[0m\u001b[0;34m\u001b[0m\u001b[0;34m\u001b[0m\u001b[0m\n\u001b[1;32m   1256\u001b[0m         return_value = get_return_value(\n\u001b[0;32m-> 1257\u001b[0;31m             answer, self.gateway_client, self.target_id, self.name)\n\u001b[0m\u001b[1;32m   1258\u001b[0m \u001b[0;34m\u001b[0m\u001b[0m\n\u001b[1;32m   1259\u001b[0m         \u001b[0;32mfor\u001b[0m \u001b[0mtemp_arg\u001b[0m \u001b[0;32min\u001b[0m \u001b[0mtemp_args\u001b[0m\u001b[0;34m:\u001b[0m\u001b[0;34m\u001b[0m\u001b[0;34m\u001b[0m\u001b[0m\n",
      "\u001b[0;32m/opt/spark/python/pyspark/sql/utils.py\u001b[0m in \u001b[0;36mdeco\u001b[0;34m(*a, **kw)\u001b[0m\n\u001b[1;32m     61\u001b[0m     \u001b[0;32mdef\u001b[0m \u001b[0mdeco\u001b[0m\u001b[0;34m(\u001b[0m\u001b[0;34m*\u001b[0m\u001b[0ma\u001b[0m\u001b[0;34m,\u001b[0m \u001b[0;34m**\u001b[0m\u001b[0mkw\u001b[0m\u001b[0;34m)\u001b[0m\u001b[0;34m:\u001b[0m\u001b[0;34m\u001b[0m\u001b[0;34m\u001b[0m\u001b[0m\n\u001b[1;32m     62\u001b[0m         \u001b[0;32mtry\u001b[0m\u001b[0;34m:\u001b[0m\u001b[0;34m\u001b[0m\u001b[0;34m\u001b[0m\u001b[0m\n\u001b[0;32m---> 63\u001b[0;31m             \u001b[0;32mreturn\u001b[0m \u001b[0mf\u001b[0m\u001b[0;34m(\u001b[0m\u001b[0;34m*\u001b[0m\u001b[0ma\u001b[0m\u001b[0;34m,\u001b[0m \u001b[0;34m**\u001b[0m\u001b[0mkw\u001b[0m\u001b[0;34m)\u001b[0m\u001b[0;34m\u001b[0m\u001b[0;34m\u001b[0m\u001b[0m\n\u001b[0m\u001b[1;32m     64\u001b[0m         \u001b[0;32mexcept\u001b[0m \u001b[0mpy4j\u001b[0m\u001b[0;34m.\u001b[0m\u001b[0mprotocol\u001b[0m\u001b[0;34m.\u001b[0m\u001b[0mPy4JJavaError\u001b[0m \u001b[0;32mas\u001b[0m \u001b[0me\u001b[0m\u001b[0;34m:\u001b[0m\u001b[0;34m\u001b[0m\u001b[0;34m\u001b[0m\u001b[0m\n\u001b[1;32m     65\u001b[0m             \u001b[0ms\u001b[0m \u001b[0;34m=\u001b[0m \u001b[0me\u001b[0m\u001b[0;34m.\u001b[0m\u001b[0mjava_exception\u001b[0m\u001b[0;34m.\u001b[0m\u001b[0mtoString\u001b[0m\u001b[0;34m(\u001b[0m\u001b[0;34m)\u001b[0m\u001b[0;34m\u001b[0m\u001b[0;34m\u001b[0m\u001b[0m\n",
      "\u001b[0;32m/opt/spark/python/lib/py4j-0.10.7-src.zip/py4j/protocol.py\u001b[0m in \u001b[0;36mget_return_value\u001b[0;34m(answer, gateway_client, target_id, name)\u001b[0m\n\u001b[1;32m    326\u001b[0m                 raise Py4JJavaError(\n\u001b[1;32m    327\u001b[0m                     \u001b[0;34m\"An error occurred while calling {0}{1}{2}.\\n\"\u001b[0m\u001b[0;34m.\u001b[0m\u001b[0;34m\u001b[0m\u001b[0;34m\u001b[0m\u001b[0m\n\u001b[0;32m--> 328\u001b[0;31m                     format(target_id, \".\", name), value)\n\u001b[0m\u001b[1;32m    329\u001b[0m             \u001b[0;32melse\u001b[0m\u001b[0;34m:\u001b[0m\u001b[0;34m\u001b[0m\u001b[0;34m\u001b[0m\u001b[0m\n\u001b[1;32m    330\u001b[0m                 raise Py4JError(\n",
      "\u001b[0;31mPy4JJavaError\u001b[0m: An error occurred while calling z:org.apache.spark.api.python.PythonRDD.collectAndServe.\n: org.apache.spark.SparkException: Job aborted due to stage failure: Task 0 in stage 103.0 failed 1 times, most recent failure: Lost task 0.0 in stage 103.0 (TID 160, localhost, executor driver): org.apache.spark.api.python.PythonException: Traceback (most recent call last):\n  File \"/opt/spark/python/lib/pyspark.zip/pyspark/worker.py\", line 377, in main\n    process()\n  File \"/opt/spark/python/lib/pyspark.zip/pyspark/worker.py\", line 372, in process\n    serializer.dump_stream(func(split_index, iterator), outfile)\n  File \"/opt/spark/python/lib/pyspark.zip/pyspark/serializers.py\", line 393, in dump_stream\n    vs = list(itertools.islice(iterator, batch))\n  File \"/opt/spark/python/lib/pyspark.zip/pyspark/util.py\", line 99, in wrapper\n    return f(*args, **kwargs)\nTypeError: 'str' object is not callable\n\n\tat org.apache.spark.api.python.BasePythonRunner$ReaderIterator.handlePythonException(PythonRunner.scala:452)\n\tat org.apache.spark.api.python.PythonRunner$$anon$1.read(PythonRunner.scala:588)\n\tat org.apache.spark.api.python.PythonRunner$$anon$1.read(PythonRunner.scala:571)\n\tat org.apache.spark.api.python.BasePythonRunner$ReaderIterator.hasNext(PythonRunner.scala:406)\n\tat org.apache.spark.InterruptibleIterator.hasNext(InterruptibleIterator.scala:37)\n\tat scala.collection.Iterator$class.foreach(Iterator.scala:891)\n\tat org.apache.spark.InterruptibleIterator.foreach(InterruptibleIterator.scala:28)\n\tat scala.collection.generic.Growable$class.$plus$plus$eq(Growable.scala:59)\n\tat scala.collection.mutable.ArrayBuffer.$plus$plus$eq(ArrayBuffer.scala:104)\n\tat scala.collection.mutable.ArrayBuffer.$plus$plus$eq(ArrayBuffer.scala:48)\n\tat scala.collection.TraversableOnce$class.to(TraversableOnce.scala:310)\n\tat org.apache.spark.InterruptibleIterator.to(InterruptibleIterator.scala:28)\n\tat scala.collection.TraversableOnce$class.toBuffer(TraversableOnce.scala:302)\n\tat org.apache.spark.InterruptibleIterator.toBuffer(InterruptibleIterator.scala:28)\n\tat scala.collection.TraversableOnce$class.toArray(TraversableOnce.scala:289)\n\tat org.apache.spark.InterruptibleIterator.toArray(InterruptibleIterator.scala:28)\n\tat org.apache.spark.rdd.RDD$$anonfun$collect$1$$anonfun$13.apply(RDD.scala:945)\n\tat org.apache.spark.rdd.RDD$$anonfun$collect$1$$anonfun$13.apply(RDD.scala:945)\n\tat org.apache.spark.SparkContext$$anonfun$runJob$5.apply(SparkContext.scala:2101)\n\tat org.apache.spark.SparkContext$$anonfun$runJob$5.apply(SparkContext.scala:2101)\n\tat org.apache.spark.scheduler.ResultTask.runTask(ResultTask.scala:90)\n\tat org.apache.spark.scheduler.Task.run(Task.scala:121)\n\tat org.apache.spark.executor.Executor$TaskRunner$$anonfun$10.apply(Executor.scala:403)\n\tat org.apache.spark.util.Utils$.tryWithSafeFinally(Utils.scala:1360)\n\tat org.apache.spark.executor.Executor$TaskRunner.run(Executor.scala:409)\n\tat java.util.concurrent.ThreadPoolExecutor.runWorker(ThreadPoolExecutor.java:1149)\n\tat java.util.concurrent.ThreadPoolExecutor$Worker.run(ThreadPoolExecutor.java:624)\n\tat java.lang.Thread.run(Thread.java:748)\n\nDriver stacktrace:\n\tat org.apache.spark.scheduler.DAGScheduler.org$apache$spark$scheduler$DAGScheduler$$failJobAndIndependentStages(DAGScheduler.scala:1889)\n\tat org.apache.spark.scheduler.DAGScheduler$$anonfun$abortStage$1.apply(DAGScheduler.scala:1877)\n\tat org.apache.spark.scheduler.DAGScheduler$$anonfun$abortStage$1.apply(DAGScheduler.scala:1876)\n\tat scala.collection.mutable.ResizableArray$class.foreach(ResizableArray.scala:59)\n\tat scala.collection.mutable.ArrayBuffer.foreach(ArrayBuffer.scala:48)\n\tat org.apache.spark.scheduler.DAGScheduler.abortStage(DAGScheduler.scala:1876)\n\tat org.apache.spark.scheduler.DAGScheduler$$anonfun$handleTaskSetFailed$1.apply(DAGScheduler.scala:926)\n\tat org.apache.spark.scheduler.DAGScheduler$$anonfun$handleTaskSetFailed$1.apply(DAGScheduler.scala:926)\n\tat scala.Option.foreach(Option.scala:257)\n\tat org.apache.spark.scheduler.DAGScheduler.handleTaskSetFailed(DAGScheduler.scala:926)\n\tat org.apache.spark.scheduler.DAGSchedulerEventProcessLoop.doOnReceive(DAGScheduler.scala:2110)\n\tat org.apache.spark.scheduler.DAGSchedulerEventProcessLoop.onReceive(DAGScheduler.scala:2059)\n\tat org.apache.spark.scheduler.DAGSchedulerEventProcessLoop.onReceive(DAGScheduler.scala:2048)\n\tat org.apache.spark.util.EventLoop$$anon$1.run(EventLoop.scala:49)\n\tat org.apache.spark.scheduler.DAGScheduler.runJob(DAGScheduler.scala:737)\n\tat org.apache.spark.SparkContext.runJob(SparkContext.scala:2061)\n\tat org.apache.spark.SparkContext.runJob(SparkContext.scala:2082)\n\tat org.apache.spark.SparkContext.runJob(SparkContext.scala:2101)\n\tat org.apache.spark.SparkContext.runJob(SparkContext.scala:2126)\n\tat org.apache.spark.rdd.RDD$$anonfun$collect$1.apply(RDD.scala:945)\n\tat org.apache.spark.rdd.RDDOperationScope$.withScope(RDDOperationScope.scala:151)\n\tat org.apache.spark.rdd.RDDOperationScope$.withScope(RDDOperationScope.scala:112)\n\tat org.apache.spark.rdd.RDD.withScope(RDD.scala:363)\n\tat org.apache.spark.rdd.RDD.collect(RDD.scala:944)\n\tat org.apache.spark.api.python.PythonRDD$.collectAndServe(PythonRDD.scala:166)\n\tat org.apache.spark.api.python.PythonRDD.collectAndServe(PythonRDD.scala)\n\tat sun.reflect.NativeMethodAccessorImpl.invoke0(Native Method)\n\tat sun.reflect.NativeMethodAccessorImpl.invoke(NativeMethodAccessorImpl.java:62)\n\tat sun.reflect.DelegatingMethodAccessorImpl.invoke(DelegatingMethodAccessorImpl.java:43)\n\tat java.lang.reflect.Method.invoke(Method.java:498)\n\tat py4j.reflection.MethodInvoker.invoke(MethodInvoker.java:244)\n\tat py4j.reflection.ReflectionEngine.invoke(ReflectionEngine.java:357)\n\tat py4j.Gateway.invoke(Gateway.java:282)\n\tat py4j.commands.AbstractCommand.invokeMethod(AbstractCommand.java:132)\n\tat py4j.commands.CallCommand.execute(CallCommand.java:79)\n\tat py4j.GatewayConnection.run(GatewayConnection.java:238)\n\tat java.lang.Thread.run(Thread.java:748)\nCaused by: org.apache.spark.api.python.PythonException: Traceback (most recent call last):\n  File \"/opt/spark/python/lib/pyspark.zip/pyspark/worker.py\", line 377, in main\n    process()\n  File \"/opt/spark/python/lib/pyspark.zip/pyspark/worker.py\", line 372, in process\n    serializer.dump_stream(func(split_index, iterator), outfile)\n  File \"/opt/spark/python/lib/pyspark.zip/pyspark/serializers.py\", line 393, in dump_stream\n    vs = list(itertools.islice(iterator, batch))\n  File \"/opt/spark/python/lib/pyspark.zip/pyspark/util.py\", line 99, in wrapper\n    return f(*args, **kwargs)\nTypeError: 'str' object is not callable\n\n\tat org.apache.spark.api.python.BasePythonRunner$ReaderIterator.handlePythonException(PythonRunner.scala:452)\n\tat org.apache.spark.api.python.PythonRunner$$anon$1.read(PythonRunner.scala:588)\n\tat org.apache.spark.api.python.PythonRunner$$anon$1.read(PythonRunner.scala:571)\n\tat org.apache.spark.api.python.BasePythonRunner$ReaderIterator.hasNext(PythonRunner.scala:406)\n\tat org.apache.spark.InterruptibleIterator.hasNext(InterruptibleIterator.scala:37)\n\tat scala.collection.Iterator$class.foreach(Iterator.scala:891)\n\tat org.apache.spark.InterruptibleIterator.foreach(InterruptibleIterator.scala:28)\n\tat scala.collection.generic.Growable$class.$plus$plus$eq(Growable.scala:59)\n\tat scala.collection.mutable.ArrayBuffer.$plus$plus$eq(ArrayBuffer.scala:104)\n\tat scala.collection.mutable.ArrayBuffer.$plus$plus$eq(ArrayBuffer.scala:48)\n\tat scala.collection.TraversableOnce$class.to(TraversableOnce.scala:310)\n\tat org.apache.spark.InterruptibleIterator.to(InterruptibleIterator.scala:28)\n\tat scala.collection.TraversableOnce$class.toBuffer(TraversableOnce.scala:302)\n\tat org.apache.spark.InterruptibleIterator.toBuffer(InterruptibleIterator.scala:28)\n\tat scala.collection.TraversableOnce$class.toArray(TraversableOnce.scala:289)\n\tat org.apache.spark.InterruptibleIterator.toArray(InterruptibleIterator.scala:28)\n\tat org.apache.spark.rdd.RDD$$anonfun$collect$1$$anonfun$13.apply(RDD.scala:945)\n\tat org.apache.spark.rdd.RDD$$anonfun$collect$1$$anonfun$13.apply(RDD.scala:945)\n\tat org.apache.spark.SparkContext$$anonfun$runJob$5.apply(SparkContext.scala:2101)\n\tat org.apache.spark.SparkContext$$anonfun$runJob$5.apply(SparkContext.scala:2101)\n\tat org.apache.spark.scheduler.ResultTask.runTask(ResultTask.scala:90)\n\tat org.apache.spark.scheduler.Task.run(Task.scala:121)\n\tat org.apache.spark.executor.Executor$TaskRunner$$anonfun$10.apply(Executor.scala:403)\n\tat org.apache.spark.util.Utils$.tryWithSafeFinally(Utils.scala:1360)\n\tat org.apache.spark.executor.Executor$TaskRunner.run(Executor.scala:409)\n\tat java.util.concurrent.ThreadPoolExecutor.runWorker(ThreadPoolExecutor.java:1149)\n\tat java.util.concurrent.ThreadPoolExecutor$Worker.run(ThreadPoolExecutor.java:624)\n\t... 1 more\n"
     ]
    }
   ],
   "source": [
    "df.rdd.map(\"citations\").collect()"
   ]
  },
  {
   "cell_type": "markdown",
   "metadata": {},
   "source": [
    "## Writing the fully functioning pipeline"
   ]
  },
  {
   "cell_type": "code",
   "execution_count": 8,
   "metadata": {
    "collapsed": true
   },
   "outputs": [],
   "source": [
    "import pyspark\n",
    "from pyspark.sql.types import *\n",
    "from pyspark.sql.functions import udf, struct, col, rank\n",
    "from pyspark.sql import SQLContext\n",
    "from pyspark import SparkContext\n",
    "from pyspark.sql.session import SparkSession\n",
    "import boto3"
   ]
  },
  {
   "cell_type": "code",
   "execution_count": 32,
   "metadata": {
    "collapsed": true
   },
   "outputs": [],
   "source": [
    "sc = SparkContext.getOrCreate()\n",
    "spark = SparkSession(sc)"
   ]
  },
  {
   "cell_type": "code",
   "execution_count": 33,
   "metadata": {
    "collapsed": true
   },
   "outputs": [],
   "source": [
    "orig_bucket_name = \"open-research-corpus\""
   ]
  },
  {
   "cell_type": "code",
   "execution_count": 37,
   "metadata": {
    "collapsed": true
   },
   "outputs": [],
   "source": [
    "def read_files_from_s3(bucket_name):\n",
    "    '''\n",
    "    This function reads all of the .gz files from S3 \n",
    "    and returns a pyspark dataframe with all of the rows from \n",
    "    the files it has read in\n",
    "    '''\n",
    "    \n",
    "    # reads files from an S3 bucket \n",
    "    s3 = boto3.resource('s3')\n",
    "    bucket = s3.Bucket(bucket_name)\n",
    "    \n",
    "    # initialize a dataframe \n",
    "    \n",
    "    # for each additional piece of data, add the rows to the current df \n",
    "    df_init_switch = False # turns true when a df has been initialized\n",
    "    for gz_file in bucket.objects.filter(Prefix=\"corpus\"):\n",
    "        print(gz_file.key)\n",
    "        '''\n",
    "        # used earlier but the file is too big \n",
    "        if df_init_switch == False: \n",
    "            df = spark.read.text(\"s3a://{0}/{1}\".format(bucket_name, gz_file.key))\n",
    "            df_init_switch = True # changed to true once the first file has been read \n",
    "        else:\n",
    "            df_being_read = spark.read.text(\"s3a://{0}/{1}\".format(bucket_name, gz_file.key))\n",
    "            df.union(df_being_read) # adds the rows of df_being_read to the existing df\n",
    "        '''\n",
    "        df = spark.read.text(\"s3a://{0}/{1}\".format(bucket_name, gz_file.key))\n",
    "    return df"
   ]
  },
  {
   "cell_type": "code",
   "execution_count": 35,
   "metadata": {
    "collapsed": true
   },
   "outputs": [],
   "source": [
    "def store_in_s3(df):\n",
    "    '''\n",
    "    This file takes a dataframe and appends it into existing dataframe that is in S3 \n",
    "    '''\n",
    "    df.write.save(\"s3a://preprocessed-open-research-corpus/full_dataframe\", format=\"parquet\", mode=\"append\")\n",
    "    \n",
    "    return "
   ]
  },
  {
   "cell_type": "code",
   "execution_count": 36,
   "metadata": {
    "collapsed": true
   },
   "outputs": [],
   "source": [
    "#df = spark.read.text(\"s3a://open-research-corpus/corpus-2019-01-31/s2-corpus-00.gz\")"
   ]
  },
  {
   "cell_type": "code",
   "execution_count": null,
   "metadata": {
    "collapsed": true
   },
   "outputs": [],
   "source": [
    "import matplotlib.pyplot as plt\n",
    "%matplotlib inline\n",
    "import numpy as np\n",
    "%precision %g\n",
    "%config InlineBackend.figure_format = 'retina'\n",
    "matplotlib.rcParams['savefig.dpi'] = 160\n",
    "matplotlib.rcParams['figure.dpi'] = 160\n",
    "matplotlib.rcParams['figure.figsize'] = [4, 2]\n",
    "from time import time\n",
    "import re"
   ]
  },
  {
   "cell_type": "code",
   "execution_count": 7,
   "metadata": {
    "collapsed": true
   },
   "outputs": [],
   "source": [
    "import matplotlib \n",
    "import matplotlib.pyplot as plt\n",
    "%matplotlib inline"
   ]
  },
  {
   "cell_type": "code",
   "execution_count": 19,
   "metadata": {},
   "outputs": [
    {
     "name": "stderr",
     "output_type": "stream",
     "text": [
      "/anaconda3/lib/python3.6/site-packages/matplotlib/font_manager.py:273: UserWarning: Matplotlib is building the font cache using fc-list. This may take a moment.\n",
      "  warnings.warn('Matplotlib is building the font cache using fc-list. This may take a moment.')\n"
     ]
    },
    {
     "data": {
      "text/plain": [
       "['/Library/Fonts/Webdings.ttf',\n",
       " '/Library/Fonts/Zapfino.ttf',\n",
       " '/Library/Fonts/Trebuchet MS Italic.ttf',\n",
       " '/Library/Fonts/Georgia.ttf',\n",
       " '/Library/Fonts/Verdana Bold.ttf',\n",
       " '/Library/Fonts/Bodoni 72 Smallcaps Book.ttf',\n",
       " '/Library/Fonts/Times New Roman Bold Italic.ttf',\n",
       " '/Library/Fonts/Silom.ttf',\n",
       " '/Library/Fonts/Verdana Italic.ttf',\n",
       " '/Library/Fonts/Times New Roman Italic.ttf',\n",
       " '/Library/Fonts/Bradley Hand Bold.ttf',\n",
       " '/Library/Fonts/Arial Narrow Italic.ttf',\n",
       " '/Library/Fonts/STIXGeneralItalic.otf',\n",
       " '/Library/Fonts/AppleGothic.ttf',\n",
       " '/Library/Fonts/DIN Condensed Bold.ttf',\n",
       " '/Library/Fonts/Farisi.ttf',\n",
       " '/Library/Fonts/Arial Bold.ttf',\n",
       " '/Library/Fonts/Trebuchet MS.ttf',\n",
       " '/Library/Fonts/Mishafi.ttf',\n",
       " '/Library/Fonts/Trattatello.ttf',\n",
       " '/Library/Fonts/BigCaslon.ttf',\n",
       " '/Library/Fonts/Courier New Bold.ttf',\n",
       " '/Library/Fonts/NISC18030.ttf',\n",
       " '/Library/Fonts/STIXIntUpSmReg.otf',\n",
       " '/Library/Fonts/STIXGeneral.otf',\n",
       " '/Library/Fonts/STIXIntUpDBol.otf',\n",
       " '/Library/Fonts/Lao Sangam MN.ttf',\n",
       " '/Library/Fonts/Luminari.ttf',\n",
       " '/Library/Fonts/STIXVar.otf',\n",
       " '/Library/Fonts/STIXSizOneSymBol.otf',\n",
       " '/Library/Fonts/Times New Roman.ttf',\n",
       " '/Library/Fonts/Brush Script.ttf',\n",
       " '/Library/Fonts/Georgia Italic.ttf',\n",
       " '/Library/Fonts/Courier New Italic.ttf',\n",
       " '/Library/Fonts/Arial Unicode.ttf',\n",
       " '/Library/Fonts/Chalkduster.ttf',\n",
       " '/Library/Fonts/STIXIntUpSmBol.otf',\n",
       " '/Library/Fonts/STIXIntUpDReg.otf',\n",
       " '/Library/Fonts/Apple Chancery.ttf',\n",
       " '/Library/Fonts/AppleMyungjo.ttf',\n",
       " '/Library/Fonts/STIXSizOneSymReg.otf',\n",
       " '/Library/Fonts/Arial Narrow Bold Italic.ttf',\n",
       " '/Library/Fonts/STIXNonUniBol.otf',\n",
       " '/Library/Fonts/Arial Narrow.ttf',\n",
       " '/Library/Fonts/Courier New.ttf',\n",
       " '/Library/Fonts/Wingdings 3.ttf',\n",
       " '/Library/Fonts/Wingdings 2.ttf',\n",
       " '/Library/Fonts/Hoefler Text Ornaments.ttf',\n",
       " '/Library/Fonts/Bodoni Ornaments.ttf',\n",
       " '/Library/Fonts/Skia.ttf',\n",
       " '/Library/Fonts/Trebuchet MS Bold Italic.ttf',\n",
       " '/Library/Fonts/Impact.ttf',\n",
       " '/Library/Fonts/Kokonor.ttf',\n",
       " '/Library/Fonts/STIXIntUpBol.otf',\n",
       " '/Library/Fonts/STIXSizThreeSymBol.otf',\n",
       " '/Library/Fonts/Tahoma Bold.ttf',\n",
       " '/Library/Fonts/Arial.ttf',\n",
       " '/Library/Fonts/Diwan Thuluth.ttf',\n",
       " '/Library/Fonts/Ayuthaya.ttf',\n",
       " '/Library/Fonts/STIXIntUpReg.otf',\n",
       " '/Library/Fonts/Khmer Sangam MN.ttf',\n",
       " '/Library/Fonts/STIXSizThreeSymReg.otf',\n",
       " '/Library/Fonts/STIXNonUni.otf',\n",
       " '/Library/Fonts/Trebuchet MS Bold.ttf',\n",
       " '/Library/Fonts/Arial Black.ttf',\n",
       " '/Library/Fonts/Courier New Bold Italic.ttf',\n",
       " '/Library/Fonts/Comic Sans MS.ttf',\n",
       " '/Library/Fonts/DIN Alternate Bold.ttf',\n",
       " '/Library/Fonts/Wingdings.ttf',\n",
       " '/Library/Fonts/Sathu.ttf',\n",
       " '/Library/Fonts/Arial Bold Italic.ttf',\n",
       " '/Library/Fonts/STIXSizTwoSymBol.otf',\n",
       " '/Library/Fonts/Tahoma.ttf',\n",
       " '/Library/Fonts/PlantagenetCherokee.ttf',\n",
       " '/Library/Fonts/Georgia Bold.ttf',\n",
       " '/Library/Fonts/STIXIntSmReg.otf',\n",
       " '/Library/Fonts/STIXNonUniIta.otf',\n",
       " '/Library/Fonts/STIXSizFourSymReg.otf',\n",
       " '/Library/Fonts/Verdana Bold Italic.ttf',\n",
       " '/Library/Fonts/Microsoft Sans Serif.ttf',\n",
       " '/Library/Fonts/Georgia Bold Italic.ttf',\n",
       " '/Library/Fonts/Arial Rounded Bold.ttf',\n",
       " '/Library/Fonts/Times New Roman Bold.ttf',\n",
       " '/Library/Fonts/STIXSizTwoSymReg.otf',\n",
       " '/Library/Fonts/STIXGeneralBolIta.otf',\n",
       " '/Library/Fonts/Krungthep.ttf',\n",
       " '/Library/Fonts/STIXSizFourSymBol.otf',\n",
       " '/Library/Fonts/STIXIntSmBol.otf',\n",
       " '/Library/Fonts/Gurmukhi.ttf',\n",
       " '/Library/Fonts/STIXNonUniBolIta.otf',\n",
       " '/Library/Fonts/Andale Mono.ttf',\n",
       " '/Library/Fonts/Mishafi Gold.ttf',\n",
       " '/Library/Fonts/Herculanum.ttf',\n",
       " '/Library/Fonts/STIXIntDReg.otf',\n",
       " '/Library/Fonts/STIXVarBol.otf',\n",
       " '/Library/Fonts/Comic Sans MS Bold.ttf',\n",
       " '/Library/Fonts/STIXSizFiveSymReg.otf',\n",
       " '/Library/Fonts/Arial Italic.ttf',\n",
       " '/Library/Fonts/STIXGeneralBol.otf',\n",
       " '/Library/Fonts/Verdana.ttf',\n",
       " '/Library/Fonts/STIXIntDBol.otf',\n",
       " '/Library/Fonts/Arial Narrow Bold.ttf',\n",
       " '/System/Library/Fonts/SFCompactDisplay-Heavy.otf',\n",
       " '/System/Library/Fonts/SFCompactText-Medium.otf',\n",
       " '/System/Library/Fonts/SFCompactRounded-Bold.otf',\n",
       " '/System/Library/Fonts/SFNSTextCondensed-Bold.otf',\n",
       " '/System/Library/Fonts/SFNSDisplay.ttf',\n",
       " '/System/Library/Fonts/SFCompactRounded-Medium.otf',\n",
       " '/System/Library/Fonts/SFNSTextCondensed-Medium.otf',\n",
       " '/System/Library/Fonts/Symbol.ttf',\n",
       " '/System/Library/Fonts/LastResort.otf',\n",
       " '/System/Library/Fonts/SFNSDisplayCondensed-Semibold.otf',\n",
       " '/System/Library/Fonts/SFCompactText-SemiboldItalic.otf',\n",
       " '/System/Library/Fonts/SFCompactRounded-Black.otf',\n",
       " '/System/Library/Fonts/SFNSDisplayCondensed-Black.otf',\n",
       " '/System/Library/Fonts/SFCompactRounded-Semibold.otf',\n",
       " '/System/Library/Fonts/SFCompactRounded-Thin.otf',\n",
       " '/System/Library/Fonts/ZapfDingbats.ttf',\n",
       " '/System/Library/Fonts/SFNSDisplayCondensed-Thin.otf',\n",
       " '/System/Library/Fonts/Apple Braille.ttf',\n",
       " '/System/Library/Fonts/SFNSTextCondensed-Semibold.otf',\n",
       " '/System/Library/Fonts/SFNSText.ttf',\n",
       " '/System/Library/Fonts/Apple Braille Outline 6 Dot.ttf',\n",
       " '/System/Library/Fonts/SFCompactDisplay-Light.otf',\n",
       " '/System/Library/Fonts/SFCompactText-Regular.otf',\n",
       " '/System/Library/Fonts/Apple Braille Pinpoint 6 Dot.ttf',\n",
       " '/System/Library/Fonts/SFNSDisplayCondensed-Bold.otf',\n",
       " '/System/Library/Fonts/SFCompactText-BoldItalic.otf',\n",
       " '/System/Library/Fonts/SFNSDisplay-MediumItalic.otf',\n",
       " '/System/Library/Fonts/SFCompactDisplay-Semibold.otf',\n",
       " '/System/Library/Fonts/SFNSDisplayCondensed-Regular.otf',\n",
       " '/System/Library/Fonts/SFNSTextCondensed-Heavy.otf',\n",
       " '/System/Library/Fonts/SFNSDisplay-SemiboldItalic.otf',\n",
       " '/System/Library/Fonts/SFCompactDisplay-Medium.otf',\n",
       " '/System/Library/Fonts/SFCompactRounded-Ultralight.otf',\n",
       " '/System/Library/Fonts/SFCompactDisplay-Black.otf',\n",
       " '/System/Library/Fonts/SFCompactRounded-Regular.otf',\n",
       " '/System/Library/Fonts/SFCompactDisplay-Regular.otf',\n",
       " '/System/Library/Fonts/Apple Symbols.ttf',\n",
       " '/System/Library/Fonts/SFNSDisplay-BlackItalic.otf',\n",
       " '/System/Library/Fonts/SFCompactRounded-Heavy.otf',\n",
       " '/System/Library/Fonts/SFNSDisplay-RegularItalic.otf',\n",
       " '/System/Library/Fonts/SFNSDisplayCondensed-Medium.otf',\n",
       " '/System/Library/Fonts/SFCompactText-MediumItalic.otf',\n",
       " '/System/Library/Fonts/SFNSDisplay-UltralightItalic.otf',\n",
       " '/System/Library/Fonts/SFNSSymbols-Regular.otf',\n",
       " '/System/Library/Fonts/SFCompactText-Semibold.otf',\n",
       " '/System/Library/Fonts/SFCompactText-RegularItalic.otf',\n",
       " '/System/Library/Fonts/SFCompactText-Light.otf',\n",
       " '/System/Library/Fonts/SFNSTextCondensed-Regular.otf',\n",
       " '/System/Library/Fonts/SFNSDisplayCondensed-Heavy.otf',\n",
       " '/System/Library/Fonts/SFCompactDisplay-Bold.otf',\n",
       " '/System/Library/Fonts/SFCompactText-Bold.otf',\n",
       " '/System/Library/Fonts/SFCompactRounded-Light.otf',\n",
       " '/System/Library/Fonts/SFNSTextItalic.ttf',\n",
       " '/System/Library/Fonts/SFNSDisplayCondensed-Ultralight.otf',\n",
       " '/System/Library/Fonts/SFCompactDisplay-Ultralight.otf',\n",
       " '/System/Library/Fonts/SFCompactText-Heavy.otf',\n",
       " '/System/Library/Fonts/SFNSDisplayCondensed-Light.otf',\n",
       " '/System/Library/Fonts/Apple Braille Pinpoint 8 Dot.ttf',\n",
       " '/System/Library/Fonts/Keyboard.ttf',\n",
       " '/System/Library/Fonts/SFCompactText-HeavyItalic.otf',\n",
       " '/System/Library/Fonts/SFNSTextCondensed-Light.otf',\n",
       " '/System/Library/Fonts/SFNSDisplay-ThinItalic.otf',\n",
       " '/System/Library/Fonts/SFCompactText-LightItalic.otf',\n",
       " '/System/Library/Fonts/Apple Braille Outline 8 Dot.ttf',\n",
       " '/System/Library/Fonts/SFNSDisplay-BoldItalic.otf',\n",
       " '/System/Library/Fonts/SFNSDisplay-HeavyItalic.otf',\n",
       " '/System/Library/Fonts/SFNSDisplay-LightItalic.otf',\n",
       " '/System/Library/Fonts/SFCompactDisplay-Thin.otf',\n",
       " '/opt/X11/share/fonts/TTF/GohaTibebZemen.ttf',\n",
       " '/opt/X11/share/fonts/TTF/luxirbi.ttf',\n",
       " '/opt/X11/share/fonts/OTF/SyrCOMJerusalemOutline.otf',\n",
       " '/opt/X11/share/fonts/TTF/luximr.ttf',\n",
       " '/opt/X11/share/fonts/OTF/SyrCOMNisibinOutline.otf',\n",
       " '/opt/X11/share/fonts/TTF/luxisri.ttf',\n",
       " '/opt/X11/share/fonts/TTF/VeraMono.ttf',\n",
       " '/opt/X11/share/fonts/TTF/VeraMoBd.ttf',\n",
       " '/opt/X11/share/fonts/TTF/luxisr.ttf',\n",
       " '/opt/X11/share/fonts/TTF/luxisb.ttf',\n",
       " '/opt/X11/share/fonts/TTF/luxirri.ttf',\n",
       " '/opt/X11/share/fonts/OTF/SyrCOMJerusalemItalic.otf',\n",
       " '/opt/X11/share/fonts/OTF/SyrCOMEdessa.otf',\n",
       " '/opt/X11/share/fonts/TTF/luximri.ttf',\n",
       " '/opt/X11/share/fonts/OTF/SyrCOMJerusalem.otf',\n",
       " '/opt/X11/share/fonts/OTF/SyrCOMBatnan.otf',\n",
       " '/opt/X11/share/fonts/TTF/VeraSeBd.ttf',\n",
       " '/opt/X11/share/fonts/OTF/SyrCOMMidyat.otf',\n",
       " '/opt/X11/share/fonts/OTF/SyrCOMNisibin.otf',\n",
       " '/opt/X11/share/fonts/TTF/VeraBd.ttf',\n",
       " '/opt/X11/share/fonts/TTF/Vera.ttf',\n",
       " '/opt/X11/share/fonts/OTF/SyrCOMMardin.otf',\n",
       " '/opt/X11/share/fonts/TTF/luximb.ttf',\n",
       " '/opt/X11/share/fonts/OTF/SyrCOMMalankara.otf',\n",
       " '/opt/X11/share/fonts/OTF/SyrCOMMardinBold.otf',\n",
       " '/opt/X11/share/fonts/OTF/SyrCOMCtesiphon.otf',\n",
       " '/opt/X11/share/fonts/TTF/VeraSe.ttf',\n",
       " '/opt/X11/share/fonts/OTF/SyrCOMAdiabene.otf',\n",
       " '/opt/X11/share/fonts/OTF/SyrCOMAntioch.otf',\n",
       " '/opt/X11/share/fonts/TTF/VeraIt.ttf',\n",
       " '/opt/X11/share/fonts/TTF/VeraMoIt.ttf',\n",
       " '/opt/X11/share/fonts/TTF/luxirb.ttf',\n",
       " '/opt/X11/share/fonts/OTF/SyrCOMBatnanBold.otf',\n",
       " '/opt/X11/share/fonts/OTF/SyrCOMUrhoyBold.otf',\n",
       " '/opt/X11/share/fonts/TTF/luxirr.ttf',\n",
       " '/opt/X11/share/fonts/TTF/VeraMoBI.ttf',\n",
       " '/opt/X11/share/fonts/OTF/SyrCOMKharput.otf',\n",
       " '/opt/X11/share/fonts/OTF/GohaTibebZemen.otf',\n",
       " '/opt/X11/share/fonts/OTF/SyrCOMJerusalemBold.otf',\n",
       " '/opt/X11/share/fonts/TTF/luxisbi.ttf',\n",
       " '/opt/X11/share/fonts/OTF/SyrCOMUrhoy.otf',\n",
       " '/opt/X11/share/fonts/OTF/SyrCOMTalada.otf',\n",
       " '/opt/X11/share/fonts/TTF/VeraBI.ttf',\n",
       " '/opt/X11/share/fonts/TTF/luximbi.ttf',\n",
       " '/opt/X11/share/fonts/OTF/SyrCOMQenNeshrin.otf',\n",
       " '/opt/X11/share/fonts/OTF/SyrCOMTurAbdin.otf',\n",
       " '/usr/X11/lib/X11/fonts/TTF/luxisbi.ttf',\n",
       " '/usr/X11/lib/X11/fonts/TTF/VeraSe.ttf',\n",
       " '/usr/X11/lib/X11/fonts/TTF/VeraMoBd.ttf',\n",
       " '/usr/X11/lib/X11/fonts/TTF/Vera.ttf',\n",
       " '/usr/X11/lib/X11/fonts/TTF/VeraBI.ttf',\n",
       " '/usr/X11/lib/X11/fonts/TTF/luxirbi.ttf',\n",
       " '/usr/X11/lib/X11/fonts/TTF/luximbi.ttf',\n",
       " '/usr/X11/lib/X11/fonts/TTF/VeraMoIt.ttf',\n",
       " '/usr/X11/lib/X11/fonts/TTF/luxisb.ttf',\n",
       " '/usr/X11/lib/X11/fonts/TTF/luxirr.ttf',\n",
       " '/usr/X11/lib/X11/fonts/TTF/luxisr.ttf',\n",
       " '/usr/X11/lib/X11/fonts/TTF/luxisri.ttf',\n",
       " '/usr/X11/lib/X11/fonts/TTF/VeraBd.ttf',\n",
       " '/usr/X11/lib/X11/fonts/TTF/luxirb.ttf',\n",
       " '/usr/X11/lib/X11/fonts/TTF/VeraSeBd.ttf',\n",
       " '/usr/X11/lib/X11/fonts/TTF/VeraMoBI.ttf',\n",
       " '/usr/X11/lib/X11/fonts/TTF/luximri.ttf',\n",
       " '/usr/X11/lib/X11/fonts/TTF/luximr.ttf',\n",
       " '/usr/X11/lib/X11/fonts/TTF/GohaTibebZemen.ttf',\n",
       " '/usr/X11/lib/X11/fonts/TTF/VeraIt.ttf',\n",
       " '/usr/X11/lib/X11/fonts/TTF/VeraMono.ttf',\n",
       " '/usr/X11/lib/X11/fonts/TTF/luximb.ttf',\n",
       " '/usr/X11/lib/X11/fonts/TTF/luxirri.ttf',\n",
       " '/usr/X11/lib/X11/fonts/OTF/SyrCOMJerusalemOutline.otf',\n",
       " '/usr/X11/lib/X11/fonts/OTF/SyrCOMAntioch.otf',\n",
       " '/usr/X11/lib/X11/fonts/OTF/SyrCOMTalada.otf',\n",
       " '/usr/X11/lib/X11/fonts/OTF/SyrCOMNisibinOutline.otf',\n",
       " '/usr/X11/lib/X11/fonts/OTF/SyrCOMBatnanBold.otf',\n",
       " '/usr/X11/lib/X11/fonts/OTF/SyrCOMCtesiphon.otf',\n",
       " '/usr/X11/lib/X11/fonts/OTF/SyrCOMUrhoy.otf',\n",
       " '/usr/X11/lib/X11/fonts/OTF/SyrCOMMalankara.otf',\n",
       " '/usr/X11/lib/X11/fonts/OTF/SyrCOMJerusalemItalic.otf',\n",
       " '/usr/X11/lib/X11/fonts/OTF/SyrCOMBatnan.otf',\n",
       " '/usr/X11/lib/X11/fonts/OTF/SyrCOMNisibin.otf',\n",
       " '/usr/X11/lib/X11/fonts/OTF/SyrCOMKharput.otf',\n",
       " '/usr/X11/lib/X11/fonts/OTF/SyrCOMMardin.otf',\n",
       " '/usr/X11/lib/X11/fonts/OTF/GohaTibebZemen.otf',\n",
       " '/usr/X11/lib/X11/fonts/OTF/SyrCOMTurAbdin.otf',\n",
       " '/usr/X11/lib/X11/fonts/OTF/SyrCOMEdessa.otf',\n",
       " '/usr/X11/lib/X11/fonts/OTF/SyrCOMUrhoyBold.otf',\n",
       " '/usr/X11/lib/X11/fonts/OTF/SyrCOMQenNeshrin.otf',\n",
       " '/usr/X11/lib/X11/fonts/OTF/SyrCOMJerusalemBold.otf',\n",
       " '/usr/X11/lib/X11/fonts/OTF/SyrCOMAdiabene.otf',\n",
       " '/usr/X11/lib/X11/fonts/OTF/SyrCOMJerusalem.otf',\n",
       " '/usr/X11/lib/X11/fonts/OTF/SyrCOMMidyat.otf',\n",
       " '/usr/X11/lib/X11/fonts/OTF/SyrCOMMardinBold.otf']"
      ]
     },
     "execution_count": 19,
     "metadata": {},
     "output_type": "execute_result"
    }
   ],
   "source": [
    "import matplotlib.font_manager\n",
    "matplotlib.font_manager.findSystemFonts(fontpaths=None, fontext='ttf')"
   ]
  },
  {
   "cell_type": "code",
   "execution_count": 23,
   "metadata": {
    "collapsed": true
   },
   "outputs": [],
   "source": [
    "font = {'family': 'economica',\n",
    "        'color':  'darkred',\n",
    "        'weight': 'normal',\n",
    "        'size': 16,\n",
    "        }"
   ]
  },
  {
   "cell_type": "code",
   "execution_count": 31,
   "metadata": {},
   "outputs": [
    {
     "data": {
      "text/plain": [
       "(-1.000450940868824, 1.0, -1.005405605633873, 1.0051900240742344)"
      ]
     },
     "execution_count": 31,
     "metadata": {},
     "output_type": "execute_result"
    },
    {
     "data": {
      "image/png": "[encoded data removed]",
      "text/plain": [
       "<matplotlib.figure.Figure at 0x11cff8240>"
      ]
     },
     "metadata": {},
     "output_type": "display_data"
    }
   ],
   "source": [
    "#%config InlineBackend.figure_format = 'retina'\n",
    "#matplotlib.rcParams['savefig.dpi'] = 160\n",
    "#matplotlib.rcParams['figure.dpi'] = 160\n",
    "matplotlib.rcParams['figure.figsize'] = [6, 6]\n",
    "citation_on_papers = [89.0, 11.0]\n",
    "citation_labels = [\"<20\", \"20+\"]\n",
    "colors = [\"#A4C2F4\",\"#CCA677\"]\n",
    "#citation_pie_chart = plt.pie(citation_on_papers, labels = citation_labels, colors = colors)\n",
    "citation_pie_chart = plt.pie(citation_on_papers, colors = colors)\n",
    "plt.axis(\"equal\")\n",
    "\n",
    "#plt.legend()"
   ]
  },
  {
   "cell_type": "code",
   "execution_count": 36,
   "metadata": {},
   "outputs": [
    {
     "data": {
      "text/plain": [
       "(-1.000450940868824,\n",
       " 1.0940880737873544,\n",
       " -1.005405605633873,\n",
       " 1.0051900240742344)"
      ]
     },
     "execution_count": 36,
     "metadata": {},
     "output_type": "execute_result"
    },
    {
     "data": {
      "image/png": "[encoded data removed]",
      "text/plain": [
       "<matplotlib.figure.Figure at 0x11cb8d278>"
      ]
     },
     "metadata": {},
     "output_type": "display_data"
    }
   ],
   "source": [
    "#%config InlineBackend.figure_format = 'retina'\n",
    "#matplotlib.rcParams['savefig.dpi'] = 160\n",
    "#matplotlib.rcParams['figure.dpi'] = 160\n",
    "matplotlib.rcParams['figure.figsize'] = [6, 6]\n",
    "citation_on_papers = [89.0, 11.0]\n",
    "citation_labels = [\"<20\", \"20+\"]\n",
    "explode = (0, 0.1) \n",
    "colors = [\"#A4C2F4\",\"#CCA677\"]\n",
    "#citation_pie_chart = plt.pie(citation_on_papers, labels = citation_labels, colors = colors)\n",
    "citation_pie_chart = plt.pie(citation_on_papers,explode = explode, colors = colors)\n",
    "plt.axis(\"equal\")\n",
    "\n",
    "#plt.legend()"
   ]
  },
  {
   "cell_type": "code",
   "execution_count": 38,
   "metadata": {},
   "outputs": [
    {
     "data": {
      "text/plain": [
       "(-1.0035898738549756,\n",
       " 1.0000000006127967,\n",
       " -1.0050135865021992,\n",
       " 1.001918540895705)"
      ]
     },
     "execution_count": 38,
     "metadata": {},
     "output_type": "execute_result"
    },
    {
     "data": {
      "image/png": "[encoded data removed]",
      "text/plain": [
       "<matplotlib.figure.Figure at 0x11d2db828>"
      ]
     },
     "metadata": {},
     "output_type": "display_data"
    }
   ],
   "source": [
    "#%config InlineBackend.figure_format = 'retina'\n",
    "#matplotlib.rcParams['savefig.dpi'] = 160\n",
    "#matplotlib.rcParams['figure.dpi'] = 160\n",
    "matplotlib.rcParams['figure.figsize'] = [6, 6]\n",
    "citation_on_papers = [99.0, 1.0]\n",
    "colors = [\"#A4C2F4\",\"#CCA677\"]\n",
    "#citation_pie_chart = plt.pie(citation_on_papers, labels = citation_labels, colors = colors)\n",
    "citation_pie_chart = plt.pie(citation_on_papers, colors = colors)\n",
    "plt.axis(\"equal\")\n",
    "\n",
    "#plt.legend()"
   ]
  },
  {
   "cell_type": "code",
   "execution_count": 77,
   "metadata": {},
   "outputs": [
    {
     "data": {
      "image/png": "[encoded data removed]",
      "text/plain": [
       "<matplotlib.figure.Figure at 0x11ce68320>"
      ]
     },
     "metadata": {},
     "output_type": "display_data"
    }
   ],
   "source": [
    "#%config InlineBackend.figure_format = 'retina'\n",
    "#matplotlib.rcParams['savefig.dpi'] = 160\n",
    "#matplotlib.rcParams['figure.dpi'] = 160\n",
    "matplotlib.rcParams['figure.figsize'] = [6, 6]\n",
    "x = [1,2]\n",
    "height = [71, 5]\n",
    "tick_label = [\"\", \"\"]\n",
    "colors = [\"#A4C2F4\",\"#CCA677\"]\n",
    "tag_bar_chart = plt.bar([0, 1], height=height, width = 0.5, align = 'center', color = colors, tick_label = tick_label)\n",
    "plt.tick_params(axis='both', which='both', bottom='off', top='off', labelbottom='off', right='off', left='off', labelleft='off')\n",
    "#plt.legend()"
   ]
  },
  {
   "cell_type": "code",
   "execution_count": null,
   "metadata": {
    "collapsed": true
   },
   "outputs": [],
   "source": []
  },
  {
   "cell_type": "code",
   "execution_count": null,
   "metadata": {
    "collapsed": true
   },
   "outputs": [],
   "source": []
  },
  {
   "cell_type": "code",
   "execution_count": 78,
   "metadata": {
    "collapsed": true
   },
   "outputs": [],
   "source": [
    "import resource"
   ]
  },
  {
   "cell_type": "code",
   "execution_count": 80,
   "metadata": {},
   "outputs": [
    {
     "data": {
      "text/plain": [
       "103.256064"
      ]
     },
     "execution_count": 80,
     "metadata": {},
     "output_type": "execute_result"
    }
   ],
   "source": [
    "resource.getrusage(resource.RUSAGE_SELF).ru_maxrss * (1e-6) "
   ]
  },
  {
   "cell_type": "code",
   "execution_count": 5,
   "metadata": {},
   "outputs": [
    {
     "name": "stdout",
     "output_type": "stream",
     "text": [
      "Schema for filtered data\n",
      "-------------------------------------\n",
      "root\n",
      " |-- citations: string (nullable = true)\n",
      " |-- abstracts: string (nullable = true)\n",
      " |-- id: string (nullable = true)\n",
      " |-- title: string (nullable = true)\n",
      " |-- tags: string (nullable = true)\n",
      "\n",
      "Entries for filtered_df\n",
      "----------------------------\n",
      "+---------+--------------------+--------------------+--------------------+--------------------+\n",
      "|citations|           abstracts|                  id|               title|                tags|\n",
      "+---------+--------------------+--------------------+--------------------+--------------------+\n",
      "|       13|The case records ...|cfa06e42e05780113...|Dilated cardiomyo...|\"Atrial Fibrillat...|\n",
      "|       79|Gammadelta T cell...|01276e6f0d18c35d5...|Structure of a ga...|\"Complementarity ...|\n",
      "|       12|Traditionally, ra...|63e0427caaaae0211...|High dose-rate br...|\"Brachytherapy\",\"...|\n",
      "|       19|Twenty-two patien...|ecfc8dd2484de3c64...|Significance of i...|\"Blood Platelet D...|\n",
      "|       41|Here, we show tha...|404b03f473f95bc2d...|Expression of mTe...|\"Catalytic Domain...|\n",
      "|       24|The present study...|30aaf92bde9bf6cdc...|Circadian drinkin...|\"Eating\",\"Ethanol...|\n",
      "|       29|Low-grade (LG) se...|b8be59215c7f983bd...|The anterior grad...|\"Anaplasia\",\"Body...|\n",
      "|       64|The empty spiracl...|6c94a3e80a163fe89...|Empty spiracles, ...|\"Acids\",\"Amino Ac...|\n",
      "|       44|To measure 1) the...|476f12c4714d21ce4...|Role of human liv...|\"Body tissue\",\"Ca...|\n",
      "|       69|RNA polymerase (R...|eb925f6f4fa7eb9e2...|Localization of R...|\"Anisotropic band...|\n",
      "|       63|Despite a well-es...|63c46ec7baea8037d...|Alcohol effects o...|                    |\n",
      "|      102|Recently, a famil...|82652b78eabfb9c9e...|Immunolocalizatio...|\"Anions\",\"Breast ...|\n",
      "|       50|Four meta-analyse...|d0e44ad4906651e64...|Circulating insul...|\"Confidence Inter...|\n",
      "|       18|The dynamic inter...|864ca4044d2ebf88a...|Heart rate dynami...|\"Heart failure\",\"...|\n",
      "|       34|Depletion of any ...|141326eb5eb3c01c4...|Lsm proteins are ...|\"Fc-Gamma Recepto...|\n",
      "|       52|Recently, genome-...|08cc8f7995816d162...|Comprehensive res...|\"8q24\",\"Biopolyme...|\n",
      "|       13|The local express...|ff17a2c490ead1dff...|Soluble CD44 spli...|\"Anatomic Node\",\"...|\n",
      "|       11|OBJECTIVE To eval...|e10f87beecff8348d...|Diurnal and noctu...|\"Anterior chamber...|\n",
      "|       13|BACKGROUND Retino...|0448f2d1c5a997c86...|In vitro phototox...|\"1-phenyl-3,3-dim...|\n",
      "|       21|BACKGROUND Outcom...|2f45b6c0807613f93...|Using multilevel ...|\"Patients\",\"Regre...|\n",
      "+---------+--------------------+--------------------+--------------------+--------------------+\n",
      "only showing top 20 rows\n",
      "\n",
      "\n",
      "\n",
      "Number of rows! 141922\n",
      "\n",
      "\n",
      "4\n"
     ]
    }
   ],
   "source": [
    "import pyspark\n",
    "from pyspark.sql.types import *\n",
    "from pyspark.sql.functions import udf, struct, col\n",
    "from pyspark.sql import SQLContext\n",
    "from pyspark import SparkContext\n",
    "from pyspark.sql.session import SparkSession\n",
    "\n",
    "sc = SparkContext.getOrCreate()\n",
    "spark = SparkSession(sc)\n",
    "\n",
    "# raw data filenames \n",
    "\n",
    "# intial read in\n",
    "df = spark.read.parquet(\"part-00000-7db11568-5fd4-484d-bb78-b56cddaf7721-c000.snappy.parquet\")\n",
    " \n",
    "print(\"Schema for filtered data\")\n",
    "print(\"-------------------------------------\")\n",
    "df.createOrReplaceTempView(\"filtered_df\")\n",
    "df.printSchema()\n",
    "results = spark.sql(\"SELECT * FROM filtered_df\")\n",
    "print(\"Entries for filtered_df\")\n",
    "print(\"----------------------------\")\n",
    "results.show()\n",
    "print()\n",
    "print()\n",
    "print(\"Number of rows!\", results.count())\n",
    "print()\n",
    "print()\n",
    "print(df.rdd.getNumPartitions())\n"
   ]
  },
  {
   "cell_type": "code",
   "execution_count": 6,
   "metadata": {},
   "outputs": [
    {
     "data": {
      "text/plain": [
       "6670334"
      ]
     },
     "execution_count": 6,
     "metadata": {},
     "output_type": "execute_result"
    }
   ],
   "source": [
    "141922*47"
   ]
  },
  {
   "cell_type": "code",
   "execution_count": 9,
   "metadata": {},
   "outputs": [
    {
     "data": {
      "text/plain": [
       "5561669458944.5"
      ]
     },
     "execution_count": 9,
     "metadata": {},
     "output_type": "execute_result"
    }
   ],
   "source": [
    "6670334**2 / 8"
   ]
  },
  {
   "cell_type": "code",
   "execution_count": 5,
   "metadata": {},
   "outputs": [],
   "source": [
    "import nltk\n",
    "from nltk.stem import PorterStemmer\n",
    "\n",
    "def tokenizer(abstract):\n",
    "    '''\n",
    "    This function takes a string and makes it a list of words \n",
    "    '''\n",
    "    token_abstract = abstract.split()\n",
    "    return token_abstract\n",
    "\n",
    "def stemming(list_abstract):\n",
    "    '''\n",
    "    This function takes a tokenized string of words and stems them \n",
    "    using the PorterStemmer from the nltk package \n",
    "    '''\n",
    "    stem_sentence=[]\n",
    "    for word in list_abstract:\n",
    "        stem_sentence.append(PorterStemmer().stem(word))\n",
    "    return stem_sentence\n",
    "\n",
    "def jaccard_index(line):\n",
    "    '''\n",
    "    Calculates the jaccard index of two abstracts \n",
    "    '''\n",
    "\n",
    "    jiccard_index = None #initialize jiccard index \n",
    "    abstract_1 = line.abstracts_df1\n",
    "    abstract_2 = line.abstracts_df2\n",
    "     \n",
    "    # splits the abstracts into a list of words  \n",
    "    token_abst_1 = tokenizer(abstract_1) # this is a list of tokens from abstract 1\n",
    "    token_abst_2 = tokenizer(abstract_2) # this is a list of tokens from abstract 2\n",
    "    \n",
    "    # stem the words \n",
    "    stemmed_abst_1 = set(stemming(token_abst_1)) # this is set of stemmed tokens from abstract 1 \n",
    "    stemmed_abst_2 =  set(stemming(token_abst_2)) # this is a set of stemmed tokens from abstract 2 \n",
    "\n",
    "    # count number of words in each list \n",
    "    #words_in_abst_1 = len(token_abst_1)# number of words in abstract 1\n",
    "    #words_in_abst_2 = len(token_abst_2) # number of words in abstract 2 \n",
    "\n",
    "    # combines the two lists and takes the set to get total number of unique words \n",
    "    combined_set = stemmed_abst_1.union(stemmed_abst_2)\n",
    "    \n",
    "    # Find the length of the set \n",
    "    words_in_combined_set = len(combined_set) # number of words in combined set\n",
    "    \n",
    "    same_words = 0 # initialize the number of same words \n",
    "    for word in stemmed_abst_1: \n",
    "        if word in stemmed_abst_2:\n",
    "            same_words +=1 \n",
    "\n",
    "    jaccard_index = same_words / words_in_combined_set\n",
    "    \n",
    "    return jaccard_index \n",
    "\n",
    "def add_jaccard(df):\n",
    "    df = df.withColumn(\"jaccard\", jaccard_index_udf(struct([df[x] for x in df.columns])))\n",
    "    return df \n",
    "\n",
    "jaccard_index_udf = udf(lambda line:jaccard_index(line), StringType())"
   ]
  },
  {
   "cell_type": "code",
   "execution_count": 7,
   "metadata": {
    "scrolled": false
   },
   "outputs": [
    {
     "ename": "Py4JJavaError",
     "evalue": "An error occurred while calling z:org.apache.spark.api.python.PythonRDD.collectAndServe.\n: org.apache.spark.SparkException: Job aborted due to stage failure: Task 0 in stage 1.0 failed 1 times, most recent failure: Lost task 0.0 in stage 1.0 (TID 1, localhost, executor driver): org.apache.spark.api.python.PythonException: Traceback (most recent call last):\n  File \"/opt/spark/python/lib/pyspark.zip/pyspark/worker.py\", line 377, in main\n    process()\n  File \"/opt/spark/python/lib/pyspark.zip/pyspark/worker.py\", line 372, in process\n    serializer.dump_stream(func(split_index, iterator), outfile)\n  File \"/opt/spark/python/lib/pyspark.zip/pyspark/serializers.py\", line 345, in dump_stream\n    self.serializer.dump_stream(self._batched(iterator), stream)\n  File \"/opt/spark/python/lib/pyspark.zip/pyspark/serializers.py\", line 141, in dump_stream\n    for obj in iterator:\n  File \"/opt/spark/python/lib/pyspark.zip/pyspark/serializers.py\", line 334, in _batched\n    for item in iterator:\n  File \"<string>\", line 1, in <lambda>\n  File \"/opt/spark/python/lib/pyspark.zip/pyspark/worker.py\", line 85, in <lambda>\n    return lambda *a: f(*a)\n  File \"/opt/spark/python/lib/pyspark.zip/pyspark/util.py\", line 99, in wrapper\n    return f(*args, **kwargs)\n  File \"<ipython-input-5-c921b6198dee>\", line 61, in <lambda>\n  File \"<ipython-input-5-c921b6198dee>\", line 32, in jaccard_index\n  File \"<ipython-input-5-c921b6198dee>\", line 8, in tokenizer\nAttributeError: 'NoneType' object has no attribute 'split'\n\n\tat org.apache.spark.api.python.BasePythonRunner$ReaderIterator.handlePythonException(PythonRunner.scala:452)\n\tat org.apache.spark.sql.execution.python.PythonUDFRunner$$anon$1.read(PythonUDFRunner.scala:81)\n\tat org.apache.spark.sql.execution.python.PythonUDFRunner$$anon$1.read(PythonUDFRunner.scala:64)\n\tat org.apache.spark.api.python.BasePythonRunner$ReaderIterator.hasNext(PythonRunner.scala:406)\n\tat org.apache.spark.InterruptibleIterator.hasNext(InterruptibleIterator.scala:37)\n\tat scala.collection.Iterator$$anon$12.hasNext(Iterator.scala:440)\n\tat scala.collection.Iterator$$anon$11.hasNext(Iterator.scala:409)\n\tat scala.collection.Iterator$$anon$11.hasNext(Iterator.scala:409)\n\tat org.apache.spark.sql.catalyst.expressions.GeneratedClass$GeneratedIteratorForCodegenStage7.processNext(Unknown Source)\n\tat org.apache.spark.sql.execution.BufferedRowIterator.hasNext(BufferedRowIterator.java:43)\n\tat org.apache.spark.sql.execution.WholeStageCodegenExec$$anonfun$13$$anon$1.hasNext(WholeStageCodegenExec.scala:636)\n\tat scala.collection.Iterator$$anon$11.hasNext(Iterator.scala:409)\n\tat org.apache.spark.shuffle.sort.BypassMergeSortShuffleWriter.write(BypassMergeSortShuffleWriter.java:125)\n\tat org.apache.spark.scheduler.ShuffleMapTask.runTask(ShuffleMapTask.scala:99)\n\tat org.apache.spark.scheduler.ShuffleMapTask.runTask(ShuffleMapTask.scala:55)\n\tat org.apache.spark.scheduler.Task.run(Task.scala:121)\n\tat org.apache.spark.executor.Executor$TaskRunner$$anonfun$10.apply(Executor.scala:403)\n\tat org.apache.spark.util.Utils$.tryWithSafeFinally(Utils.scala:1360)\n\tat org.apache.spark.executor.Executor$TaskRunner.run(Executor.scala:409)\n\tat java.util.concurrent.ThreadPoolExecutor.runWorker(ThreadPoolExecutor.java:1149)\n\tat java.util.concurrent.ThreadPoolExecutor$Worker.run(ThreadPoolExecutor.java:624)\n\tat java.lang.Thread.run(Thread.java:748)\n\nDriver stacktrace:\n\tat org.apache.spark.scheduler.DAGScheduler.org$apache$spark$scheduler$DAGScheduler$$failJobAndIndependentStages(DAGScheduler.scala:1889)\n\tat org.apache.spark.scheduler.DAGScheduler$$anonfun$abortStage$1.apply(DAGScheduler.scala:1877)\n\tat org.apache.spark.scheduler.DAGScheduler$$anonfun$abortStage$1.apply(DAGScheduler.scala:1876)\n\tat scala.collection.mutable.ResizableArray$class.foreach(ResizableArray.scala:59)\n\tat scala.collection.mutable.ArrayBuffer.foreach(ArrayBuffer.scala:48)\n\tat org.apache.spark.scheduler.DAGScheduler.abortStage(DAGScheduler.scala:1876)\n\tat org.apache.spark.scheduler.DAGScheduler$$anonfun$handleTaskSetFailed$1.apply(DAGScheduler.scala:926)\n\tat org.apache.spark.scheduler.DAGScheduler$$anonfun$handleTaskSetFailed$1.apply(DAGScheduler.scala:926)\n\tat scala.Option.foreach(Option.scala:257)\n\tat org.apache.spark.scheduler.DAGScheduler.handleTaskSetFailed(DAGScheduler.scala:926)\n\tat org.apache.spark.scheduler.DAGSchedulerEventProcessLoop.doOnReceive(DAGScheduler.scala:2110)\n\tat org.apache.spark.scheduler.DAGSchedulerEventProcessLoop.onReceive(DAGScheduler.scala:2059)\n\tat org.apache.spark.scheduler.DAGSchedulerEventProcessLoop.onReceive(DAGScheduler.scala:2048)\n\tat org.apache.spark.util.EventLoop$$anon$1.run(EventLoop.scala:49)\n\tat org.apache.spark.scheduler.DAGScheduler.runJob(DAGScheduler.scala:737)\n\tat org.apache.spark.SparkContext.runJob(SparkContext.scala:2061)\n\tat org.apache.spark.SparkContext.runJob(SparkContext.scala:2082)\n\tat org.apache.spark.SparkContext.runJob(SparkContext.scala:2101)\n\tat org.apache.spark.SparkContext.runJob(SparkContext.scala:2126)\n\tat org.apache.spark.rdd.RDD$$anonfun$collect$1.apply(RDD.scala:945)\n\tat org.apache.spark.rdd.RDDOperationScope$.withScope(RDDOperationScope.scala:151)\n\tat org.apache.spark.rdd.RDDOperationScope$.withScope(RDDOperationScope.scala:112)\n\tat org.apache.spark.rdd.RDD.withScope(RDD.scala:363)\n\tat org.apache.spark.rdd.RDD.collect(RDD.scala:944)\n\tat org.apache.spark.api.python.PythonRDD$.collectAndServe(PythonRDD.scala:166)\n\tat org.apache.spark.api.python.PythonRDD.collectAndServe(PythonRDD.scala)\n\tat sun.reflect.NativeMethodAccessorImpl.invoke0(Native Method)\n\tat sun.reflect.NativeMethodAccessorImpl.invoke(NativeMethodAccessorImpl.java:62)\n\tat sun.reflect.DelegatingMethodAccessorImpl.invoke(DelegatingMethodAccessorImpl.java:43)\n\tat java.lang.reflect.Method.invoke(Method.java:498)\n\tat py4j.reflection.MethodInvoker.invoke(MethodInvoker.java:244)\n\tat py4j.reflection.ReflectionEngine.invoke(ReflectionEngine.java:357)\n\tat py4j.Gateway.invoke(Gateway.java:282)\n\tat py4j.commands.AbstractCommand.invokeMethod(AbstractCommand.java:132)\n\tat py4j.commands.CallCommand.execute(CallCommand.java:79)\n\tat py4j.GatewayConnection.run(GatewayConnection.java:238)\n\tat java.lang.Thread.run(Thread.java:748)\nCaused by: org.apache.spark.api.python.PythonException: Traceback (most recent call last):\n  File \"/opt/spark/python/lib/pyspark.zip/pyspark/worker.py\", line 377, in main\n    process()\n  File \"/opt/spark/python/lib/pyspark.zip/pyspark/worker.py\", line 372, in process\n    serializer.dump_stream(func(split_index, iterator), outfile)\n  File \"/opt/spark/python/lib/pyspark.zip/pyspark/serializers.py\", line 345, in dump_stream\n    self.serializer.dump_stream(self._batched(iterator), stream)\n  File \"/opt/spark/python/lib/pyspark.zip/pyspark/serializers.py\", line 141, in dump_stream\n    for obj in iterator:\n  File \"/opt/spark/python/lib/pyspark.zip/pyspark/serializers.py\", line 334, in _batched\n    for item in iterator:\n  File \"<string>\", line 1, in <lambda>\n  File \"/opt/spark/python/lib/pyspark.zip/pyspark/worker.py\", line 85, in <lambda>\n    return lambda *a: f(*a)\n  File \"/opt/spark/python/lib/pyspark.zip/pyspark/util.py\", line 99, in wrapper\n    return f(*args, **kwargs)\n  File \"<ipython-input-5-c921b6198dee>\", line 61, in <lambda>\n  File \"<ipython-input-5-c921b6198dee>\", line 32, in jaccard_index\n  File \"<ipython-input-5-c921b6198dee>\", line 8, in tokenizer\nAttributeError: 'NoneType' object has no attribute 'split'\n\n\tat org.apache.spark.api.python.BasePythonRunner$ReaderIterator.handlePythonException(PythonRunner.scala:452)\n\tat org.apache.spark.sql.execution.python.PythonUDFRunner$$anon$1.read(PythonUDFRunner.scala:81)\n\tat org.apache.spark.sql.execution.python.PythonUDFRunner$$anon$1.read(PythonUDFRunner.scala:64)\n\tat org.apache.spark.api.python.BasePythonRunner$ReaderIterator.hasNext(PythonRunner.scala:406)\n\tat org.apache.spark.InterruptibleIterator.hasNext(InterruptibleIterator.scala:37)\n\tat scala.collection.Iterator$$anon$12.hasNext(Iterator.scala:440)\n\tat scala.collection.Iterator$$anon$11.hasNext(Iterator.scala:409)\n\tat scala.collection.Iterator$$anon$11.hasNext(Iterator.scala:409)\n\tat org.apache.spark.sql.catalyst.expressions.GeneratedClass$GeneratedIteratorForCodegenStage7.processNext(Unknown Source)\n\tat org.apache.spark.sql.execution.BufferedRowIterator.hasNext(BufferedRowIterator.java:43)\n\tat org.apache.spark.sql.execution.WholeStageCodegenExec$$anonfun$13$$anon$1.hasNext(WholeStageCodegenExec.scala:636)\n\tat scala.collection.Iterator$$anon$11.hasNext(Iterator.scala:409)\n\tat org.apache.spark.shuffle.sort.BypassMergeSortShuffleWriter.write(BypassMergeSortShuffleWriter.java:125)\n\tat org.apache.spark.scheduler.ShuffleMapTask.runTask(ShuffleMapTask.scala:99)\n\tat org.apache.spark.scheduler.ShuffleMapTask.runTask(ShuffleMapTask.scala:55)\n\tat org.apache.spark.scheduler.Task.run(Task.scala:121)\n\tat org.apache.spark.executor.Executor$TaskRunner$$anonfun$10.apply(Executor.scala:403)\n\tat org.apache.spark.util.Utils$.tryWithSafeFinally(Utils.scala:1360)\n\tat org.apache.spark.executor.Executor$TaskRunner.run(Executor.scala:409)\n\tat java.util.concurrent.ThreadPoolExecutor.runWorker(ThreadPoolExecutor.java:1149)\n\tat java.util.concurrent.ThreadPoolExecutor$Worker.run(ThreadPoolExecutor.java:624)\n\t... 1 more\n",
     "output_type": "error",
     "traceback": [
      "\u001b[0;31m---------------------------------------------------------------------------\u001b[0m",
      "\u001b[0;31mPy4JJavaError\u001b[0m                             Traceback (most recent call last)",
      "\u001b[0;32m<ipython-input-7-08dc1e88f273>\u001b[0m in \u001b[0;36m<module>\u001b[0;34m()\u001b[0m\n\u001b[1;32m    259\u001b[0m         \u001b[0mprint\u001b[0m\u001b[0;34m(\u001b[0m\u001b[0mq\u001b[0m\u001b[0;34m)\u001b[0m\u001b[0;34m\u001b[0m\u001b[0;34m\u001b[0m\u001b[0m\n\u001b[1;32m    260\u001b[0m \u001b[0;34m\u001b[0m\u001b[0m\n\u001b[0;32m--> 261\u001b[0;31m \u001b[0mdf\u001b[0m\u001b[0;34m.\u001b[0m\u001b[0mforeachPartition\u001b[0m\u001b[0;34m(\u001b[0m\u001b[0mprint_line\u001b[0m\u001b[0;34m)\u001b[0m\u001b[0;34m\u001b[0m\u001b[0;34m\u001b[0m\u001b[0m\n\u001b[0m\u001b[1;32m    262\u001b[0m \u001b[0;34m\u001b[0m\u001b[0m\n\u001b[1;32m    263\u001b[0m \u001b[0;31m#df = df.select(for x in [\"id\", \"title\", \"abstracts\"]df1.columns)\u001b[0m\u001b[0;34m\u001b[0m\u001b[0;34m\u001b[0m\u001b[0;34m\u001b[0m\u001b[0m\n",
      "\u001b[0;32m/opt/spark/python/pyspark/sql/dataframe.py\u001b[0m in \u001b[0;36mforeachPartition\u001b[0;34m(self, f)\u001b[0m\n\u001b[1;32m    594\u001b[0m         \u001b[0;34m>>\u001b[0m\u001b[0;34m>\u001b[0m \u001b[0mdf\u001b[0m\u001b[0;34m.\u001b[0m\u001b[0mforeachPartition\u001b[0m\u001b[0;34m(\u001b[0m\u001b[0mf\u001b[0m\u001b[0;34m)\u001b[0m\u001b[0;34m\u001b[0m\u001b[0;34m\u001b[0m\u001b[0m\n\u001b[1;32m    595\u001b[0m         \"\"\"\n\u001b[0;32m--> 596\u001b[0;31m         \u001b[0mself\u001b[0m\u001b[0;34m.\u001b[0m\u001b[0mrdd\u001b[0m\u001b[0;34m.\u001b[0m\u001b[0mforeachPartition\u001b[0m\u001b[0;34m(\u001b[0m\u001b[0mf\u001b[0m\u001b[0;34m)\u001b[0m\u001b[0;34m\u001b[0m\u001b[0;34m\u001b[0m\u001b[0m\n\u001b[0m\u001b[1;32m    597\u001b[0m \u001b[0;34m\u001b[0m\u001b[0m\n\u001b[1;32m    598\u001b[0m     \u001b[0;34m@\u001b[0m\u001b[0msince\u001b[0m\u001b[0;34m(\u001b[0m\u001b[0;36m1.3\u001b[0m\u001b[0;34m)\u001b[0m\u001b[0;34m\u001b[0m\u001b[0;34m\u001b[0m\u001b[0m\n",
      "\u001b[0;32m/opt/spark/python/pyspark/rdd.py\u001b[0m in \u001b[0;36mforeachPartition\u001b[0;34m(self, f)\u001b[0m\n\u001b[1;32m    804\u001b[0m             \u001b[0;32mexcept\u001b[0m \u001b[0mTypeError\u001b[0m\u001b[0;34m:\u001b[0m\u001b[0;34m\u001b[0m\u001b[0;34m\u001b[0m\u001b[0m\n\u001b[1;32m    805\u001b[0m                 \u001b[0;32mreturn\u001b[0m \u001b[0miter\u001b[0m\u001b[0;34m(\u001b[0m\u001b[0;34m[\u001b[0m\u001b[0;34m]\u001b[0m\u001b[0;34m)\u001b[0m\u001b[0;34m\u001b[0m\u001b[0;34m\u001b[0m\u001b[0m\n\u001b[0;32m--> 806\u001b[0;31m         \u001b[0mself\u001b[0m\u001b[0;34m.\u001b[0m\u001b[0mmapPartitions\u001b[0m\u001b[0;34m(\u001b[0m\u001b[0mfunc\u001b[0m\u001b[0;34m)\u001b[0m\u001b[0;34m.\u001b[0m\u001b[0mcount\u001b[0m\u001b[0;34m(\u001b[0m\u001b[0;34m)\u001b[0m  \u001b[0;31m# Force evaluation\u001b[0m\u001b[0;34m\u001b[0m\u001b[0;34m\u001b[0m\u001b[0m\n\u001b[0m\u001b[1;32m    807\u001b[0m \u001b[0;34m\u001b[0m\u001b[0m\n\u001b[1;32m    808\u001b[0m     \u001b[0;32mdef\u001b[0m \u001b[0mcollect\u001b[0m\u001b[0;34m(\u001b[0m\u001b[0mself\u001b[0m\u001b[0;34m)\u001b[0m\u001b[0;34m:\u001b[0m\u001b[0;34m\u001b[0m\u001b[0;34m\u001b[0m\u001b[0m\n",
      "\u001b[0;32m/opt/spark/python/pyspark/rdd.py\u001b[0m in \u001b[0;36mcount\u001b[0;34m(self)\u001b[0m\n\u001b[1;32m   1053\u001b[0m         \u001b[0;36m3\u001b[0m\u001b[0;34m\u001b[0m\u001b[0;34m\u001b[0m\u001b[0m\n\u001b[1;32m   1054\u001b[0m         \"\"\"\n\u001b[0;32m-> 1055\u001b[0;31m         \u001b[0;32mreturn\u001b[0m \u001b[0mself\u001b[0m\u001b[0;34m.\u001b[0m\u001b[0mmapPartitions\u001b[0m\u001b[0;34m(\u001b[0m\u001b[0;32mlambda\u001b[0m \u001b[0mi\u001b[0m\u001b[0;34m:\u001b[0m \u001b[0;34m[\u001b[0m\u001b[0msum\u001b[0m\u001b[0;34m(\u001b[0m\u001b[0;36m1\u001b[0m \u001b[0;32mfor\u001b[0m \u001b[0m_\u001b[0m \u001b[0;32min\u001b[0m \u001b[0mi\u001b[0m\u001b[0;34m)\u001b[0m\u001b[0;34m]\u001b[0m\u001b[0;34m)\u001b[0m\u001b[0;34m.\u001b[0m\u001b[0msum\u001b[0m\u001b[0;34m(\u001b[0m\u001b[0;34m)\u001b[0m\u001b[0;34m\u001b[0m\u001b[0;34m\u001b[0m\u001b[0m\n\u001b[0m\u001b[1;32m   1056\u001b[0m \u001b[0;34m\u001b[0m\u001b[0m\n\u001b[1;32m   1057\u001b[0m     \u001b[0;32mdef\u001b[0m \u001b[0mstats\u001b[0m\u001b[0;34m(\u001b[0m\u001b[0mself\u001b[0m\u001b[0;34m)\u001b[0m\u001b[0;34m:\u001b[0m\u001b[0;34m\u001b[0m\u001b[0;34m\u001b[0m\u001b[0m\n",
      "\u001b[0;32m/opt/spark/python/pyspark/rdd.py\u001b[0m in \u001b[0;36msum\u001b[0;34m(self)\u001b[0m\n\u001b[1;32m   1044\u001b[0m         \u001b[0;36m6.0\u001b[0m\u001b[0;34m\u001b[0m\u001b[0;34m\u001b[0m\u001b[0m\n\u001b[1;32m   1045\u001b[0m         \"\"\"\n\u001b[0;32m-> 1046\u001b[0;31m         \u001b[0;32mreturn\u001b[0m \u001b[0mself\u001b[0m\u001b[0;34m.\u001b[0m\u001b[0mmapPartitions\u001b[0m\u001b[0;34m(\u001b[0m\u001b[0;32mlambda\u001b[0m \u001b[0mx\u001b[0m\u001b[0;34m:\u001b[0m \u001b[0;34m[\u001b[0m\u001b[0msum\u001b[0m\u001b[0;34m(\u001b[0m\u001b[0mx\u001b[0m\u001b[0;34m)\u001b[0m\u001b[0;34m]\u001b[0m\u001b[0;34m)\u001b[0m\u001b[0;34m.\u001b[0m\u001b[0mfold\u001b[0m\u001b[0;34m(\u001b[0m\u001b[0;36m0\u001b[0m\u001b[0;34m,\u001b[0m \u001b[0moperator\u001b[0m\u001b[0;34m.\u001b[0m\u001b[0madd\u001b[0m\u001b[0;34m)\u001b[0m\u001b[0;34m\u001b[0m\u001b[0;34m\u001b[0m\u001b[0m\n\u001b[0m\u001b[1;32m   1047\u001b[0m \u001b[0;34m\u001b[0m\u001b[0m\n\u001b[1;32m   1048\u001b[0m     \u001b[0;32mdef\u001b[0m \u001b[0mcount\u001b[0m\u001b[0;34m(\u001b[0m\u001b[0mself\u001b[0m\u001b[0;34m)\u001b[0m\u001b[0;34m:\u001b[0m\u001b[0;34m\u001b[0m\u001b[0;34m\u001b[0m\u001b[0m\n",
      "\u001b[0;32m/opt/spark/python/pyspark/rdd.py\u001b[0m in \u001b[0;36mfold\u001b[0;34m(self, zeroValue, op)\u001b[0m\n\u001b[1;32m    915\u001b[0m         \u001b[0;31m# zeroValue provided to each partition is unique from the one provided\u001b[0m\u001b[0;34m\u001b[0m\u001b[0;34m\u001b[0m\u001b[0;34m\u001b[0m\u001b[0m\n\u001b[1;32m    916\u001b[0m         \u001b[0;31m# to the final reduce call\u001b[0m\u001b[0;34m\u001b[0m\u001b[0;34m\u001b[0m\u001b[0;34m\u001b[0m\u001b[0m\n\u001b[0;32m--> 917\u001b[0;31m         \u001b[0mvals\u001b[0m \u001b[0;34m=\u001b[0m \u001b[0mself\u001b[0m\u001b[0;34m.\u001b[0m\u001b[0mmapPartitions\u001b[0m\u001b[0;34m(\u001b[0m\u001b[0mfunc\u001b[0m\u001b[0;34m)\u001b[0m\u001b[0;34m.\u001b[0m\u001b[0mcollect\u001b[0m\u001b[0;34m(\u001b[0m\u001b[0;34m)\u001b[0m\u001b[0;34m\u001b[0m\u001b[0;34m\u001b[0m\u001b[0m\n\u001b[0m\u001b[1;32m    918\u001b[0m         \u001b[0;32mreturn\u001b[0m \u001b[0mreduce\u001b[0m\u001b[0;34m(\u001b[0m\u001b[0mop\u001b[0m\u001b[0;34m,\u001b[0m \u001b[0mvals\u001b[0m\u001b[0;34m,\u001b[0m \u001b[0mzeroValue\u001b[0m\u001b[0;34m)\u001b[0m\u001b[0;34m\u001b[0m\u001b[0;34m\u001b[0m\u001b[0m\n\u001b[1;32m    919\u001b[0m \u001b[0;34m\u001b[0m\u001b[0m\n",
      "\u001b[0;32m/opt/spark/python/pyspark/rdd.py\u001b[0m in \u001b[0;36mcollect\u001b[0;34m(self)\u001b[0m\n\u001b[1;32m    814\u001b[0m         \"\"\"\n\u001b[1;32m    815\u001b[0m         \u001b[0;32mwith\u001b[0m \u001b[0mSCCallSiteSync\u001b[0m\u001b[0;34m(\u001b[0m\u001b[0mself\u001b[0m\u001b[0;34m.\u001b[0m\u001b[0mcontext\u001b[0m\u001b[0;34m)\u001b[0m \u001b[0;32mas\u001b[0m \u001b[0mcss\u001b[0m\u001b[0;34m:\u001b[0m\u001b[0;34m\u001b[0m\u001b[0;34m\u001b[0m\u001b[0m\n\u001b[0;32m--> 816\u001b[0;31m             \u001b[0msock_info\u001b[0m \u001b[0;34m=\u001b[0m \u001b[0mself\u001b[0m\u001b[0;34m.\u001b[0m\u001b[0mctx\u001b[0m\u001b[0;34m.\u001b[0m\u001b[0m_jvm\u001b[0m\u001b[0;34m.\u001b[0m\u001b[0mPythonRDD\u001b[0m\u001b[0;34m.\u001b[0m\u001b[0mcollectAndServe\u001b[0m\u001b[0;34m(\u001b[0m\u001b[0mself\u001b[0m\u001b[0;34m.\u001b[0m\u001b[0m_jrdd\u001b[0m\u001b[0;34m.\u001b[0m\u001b[0mrdd\u001b[0m\u001b[0;34m(\u001b[0m\u001b[0;34m)\u001b[0m\u001b[0;34m)\u001b[0m\u001b[0;34m\u001b[0m\u001b[0;34m\u001b[0m\u001b[0m\n\u001b[0m\u001b[1;32m    817\u001b[0m         \u001b[0;32mreturn\u001b[0m \u001b[0mlist\u001b[0m\u001b[0;34m(\u001b[0m\u001b[0m_load_from_socket\u001b[0m\u001b[0;34m(\u001b[0m\u001b[0msock_info\u001b[0m\u001b[0;34m,\u001b[0m \u001b[0mself\u001b[0m\u001b[0;34m.\u001b[0m\u001b[0m_jrdd_deserializer\u001b[0m\u001b[0;34m)\u001b[0m\u001b[0;34m)\u001b[0m\u001b[0;34m\u001b[0m\u001b[0;34m\u001b[0m\u001b[0m\n\u001b[1;32m    818\u001b[0m \u001b[0;34m\u001b[0m\u001b[0m\n",
      "\u001b[0;32m/opt/spark/python/lib/py4j-0.10.7-src.zip/py4j/java_gateway.py\u001b[0m in \u001b[0;36m__call__\u001b[0;34m(self, *args)\u001b[0m\n\u001b[1;32m   1255\u001b[0m         \u001b[0manswer\u001b[0m \u001b[0;34m=\u001b[0m \u001b[0mself\u001b[0m\u001b[0;34m.\u001b[0m\u001b[0mgateway_client\u001b[0m\u001b[0;34m.\u001b[0m\u001b[0msend_command\u001b[0m\u001b[0;34m(\u001b[0m\u001b[0mcommand\u001b[0m\u001b[0;34m)\u001b[0m\u001b[0;34m\u001b[0m\u001b[0;34m\u001b[0m\u001b[0m\n\u001b[1;32m   1256\u001b[0m         return_value = get_return_value(\n\u001b[0;32m-> 1257\u001b[0;31m             answer, self.gateway_client, self.target_id, self.name)\n\u001b[0m\u001b[1;32m   1258\u001b[0m \u001b[0;34m\u001b[0m\u001b[0m\n\u001b[1;32m   1259\u001b[0m         \u001b[0;32mfor\u001b[0m \u001b[0mtemp_arg\u001b[0m \u001b[0;32min\u001b[0m \u001b[0mtemp_args\u001b[0m\u001b[0;34m:\u001b[0m\u001b[0;34m\u001b[0m\u001b[0;34m\u001b[0m\u001b[0m\n",
      "\u001b[0;32m/opt/spark/python/pyspark/sql/utils.py\u001b[0m in \u001b[0;36mdeco\u001b[0;34m(*a, **kw)\u001b[0m\n\u001b[1;32m     61\u001b[0m     \u001b[0;32mdef\u001b[0m \u001b[0mdeco\u001b[0m\u001b[0;34m(\u001b[0m\u001b[0;34m*\u001b[0m\u001b[0ma\u001b[0m\u001b[0;34m,\u001b[0m \u001b[0;34m**\u001b[0m\u001b[0mkw\u001b[0m\u001b[0;34m)\u001b[0m\u001b[0;34m:\u001b[0m\u001b[0;34m\u001b[0m\u001b[0;34m\u001b[0m\u001b[0m\n\u001b[1;32m     62\u001b[0m         \u001b[0;32mtry\u001b[0m\u001b[0;34m:\u001b[0m\u001b[0;34m\u001b[0m\u001b[0;34m\u001b[0m\u001b[0m\n\u001b[0;32m---> 63\u001b[0;31m             \u001b[0;32mreturn\u001b[0m \u001b[0mf\u001b[0m\u001b[0;34m(\u001b[0m\u001b[0;34m*\u001b[0m\u001b[0ma\u001b[0m\u001b[0;34m,\u001b[0m \u001b[0;34m**\u001b[0m\u001b[0mkw\u001b[0m\u001b[0;34m)\u001b[0m\u001b[0;34m\u001b[0m\u001b[0;34m\u001b[0m\u001b[0m\n\u001b[0m\u001b[1;32m     64\u001b[0m         \u001b[0;32mexcept\u001b[0m \u001b[0mpy4j\u001b[0m\u001b[0;34m.\u001b[0m\u001b[0mprotocol\u001b[0m\u001b[0;34m.\u001b[0m\u001b[0mPy4JJavaError\u001b[0m \u001b[0;32mas\u001b[0m \u001b[0me\u001b[0m\u001b[0;34m:\u001b[0m\u001b[0;34m\u001b[0m\u001b[0;34m\u001b[0m\u001b[0m\n\u001b[1;32m     65\u001b[0m             \u001b[0ms\u001b[0m \u001b[0;34m=\u001b[0m \u001b[0me\u001b[0m\u001b[0;34m.\u001b[0m\u001b[0mjava_exception\u001b[0m\u001b[0;34m.\u001b[0m\u001b[0mtoString\u001b[0m\u001b[0;34m(\u001b[0m\u001b[0;34m)\u001b[0m\u001b[0;34m\u001b[0m\u001b[0;34m\u001b[0m\u001b[0m\n",
      "\u001b[0;32m/opt/spark/python/lib/py4j-0.10.7-src.zip/py4j/protocol.py\u001b[0m in \u001b[0;36mget_return_value\u001b[0;34m(answer, gateway_client, target_id, name)\u001b[0m\n\u001b[1;32m    326\u001b[0m                 raise Py4JJavaError(\n\u001b[1;32m    327\u001b[0m                     \u001b[0;34m\"An error occurred while calling {0}{1}{2}.\\n\"\u001b[0m\u001b[0;34m.\u001b[0m\u001b[0;34m\u001b[0m\u001b[0;34m\u001b[0m\u001b[0m\n\u001b[0;32m--> 328\u001b[0;31m                     format(target_id, \".\", name), value)\n\u001b[0m\u001b[1;32m    329\u001b[0m             \u001b[0;32melse\u001b[0m\u001b[0;34m:\u001b[0m\u001b[0;34m\u001b[0m\u001b[0;34m\u001b[0m\u001b[0m\n\u001b[1;32m    330\u001b[0m                 raise Py4JError(\n",
      "\u001b[0;31mPy4JJavaError\u001b[0m: An error occurred while calling z:org.apache.spark.api.python.PythonRDD.collectAndServe.\n: org.apache.spark.SparkException: Job aborted due to stage failure: Task 0 in stage 1.0 failed 1 times, most recent failure: Lost task 0.0 in stage 1.0 (TID 1, localhost, executor driver): org.apache.spark.api.python.PythonException: Traceback (most recent call last):\n  File \"/opt/spark/python/lib/pyspark.zip/pyspark/worker.py\", line 377, in main\n    process()\n  File \"/opt/spark/python/lib/pyspark.zip/pyspark/worker.py\", line 372, in process\n    serializer.dump_stream(func(split_index, iterator), outfile)\n  File \"/opt/spark/python/lib/pyspark.zip/pyspark/serializers.py\", line 345, in dump_stream\n    self.serializer.dump_stream(self._batched(iterator), stream)\n  File \"/opt/spark/python/lib/pyspark.zip/pyspark/serializers.py\", line 141, in dump_stream\n    for obj in iterator:\n  File \"/opt/spark/python/lib/pyspark.zip/pyspark/serializers.py\", line 334, in _batched\n    for item in iterator:\n  File \"<string>\", line 1, in <lambda>\n  File \"/opt/spark/python/lib/pyspark.zip/pyspark/worker.py\", line 85, in <lambda>\n    return lambda *a: f(*a)\n  File \"/opt/spark/python/lib/pyspark.zip/pyspark/util.py\", line 99, in wrapper\n    return f(*args, **kwargs)\n  File \"<ipython-input-5-c921b6198dee>\", line 61, in <lambda>\n  File \"<ipython-input-5-c921b6198dee>\", line 32, in jaccard_index\n  File \"<ipython-input-5-c921b6198dee>\", line 8, in tokenizer\nAttributeError: 'NoneType' object has no attribute 'split'\n\n\tat org.apache.spark.api.python.BasePythonRunner$ReaderIterator.handlePythonException(PythonRunner.scala:452)\n\tat org.apache.spark.sql.execution.python.PythonUDFRunner$$anon$1.read(PythonUDFRunner.scala:81)\n\tat org.apache.spark.sql.execution.python.PythonUDFRunner$$anon$1.read(PythonUDFRunner.scala:64)\n\tat org.apache.spark.api.python.BasePythonRunner$ReaderIterator.hasNext(PythonRunner.scala:406)\n\tat org.apache.spark.InterruptibleIterator.hasNext(InterruptibleIterator.scala:37)\n\tat scala.collection.Iterator$$anon$12.hasNext(Iterator.scala:440)\n\tat scala.collection.Iterator$$anon$11.hasNext(Iterator.scala:409)\n\tat scala.collection.Iterator$$anon$11.hasNext(Iterator.scala:409)\n\tat org.apache.spark.sql.catalyst.expressions.GeneratedClass$GeneratedIteratorForCodegenStage7.processNext(Unknown Source)\n\tat org.apache.spark.sql.execution.BufferedRowIterator.hasNext(BufferedRowIterator.java:43)\n\tat org.apache.spark.sql.execution.WholeStageCodegenExec$$anonfun$13$$anon$1.hasNext(WholeStageCodegenExec.scala:636)\n\tat scala.collection.Iterator$$anon$11.hasNext(Iterator.scala:409)\n\tat org.apache.spark.shuffle.sort.BypassMergeSortShuffleWriter.write(BypassMergeSortShuffleWriter.java:125)\n\tat org.apache.spark.scheduler.ShuffleMapTask.runTask(ShuffleMapTask.scala:99)\n\tat org.apache.spark.scheduler.ShuffleMapTask.runTask(ShuffleMapTask.scala:55)\n\tat org.apache.spark.scheduler.Task.run(Task.scala:121)\n\tat org.apache.spark.executor.Executor$TaskRunner$$anonfun$10.apply(Executor.scala:403)\n\tat org.apache.spark.util.Utils$.tryWithSafeFinally(Utils.scala:1360)\n\tat org.apache.spark.executor.Executor$TaskRunner.run(Executor.scala:409)\n\tat java.util.concurrent.ThreadPoolExecutor.runWorker(ThreadPoolExecutor.java:1149)\n\tat java.util.concurrent.ThreadPoolExecutor$Worker.run(ThreadPoolExecutor.java:624)\n\tat java.lang.Thread.run(Thread.java:748)\n\nDriver stacktrace:\n\tat org.apache.spark.scheduler.DAGScheduler.org$apache$spark$scheduler$DAGScheduler$$failJobAndIndependentStages(DAGScheduler.scala:1889)\n\tat org.apache.spark.scheduler.DAGScheduler$$anonfun$abortStage$1.apply(DAGScheduler.scala:1877)\n\tat org.apache.spark.scheduler.DAGScheduler$$anonfun$abortStage$1.apply(DAGScheduler.scala:1876)\n\tat scala.collection.mutable.ResizableArray$class.foreach(ResizableArray.scala:59)\n\tat scala.collection.mutable.ArrayBuffer.foreach(ArrayBuffer.scala:48)\n\tat org.apache.spark.scheduler.DAGScheduler.abortStage(DAGScheduler.scala:1876)\n\tat org.apache.spark.scheduler.DAGScheduler$$anonfun$handleTaskSetFailed$1.apply(DAGScheduler.scala:926)\n\tat org.apache.spark.scheduler.DAGScheduler$$anonfun$handleTaskSetFailed$1.apply(DAGScheduler.scala:926)\n\tat scala.Option.foreach(Option.scala:257)\n\tat org.apache.spark.scheduler.DAGScheduler.handleTaskSetFailed(DAGScheduler.scala:926)\n\tat org.apache.spark.scheduler.DAGSchedulerEventProcessLoop.doOnReceive(DAGScheduler.scala:2110)\n\tat org.apache.spark.scheduler.DAGSchedulerEventProcessLoop.onReceive(DAGScheduler.scala:2059)\n\tat org.apache.spark.scheduler.DAGSchedulerEventProcessLoop.onReceive(DAGScheduler.scala:2048)\n\tat org.apache.spark.util.EventLoop$$anon$1.run(EventLoop.scala:49)\n\tat org.apache.spark.scheduler.DAGScheduler.runJob(DAGScheduler.scala:737)\n\tat org.apache.spark.SparkContext.runJob(SparkContext.scala:2061)\n\tat org.apache.spark.SparkContext.runJob(SparkContext.scala:2082)\n\tat org.apache.spark.SparkContext.runJob(SparkContext.scala:2101)\n\tat org.apache.spark.SparkContext.runJob(SparkContext.scala:2126)\n\tat org.apache.spark.rdd.RDD$$anonfun$collect$1.apply(RDD.scala:945)\n\tat org.apache.spark.rdd.RDDOperationScope$.withScope(RDDOperationScope.scala:151)\n\tat org.apache.spark.rdd.RDDOperationScope$.withScope(RDDOperationScope.scala:112)\n\tat org.apache.spark.rdd.RDD.withScope(RDD.scala:363)\n\tat org.apache.spark.rdd.RDD.collect(RDD.scala:944)\n\tat org.apache.spark.api.python.PythonRDD$.collectAndServe(PythonRDD.scala:166)\n\tat org.apache.spark.api.python.PythonRDD.collectAndServe(PythonRDD.scala)\n\tat sun.reflect.NativeMethodAccessorImpl.invoke0(Native Method)\n\tat sun.reflect.NativeMethodAccessorImpl.invoke(NativeMethodAccessorImpl.java:62)\n\tat sun.reflect.DelegatingMethodAccessorImpl.invoke(DelegatingMethodAccessorImpl.java:43)\n\tat java.lang.reflect.Method.invoke(Method.java:498)\n\tat py4j.reflection.MethodInvoker.invoke(MethodInvoker.java:244)\n\tat py4j.reflection.ReflectionEngine.invoke(ReflectionEngine.java:357)\n\tat py4j.Gateway.invoke(Gateway.java:282)\n\tat py4j.commands.AbstractCommand.invokeMethod(AbstractCommand.java:132)\n\tat py4j.commands.CallCommand.execute(CallCommand.java:79)\n\tat py4j.GatewayConnection.run(GatewayConnection.java:238)\n\tat java.lang.Thread.run(Thread.java:748)\nCaused by: org.apache.spark.api.python.PythonException: Traceback (most recent call last):\n  File \"/opt/spark/python/lib/pyspark.zip/pyspark/worker.py\", line 377, in main\n    process()\n  File \"/opt/spark/python/lib/pyspark.zip/pyspark/worker.py\", line 372, in process\n    serializer.dump_stream(func(split_index, iterator), outfile)\n  File \"/opt/spark/python/lib/pyspark.zip/pyspark/serializers.py\", line 345, in dump_stream\n    self.serializer.dump_stream(self._batched(iterator), stream)\n  File \"/opt/spark/python/lib/pyspark.zip/pyspark/serializers.py\", line 141, in dump_stream\n    for obj in iterator:\n  File \"/opt/spark/python/lib/pyspark.zip/pyspark/serializers.py\", line 334, in _batched\n    for item in iterator:\n  File \"<string>\", line 1, in <lambda>\n  File \"/opt/spark/python/lib/pyspark.zip/pyspark/worker.py\", line 85, in <lambda>\n    return lambda *a: f(*a)\n  File \"/opt/spark/python/lib/pyspark.zip/pyspark/util.py\", line 99, in wrapper\n    return f(*args, **kwargs)\n  File \"<ipython-input-5-c921b6198dee>\", line 61, in <lambda>\n  File \"<ipython-input-5-c921b6198dee>\", line 32, in jaccard_index\n  File \"<ipython-input-5-c921b6198dee>\", line 8, in tokenizer\nAttributeError: 'NoneType' object has no attribute 'split'\n\n\tat org.apache.spark.api.python.BasePythonRunner$ReaderIterator.handlePythonException(PythonRunner.scala:452)\n\tat org.apache.spark.sql.execution.python.PythonUDFRunner$$anon$1.read(PythonUDFRunner.scala:81)\n\tat org.apache.spark.sql.execution.python.PythonUDFRunner$$anon$1.read(PythonUDFRunner.scala:64)\n\tat org.apache.spark.api.python.BasePythonRunner$ReaderIterator.hasNext(PythonRunner.scala:406)\n\tat org.apache.spark.InterruptibleIterator.hasNext(InterruptibleIterator.scala:37)\n\tat scala.collection.Iterator$$anon$12.hasNext(Iterator.scala:440)\n\tat scala.collection.Iterator$$anon$11.hasNext(Iterator.scala:409)\n\tat scala.collection.Iterator$$anon$11.hasNext(Iterator.scala:409)\n\tat org.apache.spark.sql.catalyst.expressions.GeneratedClass$GeneratedIteratorForCodegenStage7.processNext(Unknown Source)\n\tat org.apache.spark.sql.execution.BufferedRowIterator.hasNext(BufferedRowIterator.java:43)\n\tat org.apache.spark.sql.execution.WholeStageCodegenExec$$anonfun$13$$anon$1.hasNext(WholeStageCodegenExec.scala:636)\n\tat scala.collection.Iterator$$anon$11.hasNext(Iterator.scala:409)\n\tat org.apache.spark.shuffle.sort.BypassMergeSortShuffleWriter.write(BypassMergeSortShuffleWriter.java:125)\n\tat org.apache.spark.scheduler.ShuffleMapTask.runTask(ShuffleMapTask.scala:99)\n\tat org.apache.spark.scheduler.ShuffleMapTask.runTask(ShuffleMapTask.scala:55)\n\tat org.apache.spark.scheduler.Task.run(Task.scala:121)\n\tat org.apache.spark.executor.Executor$TaskRunner$$anonfun$10.apply(Executor.scala:403)\n\tat org.apache.spark.util.Utils$.tryWithSafeFinally(Utils.scala:1360)\n\tat org.apache.spark.executor.Executor$TaskRunner.run(Executor.scala:409)\n\tat java.util.concurrent.ThreadPoolExecutor.runWorker(ThreadPoolExecutor.java:1149)\n\tat java.util.concurrent.ThreadPoolExecutor$Worker.run(ThreadPoolExecutor.java:624)\n\t... 1 more\n"
     ]
    }
   ],
   "source": [
    "import pyspark\n",
    "from pyspark.sql.types import *\n",
    "from pyspark.sql.functions import udf, struct, col, rank\n",
    "from pyspark.sql import SQLContext\n",
    "from pyspark import SparkContext\n",
    "from pyspark.sql.window import Window\n",
    "from pyspark.sql.session import SparkSession\n",
    "\n",
    "sc = SparkContext.getOrCreate()\n",
    "spark = SparkSession(sc)\n",
    "\n",
    "def get_id(line):\n",
    "    parenthesis = \"\\\"\" # string literal for \"\n",
    "    paper_id_tag = \"\\\"id\\\"\" # find the first occurence of \"id\"\n",
    "    id_label_start = line.find(paper_id_tag) # this is the index that the id label starts\n",
    "    id_tag_start = id_label_start + 6 # this is the index that the id tag starts. Always be 6.\n",
    "    id_tag_end = line.find(parenthesis, id_tag_start)  #this is the index that the id tag ends\n",
    "    id_tag = line[id_tag_start:id_tag_end] # id tag string \n",
    "    return id_tag\n",
    "\n",
    "def get_title(line):\n",
    "    # look for the title of the paper and return the tag \n",
    "    paper_title_tag = \"\\\"title\\\"\"\n",
    "    parenthesis = \"\\\"\" # string literal for \"\n",
    "    \n",
    "    title_label_start = line.find(paper_title_tag) # index for the title label start \n",
    "    title_tag_start = title_label_start + 9\n",
    "    title_tag_end = line.find(parenthesis+\",\\\"\", title_tag_start) \n",
    "    title_tag = line[title_tag_start:title_tag_end]\n",
    "    '''\n",
    "    if title_tag[-1] == \".\":\n",
    "        title_tag = title_tag.replace(\".\", \"\")\n",
    "    if title_tag[-1] == \"]\":\n",
    "        title_tag = title_tag.replace(\"]\", \"\")\n",
    "        title_tag = title_tag.replace(\"[\", \"\")\n",
    "    if \"\\\\\\\"\" in title_tag:\n",
    "        title_tag = title_tag.replace(\"\\\\\\\"\", \"\\\"\")\n",
    "    '''\n",
    "    return title_tag\n",
    "\n",
    "def get_abstract(line):\n",
    "    '''\n",
    "    this function looks for the abstract tag of the paper\n",
    "    '''\n",
    "    paper_abstract_tag = \"\\\"paperAbstract\\\"\"\n",
    "    parenthesis = \"\\\"\" # string literal for \"\n",
    "    \n",
    "    abstract_label_start = line.find(paper_abstract_tag) # index that the abstrat label starts\n",
    "    abstract_tag_start = abstract_label_start + 17 # the start of the abstract tag \n",
    "    abstract_tag_end = line.find(parenthesis, abstract_tag_start) # the end of the abstract tag \n",
    "    abstract_tag = line[abstract_tag_start:abstract_tag_end] # abstract tag string\n",
    "    if r\"\\n\" in abstract_tag:\n",
    "        abstract_tag = abstract_tag.replace(r\"\\n\", \" \")\n",
    "    return abstract_tag\n",
    "\n",
    "def get_citation(line):\n",
    "    '''\n",
    "    Get the citation from the values \n",
    "    '''\n",
    "    paper_citation_tag = \"\\\"inCitations\\\"\" # find the occurence of \"inCitations\"\n",
    "    bracket = r\"]\" # look for \"]\"\n",
    "    \n",
    "    citation_label_start = line.find(paper_citation_tag) # index that the citation label starts  \n",
    "    citation_tag_start = citation_label_start + 15 # index that the citation tag starts\n",
    "    citation_tag_end = line.find(bracket, citation_tag_start)  # this is the index that the citation tag ends \n",
    "    if citation_tag_start == citation_tag_end: # if there are no citations: \n",
    "        num_citations = 0\n",
    "        citation_list = []\n",
    "    else:\n",
    "        citation_list = line[citation_tag_start:citation_tag_end].split(\",\") # make it a list, count number of entries\n",
    "        num_citations = len(citation_list) # number of citations \n",
    "    return num_citations\n",
    "\n",
    "    \n",
    "def get_tag(line):\n",
    "    '''\n",
    "    Extracts the tag from the value column in the dataframe \n",
    "    '''\n",
    "    paper_entities_tag = \"\\\"entities\\\"\"\n",
    "    bracket = r\"]\" # look for \"]\"\n",
    "    \n",
    "    entities_label_start = line.find(paper_entities_tag) # index for the title label start \n",
    "    entities_tag_start = entities_label_start + 12\n",
    "    entities_tag_end = line.find(bracket+\",\\\"\", entities_tag_start) \n",
    "    entities_tag = line[entities_tag_start:entities_tag_end]\n",
    "    if \"\\\"\" in entities_tag:\n",
    "        entities_tag = entities_tag.replace(\"\\\"\", \"\")\n",
    "    entities_tag = entities_tag.split(\",\")\n",
    "    return entities_tag\n",
    "\n",
    "def adding_ids(df):\n",
    "    '''\n",
    "    This function takes the raw data dataframe and adds on an id column for the data\n",
    "    Ex: \n",
    "    value        id \n",
    "    laeinaelk    23402939423\n",
    "    lakeflake    02398402384\n",
    "    ieifniena    23402938402\n",
    "    '''\n",
    "    add_ids = df.withColumn(\"id\", get_id_udf(df.value))\n",
    "    return add_ids\n",
    "\n",
    "def adding_titles(df):\n",
    "    '''\n",
    "    This function takes the raw data dataframe and adds on an id column for the data\n",
    "    Ex: \n",
    "    value        id             title \n",
    "    laeinaelk    23402939423    \"Mastering the game of Go\"\n",
    "    lakeflake    02398402384    \"Computer Science is fun!\"\n",
    "    ieifniena    23402938402    \"Who knows what to do????\"\n",
    "    '''\n",
    "    add_titles = df.withColumn(\"title\", get_title_udf(df.value))\n",
    "    return add_titles\n",
    "\n",
    "def adding_abstracts(df):\n",
    "    '''\n",
    "    This function takes the raw + id dataframe and adds on abstracts column for the data\n",
    "    Ex\n",
    "    value        id             title                         abstracts \n",
    "    laeinaelk    23402939423    \"Mastering the game of Go\"    Mastering the game of ...\n",
    "    lakeflake    02398402384    \"Computer Science is fun!\"    When people go outside...\n",
    "    ieifniena    23402938402    \"Who knows what to do????\"    Data engineers love to...\n",
    "    '''\n",
    "    add_abstracts = df.withColumn(\"abstracts\", get_abstract_udf(df.value))\n",
    "    return add_abstracts\n",
    "\n",
    "def adding_citations(df):\n",
    "    '''\n",
    "    This function takes the raw data dataframe and adds on a citation column for the data\n",
    "    Ex\n",
    "    value        id             title                         abstracts                  citations\n",
    "    laeinaelk    23402939423    \"Mastering the game of Go\"    Mastering the game of ...  18\n",
    "    lakeflake    02398402384    \"Computer Science is fun!\"    When people go outside...  2\n",
    "    ieifniena    23402938402    \"Who knows what to do????\"    Data engineers love to...  102\n",
    "     '''\n",
    "    add_citations = df.withColumn(\"citations\", get_citation_udf(df.value))\n",
    "    return add_citations\n",
    "\n",
    "def adding_tags(df):\n",
    "    '''\n",
    "    This function takes the raw data dataframe and adds on a citation column for the data\n",
    "    Ex\n",
    "    value        id             title                         abstracts                  citations   tags\n",
    "    laeinaelk    23402939423    \"Mastering the game of Go\"    Mastering the game of ...  18          \"CS\", \"Game\"\n",
    "    lakeflake    02398402384    \"Computer Science is fun!\"    When people go outside...  2           \"World\", \"Tree\"\n",
    "    ieifniena    23402938402    \"Who knows what to do????\"    Data engineers love to...  102         \"DE\", \"Spark\"\n",
    "     '''\n",
    "    add_tags = df.withColumn(\"tags\", get_tag_udf(df.value))\n",
    "    return add_tags \n",
    "\n",
    "def drop_values(df):\n",
    "    '''\n",
    "    This function takes the dataframe and drops the value column\n",
    "    Ex\n",
    "    id             title                         abstracts                  citations   tags\n",
    "    23402939423    \"Mastering the game of Go\"    Mastering the game of ...  18          \"CS\", \"Game\"\n",
    "    02398402384    \"Computer Science is fun!\"    When people go outside...  2           \"World\", \"Tree\"\n",
    "    23402938402    \"Who knows what to do????\"    Data engineers love to...  102         \"DE\", \"Spark\"\n",
    "    '''\n",
    "    return df.drop(df.value)\n",
    "\n",
    "def drop_empty_rows(df):\n",
    "    df_filtered = df.filter(df.abstracts != \"\")\n",
    "    return df_filtered\n",
    "\n",
    "def drop_empty_tags(df):\n",
    "    df_filtered = df.filter(df.tags != \"\")\n",
    "\n",
    "def filter_by_citation(df):\n",
    "    df_filtered = df.filter(df.citations > 10)\n",
    "    return df_filtered\n",
    "\n",
    "def outer_join(df):\n",
    "    '''\n",
    "    does an outer join\n",
    "    '''\n",
    "    df1 = df.alias(\"df1\")\n",
    "    df2 = df.alias(\"df2\")\n",
    "    df1_r = df1.select(*(col(x).alias(x + '_df1') for x in df1.columns if x in ['id','abstracts','tags', 'citations']))\n",
    "    df2_r = df2.select(*(col(x).alias(x + '_df2') for x in df2.columns if x in ['id','abstracts','tags', 'citations']))\n",
    "    #cond = [df1_r.id_df1 != df2_r.id_df2, df2_r.citations_df2 > 25]\n",
    "    cond = [df1_r.id_df1 != df2_r.id_df2, df2_r.tags_df2.isin(df1_r.tags_df1)]\n",
    "    outer_join_df = df1_r.join(df2_r, cond, how='left')\n",
    "    #outer_join_df = outer_join_df.withColumn(\"Keep\", check_tag_udf(struct([outer_join_df[x] for x in outer_join_df.columns])))\n",
    "    #outer_join_df = outer_join_df.filter(col('Keep') == True)\n",
    "    return outer_join_df\n",
    "\n",
    "def check_sets(line):\n",
    "    '''\n",
    "    Checks the set membership of the source tags and target tags and return True if \n",
    "    a tag in the source set also appears in the target set\n",
    "    '''\n",
    "    \n",
    "    in_set = False # initialiaze this to False \n",
    "    tag_source_set = set(line.tags_df1) # creates a set ouf of the tag list from tags_df1\n",
    "    tag_target_set = set(line.tags_df2) # creates a set out of the tag list from tags_df2    \n",
    "    \n",
    "    # check if a word in source set is a member of target set \n",
    "    for word in tag_source_set:\n",
    "        if word in tag_target_set:\n",
    "            in_set = True \n",
    "    \n",
    "    return in_set\n",
    "\n",
    "def drop_unneeded_part_1(df):\n",
    "    '''\n",
    "    drop unneeded columns after computing jaccard \n",
    "    '''\n",
    "    df = df.drop(df.tags_df1)\n",
    "    df = df.drop(df.tags_df2)\n",
    "    df = df.drop(df.citations_df1)\n",
    "    df = df.drop(df.citations_df2)\n",
    "    df = df.drop(df.abstracts_df1)\n",
    "    df = df.drop(df.abstracts_df2)\n",
    "    #df = df.drop(df.Keep)\n",
    "    \n",
    "    return df\n",
    "\n",
    "def drop_unneeded_part_2(df):\n",
    "    '''\n",
    "    drop uneeded columns after ranking top 5 jaccard\n",
    "    '''\n",
    "    df = df.drop(df.jaccard)\n",
    "    df = df.drop(df.rank)\n",
    "    return df\n",
    "\n",
    "# create a user defined function for get_id and get_abstract, which is compatable with a spark dataframe \n",
    "get_id_udf = udf(lambda line: get_id(line), StringType())\n",
    "get_abstract_udf = udf(lambda line: get_abstract(line), StringType())\n",
    "get_title_udf = udf(lambda line: get_title(line), StringType())\n",
    "get_citation_udf = udf(lambda line:get_citation(line), StringType())\n",
    "get_tag_udf = udf(lambda line:get_tag(line), ArrayType(StringType()))\n",
    "check_tag_udf = udf(lambda line: check_sets(line), BooleanType())\n",
    "\n",
    "\n",
    "# intial read in\n",
    "df = spark.read.text(\"sample-S2-records-Copy1.txt\")\n",
    "#df = spark.read.text(\"s2-corpus-00\")\n",
    "#df = spark.read.parquet(\"part-00000-7db11568-5fd4-484d-bb78-b56cddaf7721-c000.snappy.parquet\")\n",
    "df = adding_ids(df)\n",
    "df = adding_titles(df)\n",
    "df = adding_abstracts(df)\n",
    "df = adding_citations(df)\n",
    "df = adding_tags(df)\n",
    "df = drop_values(df)\n",
    "df = drop_empty_rows(df)\n",
    "df = filter_by_citation(df)\n",
    "\n",
    "\n",
    "df = outer_join(df)\n",
    "df = add_jaccard(df)\n",
    "df = drop_unneeded_part_1(df)\n",
    "window = Window.partitionBy(df['id_df1']).orderBy(df['jaccard'].desc())\n",
    "df = df.select('*', rank().over(window).alias('rank')).filter(col('rank') <= 5)\n",
    "df = drop_unneeded_part_2(df).repartition(\"id_df1\")\n",
    "\n",
    "def print_line(rdd):\n",
    "    for q in rdd:\n",
    "        print(q)\n",
    "\n",
    "df.foreachPartition(print_line)\n",
    "\n",
    "#df = df.select(for x in [\"id\", \"title\", \"abstracts\"]df1.columns)\n",
    "\n",
    "print(\"Schema for filtered data\")\n",
    "print(\"-------------------------------------\")\n",
    "df.createOrReplaceTempView(\"filtered_df\")\n",
    "df.printSchema()\n",
    "results = spark.sql(\"SELECT * FROM filtered_df\")\n",
    "print(\"Entries for filtered_df\")\n",
    "print(\"----------------------------\")\n",
    "results.show(30)\n",
    "print()\n",
    "print()\n",
    "print(\"Number of rows!\", results.count())\n",
    "print()\n",
    "print()\n"
   ]
  },
  {
   "cell_type": "code",
   "execution_count": 50,
   "metadata": {},
   "outputs": [
    {
     "data": {
      "text/plain": [
       "['EGF gene',\n",
       " 'Enzyme Immunoassay',\n",
       " 'Growth Factor',\n",
       " 'Immunoassay method',\n",
       " 'Immunoenzyme Procedure',\n",
       " 'Immunostimulating conjugate (antigen)',\n",
       " 'Lupus Erythematosus',\n",
       " ' Systemic',\n",
       " 'Monoclonal Antibodies',\n",
       " 'Pancreatic Elastase',\n",
       " 'Patients',\n",
       " 'Polystyrenes',\n",
       " 'THBD protein',\n",
       " ' human',\n",
       " 'Tracer']"
      ]
     },
     "execution_count": 50,
     "metadata": {},
     "output_type": "execute_result"
    }
   ],
   "source": [
    "results.take(9)[8][3]"
   ]
  },
  {
   "cell_type": "code",
   "execution_count": 28,
   "metadata": {},
   "outputs": [
    {
     "ename": "KeyboardInterrupt",
     "evalue": "",
     "output_type": "error",
     "traceback": [
      "\u001b[0;31m---------------------------------------------------------------------------\u001b[0m",
      "\u001b[0;31mKeyboardInterrupt\u001b[0m                         Traceback (most recent call last)",
      "\u001b[0;32m<ipython-input-28-872e8ddee210>\u001b[0m in \u001b[0;36m<module>\u001b[0;34m()\u001b[0m\n\u001b[1;32m     14\u001b[0m \u001b[0;31m#q = df.rdd.map(store_to_redis) # dummy variable name to store to redis\u001b[0m\u001b[0;34m\u001b[0m\u001b[0;34m\u001b[0m\u001b[0;34m\u001b[0m\u001b[0m\n\u001b[1;32m     15\u001b[0m \u001b[0;31m#q.count() # activation function\u001b[0m\u001b[0;34m\u001b[0m\u001b[0;34m\u001b[0m\u001b[0;34m\u001b[0m\u001b[0m\n\u001b[0;32m---> 16\u001b[0;31m \u001b[0mdf\u001b[0m\u001b[0;34m.\u001b[0m\u001b[0mforeach\u001b[0m\u001b[0;34m(\u001b[0m\u001b[0mstore_to_redis\u001b[0m\u001b[0;34m)\u001b[0m\u001b[0;34m\u001b[0m\u001b[0;34m\u001b[0m\u001b[0m\n\u001b[0m",
      "\u001b[0;32m/opt/spark/python/pyspark/sql/dataframe.py\u001b[0m in \u001b[0;36mforeach\u001b[0;34m(self, f)\u001b[0m\n\u001b[1;32m    581\u001b[0m         \u001b[0;34m>>\u001b[0m\u001b[0;34m>\u001b[0m \u001b[0mdf\u001b[0m\u001b[0;34m.\u001b[0m\u001b[0mforeach\u001b[0m\u001b[0;34m(\u001b[0m\u001b[0mf\u001b[0m\u001b[0;34m)\u001b[0m\u001b[0;34m\u001b[0m\u001b[0;34m\u001b[0m\u001b[0m\n\u001b[1;32m    582\u001b[0m         \"\"\"\n\u001b[0;32m--> 583\u001b[0;31m         \u001b[0mself\u001b[0m\u001b[0;34m.\u001b[0m\u001b[0mrdd\u001b[0m\u001b[0;34m.\u001b[0m\u001b[0mforeach\u001b[0m\u001b[0;34m(\u001b[0m\u001b[0mf\u001b[0m\u001b[0;34m)\u001b[0m\u001b[0;34m\u001b[0m\u001b[0;34m\u001b[0m\u001b[0m\n\u001b[0m\u001b[1;32m    584\u001b[0m \u001b[0;34m\u001b[0m\u001b[0m\n\u001b[1;32m    585\u001b[0m     \u001b[0;34m@\u001b[0m\u001b[0msince\u001b[0m\u001b[0;34m(\u001b[0m\u001b[0;36m1.3\u001b[0m\u001b[0;34m)\u001b[0m\u001b[0;34m\u001b[0m\u001b[0;34m\u001b[0m\u001b[0m\n",
      "\u001b[0;32m/opt/spark/python/pyspark/rdd.py\u001b[0m in \u001b[0;36mforeach\u001b[0;34m(self, f)\u001b[0m\n\u001b[1;32m    787\u001b[0m                 \u001b[0mf\u001b[0m\u001b[0;34m(\u001b[0m\u001b[0mx\u001b[0m\u001b[0;34m)\u001b[0m\u001b[0;34m\u001b[0m\u001b[0;34m\u001b[0m\u001b[0m\n\u001b[1;32m    788\u001b[0m             \u001b[0;32mreturn\u001b[0m \u001b[0miter\u001b[0m\u001b[0;34m(\u001b[0m\u001b[0;34m[\u001b[0m\u001b[0;34m]\u001b[0m\u001b[0;34m)\u001b[0m\u001b[0;34m\u001b[0m\u001b[0;34m\u001b[0m\u001b[0m\n\u001b[0;32m--> 789\u001b[0;31m         \u001b[0mself\u001b[0m\u001b[0;34m.\u001b[0m\u001b[0mmapPartitions\u001b[0m\u001b[0;34m(\u001b[0m\u001b[0mprocessPartition\u001b[0m\u001b[0;34m)\u001b[0m\u001b[0;34m.\u001b[0m\u001b[0mcount\u001b[0m\u001b[0;34m(\u001b[0m\u001b[0;34m)\u001b[0m  \u001b[0;31m# Force evaluation\u001b[0m\u001b[0;34m\u001b[0m\u001b[0;34m\u001b[0m\u001b[0m\n\u001b[0m\u001b[1;32m    790\u001b[0m \u001b[0;34m\u001b[0m\u001b[0m\n\u001b[1;32m    791\u001b[0m     \u001b[0;32mdef\u001b[0m \u001b[0mforeachPartition\u001b[0m\u001b[0;34m(\u001b[0m\u001b[0mself\u001b[0m\u001b[0;34m,\u001b[0m \u001b[0mf\u001b[0m\u001b[0;34m)\u001b[0m\u001b[0;34m:\u001b[0m\u001b[0;34m\u001b[0m\u001b[0;34m\u001b[0m\u001b[0m\n",
      "\u001b[0;32m/opt/spark/python/pyspark/rdd.py\u001b[0m in \u001b[0;36mcount\u001b[0;34m(self)\u001b[0m\n\u001b[1;32m   1053\u001b[0m         \u001b[0;36m3\u001b[0m\u001b[0;34m\u001b[0m\u001b[0;34m\u001b[0m\u001b[0m\n\u001b[1;32m   1054\u001b[0m         \"\"\"\n\u001b[0;32m-> 1055\u001b[0;31m         \u001b[0;32mreturn\u001b[0m \u001b[0mself\u001b[0m\u001b[0;34m.\u001b[0m\u001b[0mmapPartitions\u001b[0m\u001b[0;34m(\u001b[0m\u001b[0;32mlambda\u001b[0m \u001b[0mi\u001b[0m\u001b[0;34m:\u001b[0m \u001b[0;34m[\u001b[0m\u001b[0msum\u001b[0m\u001b[0;34m(\u001b[0m\u001b[0;36m1\u001b[0m \u001b[0;32mfor\u001b[0m \u001b[0m_\u001b[0m \u001b[0;32min\u001b[0m \u001b[0mi\u001b[0m\u001b[0;34m)\u001b[0m\u001b[0;34m]\u001b[0m\u001b[0;34m)\u001b[0m\u001b[0;34m.\u001b[0m\u001b[0msum\u001b[0m\u001b[0;34m(\u001b[0m\u001b[0;34m)\u001b[0m\u001b[0;34m\u001b[0m\u001b[0;34m\u001b[0m\u001b[0m\n\u001b[0m\u001b[1;32m   1056\u001b[0m \u001b[0;34m\u001b[0m\u001b[0m\n\u001b[1;32m   1057\u001b[0m     \u001b[0;32mdef\u001b[0m \u001b[0mstats\u001b[0m\u001b[0;34m(\u001b[0m\u001b[0mself\u001b[0m\u001b[0;34m)\u001b[0m\u001b[0;34m:\u001b[0m\u001b[0;34m\u001b[0m\u001b[0;34m\u001b[0m\u001b[0m\n",
      "\u001b[0;32m/opt/spark/python/pyspark/rdd.py\u001b[0m in \u001b[0;36msum\u001b[0;34m(self)\u001b[0m\n\u001b[1;32m   1044\u001b[0m         \u001b[0;36m6.0\u001b[0m\u001b[0;34m\u001b[0m\u001b[0;34m\u001b[0m\u001b[0m\n\u001b[1;32m   1045\u001b[0m         \"\"\"\n\u001b[0;32m-> 1046\u001b[0;31m         \u001b[0;32mreturn\u001b[0m \u001b[0mself\u001b[0m\u001b[0;34m.\u001b[0m\u001b[0mmapPartitions\u001b[0m\u001b[0;34m(\u001b[0m\u001b[0;32mlambda\u001b[0m \u001b[0mx\u001b[0m\u001b[0;34m:\u001b[0m \u001b[0;34m[\u001b[0m\u001b[0msum\u001b[0m\u001b[0;34m(\u001b[0m\u001b[0mx\u001b[0m\u001b[0;34m)\u001b[0m\u001b[0;34m]\u001b[0m\u001b[0;34m)\u001b[0m\u001b[0;34m.\u001b[0m\u001b[0mfold\u001b[0m\u001b[0;34m(\u001b[0m\u001b[0;36m0\u001b[0m\u001b[0;34m,\u001b[0m \u001b[0moperator\u001b[0m\u001b[0;34m.\u001b[0m\u001b[0madd\u001b[0m\u001b[0;34m)\u001b[0m\u001b[0;34m\u001b[0m\u001b[0;34m\u001b[0m\u001b[0m\n\u001b[0m\u001b[1;32m   1047\u001b[0m \u001b[0;34m\u001b[0m\u001b[0m\n\u001b[1;32m   1048\u001b[0m     \u001b[0;32mdef\u001b[0m \u001b[0mcount\u001b[0m\u001b[0;34m(\u001b[0m\u001b[0mself\u001b[0m\u001b[0;34m)\u001b[0m\u001b[0;34m:\u001b[0m\u001b[0;34m\u001b[0m\u001b[0;34m\u001b[0m\u001b[0m\n",
      "\u001b[0;32m/opt/spark/python/pyspark/rdd.py\u001b[0m in \u001b[0;36mfold\u001b[0;34m(self, zeroValue, op)\u001b[0m\n\u001b[1;32m    915\u001b[0m         \u001b[0;31m# zeroValue provided to each partition is unique from the one provided\u001b[0m\u001b[0;34m\u001b[0m\u001b[0;34m\u001b[0m\u001b[0;34m\u001b[0m\u001b[0m\n\u001b[1;32m    916\u001b[0m         \u001b[0;31m# to the final reduce call\u001b[0m\u001b[0;34m\u001b[0m\u001b[0;34m\u001b[0m\u001b[0;34m\u001b[0m\u001b[0m\n\u001b[0;32m--> 917\u001b[0;31m         \u001b[0mvals\u001b[0m \u001b[0;34m=\u001b[0m \u001b[0mself\u001b[0m\u001b[0;34m.\u001b[0m\u001b[0mmapPartitions\u001b[0m\u001b[0;34m(\u001b[0m\u001b[0mfunc\u001b[0m\u001b[0;34m)\u001b[0m\u001b[0;34m.\u001b[0m\u001b[0mcollect\u001b[0m\u001b[0;34m(\u001b[0m\u001b[0;34m)\u001b[0m\u001b[0;34m\u001b[0m\u001b[0;34m\u001b[0m\u001b[0m\n\u001b[0m\u001b[1;32m    918\u001b[0m         \u001b[0;32mreturn\u001b[0m \u001b[0mreduce\u001b[0m\u001b[0;34m(\u001b[0m\u001b[0mop\u001b[0m\u001b[0;34m,\u001b[0m \u001b[0mvals\u001b[0m\u001b[0;34m,\u001b[0m \u001b[0mzeroValue\u001b[0m\u001b[0;34m)\u001b[0m\u001b[0;34m\u001b[0m\u001b[0;34m\u001b[0m\u001b[0m\n\u001b[1;32m    919\u001b[0m \u001b[0;34m\u001b[0m\u001b[0m\n",
      "\u001b[0;32m/opt/spark/python/pyspark/rdd.py\u001b[0m in \u001b[0;36mcollect\u001b[0;34m(self)\u001b[0m\n\u001b[1;32m    814\u001b[0m         \"\"\"\n\u001b[1;32m    815\u001b[0m         \u001b[0;32mwith\u001b[0m \u001b[0mSCCallSiteSync\u001b[0m\u001b[0;34m(\u001b[0m\u001b[0mself\u001b[0m\u001b[0;34m.\u001b[0m\u001b[0mcontext\u001b[0m\u001b[0;34m)\u001b[0m \u001b[0;32mas\u001b[0m \u001b[0mcss\u001b[0m\u001b[0;34m:\u001b[0m\u001b[0;34m\u001b[0m\u001b[0;34m\u001b[0m\u001b[0m\n\u001b[0;32m--> 816\u001b[0;31m             \u001b[0msock_info\u001b[0m \u001b[0;34m=\u001b[0m \u001b[0mself\u001b[0m\u001b[0;34m.\u001b[0m\u001b[0mctx\u001b[0m\u001b[0;34m.\u001b[0m\u001b[0m_jvm\u001b[0m\u001b[0;34m.\u001b[0m\u001b[0mPythonRDD\u001b[0m\u001b[0;34m.\u001b[0m\u001b[0mcollectAndServe\u001b[0m\u001b[0;34m(\u001b[0m\u001b[0mself\u001b[0m\u001b[0;34m.\u001b[0m\u001b[0m_jrdd\u001b[0m\u001b[0;34m.\u001b[0m\u001b[0mrdd\u001b[0m\u001b[0;34m(\u001b[0m\u001b[0;34m)\u001b[0m\u001b[0;34m)\u001b[0m\u001b[0;34m\u001b[0m\u001b[0;34m\u001b[0m\u001b[0m\n\u001b[0m\u001b[1;32m    817\u001b[0m         \u001b[0;32mreturn\u001b[0m \u001b[0mlist\u001b[0m\u001b[0;34m(\u001b[0m\u001b[0m_load_from_socket\u001b[0m\u001b[0;34m(\u001b[0m\u001b[0msock_info\u001b[0m\u001b[0;34m,\u001b[0m \u001b[0mself\u001b[0m\u001b[0;34m.\u001b[0m\u001b[0m_jrdd_deserializer\u001b[0m\u001b[0;34m)\u001b[0m\u001b[0;34m)\u001b[0m\u001b[0;34m\u001b[0m\u001b[0;34m\u001b[0m\u001b[0m\n\u001b[1;32m    818\u001b[0m \u001b[0;34m\u001b[0m\u001b[0m\n",
      "\u001b[0;32m/opt/spark/python/lib/py4j-0.10.7-src.zip/py4j/java_gateway.py\u001b[0m in \u001b[0;36m__call__\u001b[0;34m(self, *args)\u001b[0m\n\u001b[1;32m   1253\u001b[0m             \u001b[0mproto\u001b[0m\u001b[0;34m.\u001b[0m\u001b[0mEND_COMMAND_PART\u001b[0m\u001b[0;34m\u001b[0m\u001b[0;34m\u001b[0m\u001b[0m\n\u001b[1;32m   1254\u001b[0m \u001b[0;34m\u001b[0m\u001b[0m\n\u001b[0;32m-> 1255\u001b[0;31m         \u001b[0manswer\u001b[0m \u001b[0;34m=\u001b[0m \u001b[0mself\u001b[0m\u001b[0;34m.\u001b[0m\u001b[0mgateway_client\u001b[0m\u001b[0;34m.\u001b[0m\u001b[0msend_command\u001b[0m\u001b[0;34m(\u001b[0m\u001b[0mcommand\u001b[0m\u001b[0;34m)\u001b[0m\u001b[0;34m\u001b[0m\u001b[0;34m\u001b[0m\u001b[0m\n\u001b[0m\u001b[1;32m   1256\u001b[0m         return_value = get_return_value(\n\u001b[1;32m   1257\u001b[0m             answer, self.gateway_client, self.target_id, self.name)\n",
      "\u001b[0;32m/opt/spark/python/lib/py4j-0.10.7-src.zip/py4j/java_gateway.py\u001b[0m in \u001b[0;36msend_command\u001b[0;34m(self, command, retry, binary)\u001b[0m\n\u001b[1;32m    983\u001b[0m         \u001b[0mconnection\u001b[0m \u001b[0;34m=\u001b[0m \u001b[0mself\u001b[0m\u001b[0;34m.\u001b[0m\u001b[0m_get_connection\u001b[0m\u001b[0;34m(\u001b[0m\u001b[0;34m)\u001b[0m\u001b[0;34m\u001b[0m\u001b[0;34m\u001b[0m\u001b[0m\n\u001b[1;32m    984\u001b[0m         \u001b[0;32mtry\u001b[0m\u001b[0;34m:\u001b[0m\u001b[0;34m\u001b[0m\u001b[0;34m\u001b[0m\u001b[0m\n\u001b[0;32m--> 985\u001b[0;31m             \u001b[0mresponse\u001b[0m \u001b[0;34m=\u001b[0m \u001b[0mconnection\u001b[0m\u001b[0;34m.\u001b[0m\u001b[0msend_command\u001b[0m\u001b[0;34m(\u001b[0m\u001b[0mcommand\u001b[0m\u001b[0;34m)\u001b[0m\u001b[0;34m\u001b[0m\u001b[0;34m\u001b[0m\u001b[0m\n\u001b[0m\u001b[1;32m    986\u001b[0m             \u001b[0;32mif\u001b[0m \u001b[0mbinary\u001b[0m\u001b[0;34m:\u001b[0m\u001b[0;34m\u001b[0m\u001b[0;34m\u001b[0m\u001b[0m\n\u001b[1;32m    987\u001b[0m                 \u001b[0;32mreturn\u001b[0m \u001b[0mresponse\u001b[0m\u001b[0;34m,\u001b[0m \u001b[0mself\u001b[0m\u001b[0;34m.\u001b[0m\u001b[0m_create_connection_guard\u001b[0m\u001b[0;34m(\u001b[0m\u001b[0mconnection\u001b[0m\u001b[0;34m)\u001b[0m\u001b[0;34m\u001b[0m\u001b[0;34m\u001b[0m\u001b[0m\n",
      "\u001b[0;32m/opt/spark/python/lib/py4j-0.10.7-src.zip/py4j/java_gateway.py\u001b[0m in \u001b[0;36msend_command\u001b[0;34m(self, command)\u001b[0m\n\u001b[1;32m   1150\u001b[0m \u001b[0;34m\u001b[0m\u001b[0m\n\u001b[1;32m   1151\u001b[0m         \u001b[0;32mtry\u001b[0m\u001b[0;34m:\u001b[0m\u001b[0;34m\u001b[0m\u001b[0;34m\u001b[0m\u001b[0m\n\u001b[0;32m-> 1152\u001b[0;31m             \u001b[0manswer\u001b[0m \u001b[0;34m=\u001b[0m \u001b[0msmart_decode\u001b[0m\u001b[0;34m(\u001b[0m\u001b[0mself\u001b[0m\u001b[0;34m.\u001b[0m\u001b[0mstream\u001b[0m\u001b[0;34m.\u001b[0m\u001b[0mreadline\u001b[0m\u001b[0;34m(\u001b[0m\u001b[0;34m)\u001b[0m\u001b[0;34m[\u001b[0m\u001b[0;34m:\u001b[0m\u001b[0;34m-\u001b[0m\u001b[0;36m1\u001b[0m\u001b[0;34m]\u001b[0m\u001b[0;34m)\u001b[0m\u001b[0;34m\u001b[0m\u001b[0;34m\u001b[0m\u001b[0m\n\u001b[0m\u001b[1;32m   1153\u001b[0m             \u001b[0mlogger\u001b[0m\u001b[0;34m.\u001b[0m\u001b[0mdebug\u001b[0m\u001b[0;34m(\u001b[0m\u001b[0;34m\"Answer received: {0}\"\u001b[0m\u001b[0;34m.\u001b[0m\u001b[0mformat\u001b[0m\u001b[0;34m(\u001b[0m\u001b[0manswer\u001b[0m\u001b[0;34m)\u001b[0m\u001b[0;34m)\u001b[0m\u001b[0;34m\u001b[0m\u001b[0;34m\u001b[0m\u001b[0m\n\u001b[1;32m   1154\u001b[0m             \u001b[0;32mif\u001b[0m \u001b[0manswer\u001b[0m\u001b[0;34m.\u001b[0m\u001b[0mstartswith\u001b[0m\u001b[0;34m(\u001b[0m\u001b[0mproto\u001b[0m\u001b[0;34m.\u001b[0m\u001b[0mRETURN_MESSAGE\u001b[0m\u001b[0;34m)\u001b[0m\u001b[0;34m:\u001b[0m\u001b[0;34m\u001b[0m\u001b[0;34m\u001b[0m\u001b[0m\n",
      "\u001b[0;32m/anaconda3/lib/python3.6/socket.py\u001b[0m in \u001b[0;36mreadinto\u001b[0;34m(self, b)\u001b[0m\n\u001b[1;32m    584\u001b[0m         \u001b[0;32mwhile\u001b[0m \u001b[0;32mTrue\u001b[0m\u001b[0;34m:\u001b[0m\u001b[0;34m\u001b[0m\u001b[0;34m\u001b[0m\u001b[0m\n\u001b[1;32m    585\u001b[0m             \u001b[0;32mtry\u001b[0m\u001b[0;34m:\u001b[0m\u001b[0;34m\u001b[0m\u001b[0;34m\u001b[0m\u001b[0m\n\u001b[0;32m--> 586\u001b[0;31m                 \u001b[0;32mreturn\u001b[0m \u001b[0mself\u001b[0m\u001b[0;34m.\u001b[0m\u001b[0m_sock\u001b[0m\u001b[0;34m.\u001b[0m\u001b[0mrecv_into\u001b[0m\u001b[0;34m(\u001b[0m\u001b[0mb\u001b[0m\u001b[0;34m)\u001b[0m\u001b[0;34m\u001b[0m\u001b[0;34m\u001b[0m\u001b[0m\n\u001b[0m\u001b[1;32m    587\u001b[0m             \u001b[0;32mexcept\u001b[0m \u001b[0mtimeout\u001b[0m\u001b[0;34m:\u001b[0m\u001b[0;34m\u001b[0m\u001b[0;34m\u001b[0m\u001b[0m\n\u001b[1;32m    588\u001b[0m                 \u001b[0mself\u001b[0m\u001b[0;34m.\u001b[0m\u001b[0m_timeout_occurred\u001b[0m \u001b[0;34m=\u001b[0m \u001b[0;32mTrue\u001b[0m\u001b[0;34m\u001b[0m\u001b[0;34m\u001b[0m\u001b[0m\n",
      "\u001b[0;31mKeyboardInterrupt\u001b[0m: "
     ]
    }
   ],
   "source": [
    "import redis\n",
    "\n",
    "def store_to_redis(line):\n",
    "    '''\n",
    "    Take a line from the dataframe and store it into redis\n",
    "    This doesn't need to return anything, but spark requires it \n",
    "    '''\n",
    "    rdb = redis.Redis(host=\"10.0.0.5\", port=\"6379\")\n",
    "    #rdb.set(line['id'], line['abstracts'])\n",
    "    rdb.lpush(line['title_df1'],line['title_df2'])\n",
    "    #rdb.lpush(line['id'],line['abstracts'])\n",
    "    return line\n",
    "\n",
    "#q = df.rdd.map(store_to_redis) # dummy variable name to store to redis \n",
    "#q.count() # activation function\n",
    "df.foreach(store_to_redis)"
   ]
  },
  {
   "cell_type": "code",
   "execution_count": 35,
   "metadata": {
    "collapsed": true
   },
   "outputs": [],
   "source": [
    "rdb = redis.Redis(host=\"10.0.0.5\", port=\"6379\")"
   ]
  },
  {
   "cell_type": "code",
   "execution_count": 36,
   "metadata": {},
   "outputs": [
    {
     "ename": "ConnectionError",
     "evalue": "Error 60 connecting to 10.0.0.5:6379. Operation timed out.",
     "output_type": "error",
     "traceback": [
      "\u001b[0;31m---------------------------------------------------------------------------\u001b[0m",
      "\u001b[0;31mTimeoutError\u001b[0m                              Traceback (most recent call last)",
      "\u001b[0;32m/anaconda3/lib/python3.6/site-packages/redis/connection.py\u001b[0m in \u001b[0;36mconnect\u001b[0;34m(self)\u001b[0m\n\u001b[1;32m    491\u001b[0m         \u001b[0;32mtry\u001b[0m\u001b[0;34m:\u001b[0m\u001b[0;34m\u001b[0m\u001b[0;34m\u001b[0m\u001b[0m\n\u001b[0;32m--> 492\u001b[0;31m             \u001b[0msock\u001b[0m \u001b[0;34m=\u001b[0m \u001b[0mself\u001b[0m\u001b[0;34m.\u001b[0m\u001b[0m_connect\u001b[0m\u001b[0;34m(\u001b[0m\u001b[0;34m)\u001b[0m\u001b[0;34m\u001b[0m\u001b[0;34m\u001b[0m\u001b[0m\n\u001b[0m\u001b[1;32m    493\u001b[0m         \u001b[0;32mexcept\u001b[0m \u001b[0msocket\u001b[0m\u001b[0;34m.\u001b[0m\u001b[0mtimeout\u001b[0m\u001b[0;34m:\u001b[0m\u001b[0;34m\u001b[0m\u001b[0;34m\u001b[0m\u001b[0m\n",
      "\u001b[0;32m/anaconda3/lib/python3.6/site-packages/redis/connection.py\u001b[0m in \u001b[0;36m_connect\u001b[0;34m(self)\u001b[0m\n\u001b[1;32m    549\u001b[0m         \u001b[0;32mif\u001b[0m \u001b[0merr\u001b[0m \u001b[0;32mis\u001b[0m \u001b[0;32mnot\u001b[0m \u001b[0;32mNone\u001b[0m\u001b[0;34m:\u001b[0m\u001b[0;34m\u001b[0m\u001b[0;34m\u001b[0m\u001b[0m\n\u001b[0;32m--> 550\u001b[0;31m             \u001b[0;32mraise\u001b[0m \u001b[0merr\u001b[0m\u001b[0;34m\u001b[0m\u001b[0;34m\u001b[0m\u001b[0m\n\u001b[0m\u001b[1;32m    551\u001b[0m         \u001b[0;32mraise\u001b[0m \u001b[0msocket\u001b[0m\u001b[0;34m.\u001b[0m\u001b[0merror\u001b[0m\u001b[0;34m(\u001b[0m\u001b[0;34m\"socket.getaddrinfo returned an empty list\"\u001b[0m\u001b[0;34m)\u001b[0m\u001b[0;34m\u001b[0m\u001b[0;34m\u001b[0m\u001b[0m\n",
      "\u001b[0;32m/anaconda3/lib/python3.6/site-packages/redis/connection.py\u001b[0m in \u001b[0;36m_connect\u001b[0;34m(self)\u001b[0m\n\u001b[1;32m    537\u001b[0m                 \u001b[0;31m# connect\u001b[0m\u001b[0;34m\u001b[0m\u001b[0;34m\u001b[0m\u001b[0;34m\u001b[0m\u001b[0m\n\u001b[0;32m--> 538\u001b[0;31m                 \u001b[0msock\u001b[0m\u001b[0;34m.\u001b[0m\u001b[0mconnect\u001b[0m\u001b[0;34m(\u001b[0m\u001b[0msocket_address\u001b[0m\u001b[0;34m)\u001b[0m\u001b[0;34m\u001b[0m\u001b[0;34m\u001b[0m\u001b[0m\n\u001b[0m\u001b[1;32m    539\u001b[0m \u001b[0;34m\u001b[0m\u001b[0m\n",
      "\u001b[0;31mTimeoutError\u001b[0m: [Errno 60] Operation timed out",
      "\nDuring handling of the above exception, another exception occurred:\n",
      "\u001b[0;31mConnectionError\u001b[0m                           Traceback (most recent call last)",
      "\u001b[0;32m<ipython-input-36-4aea6c60a56d>\u001b[0m in \u001b[0;36m<module>\u001b[0;34m()\u001b[0m\n\u001b[0;32m----> 1\u001b[0;31m \u001b[0mrdb\u001b[0m\u001b[0;34m.\u001b[0m\u001b[0mset\u001b[0m\u001b[0;34m(\u001b[0m\u001b[0;34m\"Newton\"\u001b[0m\u001b[0;34m,\u001b[0m \u001b[0;34m\"hi\"\u001b[0m\u001b[0;34m)\u001b[0m\u001b[0;34m\u001b[0m\u001b[0;34m\u001b[0m\u001b[0m\n\u001b[0m",
      "\u001b[0;32m/anaconda3/lib/python3.6/site-packages/redis/client.py\u001b[0m in \u001b[0;36mset\u001b[0;34m(self, name, value, ex, px, nx, xx)\u001b[0m\n\u001b[1;32m   1449\u001b[0m         \u001b[0;32mif\u001b[0m \u001b[0mxx\u001b[0m\u001b[0;34m:\u001b[0m\u001b[0;34m\u001b[0m\u001b[0;34m\u001b[0m\u001b[0m\n\u001b[1;32m   1450\u001b[0m             \u001b[0mpieces\u001b[0m\u001b[0;34m.\u001b[0m\u001b[0mappend\u001b[0m\u001b[0;34m(\u001b[0m\u001b[0;34m'XX'\u001b[0m\u001b[0;34m)\u001b[0m\u001b[0;34m\u001b[0m\u001b[0;34m\u001b[0m\u001b[0m\n\u001b[0;32m-> 1451\u001b[0;31m         \u001b[0;32mreturn\u001b[0m \u001b[0mself\u001b[0m\u001b[0;34m.\u001b[0m\u001b[0mexecute_command\u001b[0m\u001b[0;34m(\u001b[0m\u001b[0;34m'SET'\u001b[0m\u001b[0;34m,\u001b[0m \u001b[0;34m*\u001b[0m\u001b[0mpieces\u001b[0m\u001b[0;34m)\u001b[0m\u001b[0;34m\u001b[0m\u001b[0;34m\u001b[0m\u001b[0m\n\u001b[0m\u001b[1;32m   1452\u001b[0m \u001b[0;34m\u001b[0m\u001b[0m\n\u001b[1;32m   1453\u001b[0m     \u001b[0;32mdef\u001b[0m \u001b[0m__setitem__\u001b[0m\u001b[0;34m(\u001b[0m\u001b[0mself\u001b[0m\u001b[0;34m,\u001b[0m \u001b[0mname\u001b[0m\u001b[0;34m,\u001b[0m \u001b[0mvalue\u001b[0m\u001b[0;34m)\u001b[0m\u001b[0;34m:\u001b[0m\u001b[0;34m\u001b[0m\u001b[0;34m\u001b[0m\u001b[0m\n",
      "\u001b[0;32m/anaconda3/lib/python3.6/site-packages/redis/client.py\u001b[0m in \u001b[0;36mexecute_command\u001b[0;34m(self, *args, **options)\u001b[0m\n\u001b[1;32m    770\u001b[0m         \u001b[0mpool\u001b[0m \u001b[0;34m=\u001b[0m \u001b[0mself\u001b[0m\u001b[0;34m.\u001b[0m\u001b[0mconnection_pool\u001b[0m\u001b[0;34m\u001b[0m\u001b[0;34m\u001b[0m\u001b[0m\n\u001b[1;32m    771\u001b[0m         \u001b[0mcommand_name\u001b[0m \u001b[0;34m=\u001b[0m \u001b[0margs\u001b[0m\u001b[0;34m[\u001b[0m\u001b[0;36m0\u001b[0m\u001b[0;34m]\u001b[0m\u001b[0;34m\u001b[0m\u001b[0;34m\u001b[0m\u001b[0m\n\u001b[0;32m--> 772\u001b[0;31m         \u001b[0mconnection\u001b[0m \u001b[0;34m=\u001b[0m \u001b[0mpool\u001b[0m\u001b[0;34m.\u001b[0m\u001b[0mget_connection\u001b[0m\u001b[0;34m(\u001b[0m\u001b[0mcommand_name\u001b[0m\u001b[0;34m,\u001b[0m \u001b[0;34m**\u001b[0m\u001b[0moptions\u001b[0m\u001b[0;34m)\u001b[0m\u001b[0;34m\u001b[0m\u001b[0;34m\u001b[0m\u001b[0m\n\u001b[0m\u001b[1;32m    773\u001b[0m         \u001b[0;32mtry\u001b[0m\u001b[0;34m:\u001b[0m\u001b[0;34m\u001b[0m\u001b[0;34m\u001b[0m\u001b[0m\n\u001b[1;32m    774\u001b[0m             \u001b[0mconnection\u001b[0m\u001b[0;34m.\u001b[0m\u001b[0msend_command\u001b[0m\u001b[0;34m(\u001b[0m\u001b[0;34m*\u001b[0m\u001b[0margs\u001b[0m\u001b[0;34m)\u001b[0m\u001b[0;34m\u001b[0m\u001b[0;34m\u001b[0m\u001b[0m\n",
      "\u001b[0;32m/anaconda3/lib/python3.6/site-packages/redis/connection.py\u001b[0m in \u001b[0;36mget_connection\u001b[0;34m(self, command_name, *keys, **options)\u001b[0m\n\u001b[1;32m    992\u001b[0m         \u001b[0;32mtry\u001b[0m\u001b[0;34m:\u001b[0m\u001b[0;34m\u001b[0m\u001b[0;34m\u001b[0m\u001b[0m\n\u001b[1;32m    993\u001b[0m             \u001b[0;31m# ensure this connection is connected to Redis\u001b[0m\u001b[0;34m\u001b[0m\u001b[0;34m\u001b[0m\u001b[0;34m\u001b[0m\u001b[0m\n\u001b[0;32m--> 994\u001b[0;31m             \u001b[0mconnection\u001b[0m\u001b[0;34m.\u001b[0m\u001b[0mconnect\u001b[0m\u001b[0;34m(\u001b[0m\u001b[0;34m)\u001b[0m\u001b[0;34m\u001b[0m\u001b[0;34m\u001b[0m\u001b[0m\n\u001b[0m\u001b[1;32m    995\u001b[0m             \u001b[0;31m# connections that the pool provides should be ready to send\u001b[0m\u001b[0;34m\u001b[0m\u001b[0;34m\u001b[0m\u001b[0;34m\u001b[0m\u001b[0m\n\u001b[1;32m    996\u001b[0m             \u001b[0;31m# a command. if not, the connection was either returned to the\u001b[0m\u001b[0;34m\u001b[0m\u001b[0;34m\u001b[0m\u001b[0;34m\u001b[0m\u001b[0m\n",
      "\u001b[0;32m/anaconda3/lib/python3.6/site-packages/redis/connection.py\u001b[0m in \u001b[0;36mconnect\u001b[0;34m(self)\u001b[0m\n\u001b[1;32m    495\u001b[0m         \u001b[0;32mexcept\u001b[0m \u001b[0msocket\u001b[0m\u001b[0;34m.\u001b[0m\u001b[0merror\u001b[0m\u001b[0;34m:\u001b[0m\u001b[0;34m\u001b[0m\u001b[0;34m\u001b[0m\u001b[0m\n\u001b[1;32m    496\u001b[0m             \u001b[0me\u001b[0m \u001b[0;34m=\u001b[0m \u001b[0msys\u001b[0m\u001b[0;34m.\u001b[0m\u001b[0mexc_info\u001b[0m\u001b[0;34m(\u001b[0m\u001b[0;34m)\u001b[0m\u001b[0;34m[\u001b[0m\u001b[0;36m1\u001b[0m\u001b[0;34m]\u001b[0m\u001b[0;34m\u001b[0m\u001b[0;34m\u001b[0m\u001b[0m\n\u001b[0;32m--> 497\u001b[0;31m             \u001b[0;32mraise\u001b[0m \u001b[0mConnectionError\u001b[0m\u001b[0;34m(\u001b[0m\u001b[0mself\u001b[0m\u001b[0;34m.\u001b[0m\u001b[0m_error_message\u001b[0m\u001b[0;34m(\u001b[0m\u001b[0me\u001b[0m\u001b[0;34m)\u001b[0m\u001b[0;34m)\u001b[0m\u001b[0;34m\u001b[0m\u001b[0;34m\u001b[0m\u001b[0m\n\u001b[0m\u001b[1;32m    498\u001b[0m \u001b[0;34m\u001b[0m\u001b[0m\n\u001b[1;32m    499\u001b[0m         \u001b[0mself\u001b[0m\u001b[0;34m.\u001b[0m\u001b[0m_sock\u001b[0m \u001b[0;34m=\u001b[0m \u001b[0msock\u001b[0m\u001b[0;34m\u001b[0m\u001b[0;34m\u001b[0m\u001b[0m\n",
      "\u001b[0;31mConnectionError\u001b[0m: Error 60 connecting to 10.0.0.5:6379. Operation timed out."
     ]
    }
   ],
   "source": [
    "rdb.set(\"Newton\", \"hi\")"
   ]
  },
  {
   "cell_type": "code",
   "execution_count": 38,
   "metadata": {},
   "outputs": [
    {
     "ename": "AttributeError",
     "evalue": "'SparkSession' object has no attribute 'SparkContext'",
     "output_type": "error",
     "traceback": [
      "\u001b[0;31m---------------------------------------------------------------------------\u001b[0m",
      "\u001b[0;31mAttributeError\u001b[0m                            Traceback (most recent call last)",
      "\u001b[0;32m<ipython-input-38-7f9130fed4d0>\u001b[0m in \u001b[0;36m<module>\u001b[0;34m()\u001b[0m\n\u001b[1;32m      1\u001b[0m \u001b[0mconf\u001b[0m \u001b[0;34m=\u001b[0m \u001b[0mpyspark\u001b[0m\u001b[0;34m.\u001b[0m\u001b[0mSparkConf\u001b[0m\u001b[0;34m(\u001b[0m\u001b[0;34m)\u001b[0m\u001b[0;34m.\u001b[0m\u001b[0msetAll\u001b[0m\u001b[0;34m(\u001b[0m\u001b[0;34m[\u001b[0m\u001b[0;34m(\u001b[0m\u001b[0;34m'spark.executor.memory'\u001b[0m\u001b[0;34m,\u001b[0m \u001b[0;34m'8g'\u001b[0m\u001b[0;34m)\u001b[0m\u001b[0;34m,\u001b[0m \u001b[0;34m(\u001b[0m\u001b[0;34m'spark.executor.cores'\u001b[0m\u001b[0;34m,\u001b[0m \u001b[0;34m'3'\u001b[0m\u001b[0;34m)\u001b[0m\u001b[0;34m,\u001b[0m \u001b[0;34m(\u001b[0m\u001b[0;34m'spark.cores.max'\u001b[0m\u001b[0;34m,\u001b[0m \u001b[0;34m'3'\u001b[0m\u001b[0;34m)\u001b[0m\u001b[0;34m,\u001b[0m \u001b[0;34m(\u001b[0m\u001b[0;34m'spark.driver.memory'\u001b[0m\u001b[0;34m,\u001b[0m\u001b[0;34m'8g'\u001b[0m\u001b[0;34m)\u001b[0m\u001b[0;34m]\u001b[0m\u001b[0;34m)\u001b[0m\u001b[0;34m\u001b[0m\u001b[0;34m\u001b[0m\u001b[0m\n\u001b[1;32m      2\u001b[0m \u001b[0msc\u001b[0m\u001b[0;34m.\u001b[0m\u001b[0mstop\u001b[0m\u001b[0;34m(\u001b[0m\u001b[0;34m)\u001b[0m\u001b[0;34m\u001b[0m\u001b[0;34m\u001b[0m\u001b[0m\n\u001b[0;32m----> 3\u001b[0;31m \u001b[0msc\u001b[0m \u001b[0;34m=\u001b[0m \u001b[0mspark\u001b[0m\u001b[0;34m.\u001b[0m\u001b[0mSparkContext\u001b[0m\u001b[0;34m(\u001b[0m\u001b[0mconf\u001b[0m\u001b[0;34m=\u001b[0m\u001b[0mconf\u001b[0m\u001b[0;34m)\u001b[0m\u001b[0;34m\u001b[0m\u001b[0;34m\u001b[0m\u001b[0m\n\u001b[0m",
      "\u001b[0;31mAttributeError\u001b[0m: 'SparkSession' object has no attribute 'SparkContext'"
     ]
    }
   ],
   "source": [
    "sc = SparkContext.getOrCreate()\n",
    "#spark = SparkSession(sc)\n",
    "conf = pyspark.SparkConf().setAll([('spark.executor.memory', '8g'), ('spark.executor.cores', '3'), ('spark.cores.max', '3'), ('spark.driver.memory','8g')])\n",
    "sc.stop()\n",
    "sc = spark.SparkContext(conf=conf)"
   ]
  },
  {
   "cell_type": "code",
   "execution_count": null,
   "metadata": {
    "collapsed": true
   },
   "outputs": [],
   "source": []
  }
 ],
 "metadata": {
  "kernelspec": {
   "display_name": "Python 3",
   "language": "python",
   "name": "python3"
  },
  "language_info": {
   "codemirror_mode": {
    "name": "ipython",
    "version": 3
   },
   "file_extension": ".py",
   "mimetype": "text/x-python",
   "name": "python",
   "nbconvert_exporter": "python",
   "pygments_lexer": "ipython3",
   "version": "3.6.7"
  }
 },
 "nbformat": 4,
 "nbformat_minor": 2
}
