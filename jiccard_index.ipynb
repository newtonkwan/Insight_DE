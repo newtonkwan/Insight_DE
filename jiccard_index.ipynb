{
 "cells": [
  {
   "cell_type": "code",
   "execution_count": null,
   "metadata": {},
   "outputs": [],
   "source": [
    "# This notebook calculates the jiccard index of two abstracts "
   ]
  },
  {
   "cell_type": "code",
   "execution_count": 1,
   "metadata": {},
   "outputs": [],
   "source": [
    "abstract_1 = \"Primary debulking surgery (PDS) has historically been the standard treatment for advanced ovarian cancer. Recent data appear to support a paradigm shift toward neoadjuvant chemotherapy with interval debulking surgery (NACT-IDS). We hypothesized that stage IV ovarian cancer patients would likely benefit from NACT-IDS by achieving similar outcomes with less morbidity. Patients with stage IV epithelial ovarian cancer who underwent primary treatment between January 1, 1995 and December 31, 2007, were identified. Data were retrospectively extracted. Each patient record was evaluated to subclassify stage IV disease according to the sites of tumor dissemination at the time of diagnosis. The Kaplan–Meier method was used to compare overall survival (OS) data. A total of 242 newly diagnosed stage IV epithelial ovarian cancer patients were included in the final analysis; 176 women (73%) underwent PDS, 45 (18%) NACT-IDS, and 21 (9%) chemotherapy only. The frequency of achieving complete resection to no residual disease was significantly higher in patients with NACT-IDS versus PDS (27% vs. 7.5%; P < 0.001). When compared to women treated with NACT-IDS, women with PDS had longer admissions (12 vs. 8 days; P = 0.01), more frequent intensive care unit admissions (12% vs. 0%; P = 0.01), and a trend toward a higher rate of postoperative complications (27% vs. 15%; P = 0.08). The patients who received only chemotherapy had a median OS of 23 months, compared to 33 months in the NACT-IDS group and 29 months in the PDS group (P = 0.1). NACT-IDS for stage IV ovarian cancer resulted in higher rates of complete resection to no residual disease, less morbidity, and equivalent OS compared to PDS.\"\n",
    "abstract_2 = \"The potential to improve seed germination responses to salinity was evaluated for 13 accessions representing six wild Lycopersicon species and 20 accessions of L. esculentum. Germination response times increased in all accessions at 100 mM NaCl. Analysis indicated that one accession of L. peruvianum (PI126435) germinated faster under high salinity than all other accessions and was closely followed by L. pennellii (LA716). The fastest germinating L. esculentum accession, PI174263, ranked third. Additional wild ecotypes exhibiting rapid germination at 100 mM NaCl were identified among L. pimpinellifolium and L. peruvianum.Emotions are an often overlooked aspect of work since they are not included in formal work models. However, they continue provide critical information as well as be part of a rich social context for action. The following study focuses on the expression of emotions within the context of a particular work environment -- an emergency room -- and high-lights how it is used, why it is invisible in the work, and how it continues to persist through workarounds. These workarounds provide indications towards the design of so-ciotechnical systems to continue to support the expression of invisible emotions.We demonstrate tunable re-directing, blocking, and splitting of a light beam along defect channels based on spatial bandgap guidance in two-dimensional photonic lattices. We show the possibility for linear control of beam propagation and multicolor routing with specially designed junctions and surface structures embedded in otherwise uniform square lattices.\""
   ]
  },
  {
   "cell_type": "code",
   "execution_count": 24,
   "metadata": {},
   "outputs": [],
   "source": [
    "def jiccard_index(abstract_1, abstract_2):\n",
    "    '''\n",
    "    Calculates the jiccard index of two abstracts \n",
    "    '''\n",
    "\n",
    "    jiccard_index = None #initialize jiccard index \n",
    "    \n",
    "    list_abst_1 = abstract_1.split() # take the set \n",
    "    list_abst_2 = abstract_2.split() # take the set \n",
    "    combine_list = list_abst_1 + list_abst_2\n",
    "    merge_set = set(combine_list)\n",
    "    \n",
    "    len_abst_1 = len(list_abst_1)\n",
    "    len_abst_2 = len(list_abst_2)\n",
    "    len_combine_list = len(combine_list)\n",
    "    len_merge_set = len(merge_set)\n",
    "    \n",
    "    same_words = 0 # number of same words \n",
    "    for word in list_abst_1: \n",
    "        if word in list_abst_2:\n",
    "            same_words +=1 \n",
    "    \n",
    "    '''\n",
    "    print(len_abst_1)\n",
    "    print(len_abst_2)\n",
    "    print(len_combine_list)\n",
    "    print(len_merge_set) \n",
    "    print(same_words)\n",
    "    print(len_merge_set)\n",
    "    '''\n",
    "\n",
    "    jiccard_index = same_words / len_merge_set\n",
    "    \n",
    "    return jiccard_index "
   ]
  },
  {
   "cell_type": "code",
   "execution_count": null,
   "metadata": {},
   "outputs": [],
   "source": []
  },
  {
   "cell_type": "code",
   "execution_count": 52,
   "metadata": {},
   "outputs": [
    {
     "name": "stdout",
     "output_type": "stream",
     "text": [
      "Jiccard Index(abs1, abs2) = 0.194\n"
     ]
    }
   ],
   "source": [
    "j_index = jiccard_index(abstract_1, abstract_2)\n",
    "print(\"Jiccard Index(abs1, abs2) = {:.3f}\".format(j_index))"
   ]
  },
  {
   "cell_type": "code",
   "execution_count": null,
   "metadata": {},
   "outputs": [],
   "source": []
  }
 ],
 "metadata": {
  "kernelspec": {
   "display_name": "Python 3",
   "language": "python",
   "name": "python3"
  },
  "language_info": {
   "codemirror_mode": {
    "name": "ipython",
    "version": 3
   },
   "file_extension": ".py",
   "mimetype": "text/x-python",
   "name": "python",
   "nbconvert_exporter": "python",
   "pygments_lexer": "ipython3",
   "version": "3.6.3"
  }
 },
 "nbformat": 4,
 "nbformat_minor": 2
}
