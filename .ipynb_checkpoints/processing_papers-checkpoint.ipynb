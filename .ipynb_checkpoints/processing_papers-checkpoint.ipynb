{
 "cells": [
  {
   "cell_type": "markdown",
   "metadata": {},
   "source": [
    "This will extract year, citation, and abstract for the research data \n",
    "Input: .txt file of research\n",
    "Output: {ID: (year, citation, abstract)}"
   ]
  },
  {
   "cell_type": "code",
   "execution_count": null,
   "metadata": {},
   "outputs": [],
   "source": [
    "#id  string: S2 generated research paper ID\n",
    "#title  string: Research paper title.\n",
    "#paperAbstract  string: Extracted abstract of the paper\n",
    "#entities  list: S2 extracted list of relevant entities or topics.\n",
    "#s2Url  string: URL to S2 research paper details page\n",
    "#s2PdfUrl  string: URL to PDF on S2 if available.\n",
    "#pdfUrls  list: URLs related to this PDF scraped from the web.\n",
    "#authors  list: List of authors with an S2 generated author ID and name.\n",
    "#inCitations  list: List of S2 paperId's which cited this paper.\n",
    "#outCitations  list: List of paperId's which this paper cited.\n",
    "#year  int: Year this paper was published as integer.\n",
    "#venue  string: Extracted venue published.\n",
    "#journalName  string: Name of the journal that published this paper.\n",
    "#journalVolume  string: The volume of the journal where this paper was published.\n",
    "#journalPages  string: The pages of the journal where this paper was published.\n",
    "#sources  list: Identifies papers sourced from DBLP or Medline.\n",
    "#doi  string: Digital Object Identifier registered at doi.org.\n",
    "#doiUrl  string: DOI link for registered objects.\n",
    "#pmid  string: Unique identifier used by PubMed."
   ]
  },
  {
   "cell_type": "code",
   "execution_count": 20,
   "metadata": {},
   "outputs": [],
   "source": [
    "import os\n",
    "import re\n",
    "\n",
    "cwd = os.getcwd() # get the current working directory \n",
    "with open(cwd + '/sample-S2-records.txt') as myfile:\n",
    "    data = myfile.read().splitlines() # a list with each line as an entry"
   ]
  },
  {
   "cell_type": "code",
   "execution_count": 17,
   "metadata": {},
   "outputs": [
    {
     "name": "stdout",
     "output_type": "stream",
     "text": [
      "{\"entities\":[\"Epithelial ovarian cancer\",\"Excision\",\"Extraction\",\"Hospital admission\",\"Malignant neoplasm of ovary\",\"Morbidity - disease rate\",\"Neoadjuvant Therapy\",\"Neoplasms\",\"Overall Survival\",\"Patients\",\"Postoperative Complications\",\"Residual Tumor\",\"SLC13A5 gene\",\"Stage IV Ovarian Carcinoma\",\"Tumor Debulking\",\"intensive care unit\",\"ovarian neoplasm\",\"stage IV childhood Hodgkin's lymphoma\"],\"journalVolume\":\"19\",\"journalPages\":\"959-965\",\"pmid\":\"21994038v1\",\"year\":2011,\"outCitations\":[\"166ac4b6f694c68dafdc912ca0c336b4c444fd9e\",\"f0223f8d1920009d1afccffe2d4129f2211711cf\",\"aaee9e127e63a4ee8baae2bc8a960f4a42afce78\",\"03029e4427cfe66c3da6257979dc2d5b6eb3a0e4\",\"d14434966fd87e94c97ed88938ea3dd5282d7652\",\"d6fa05d67f9a6fc3256d05c81a4c55c472e78b0c\",\"e9b9d08937fd2e603d5f8106ccaf81589dfa9cdf\",\"943c32265fa79b20b925f6cc450db19b21c47bc0\",\"07407593b49bc95f8d0c3c3ab912d78564db3302\",\"fedaf6c7ea8b58e501b667603b8a23f1756ce375\",\"ce84de64d8388258243244bbb4aef290e6022d30\",\"399e7acd3fb9fa3f7bcf75e378e6176f7f2e83d7\",\"a81a07f476fa375b0ef97565c615befd68305807\",\"a2d2786451f8999b2cd576b01051c35412abfeab\",\"5808049452b7ba17c83eb59f8eac680a43fb356d\",\"cc7e57dc58ce000a1e208a9a05036411ce81e44b\",\"f9114074480dbfcd5383edef4342763850928794\",\"74f808b2130eec1d7a310c9dded88252ce5e95f9\",\"d1c5962330475efac873a0beca438612457a9a7f\",\"3047fddd63530f7beb6a3949df8ef2fa74ea8076\",\"f846c842c76848e7a24bc3f3a0c98f9cf51ef43e\",\"eec37a9783db2fce758e5257366f21f5bbb6ee1c\",\"5b01531c37b4965b6094a7c4ceb9da01d0d81225\",\"02235d796e51dd058b3454f85ed94b7e9ef3a029\",\"992ba166b4f49e8818c83e55ba5e9abec6c00f15\",\"08b568c4cb2b021b64f2c8ace56a077b07402eac\",\"277c53725dd4733981f1545ebd1faaad7dee8930\",\"896658482670249ab4c2db9fc3be424178ffc828\",\"b653b7a6bd4680ff536d91a7a174088cd2f43976\"],\"s2Url\":\"https://semanticscholar.org/paper/4cbba8127c8747a3b2cfb9c1f48c43e5c15e323e\",\"s2PdfUrl\":\"\",\"id\":\"4cbba8127c8747a3b2cfb9c1f48c43e5c15e323e\",\"authors\":[{\"name\":\"Jose Alejandro Rauh-Hain\",\"ids\":[\"6323488\"]},{\"name\":\"Noah Rodriguez\",\"ids\":[\"40439126\"]},{\"name\":\"Whitfield B. Growdon\",\"ids\":[\"5695062\"]},{\"name\":\"Anne Kathryn Goodman\",\"ids\":[\"47348020\"]},{\"name\":\"David M. Boruta Ii\",\"ids\":[\"21470081\"]},{\"name\":\"Neil S Horowitz\",\"ids\":[\"8523393\"]},{\"name\":\"Mph Marcela  G.  del  Carmen  MD\",\"ids\":[\"16734596\"]},{\"name\":\"John Schorge\",\"ids\":[\"1739284\"]}],\"journalName\":\"Annals of Surgical Oncology\",\"paperAbstract\":\"Primary debulking surgery (PDS) has historically been the standard treatment for advanced ovarian cancer. Recent data appear to support a paradigm shift toward neoadjuvant chemotherapy with interval debulking surgery (NACT-IDS). We hypothesized that stage IV ovarian cancer patients would likely benefit from NACT-IDS by achieving similar outcomes with less morbidity. Patients with stage IV epithelial ovarian cancer who underwent primary treatment between January 1, 1995 and December 31, 2007, were identified. Data were retrospectively extracted. Each patient record was evaluated to subclassify stage IV disease according to the sites of tumor dissemination at the time of diagnosis. The Kaplan–Meier method was used to compare overall survival (OS) data. A total of 242 newly diagnosed stage IV epithelial ovarian cancer patients were included in the final analysis; 176 women (73%) underwent PDS, 45 (18%) NACT-IDS, and 21 (9%) chemotherapy only. The frequency of achieving complete resection to no residual disease was significantly higher in patients with NACT-IDS versus PDS (27% vs. 7.5%; P < 0.001). When compared to women treated with NACT-IDS, women with PDS had longer admissions (12 vs. 8 days; P = 0.01), more frequent intensive care unit admissions (12% vs. 0%; P = 0.01), and a trend toward a higher rate of postoperative complications (27% vs. 15%; P = 0.08). The patients who received only chemotherapy had a median OS of 23 months, compared to 33 months in the NACT-IDS group and 29 months in the PDS group (P = 0.1). NACT-IDS for stage IV ovarian cancer resulted in higher rates of complete resection to no residual disease, less morbidity, and equivalent OS compared to PDS.\",\"inCitations\":[\"505715691a8360f67f1cfcb4f2a45c8652a01612\",\"450a0ef76fd457deb30a99c6ca22ae30263273fc\",\"edf1163e8dfcf0575842d03dfc143e6457d0ff5c\",\"2282d6014362447b8d9b983bf43ca71d67e48c40\",\"b9d911352437e72e621f80f889709fa849779138\",\"d4aff3783a894062b9f43d657206f573f483fbfd\",\"cbb86bd24472903eb8d54e6aa332fe7f805e307a\",\"ede0d95ef1265dbc27021eb9ae9baf2db3bc0dc8\",\"0bfe29a5f6e572098eb0f5c31ab582bf04328c69\",\"80d103a7b039c46ac3cf3239873adc053ea6afc8\",\"7865324b0684bf8a07dd4a6cf2e0a5b1fa64fc1f\",\"655a5ceb46d974b935695c5f0074a7f9b643958a\",\"2f092623673c875e6accd5a978a10507be306500\",\"f51536c9fd2eeacc88abf84baf7b2f05282db841\",\"c7ed54a5eb89086e0fdf7622fbe88e96890823b7\",\"0cfcae93bf4a955ee1f6b916adf8aebdf8db9aa0\",\"15344e7d627d73551276d5bdf76039ef74461d26\",\"c67082501169a383c972aea0ab9d7f1c72ee43f0\",\"0a60c97d4eceabfb08e8328da67b176bffe36a67\",\"065225e5382d8f998481857b45090074494db957\",\"294f252ac5e0c05c12943bac11ea7a548dbb2620\",\"64df8fea136c83217d239d4bee993750ba15f75e\",\"e005949227ccfe033f578eb11a9c3b546adda2fa\",\"1c18b95b762a9d9d53852bf20c5c5382dadfbd96\",\"81212e90971f4499b2c293f293ab47620460e764\",\"786f4f5b397a0d8aedbe348cc1d3365a3a63b121\",\"9324bd563c8fdaa0d8d49b6120519ef346a90c9a\"],\"pdfUrls\":[],\"title\":\"Primary Debulking Surgery Versus Neoadjuvant Chemotherapy in Stage IV Ovarian Cancer\",\"doi\":\"10.1245/s10434-011-2100-x\",\"sources\":[\"Medline\"],\"doiUrl\":\"https://doi.org/10.1245/s10434-011-2100-x\",\"venue\":\"Annals of Surgical Oncology\"}\n"
     ]
    }
   ],
   "source": [
    "first_entry = data[0] # first entry\n",
    "print(data[0])"
   ]
  },
  {
   "cell_type": "code",
   "execution_count": 19,
   "metadata": {},
   "outputs": [
    {
     "name": "stdout",
     "output_type": "stream",
     "text": [
      "Length of data: 102\n"
     ]
    }
   ],
   "source": [
    "print(\"Length of data:\", len(data))"
   ]
  },
  {
   "cell_type": "code",
   "execution_count": 161,
   "metadata": {},
   "outputs": [],
   "source": [
    "# looking for inCitations, year, and paperAbstract\n",
    "# The label is the descriptor. Ex. \"year\", \"id\", \"abstract\"\n",
    "# The tag is the unique identifier. Ex \"2011\", \"4cbba8127c8747a3b2cfb9c1f48c43e5c15e323e\"\n",
    "parenthesis = \"\\\"\" # string literal for \"\n",
    "\n",
    "paper_mappings = {}\n",
    "\n",
    "# finding the id tag \n",
    "paper_id_tag = \"\\\"id\\\"\" # find the first occurence of \"id\"\n",
    "id_label_start = first_entry.find(paper_id_tag) # this is the index that the id label starts\n",
    "id_label_end = id_tag_start + 4 # this is the index that the id label ends \n",
    "id_tag_start = id_label_start + 6 # this is the index that the id tag starts. Always be 6. \n",
    "id_tag_end = first_entry.find(parenthesis, id_tag_start) - 1 #this is the index that the id tag ends\n",
    "id_tag = first_entry[id_tag_start:id_tag_end] # id tag string \n",
    "\n",
    "# find year \n",
    "paper_year_tag = \"\\\"year\\\"\" # find the first occurence of \"year\"\n",
    "year_label_start = first_entry.find(paper_year_tag) # index that the year label starts \n",
    "year_label_end = year_label_start + 7 # index that the year label ends \n",
    "year_tag_start = year_label_start + 7 # index that the year tag starts \n",
    "year_tag_end = first_entry.find(parenthesis, year_tag_start) - 1 # this is the index that the year tag ends\n",
    "year_tag = first_entry[year_tag_start:year_tag_end] # year tag string\n",
    "\n",
    "# find number of citations \n",
    "# check edge cases where \"inCitations\":[], \"inCitations\":[aienf23f9j023], \"inCitations\":[anea39rjna3rj, a3r98a3hrn9a38hr]\n",
    "# we'll count by commas, but work the edge cases\n",
    "bracket = r\"]\" # look for \"]\"\n",
    "paper_citation_tag = \"\\\"inCitations\\\"\" # find the occurence of \"inCitations\"\n",
    "citation_label_start = first_entry.find(paper_citation_tag) # index that the citation label starts \n",
    "citation_label_end = citation_label_start + 15 # index that the citation label ends\n",
    "citation_tag_start = citation_label_start + 15 # index that the citation tag starts\n",
    "citation_tag_end = first_entry.find(bracket, citation_tag_start)  # this is the index that the citation tag ends \n",
    "citation_list = first_entry[citation_tag_start:citation_tag_end].split(\",\")\n",
    "num_citations = len(citation_list)\n",
    "\n",
    "# find abstract \n",
    "paper_abstract_tag = \"\\\"paperAbstract\\\"\"\n",
    "abstract_label_start = first_entry.find(paper_abstract_tag)\n",
    "abstract_label_end = abstract_label_start + 17\n",
    "abstract_tag_start = abstract_label_start + 17 # the start of the abstract tag \n",
    "abstract_tag_end = first_entry.find(parenthesis, abstract_tag_start) # the end of the abstract tag\n",
    "abstract_tag = first_entry[abstract_tag_start:abstract_tag_end]\n",
    "\n",
    "# mapping = {id:(year, number of citations, abstract)}\n",
    "paper_mappings[id_tag] = (year_tag, num_citations, abstract_tag)"
   ]
  },
  {
   "cell_type": "code",
   "execution_count": 162,
   "metadata": {},
   "outputs": [
    {
     "name": "stdout",
     "output_type": "stream",
     "text": [
      "{'4cbba8127c8747a3b2cfb9c1f48c43e5c15e323': ('2011', 27, 'Primary debulking surgery (PDS) has historically been the standard treatment for advanced ovarian cancer. Recent data appear to support a paradigm shift toward neoadjuvant chemotherapy with interval debulking surgery (NACT-IDS). We hypothesized that stage IV ovarian cancer patients would likely benefit from NACT-IDS by achieving similar outcomes with less morbidity. Patients with stage IV epithelial ovarian cancer who underwent primary treatment between January 1, 1995 and December 31, 2007, were identified. Data were retrospectively extracted. Each patient record was evaluated to subclassify stage IV disease according to the sites of tumor dissemination at the time of diagnosis. The Kaplan–Meier method was used to compare overall survival (OS) data. A total of 242 newly diagnosed stage IV epithelial ovarian cancer patients were included in the final analysis; 176 women (73%) underwent PDS, 45 (18%) NACT-IDS, and 21 (9%) chemotherapy only. The frequency of achieving complete resection to no residual disease was significantly higher in patients with NACT-IDS versus PDS (27% vs. 7.5%; P\\xa0<\\xa00.001). When compared to women treated with NACT-IDS, women with PDS had longer admissions (12 vs. 8\\xa0days; P\\xa0=\\xa00.01), more frequent intensive care unit admissions (12% vs. 0%; P\\xa0=\\xa00.01), and a trend toward a higher rate of postoperative complications (27% vs. 15%; P\\xa0=\\xa00.08). The patients who received only chemotherapy had a median OS of 23\\xa0months, compared to 33\\xa0months in the NACT-IDS group and 29\\xa0months in the PDS group (P\\xa0=\\xa00.1). NACT-IDS for stage IV ovarian cancer resulted in higher rates of complete resection to no residual disease, less morbidity, and equivalent OS compared to PDS.')}\n"
     ]
    }
   ],
   "source": [
    "print(paper_mappings)"
   ]
  },
  {
   "cell_type": "code",
   "execution_count": 163,
   "metadata": {},
   "outputs": [],
   "source": [
    "# mapping ids to (year, number of citations, and abstract tag)\n",
    "\n",
    "paper_mappings = {} # set up the dictionary to store information \n",
    "\n",
    "# setting up important variables \n",
    "parenthesis = \"\\\"\" # string literal for \"\n",
    "bracket = r\"]\" # look for \"]\"\n",
    "paper_id_tag = \"\\\"id\\\"\" # find the first occurence of \"id\"\n",
    "paper_year_tag = \"\\\"year\\\"\" # find the first occurence of \"year\"\n",
    "paper_citation_tag = \"\\\"inCitations\\\"\" # find the occurence of \"inCitations\"\n",
    "paper_abstract_tag = \"\\\"paperAbstract\\\"\"\n",
    "\n",
    "# loop through each line of the data \n",
    "for line in data: \n",
    "    # look for the labels \n",
    "    id_label_start = line.find(paper_id_tag) # this is the index that the id label starts\n",
    "    year_label_start = line.find(paper_year_tag) # index that the year label starts \n",
    "    \n",
    "    \n",
    "    \n",
    "    "
   ]
  },
  {
   "cell_type": "code",
   "execution_count": null,
   "metadata": {},
   "outputs": [],
   "source": []
  }
 ],
 "metadata": {
  "kernelspec": {
   "display_name": "Python 3",
   "language": "python",
   "name": "python3"
  },
  "language_info": {
   "codemirror_mode": {
    "name": "ipython",
    "version": 3
   },
   "file_extension": ".py",
   "mimetype": "text/x-python",
   "name": "python",
   "nbconvert_exporter": "python",
   "pygments_lexer": "ipython3",
   "version": "3.6.3"
  }
 },
 "nbformat": 4,
 "nbformat_minor": 2
}
