{
 "cells": [
  {
   "cell_type": "markdown",
   "metadata": {},
   "source": [
    "## this file pulls .gz files from an AWS S3 bucket, converts them into a pyspark dataframe, writes them to a new AWS S3 bucket "
   ]
  },
  {
   "cell_type": "code",
   "execution_count": 3,
   "metadata": {},
   "outputs": [],
   "source": [
    "from pyspark.sql.types import *\n",
    "from pyspark.sql.functions import udf\n",
    "from pyspark.sql import SQLContext\n",
    "from pyspark import SparkContext\n",
    "from pyspark.sql.session import SparkSession\n",
    "\n",
    "sc = SparkContext.getOrCreate()\n",
    "spark = SparkSession(sc)\n",
    "raw_data_bucket_name = \"open-research-corpus\"\n",
    "preprocessed_bucket_name = \"preprocessed-open-research-corpus\"\n",
    "\n",
    "# Reads all .gz files from an AWS bucket\n",
    "def read_all_gz_from_bucket(orig_bucket_name):\n",
    "    '''\n",
    "    This function reads data from the original bucket: open-research-corpus \n",
    "    '''\n",
    "    return spark.read.text(\"s3a://{0}/corpus-2019-01-31/*.gz\".format(orig_bucket_name))\n",
    "\n",
    "def write_aws_s3(preprocessed_bucket_name, df):\n",
    "    '''\n",
    "    This function writes a dataframe to the preprocessed bucket: preprocessed-open-research-corpus\n",
    "    '''\n",
    "    df.write.save(\"s3a://{0}\".format(preprocessed_bucket_name), format=\"json\", mode=\"overwrite\")\n",
    "    \n",
    "raw_data = read_all_gz_from_bucket(raw_data_bucket_name) # read in raw data\n",
    "write_aws_s3(preprocessed_bucket_name, raw_data) # write preprocessed data to AWS S3 bucket "
   ]
  },
  {
   "cell_type": "code",
   "execution_count": null,
   "metadata": {},
   "outputs": [],
   "source": [
    "filenames = \"s3a://open-research-corpus/corpus-2019-01-31/s2-corpus-00.gz\" # 1GB file "
   ]
  }
 ],
 "metadata": {
  "kernelspec": {
   "display_name": "Python 3",
   "language": "python",
   "name": "python3"
  },
  "language_info": {
   "codemirror_mode": {
    "name": "ipython",
    "version": 3
   },
   "file_extension": ".py",
   "mimetype": "text/x-python",
   "name": "python",
   "nbconvert_exporter": "python",
   "pygments_lexer": "ipython3",
   "version": "3.6.3"
  }
 },
 "nbformat": 4,
 "nbformat_minor": 2
}
