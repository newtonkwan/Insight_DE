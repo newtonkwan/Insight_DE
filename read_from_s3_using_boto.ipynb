{
 "cells": [
  {
   "cell_type": "code",
   "execution_count": 3,
   "metadata": {
    "collapsed": true
   },
   "outputs": [],
   "source": [
    "import boto3"
   ]
  },
  {
   "cell_type": "code",
   "execution_count": 4,
   "metadata": {
    "collapsed": true
   },
   "outputs": [],
   "source": [
    "def get_bucket(bucket_name):\n",
    "    s3 = boto3.resource('s3')\n",
    "    return s3.Bucket(bucket_name)"
   ]
  },
  {
   "cell_type": "code",
   "execution_count": 11,
   "metadata": {
    "collapsed": true
   },
   "outputs": [],
   "source": [
    "orig_bucket_name = \"open-research-corpus\"\n",
    "bucket = get_bucket(orig_bucket_name)"
   ]
  },
  {
   "cell_type": "code",
   "execution_count": 12,
   "metadata": {},
   "outputs": [
    {
     "name": "stdout",
     "output_type": "stream",
     "text": [
      "<class 'boto3.resources.factory.s3.Bucket'>\n"
     ]
    }
   ],
   "source": [
    "print(type(bucket))"
   ]
  },
  {
   "cell_type": "code",
   "execution_count": 13,
   "metadata": {},
   "outputs": [
    {
     "data": {
      "text/plain": [
       "s3.Bucket.objectsCollectionManager(s3.Bucket(name='open-research-corpus'), s3.ObjectSummary)"
      ]
     },
     "execution_count": 13,
     "metadata": {},
     "output_type": "execute_result"
    }
   ],
   "source": [
    "bucket.objects "
   ]
  },
  {
   "cell_type": "code",
   "execution_count": null,
   "metadata": {
    "collapsed": true
   },
   "outputs": [],
   "source": [
    "mybucket.objects.filter(Prefix='foo/bar')"
   ]
  },
  {
   "cell_type": "code",
   "execution_count": 15,
   "metadata": {},
   "outputs": [
    {
     "name": "stdout",
     "output_type": "stream",
     "text": [
      "corpus-2019-01-31/s2-corpus-00.gz\n",
      "corpus-2019-01-31/s2-corpus-01.gz\n",
      "corpus-2019-01-31/s2-corpus-02.gz\n",
      "corpus-2019-01-31/s2-corpus-03.gz\n",
      "corpus-2019-01-31/s2-corpus-04.gz\n",
      "corpus-2019-01-31/s2-corpus-05.gz\n",
      "corpus-2019-01-31/s2-corpus-06.gz\n",
      "corpus-2019-01-31/s2-corpus-07.gz\n",
      "corpus-2019-01-31/s2-corpus-08.gz\n",
      "corpus-2019-01-31/s2-corpus-09.gz\n",
      "corpus-2019-01-31/s2-corpus-10.gz\n",
      "corpus-2019-01-31/s2-corpus-11.gz\n",
      "corpus-2019-01-31/s2-corpus-12.gz\n",
      "corpus-2019-01-31/s2-corpus-13.gz\n",
      "corpus-2019-01-31/s2-corpus-14.gz\n",
      "corpus-2019-01-31/s2-corpus-15.gz\n",
      "corpus-2019-01-31/s2-corpus-16.gz\n",
      "corpus-2019-01-31/s2-corpus-17.gz\n",
      "corpus-2019-01-31/s2-corpus-18.gz\n",
      "corpus-2019-01-31/s2-corpus-19.gz\n",
      "corpus-2019-01-31/s2-corpus-20.gz\n",
      "corpus-2019-01-31/s2-corpus-21.gz\n",
      "corpus-2019-01-31/s2-corpus-22.gz\n",
      "corpus-2019-01-31/s2-corpus-23.gz\n",
      "corpus-2019-01-31/s2-corpus-24.gz\n",
      "corpus-2019-01-31/s2-corpus-25.gz\n",
      "corpus-2019-01-31/s2-corpus-26.gz\n",
      "corpus-2019-01-31/s2-corpus-27.gz\n",
      "corpus-2019-01-31/s2-corpus-28.gz\n",
      "corpus-2019-01-31/s2-corpus-29.gz\n",
      "corpus-2019-01-31/s2-corpus-30.gz\n",
      "corpus-2019-01-31/s2-corpus-31.gz\n",
      "corpus-2019-01-31/s2-corpus-32.gz\n",
      "corpus-2019-01-31/s2-corpus-33.gz\n",
      "corpus-2019-01-31/s2-corpus-34.gz\n",
      "corpus-2019-01-31/s2-corpus-35.gz\n",
      "corpus-2019-01-31/s2-corpus-36.gz\n",
      "corpus-2019-01-31/s2-corpus-37.gz\n",
      "corpus-2019-01-31/s2-corpus-38.gz\n",
      "corpus-2019-01-31/s2-corpus-39.gz\n",
      "corpus-2019-01-31/s2-corpus-40.gz\n",
      "corpus-2019-01-31/s2-corpus-41.gz\n",
      "corpus-2019-01-31/s2-corpus-42.gz\n",
      "corpus-2019-01-31/s2-corpus-43.gz\n",
      "corpus-2019-01-31/s2-corpus-44.gz\n",
      "corpus-2019-01-31/s2-corpus-45.gz\n",
      "corpus-2019-01-31/s2-corpus-46.gz\n"
     ]
    }
   ],
   "source": [
    "for gz_obj in bucket.objects.filter(Prefix=\"corpus\"):\n",
    "    print(gz_obj.key)"
   ]
  },
  {
   "cell_type": "code",
   "execution_count": null,
   "metadata": {
    "collapsed": true
   },
   "outputs": [],
   "source": [
    "def preprocess_all():\n",
    "    bucket = get_bucket(\"open-research-corpus\")\n",
    "    for gz_obj in bucket.objects.all():\n",
    "        preprocess_file(config.S3_BUCKET_BATCH_RAW, gz_obj.key)\n",
    "    "
   ]
  },
  {
   "cell_type": "code",
   "execution_count": null,
   "metadata": {
    "collapsed": true
   },
   "outputs": [],
   "source": []
  }
 ],
 "metadata": {
  "kernelspec": {
   "display_name": "Python 3",
   "language": "python",
   "name": "python3"
  },
  "language_info": {
   "codemirror_mode": {
    "name": "ipython",
    "version": 3
   },
   "file_extension": ".py",
   "mimetype": "text/x-python",
   "name": "python",
   "nbconvert_exporter": "python",
   "pygments_lexer": "ipython3",
   "version": "3.6.7"
  }
 },
 "nbformat": 4,
 "nbformat_minor": 2
}
