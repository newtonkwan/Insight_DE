{
 "cells": [
  {
   "cell_type": "markdown",
   "metadata": {},
   "source": [
    "This will extract year, citation, and abstract for the research data \n",
    "Input: .txt file of research\n",
    "Output: {ID: (year, citation, abstract)}"
   ]
  },
  {
   "cell_type": "code",
   "execution_count": null,
   "metadata": {},
   "outputs": [],
   "source": [
    "#id  string: S2 generated research paper ID\n",
    "#title  string: Research paper title.\n",
    "#paperAbstract  string: Extracted abstract of the paper\n",
    "#entities  list: S2 extracted list of relevant entities or topics.\n",
    "#s2Url  string: URL to S2 research paper details page\n",
    "#s2PdfUrl  string: URL to PDF on S2 if available.\n",
    "#pdfUrls  list: URLs related to this PDF scraped from the web.\n",
    "#authors  list: List of authors with an S2 generated author ID and name.\n",
    "#inCitations  list: List of S2 paperId's which cited this paper.\n",
    "#outCitations  list: List of paperId's which this paper cited.\n",
    "#year  int: Year this paper was published as integer.\n",
    "#venue  string: Extracted venue published.\n",
    "#journalName  string: Name of the journal that published this paper.\n",
    "#journalVolume  string: The volume of the journal where this paper was published.\n",
    "#journalPages  string: The pages of the journal where this paper was published.\n",
    "#sources  list: Identifies papers sourced from DBLP or Medline.\n",
    "#doi  string: Digital Object Identifier registered at doi.org.\n",
    "#doiUrl  string: DOI link for registered objects.\n",
    "#pmid  string: Unique identifier used by PubMed."
   ]
  },
  {
   "cell_type": "code",
   "execution_count": 3,
   "metadata": {},
   "outputs": [],
   "source": [
    "import os\n",
    "import re\n",
    "\n",
    "cwd = os.getcwd() # get the current working directory \n",
    "with open(cwd + '/sample-S2-records.txt') as myfile:\n",
    "    data = myfile.read().splitlines() # a list with each line as an entry"
   ]
  },
  {
   "cell_type": "code",
   "execution_count": 17,
   "metadata": {},
   "outputs": [
    {
     "name": "stdout",
     "output_type": "stream",
     "text": [
      "{\"entities\":[\"Epithelial ovarian cancer\",\"Excision\",\"Extraction\",\"Hospital admission\",\"Malignant neoplasm of ovary\",\"Morbidity - disease rate\",\"Neoadjuvant Therapy\",\"Neoplasms\",\"Overall Survival\",\"Patients\",\"Postoperative Complications\",\"Residual Tumor\",\"SLC13A5 gene\",\"Stage IV Ovarian Carcinoma\",\"Tumor Debulking\",\"intensive care unit\",\"ovarian neoplasm\",\"stage IV childhood Hodgkin's lymphoma\"],\"journalVolume\":\"19\",\"journalPages\":\"959-965\",\"pmid\":\"21994038v1\",\"year\":2011,\"outCitations\":[\"166ac4b6f694c68dafdc912ca0c336b4c444fd9e\",\"f0223f8d1920009d1afccffe2d4129f2211711cf\",\"aaee9e127e63a4ee8baae2bc8a960f4a42afce78\",\"03029e4427cfe66c3da6257979dc2d5b6eb3a0e4\",\"d14434966fd87e94c97ed88938ea3dd5282d7652\",\"d6fa05d67f9a6fc3256d05c81a4c55c472e78b0c\",\"e9b9d08937fd2e603d5f8106ccaf81589dfa9cdf\",\"943c32265fa79b20b925f6cc450db19b21c47bc0\",\"07407593b49bc95f8d0c3c3ab912d78564db3302\",\"fedaf6c7ea8b58e501b667603b8a23f1756ce375\",\"ce84de64d8388258243244bbb4aef290e6022d30\",\"399e7acd3fb9fa3f7bcf75e378e6176f7f2e83d7\",\"a81a07f476fa375b0ef97565c615befd68305807\",\"a2d2786451f8999b2cd576b01051c35412abfeab\",\"5808049452b7ba17c83eb59f8eac680a43fb356d\",\"cc7e57dc58ce000a1e208a9a05036411ce81e44b\",\"f9114074480dbfcd5383edef4342763850928794\",\"74f808b2130eec1d7a310c9dded88252ce5e95f9\",\"d1c5962330475efac873a0beca438612457a9a7f\",\"3047fddd63530f7beb6a3949df8ef2fa74ea8076\",\"f846c842c76848e7a24bc3f3a0c98f9cf51ef43e\",\"eec37a9783db2fce758e5257366f21f5bbb6ee1c\",\"5b01531c37b4965b6094a7c4ceb9da01d0d81225\",\"02235d796e51dd058b3454f85ed94b7e9ef3a029\",\"992ba166b4f49e8818c83e55ba5e9abec6c00f15\",\"08b568c4cb2b021b64f2c8ace56a077b07402eac\",\"277c53725dd4733981f1545ebd1faaad7dee8930\",\"896658482670249ab4c2db9fc3be424178ffc828\",\"b653b7a6bd4680ff536d91a7a174088cd2f43976\"],\"s2Url\":\"https://semanticscholar.org/paper/4cbba8127c8747a3b2cfb9c1f48c43e5c15e323e\",\"s2PdfUrl\":\"\",\"id\":\"4cbba8127c8747a3b2cfb9c1f48c43e5c15e323e\",\"authors\":[{\"name\":\"Jose Alejandro Rauh-Hain\",\"ids\":[\"6323488\"]},{\"name\":\"Noah Rodriguez\",\"ids\":[\"40439126\"]},{\"name\":\"Whitfield B. Growdon\",\"ids\":[\"5695062\"]},{\"name\":\"Anne Kathryn Goodman\",\"ids\":[\"47348020\"]},{\"name\":\"David M. Boruta Ii\",\"ids\":[\"21470081\"]},{\"name\":\"Neil S Horowitz\",\"ids\":[\"8523393\"]},{\"name\":\"Mph Marcela  G.  del  Carmen  MD\",\"ids\":[\"16734596\"]},{\"name\":\"John Schorge\",\"ids\":[\"1739284\"]}],\"journalName\":\"Annals of Surgical Oncology\",\"paperAbstract\":\"Primary debulking surgery (PDS) has historically been the standard treatment for advanced ovarian cancer. Recent data appear to support a paradigm shift toward neoadjuvant chemotherapy with interval debulking surgery (NACT-IDS). We hypothesized that stage IV ovarian cancer patients would likely benefit from NACT-IDS by achieving similar outcomes with less morbidity. Patients with stage IV epithelial ovarian cancer who underwent primary treatment between January 1, 1995 and December 31, 2007, were identified. Data were retrospectively extracted. Each patient record was evaluated to subclassify stage IV disease according to the sites of tumor dissemination at the time of diagnosis. The Kaplan–Meier method was used to compare overall survival (OS) data. A total of 242 newly diagnosed stage IV epithelial ovarian cancer patients were included in the final analysis; 176 women (73%) underwent PDS, 45 (18%) NACT-IDS, and 21 (9%) chemotherapy only. The frequency of achieving complete resection to no residual disease was significantly higher in patients with NACT-IDS versus PDS (27% vs. 7.5%; P < 0.001). When compared to women treated with NACT-IDS, women with PDS had longer admissions (12 vs. 8 days; P = 0.01), more frequent intensive care unit admissions (12% vs. 0%; P = 0.01), and a trend toward a higher rate of postoperative complications (27% vs. 15%; P = 0.08). The patients who received only chemotherapy had a median OS of 23 months, compared to 33 months in the NACT-IDS group and 29 months in the PDS group (P = 0.1). NACT-IDS for stage IV ovarian cancer resulted in higher rates of complete resection to no residual disease, less morbidity, and equivalent OS compared to PDS.\",\"inCitations\":[\"505715691a8360f67f1cfcb4f2a45c8652a01612\",\"450a0ef76fd457deb30a99c6ca22ae30263273fc\",\"edf1163e8dfcf0575842d03dfc143e6457d0ff5c\",\"2282d6014362447b8d9b983bf43ca71d67e48c40\",\"b9d911352437e72e621f80f889709fa849779138\",\"d4aff3783a894062b9f43d657206f573f483fbfd\",\"cbb86bd24472903eb8d54e6aa332fe7f805e307a\",\"ede0d95ef1265dbc27021eb9ae9baf2db3bc0dc8\",\"0bfe29a5f6e572098eb0f5c31ab582bf04328c69\",\"80d103a7b039c46ac3cf3239873adc053ea6afc8\",\"7865324b0684bf8a07dd4a6cf2e0a5b1fa64fc1f\",\"655a5ceb46d974b935695c5f0074a7f9b643958a\",\"2f092623673c875e6accd5a978a10507be306500\",\"f51536c9fd2eeacc88abf84baf7b2f05282db841\",\"c7ed54a5eb89086e0fdf7622fbe88e96890823b7\",\"0cfcae93bf4a955ee1f6b916adf8aebdf8db9aa0\",\"15344e7d627d73551276d5bdf76039ef74461d26\",\"c67082501169a383c972aea0ab9d7f1c72ee43f0\",\"0a60c97d4eceabfb08e8328da67b176bffe36a67\",\"065225e5382d8f998481857b45090074494db957\",\"294f252ac5e0c05c12943bac11ea7a548dbb2620\",\"64df8fea136c83217d239d4bee993750ba15f75e\",\"e005949227ccfe033f578eb11a9c3b546adda2fa\",\"1c18b95b762a9d9d53852bf20c5c5382dadfbd96\",\"81212e90971f4499b2c293f293ab47620460e764\",\"786f4f5b397a0d8aedbe348cc1d3365a3a63b121\",\"9324bd563c8fdaa0d8d49b6120519ef346a90c9a\"],\"pdfUrls\":[],\"title\":\"Primary Debulking Surgery Versus Neoadjuvant Chemotherapy in Stage IV Ovarian Cancer\",\"doi\":\"10.1245/s10434-011-2100-x\",\"sources\":[\"Medline\"],\"doiUrl\":\"https://doi.org/10.1245/s10434-011-2100-x\",\"venue\":\"Annals of Surgical Oncology\"}\n"
     ]
    }
   ],
   "source": [
    "first_entry = data[0] # first entry\n",
    "print(data[0])"
   ]
  },
  {
   "cell_type": "code",
   "execution_count": 19,
   "metadata": {},
   "outputs": [
    {
     "name": "stdout",
     "output_type": "stream",
     "text": [
      "Length of data: 102\n"
     ]
    }
   ],
   "source": [
    "print(\"Length of data:\", len(data))"
   ]
  },
  {
   "cell_type": "code",
   "execution_count": 161,
   "metadata": {},
   "outputs": [],
   "source": [
    "# looking for inCitations, year, and paperAbstract\n",
    "# The label is the descriptor. Ex. \"year\", \"id\", \"abstract\"\n",
    "# The tag is the unique identifier. Ex \"2011\", \"4cbba8127c8747a3b2cfb9c1f48c43e5c15e323e\"\n",
    "parenthesis = \"\\\"\" # string literal for \"\n",
    "\n",
    "paper_mappings = {}\n",
    "\n",
    "# finding the id tag \n",
    "paper_id_tag = \"\\\"id\\\"\" # find the first occurence of \"id\"\n",
    "id_label_start = first_entry.find(paper_id_tag) # this is the index that the id label starts\n",
    "id_label_end = id_tag_start + 4 # this is the index that the id label ends \n",
    "id_tag_start = id_label_start + 6 # this is the index that the id tag starts. Always be 6. \n",
    "id_tag_end = first_entry.find(parenthesis, id_tag_start) - 1 #this is the index that the id tag ends\n",
    "id_tag = first_entry[id_tag_start:id_tag_end] # id tag string \n",
    "\n",
    "# find year \n",
    "paper_year_tag = \"\\\"year\\\"\" # find the first occurence of \"year\"\n",
    "year_label_start = first_entry.find(paper_year_tag) # index that the year label starts \n",
    "year_label_end = year_label_start + 7 # index that the year label ends \n",
    "year_tag_start = year_label_start + 7 # index that the year tag starts \n",
    "year_tag_end = first_entry.find(parenthesis, year_tag_start) - 1 # this is the index that the year tag ends\n",
    "year_tag = first_entry[year_tag_start:year_tag_end] # year tag string\n",
    "\n",
    "# find number of citations \n",
    "# check edge cases where \"inCitations\":[], \"inCitations\":[aienf23f9j023], \"inCitations\":[anea39rjna3rj, a3r98a3hrn9a38hr]\n",
    "# we'll count by commas, but work the edge cases\n",
    "bracket = r\"]\" # look for \"]\"\n",
    "paper_citation_tag = \"\\\"inCitations\\\"\" # find the occurence of \"inCitations\"\n",
    "citation_label_start = first_entry.find(paper_citation_tag) # index that the citation label starts \n",
    "citation_label_end = citation_label_start + 15 # index that the citation label ends\n",
    "citation_tag_start = citation_label_start + 15 # index that the citation tag starts\n",
    "citation_tag_end = first_entry.find(bracket, citation_tag_start)  # this is the index that the citation tag ends \n",
    "citation_list = first_entry[citation_tag_start:citation_tag_end].split(\",\")\n",
    "num_citations = len(citation_list)\n",
    "\n",
    "# find abstract \n",
    "paper_abstract_tag = \"\\\"paperAbstract\\\"\"\n",
    "abstract_label_start = first_entry.find(paper_abstract_tag)\n",
    "abstract_label_end = abstract_label_start + 17\n",
    "abstract_tag_start = abstract_label_start + 17 # the start of the abstract tag \n",
    "abstract_tag_end = first_entry.find(parenthesis, abstract_tag_start) # the end of the abstract tag\n",
    "abstract_tag = first_entry[abstract_tag_start:abstract_tag_end]\n",
    "\n",
    "# mapping = {id:(year, number of citations, abstract)}\n",
    "paper_mappings[id_tag] = (year_tag, num_citations, abstract_tag)"
   ]
  },
  {
   "cell_type": "code",
   "execution_count": 162,
   "metadata": {},
   "outputs": [
    {
     "name": "stdout",
     "output_type": "stream",
     "text": [
      "{'4cbba8127c8747a3b2cfb9c1f48c43e5c15e323': ('2011', 27, 'Primary debulking surgery (PDS) has historically been the standard treatment for advanced ovarian cancer. Recent data appear to support a paradigm shift toward neoadjuvant chemotherapy with interval debulking surgery (NACT-IDS). We hypothesized that stage IV ovarian cancer patients would likely benefit from NACT-IDS by achieving similar outcomes with less morbidity. Patients with stage IV epithelial ovarian cancer who underwent primary treatment between January 1, 1995 and December 31, 2007, were identified. Data were retrospectively extracted. Each patient record was evaluated to subclassify stage IV disease according to the sites of tumor dissemination at the time of diagnosis. The Kaplan–Meier method was used to compare overall survival (OS) data. A total of 242 newly diagnosed stage IV epithelial ovarian cancer patients were included in the final analysis; 176 women (73%) underwent PDS, 45 (18%) NACT-IDS, and 21 (9%) chemotherapy only. The frequency of achieving complete resection to no residual disease was significantly higher in patients with NACT-IDS versus PDS (27% vs. 7.5%; P\\xa0<\\xa00.001). When compared to women treated with NACT-IDS, women with PDS had longer admissions (12 vs. 8\\xa0days; P\\xa0=\\xa00.01), more frequent intensive care unit admissions (12% vs. 0%; P\\xa0=\\xa00.01), and a trend toward a higher rate of postoperative complications (27% vs. 15%; P\\xa0=\\xa00.08). The patients who received only chemotherapy had a median OS of 23\\xa0months, compared to 33\\xa0months in the NACT-IDS group and 29\\xa0months in the PDS group (P\\xa0=\\xa00.1). NACT-IDS for stage IV ovarian cancer resulted in higher rates of complete resection to no residual disease, less morbidity, and equivalent OS compared to PDS.')}\n"
     ]
    }
   ],
   "source": [
    "print(paper_mappings)"
   ]
  },
  {
   "cell_type": "code",
   "execution_count": 31,
   "metadata": {},
   "outputs": [],
   "source": [
    "# mapping ids to (year, number of citations, and abstract tag)\n",
    "# TO DO \n",
    "# some research papers don't have years! Write an exception for this \n",
    "# some research papers may have no citations! Write exceptiosn for this \n",
    "# some research papers just don't have any abstracts lol. Fix this. \n",
    "\n",
    "paper_mappings = {} # set up the dictionary to store information \n",
    "\n",
    "# setting up important variables \n",
    "parenthesis = \"\\\"\" # string literal for \"\n",
    "bracket = r\"]\" # look for \"]\"\n",
    "paper_id_tag = \"\\\"id\\\"\" # find the first occurence of \"id\"\n",
    "paper_year_tag = \"\\\"year\\\"\" # find the first occurence of \"year\"\n",
    "paper_citation_tag = \"\\\"inCitations\\\"\" # find the occurence of \"inCitations\"\n",
    "paper_abstract_tag = \"\\\"paperAbstract\\\"\"\n",
    "\n",
    "# loop through each line of the data \n",
    "for line in data: \n",
    "    # look for the labels \"id\", \"year\", \"inCitations\", and \"paperAbstract\"\n",
    "    id_label_start = line.find(paper_id_tag) # this is the index that the id label starts\n",
    "    year_label_start = line.find(paper_year_tag) # index that the year label starts \n",
    "    citation_label_start = line.find(paper_citation_tag) # index that the citation label starts \n",
    "    abstract_label_start = line.find(paper_abstract_tag) # index that the abstrat label starts \n",
    "    \n",
    "    # look for the tag of each label \n",
    "    id_tag_start = id_label_start + 6 # this is the index that the id tag starts. Always be 6. \n",
    "    year_tag_start = year_label_start + 7 # index that the year tag starts \n",
    "    citation_tag_start = citation_label_start + 15 # index that the citation tag starts\n",
    "    abstract_tag_start = abstract_label_start + 17 # the start of the abstract tag \n",
    "    \n",
    "    # look for the last index of each tag \n",
    "    id_tag_end = line.find(parenthesis, id_tag_start) - 1 #this is the index that the id tag ends\n",
    "    year_tag_end = line.find(parenthesis, year_tag_start) - 1 # this is the index that the year tag ends\n",
    "    citation_tag_end = line.find(bracket, citation_tag_start)  # this is the index that the citation tag ends \n",
    "    abstract_tag_end = line.find(parenthesis, abstract_tag_start) # the end of the abstract tag\n",
    "    \n",
    "    # extract the tag\n",
    "    id_tag = line[id_tag_start:id_tag_end] # id tag string \n",
    "    if year_label_start == -1: # it didn't find the string year \n",
    "        year_tag = None\n",
    "    else: \n",
    "        year_tag = line[year_tag_start:year_tag_end] # year tag string\n",
    "    if citation_tag_start == citation_tag_end: # if there are no citations: \n",
    "        num_citations = 0\n",
    "    else:\n",
    "        citation_list = line[citation_tag_start:citation_tag_end].split(\",\") # make it a list, count number of entries\n",
    "        num_citations = len(citation_list) # number of citations \n",
    "    abstract_tag = line[abstract_tag_start:abstract_tag_end] # abstract tag string \n",
    "    \n",
    "    if id_tag not in paper_mappings: \n",
    "        paper_mappings[id_tag] = (year_tag, num_citations, abstract_tag)"
   ]
  },
  {
   "cell_type": "code",
   "execution_count": 189,
   "metadata": {},
   "outputs": [
    {
     "name": "stdout",
     "output_type": "stream",
     "text": [
      "Useful information for last entry\n",
      "\n",
      "ID label index start: 1743\n",
      "Year label index start: 248\n",
      "Citation label index start: 2295\n",
      "Abstract label index start: 1861\n",
      "\n",
      "ID tag index start: 1749\n",
      "Year tag index start: 255\n",
      "Citation tag index start: 2310\n",
      "Abstract tag index start: 1878\n",
      "\n",
      "ID tag index end: 1788\n",
      "Year tag index end: 259\n",
      "Citation tag index end: 2825\n",
      "Abstract tag index end: 2293\n",
      "\n",
      "ID tag: 043f91aa4e90077b17231adc6e6e98ceb8e88f6\n",
      "Year tag: 2007\n",
      "Citation tag: 12\n",
      "Abstract tag: We introduce a Sumii-Pierce-Koutavas-Wand-style bisimulation for Pitts and Stark’s nucalculus, a simply-typed lambda calculus with fresh name generation. This bisimulation coincides with contextual equivalence and provides a usable and elementary method for establishing all the subtle equivalences given by Stark [29]. We also describe the formalization of soundness and of the examples in the Coq proof assistant.\n",
      "\n",
      "Number of mappings in paper_mappings 102\n"
     ]
    }
   ],
   "source": [
    "print(\"Useful information for last entry\")\n",
    "print()\n",
    "print(\"ID label index start:\",id_label_start)\n",
    "print(\"Year label index start:\",year_label_start)\n",
    "print(\"Citation label index start:\",citation_label_start)\n",
    "print(\"Abstract label index start:\",abstract_label_start)\n",
    "print()\n",
    "print(\"ID tag index start:\", id_tag_start)\n",
    "print(\"Year tag index start:\", year_tag_start)\n",
    "print(\"Citation tag index start:\", citation_tag_start)\n",
    "print(\"Abstract tag index start:\", abstract_tag_start)\n",
    "print()\n",
    "print(\"ID tag index end:\", id_tag_end)\n",
    "print(\"Year tag index end:\", year_tag_end)\n",
    "print(\"Citation tag index end:\", citation_tag_end)\n",
    "print(\"Abstract tag index end:\", abstract_tag_end)\n",
    "print()\n",
    "print(\"ID tag:\", id_tag)\n",
    "print(\"Year tag:\", year_tag)\n",
    "print(\"Citation tag:\", num_citations)\n",
    "print(\"Abstract tag:\", abstract_tag)\n",
    "print()\n",
    "print(\"Number of mappings in paper_mappings\", len(paper_mappings))\n"
   ]
  },
  {
   "cell_type": "code",
   "execution_count": 192,
   "metadata": {},
   "outputs": [
    {
     "name": "stdout",
     "output_type": "stream",
     "text": [
      "dict_keys(['4cbba8127c8747a3b2cfb9c1f48c43e5c15e323', '4c61478345166be0d917854bd5e5f42a6ade236', '34ca6d85db744543ddc27d74d7f225b13c66b95', '3316b8b97c1e17ac93f220f4b64842905c40cd9', '58ff17c7d8ca006731facf7771761946350db06', 'f487c60cc4b4637584f89d4bc892aae4eb8c8a1', '69662bd2a2f5ff9cf2b0230bcc852290eadfbfc', '3f1b5aa320422a4df10ed248898125e6fd3440d', '453ae606c4c5f2dd278b8892b1eed9ecd5154ec', 'c739d07173f366ba99a948c7888459c5d70adcf', 'cb61fc1ebdeb5835460c18044d331388d5b1067', '50ef31b58a30dfefb624db6f72cda7bc242cde5', '10b5e8d1ab6f8002c89b2bfe4002a22c4f6ea9d', 'ccc67f73db54afc3f016ba5449d30235b7c256b', '7e1dc0e805fbb13112da580c37c50d117944afe', '7331b32342d54e97ca7e32f01b9e1ae94ed563d', '177e662ac662c21b02f28d8bf6c35ef98487411', 'ac1ccf2f8d373a4964b127ba651a21b75e184be', '06f3d20b2c9191b4f03761a61312a1c71345a00', 'b048c1886c86e65fdfa489038372f938cf62a59', 'a19381d3b56fbe1b7e5426c92ee1e140cd752e5', '213a87540ca26cc97a356689654dd4338cb327a', 'dabb12f12f5ea266754c7b966af3f588a885ff2', '9ecd00055f711268afd477b367df56e1beb79ce', '2a16e045f92b79c50de8c766ab5066d4c6506fc', 'de0d959928f27cc5f2c544aaddd1129a2265558', '676415ecd7062992875cdca0e7c015eb0790885', '5d0d040fedd41f6e7bd4f04c8c09f2cf48c42ea', '2a57a968fd686019eaee407e63b622842e5cc8b', 'a9e115bebedb7a35480290d2d80811c56b20f00', '257c568ccac74ff428c6216afae6bffcc979635', '13ad44a4e755e9c350b0aa12fb57f62322b27a7', '5d57969d18a733dbc13755d404a899600fcfe0a', 'a8673869f70b6a41be1022fc951bdbb0e57eade', '22fb2f5e1ea2656a189e15a35971abd8c95e3b2', '6739f08784213707b6330dfd4594adee325deb2', 'a5408858acf547d8dfc4bf22ddfc57eeac3d0ce', 'faace5297a27e219887cdcffb34d3af105d39e9', 'e174852b8c13028cf60746d075ef03cc5c9a32e', '9e5b61fbe0a934514e9e5b54a6a72ed35055463', '18a4f66d92c7e3d13338a59d8f0243f5f6fa08a', 'bb074796d8db89facf3cdbb05de4999f2093093', '6b9a6f81bd27a05c0d9738fc462f0881ef18c16', 'd2b2c64fa3045ddccdfc16fde48d17a5cf6c217', '530d70bbc74182fea3f749d330968df35e5e97e', 'c0d1e573ba600b1ca172c30a329a38e79369351', '79a98d16e3ec63a443d97207e769a2b00075d5e', '928308d1152f0d5ccf427c4851d26c9be580e29', '85f824cdbe6f98554eef436ceaf6fbf06014629', '7177f1ed139b1dbb926f597ad13da2616abacca', 'b5c852fe42849359e98ed970409d28f03425dcb', '957795b6b95fe2c201cddc9cb0e35a08638fd6e', 'aea0d984c50ded5a331f4d47595e95da4aecdbc', 'a2291096b31547e07acd9db51c3baa99e1d7669', '6f455dc604758fdf3c0805db38713283882443d', 'a98c825c2223041e95ed1b74d3a803f3cc093e2', 'a2eed550b03440b654e8576ea3e035f8eb3813d', '7265b7c2235d3420a0bd0e974699a7f631d1276', '661c29e2048adeee683fa78bbd17fd58eb073fe', '1d9579304fa36e70bad0c0d6b4aa7baa85ecebe', '96b8a0e42ada3a1d4eb6c4abb92992dcae68985', '284c7adfec4627d59da15e804423d687911f9d2', '732bc43c480a1bdf9cb94ce8fe906724d4a787e', 'ef4dda97d63ac1d30ca38cd70ed534d0e97b1da', '110b5a87f41391d860bf4c523c824b78bbbfe1b', '3016c9b9e3aeafe6fc93558316b472953d8b5bb', '2a04eab09be9ffbb99437f4661efb88e0c2e900', 'fdc28c7410841edbd79110f1f9a0690d8748bc1', 'f50adf73827d0fc6a1c2687482ce034409ff9c0', '8d8a61fba567968df238f2b3197df1e271e2688', '506809b08e90f2bea4a2f0367fa85c87745db5d', 'ef969bf59c7bf487f9d6b9f125b406960b43ef1', '41e640069b7a529337b22ad187ee80290079fa0', 'be4cab584e6a1d59847d87a8354c017dc1a9e0d', '588b8e0563d8c0cafe3f78e9cb5b7ad00f2c4ae', 'bcc64f4e1aed2602797232e40b4701e2cec243b', 'a3ec095282c2824dc95d90e3109fe5cb1309a59', '74f4e3eaf4f5117154a34dc4a84a837405c18cf', '88092fb7437b2f2afd8cd7643a8fd1377d6764f', '7d73717faec6a2054829049892c0835812518b9', 'c120ca14ef444d3ee9a5296cc73cfa0c72e655c', '706584ee31864a32464a8459948bbb072358561', 'e7b0dd48ecfcd9676a1f2175fe034d852fc4bf6', '8148fb09aac1912861fcf1954d756a4979e1f85', '8d4462951e97e43ddf511745a5704e41c03b0a9', '248647e053c227b6375d119bb16a7508fdfbef2', '8e0592e19c7aee693511abc2bc5ed64c3a652f4', '60cc08c5c8588a752eac1560c082d7b8221c883', '0ff687d5cf1d59c8f63a6fbeac5ebd749c7f2b9', 'a4556c50148d42728f3c5a511a8edc0d7b1f234', '3ceae822154903274e877a2146071343435b3d1', 'b7aab33f28914d43e3e7597a5439a5a8cba36d9', '185e6a412b05973b280bdad525907eb1d12a0a3', '3501a7869367d68b50666eac91a5dfb76c0b301', '6374215829deb1843e01716dfa815404016602b', '0bf6e21f6eaa4fec02f3c4573b0466b71c68814', 'c7886223beb224eb15a75b22c50df8f90a8d517', '630cd25ecf943ac9c1c0cec3b862e8cac5875f7', 'b8f59e9c7b1728a205293d70bac82361607836d', '3da08f98d471a65762bdf070fd29c888ea14276', 'd169494be0045e845470ae04a84f022021fbb5b', '043f91aa4e90077b17231adc6e6e98ceb8e88f6'])\n"
     ]
    }
   ],
   "source": [
    "print(paper_mappings.keys())"
   ]
  },
  {
   "cell_type": "code",
   "execution_count": 39,
   "metadata": {},
   "outputs": [
    {
     "data": {
      "text/plain": [
       "'\\nfor key in keys: \\n    if paper_mappings[key][0] == \"tie\":\\n        print(key)\\n    i += 1\\n    #print(i)\\n    print(paper_mappings[key][0])\\n'"
      ]
     },
     "execution_count": 39,
     "metadata": {},
     "output_type": "execute_result"
    }
   ],
   "source": [
    "# testing years \n",
    "#keys = list(paper_mappings.keys())\n",
    "i = 0\n",
    "'''\n",
    "for key in keys: \n",
    "    if paper_mappings[key][0] == \"tie\":\n",
    "        print(key)\n",
    "    i += 1\n",
    "    #print(i)\n",
    "    print(paper_mappings[key][0])\n",
    "'''\n"
   ]
  },
  {
   "cell_type": "code",
   "execution_count": 37,
   "metadata": {},
   "outputs": [],
   "source": [
    "# testing citations\n",
    "keys = list(paper_mappings.keys())\n",
    "#for key in keys: \n",
    "    #print(paper_mappings[key][1])"
   ]
  },
  {
   "cell_type": "code",
   "execution_count": 49,
   "metadata": {},
   "outputs": [
    {
     "name": "stdout",
     "output_type": "stream",
     "text": [
      "0.2549019607843137\n",
      "\n"
     ]
    },
    {
     "data": {
      "image/png": "[encoded data removed]",
      "text/plain": [
       "<matplotlib.figure.Figure at 0x11a17d588>"
      ]
     },
     "metadata": {},
     "output_type": "display_data"
    }
   ],
   "source": [
    "# testing length of abstracts \n",
    "from matplotlib import pyplot\n",
    "%matplotlib inline\n",
    "keys = list(paper_mappings.keys())\n",
    "values = []\n",
    "for key in keys: \n",
    "    values.append(len(paper_mappings[key][2]))\n",
    "    #print(len(paper_mappings[key][2]))\n",
    "\n",
    "x = pyplot.hist(values)\n",
    "print(x[0][0]/sum(x[0]))\n",
    "print()\n",
    "    "
   ]
  },
  {
   "cell_type": "code",
   "execution_count": 42,
   "metadata": {},
   "outputs": [
    {
     "name": "stdout",
     "output_type": "stream",
     "text": [
      "this is key: 1\n",
      "4cbba8127c8747a3b2cfb9c1f48c43e5c15e323\n",
      "this is key: 2\n",
      "4c61478345166be0d917854bd5e5f42a6ade236\n",
      "this is key: 3\n",
      "34ca6d85db744543ddc27d74d7f225b13c66b95\n",
      "this is key: 4\n",
      "3316b8b97c1e17ac93f220f4b64842905c40cd9\n",
      "this is key: 5\n",
      "58ff17c7d8ca006731facf7771761946350db06\n",
      "this is key: 6\n",
      "f487c60cc4b4637584f89d4bc892aae4eb8c8a1\n",
      "this is key: 7\n",
      "69662bd2a2f5ff9cf2b0230bcc852290eadfbfc\n",
      "this is key: 8\n",
      "3f1b5aa320422a4df10ed248898125e6fd3440d\n",
      "this is key: 9\n",
      "453ae606c4c5f2dd278b8892b1eed9ecd5154ec\n",
      "this is key: 10\n",
      "c739d07173f366ba99a948c7888459c5d70adcf\n",
      "this is key: 11\n",
      "cb61fc1ebdeb5835460c18044d331388d5b1067\n",
      "this is key: 12\n",
      "50ef31b58a30dfefb624db6f72cda7bc242cde5\n",
      "this is key: 13\n",
      "10b5e8d1ab6f8002c89b2bfe4002a22c4f6ea9d\n",
      "this is key: 14\n",
      "ccc67f73db54afc3f016ba5449d30235b7c256b\n",
      "this is key: 15\n",
      "7e1dc0e805fbb13112da580c37c50d117944afe\n",
      "this is key: 16\n",
      "7331b32342d54e97ca7e32f01b9e1ae94ed563d\n",
      "this is key: 17\n",
      "177e662ac662c21b02f28d8bf6c35ef98487411\n",
      "this is key: 18\n",
      "ac1ccf2f8d373a4964b127ba651a21b75e184be\n",
      "this is key: 19\n",
      "06f3d20b2c9191b4f03761a61312a1c71345a00\n",
      "this is key: 20\n",
      "b048c1886c86e65fdfa489038372f938cf62a59\n",
      "this is key: 21\n",
      "a19381d3b56fbe1b7e5426c92ee1e140cd752e5\n",
      "this is key: 22\n",
      "213a87540ca26cc97a356689654dd4338cb327a\n",
      "this is key: 23\n",
      "dabb12f12f5ea266754c7b966af3f588a885ff2\n",
      "this is key: 24\n",
      "9ecd00055f711268afd477b367df56e1beb79ce\n",
      "this is key: 25\n",
      "2a16e045f92b79c50de8c766ab5066d4c6506fc\n",
      "this is key: 26\n",
      "de0d959928f27cc5f2c544aaddd1129a2265558\n",
      "this is key: 27\n",
      "676415ecd7062992875cdca0e7c015eb0790885\n",
      "this is key: 28\n",
      "5d0d040fedd41f6e7bd4f04c8c09f2cf48c42ea\n",
      "this is key: 29\n",
      "2a57a968fd686019eaee407e63b622842e5cc8b\n",
      "this is key: 30\n",
      "a9e115bebedb7a35480290d2d80811c56b20f00\n",
      "this is key: 31\n",
      "257c568ccac74ff428c6216afae6bffcc979635\n",
      "this is key: 32\n",
      "13ad44a4e755e9c350b0aa12fb57f62322b27a7\n",
      "this is key: 33\n",
      "5d57969d18a733dbc13755d404a899600fcfe0a\n",
      "this is key: 34\n",
      "a8673869f70b6a41be1022fc951bdbb0e57eade\n",
      "this is key: 35\n",
      "22fb2f5e1ea2656a189e15a35971abd8c95e3b2\n",
      "this is key: 36\n",
      "6739f08784213707b6330dfd4594adee325deb2\n",
      "this is key: 37\n",
      "a5408858acf547d8dfc4bf22ddfc57eeac3d0ce\n",
      "this is key: 38\n",
      "faace5297a27e219887cdcffb34d3af105d39e9\n",
      "this is key: 39\n",
      "e174852b8c13028cf60746d075ef03cc5c9a32e\n",
      "this is key: 40\n",
      "9e5b61fbe0a934514e9e5b54a6a72ed35055463\n",
      "this is key: 41\n",
      "18a4f66d92c7e3d13338a59d8f0243f5f6fa08a\n",
      "this is key: 42\n",
      "bb074796d8db89facf3cdbb05de4999f2093093\n",
      "this is key: 43\n",
      "6b9a6f81bd27a05c0d9738fc462f0881ef18c16\n",
      "this is key: 44\n",
      "d2b2c64fa3045ddccdfc16fde48d17a5cf6c217\n",
      "this is key: 45\n",
      "530d70bbc74182fea3f749d330968df35e5e97e\n",
      "this is key: 46\n",
      "c0d1e573ba600b1ca172c30a329a38e79369351\n",
      "this is key: 47\n",
      "79a98d16e3ec63a443d97207e769a2b00075d5e\n",
      "this is key: 48\n",
      "928308d1152f0d5ccf427c4851d26c9be580e29\n",
      "this is key: 49\n",
      "85f824cdbe6f98554eef436ceaf6fbf06014629\n",
      "this is key: 50\n",
      "7177f1ed139b1dbb926f597ad13da2616abacca\n",
      "this is key: 51\n",
      "b5c852fe42849359e98ed970409d28f03425dcb\n",
      "this is key: 52\n",
      "957795b6b95fe2c201cddc9cb0e35a08638fd6e\n",
      "this is key: 53\n",
      "aea0d984c50ded5a331f4d47595e95da4aecdbc\n",
      "this is key: 54\n",
      "a2291096b31547e07acd9db51c3baa99e1d7669\n",
      "this is key: 55\n",
      "6f455dc604758fdf3c0805db38713283882443d\n",
      "this is key: 56\n",
      "a98c825c2223041e95ed1b74d3a803f3cc093e2\n",
      "this is key: 57\n",
      "a2eed550b03440b654e8576ea3e035f8eb3813d\n",
      "this is key: 58\n",
      "7265b7c2235d3420a0bd0e974699a7f631d1276\n",
      "this is key: 59\n",
      "661c29e2048adeee683fa78bbd17fd58eb073fe\n",
      "this is key: 60\n",
      "1d9579304fa36e70bad0c0d6b4aa7baa85ecebe\n",
      "this is key: 61\n",
      "96b8a0e42ada3a1d4eb6c4abb92992dcae68985\n",
      "this is key: 62\n",
      "284c7adfec4627d59da15e804423d687911f9d2\n",
      "this is key: 63\n",
      "732bc43c480a1bdf9cb94ce8fe906724d4a787e\n",
      "this is key: 64\n",
      "ef4dda97d63ac1d30ca38cd70ed534d0e97b1da\n",
      "this is key: 65\n",
      "110b5a87f41391d860bf4c523c824b78bbbfe1b\n",
      "this is key: 66\n",
      "3016c9b9e3aeafe6fc93558316b472953d8b5bb\n",
      "this is key: 67\n",
      "2a04eab09be9ffbb99437f4661efb88e0c2e900\n",
      "this is key: 68\n",
      "fdc28c7410841edbd79110f1f9a0690d8748bc1\n",
      "this is key: 69\n",
      "f50adf73827d0fc6a1c2687482ce034409ff9c0\n",
      "this is key: 70\n",
      "8d8a61fba567968df238f2b3197df1e271e2688\n",
      "this is key: 71\n",
      "506809b08e90f2bea4a2f0367fa85c87745db5d\n",
      "this is key: 72\n",
      "ef969bf59c7bf487f9d6b9f125b406960b43ef1\n",
      "this is key: 73\n",
      "41e640069b7a529337b22ad187ee80290079fa0\n",
      "this is key: 74\n",
      "be4cab584e6a1d59847d87a8354c017dc1a9e0d\n",
      "this is key: 75\n",
      "588b8e0563d8c0cafe3f78e9cb5b7ad00f2c4ae\n",
      "this is key: 76\n",
      "bcc64f4e1aed2602797232e40b4701e2cec243b\n",
      "this is key: 77\n",
      "a3ec095282c2824dc95d90e3109fe5cb1309a59\n",
      "this is key: 78\n",
      "74f4e3eaf4f5117154a34dc4a84a837405c18cf\n",
      "this is key: 79\n",
      "88092fb7437b2f2afd8cd7643a8fd1377d6764f\n",
      "this is key: 80\n",
      "7d73717faec6a2054829049892c0835812518b9\n",
      "this is key: 81\n",
      "c120ca14ef444d3ee9a5296cc73cfa0c72e655c\n",
      "this is key: 82\n",
      "706584ee31864a32464a8459948bbb072358561\n",
      "this is key: 83\n",
      "e7b0dd48ecfcd9676a1f2175fe034d852fc4bf6\n",
      "this is key: 84\n",
      "8148fb09aac1912861fcf1954d756a4979e1f85\n",
      "this is key: 85\n",
      "8d4462951e97e43ddf511745a5704e41c03b0a9\n",
      "this is key: 86\n",
      "248647e053c227b6375d119bb16a7508fdfbef2\n",
      "this is key: 87\n",
      "8e0592e19c7aee693511abc2bc5ed64c3a652f4\n",
      "this is key: 88\n",
      "60cc08c5c8588a752eac1560c082d7b8221c883\n",
      "this is key: 89\n",
      "0ff687d5cf1d59c8f63a6fbeac5ebd749c7f2b9\n",
      "this is key: 90\n",
      "a4556c50148d42728f3c5a511a8edc0d7b1f234\n",
      "this is key: 91\n",
      "3ceae822154903274e877a2146071343435b3d1\n",
      "this is key: 92\n",
      "b7aab33f28914d43e3e7597a5439a5a8cba36d9\n",
      "this is key: 93\n",
      "185e6a412b05973b280bdad525907eb1d12a0a3\n",
      "this is key: 94\n",
      "3501a7869367d68b50666eac91a5dfb76c0b301\n",
      "this is key: 95\n",
      "6374215829deb1843e01716dfa815404016602b\n",
      "this is key: 96\n",
      "0bf6e21f6eaa4fec02f3c4573b0466b71c68814\n",
      "this is key: 97\n",
      "c7886223beb224eb15a75b22c50df8f90a8d517\n",
      "this is key: 98\n",
      "630cd25ecf943ac9c1c0cec3b862e8cac5875f7\n",
      "this is key: 99\n",
      "b8f59e9c7b1728a205293d70bac82361607836d\n",
      "this is key: 100\n",
      "3da08f98d471a65762bdf070fd29c888ea14276\n",
      "this is key: 101\n",
      "d169494be0045e845470ae04a84f022021fbb5b\n",
      "this is key: 102\n",
      "043f91aa4e90077b17231adc6e6e98ceb8e88f6\n"
     ]
    }
   ],
   "source": [
    "# testing keys\n",
    "keys = list(paper_mappings.keys())\n",
    "i = 0 \n",
    "for key in keys: \n",
    "    i += 1\n",
    "    print(\"this is key:\", i)\n",
    "    print(key)"
   ]
  },
  {
   "cell_type": "code",
   "execution_count": 44,
   "metadata": {},
   "outputs": [
    {
     "name": "stdout",
     "output_type": "stream",
     "text": [
      "('2016', 0, '................................................................................................................................. 4 ZUSAMMENFASSUNG ................................................................................................................ 5 INTRODUCTION .......................................................................................................................... 7 METHODS .................................................................................................................................. 11 Study animals and housing .................................................................................................... 11 Experiment 1 .......................................................................................................................... 13 Experimental Set-Up ......................................................................................................... 13 Procedure .......................................................................................................................... 13 Data collection and analysis .............................................................................................. 17 Experiment 2 .......................................................................................................................... 20 Experimental Set-Up ......................................................................................................... 20 Procedure .......................................................................................................................... 20 Data collection and analysis .............................................................................................. 23 RESULTS ................................................................................................................................... 24 Experiment 1 .......................................................................................................................... 24 Experiment 2 .......................................................................................................................... 31 DISCUSSION ............................................................................................................................. 32 Experiment 1 .......................................................................................................................... 32 Experiment 2 .......................................................................................................................... 37 General discussion ................................................................................................................. 39 Future ideas ............................................................................................................................ 40 REFERENCES ........................................................................................................................... 41 LIST OF FIGURES AND TABLES .............................................................................................. 47 APPENDIX ................................................................................................................................. 49')\n"
     ]
    }
   ],
   "source": [
    "print(paper_mappings[\"de0d959928f27cc5f2c544aaddd1129a2265558\"])"
   ]
  },
  {
   "cell_type": "code",
   "execution_count": 15,
   "metadata": {},
   "outputs": [
    {
     "ename": "SyntaxError",
     "evalue": "unexpected EOF while parsing (<ipython-input-15-b7a4bb077c45>, line 3)",
     "output_type": "error",
     "traceback": [
      "\u001b[0;36m  File \u001b[0;32m\"<ipython-input-15-b7a4bb077c45>\"\u001b[0;36m, line \u001b[0;32m3\u001b[0m\n\u001b[0;31m    x = test_string.find(\"yellow\")\u001b[0m\n\u001b[0m                                  ^\u001b[0m\n\u001b[0;31mSyntaxError\u001b[0m\u001b[0;31m:\u001b[0m unexpected EOF while parsing\n"
     ]
    }
   ],
   "source": [
    "test_string = \"hellomynameisnewton\"\n",
    "try:\n",
    "    x = test_string.find(\"yellow\")"
   ]
  },
  {
   "cell_type": "code",
   "execution_count": 29,
   "metadata": {},
   "outputs": [],
   "source": [
    "test_string = \"\\\"inCitations\\\":[],\"\n",
    "citation_label_start = test_string.find(paper_citation_tag) # index that the citation label starts\n",
    "citation_tag_start = citation_label_start + 15 # index that the citation tag starts\n",
    "citation_tag_end = test_string.find(bracket, citation_tag_start)  # this is the index that the citation tag ends\n",
    "citation_list = test_string[citation_tag_start:citation_tag_end].split(\",\") # make it a list, count number of entries\n",
    "num_citations = len(citation_list) # number of citations "
   ]
  },
  {
   "cell_type": "code",
   "execution_count": 30,
   "metadata": {},
   "outputs": [
    {
     "name": "stdout",
     "output_type": "stream",
     "text": [
      "0\n",
      "15\n",
      "15\n",
      "['']\n",
      "1\n"
     ]
    }
   ],
   "source": [
    "print(citation_label_start)\n",
    "print(citation_tag_start)\n",
    "print(citation_tag_end)\n",
    "print(citation_list)\n",
    "print(num_citations)"
   ]
  },
  {
   "cell_type": "code",
   "execution_count": 34,
   "metadata": {},
   "outputs": [],
   "source": [
    "test_string = \"\\\"paperAbstract\\\":\\\"\\\"\""
   ]
  },
  {
   "cell_type": "code",
   "execution_count": null,
   "metadata": {},
   "outputs": [],
   "source": []
  }
 ],
 "metadata": {
  "kernelspec": {
   "display_name": "Python 3",
   "language": "python",
   "name": "python3"
  },
  "language_info": {
   "codemirror_mode": {
    "name": "ipython",
    "version": 3
   },
   "file_extension": ".py",
   "mimetype": "text/x-python",
   "name": "python",
   "nbconvert_exporter": "python",
   "pygments_lexer": "ipython3",
   "version": "3.6.3"
  }
 },
 "nbformat": 4,
 "nbformat_minor": 2
}
