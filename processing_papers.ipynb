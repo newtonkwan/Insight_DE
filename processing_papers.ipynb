{
 "cells": [
  {
   "cell_type": "markdown",
   "metadata": {},
   "source": [
    "This will extract year, citation, and abstract for the research data \n",
    "Input: .txt file of research\n",
    "Output: {ID: (year, citation, abstract)}"
   ]
  },
  {
   "cell_type": "code",
   "execution_count": 2,
   "metadata": {},
   "outputs": [],
   "source": [
    "#id  string: S2 generated research paper ID\n",
    "#title  string: Research paper title.\n",
    "#paperAbstract  string: Extracted abstract of the paper\n",
    "#entities  list: S2 extracted list of relevant entities or topics.\n",
    "#s2Url  string: URL to S2 research paper details page\n",
    "#s2PdfUrl  string: URL to PDF on S2 if available.\n",
    "#pdfUrls  list: URLs related to this PDF scraped from the web.\n",
    "#authors  list: List of authors with an S2 generated author ID and name.\n",
    "#inCitations  list: List of S2 paperId's which cited this paper.\n",
    "#outCitations  list: List of paperId's which this paper cited.\n",
    "#year  int: Year this paper was published as integer.\n",
    "#venue  string: Extracted venue published.\n",
    "#journalName  string: Name of the journal that published this paper.\n",
    "#journalVolume  string: The volume of the journal where this paper was published.\n",
    "#journalPages  string: The pages of the journal where this paper was published.\n",
    "#sources  list: Identifies papers sourced from DBLP or Medline.\n",
    "#doi  string: Digital Object Identifier registered at doi.org.\n",
    "#doiUrl  string: DOI link for registered objects.\n",
    "#pmid  string: Unique identifier used by PubMed."
   ]
  },
  {
   "cell_type": "code",
   "execution_count": 3,
   "metadata": {},
   "outputs": [],
   "source": [
    "import os\n",
    "import re\n",
    "\n",
    "cwd = os.getcwd() # get the current working directory \n",
    "with open(cwd + '/sample-S2-records.txt') as myfile:\n",
    "    data = myfile.read().splitlines() # a list with each line as an entry"
   ]
  },
  {
   "cell_type": "code",
   "execution_count": 4,
   "metadata": {},
   "outputs": [],
   "source": [
    "first_entry = data[0] # first entry\n",
    "#print(data[0])"
   ]
  },
  {
   "cell_type": "code",
   "execution_count": 5,
   "metadata": {},
   "outputs": [
    {
     "name": "stdout",
     "output_type": "stream",
     "text": [
      "Length of data: 102\n"
     ]
    }
   ],
   "source": [
    "print(\"Length of data:\", len(data))"
   ]
  },
  {
   "cell_type": "code",
   "execution_count": 7,
   "metadata": {},
   "outputs": [],
   "source": [
    "# looking for inCitations, year, and paperAbstract\n",
    "# The label is the descriptor. Ex. \"year\", \"id\", \"abstract\"\n",
    "# The tag is the unique identifier. Ex \"2011\", \"4cbba8127c8747a3b2cfb9c1f48c43e5c15e323e\"\n",
    "parenthesis = \"\\\"\" # string literal for \"\n",
    "\n",
    "paper_mappings = {}\n",
    "\n",
    "# finding the id tag \n",
    "paper_id_tag = \"\\\"id\\\"\" # find the first occurence of \"id\"\n",
    "id_label_start = first_entry.find(paper_id_tag) # this is the index that the id label starts\n",
    "id_label_end = id_label_start + 4 # this is the index that the id label ends \n",
    "id_tag_start = id_label_start + 6 # this is the index that the id tag starts. Always be 6. \n",
    "id_tag_end = first_entry.find(parenthesis, id_tag_start) - 1 #this is the index that the id tag ends\n",
    "id_tag = first_entry[id_tag_start:id_tag_end] # id tag string \n",
    "\n",
    "# find year \n",
    "paper_year_tag = \"\\\"year\\\"\" # find the first occurence of \"year\"\n",
    "year_label_start = first_entry.find(paper_year_tag) # index that the year label starts \n",
    "year_label_end = year_label_start + 7 # index that the year label ends \n",
    "year_tag_start = year_label_start + 7 # index that the year tag starts \n",
    "year_tag_end = first_entry.find(parenthesis, year_tag_start) - 1 # this is the index that the year tag ends\n",
    "year_tag = first_entry[year_tag_start:year_tag_end] # year tag string\n",
    "\n",
    "# find number of citations \n",
    "# check edge cases where \"inCitations\":[], \"inCitations\":[aienf23f9j023], \"inCitations\":[anea39rjna3rj, a3r98a3hrn9a38hr]\n",
    "# we'll count by commas, but work the edge cases\n",
    "bracket = r\"]\" # look for \"]\"\n",
    "paper_citation_tag = \"\\\"inCitations\\\"\" # find the occurence of \"inCitations\"\n",
    "citation_label_start = first_entry.find(paper_citation_tag) # index that the citation label starts \n",
    "citation_label_end = citation_label_start + 15 # index that the citation label ends\n",
    "citation_tag_start = citation_label_start + 15 # index that the citation tag starts\n",
    "citation_tag_end = first_entry.find(bracket, citation_tag_start)  # this is the index that the citation tag ends \n",
    "citation_list = first_entry[citation_tag_start:citation_tag_end].split(\",\")\n",
    "num_citations = len(citation_list)\n",
    "\n",
    "# find abstract \n",
    "paper_abstract_tag = \"\\\"paperAbstract\\\"\"\n",
    "abstract_label_start = first_entry.find(paper_abstract_tag)\n",
    "abstract_label_end = abstract_label_start + 17\n",
    "abstract_tag_start = abstract_label_start + 17 # the start of the abstract tag \n",
    "abstract_tag_end = first_entry.find(parenthesis, abstract_tag_start) # the end of the abstract tag\n",
    "abstract_tag = first_entry[abstract_tag_start:abstract_tag_end]\n",
    "\n",
    "# mapping = {id:(year, number of citations, abstract)}\n",
    "paper_mappings[id_tag] = (year_tag, num_citations, abstract_tag)"
   ]
  },
  {
   "cell_type": "code",
   "execution_count": 8,
   "metadata": {},
   "outputs": [
    {
     "name": "stdout",
     "output_type": "stream",
     "text": [
      "{'4cbba8127c8747a3b2cfb9c1f48c43e5c15e323': ('2011', 27, 'Primary debulking surgery (PDS) has historically been the standard treatment for advanced ovarian cancer. Recent data appear to support a paradigm shift toward neoadjuvant chemotherapy with interval debulking surgery (NACT-IDS). We hypothesized that stage IV ovarian cancer patients would likely benefit from NACT-IDS by achieving similar outcomes with less morbidity. Patients with stage IV epithelial ovarian cancer who underwent primary treatment between January 1, 1995 and December 31, 2007, were identified. Data were retrospectively extracted. Each patient record was evaluated to subclassify stage IV disease according to the sites of tumor dissemination at the time of diagnosis. The Kaplan–Meier method was used to compare overall survival (OS) data. A total of 242 newly diagnosed stage IV epithelial ovarian cancer patients were included in the final analysis; 176 women (73%) underwent PDS, 45 (18%) NACT-IDS, and 21 (9%) chemotherapy only. The frequency of achieving complete resection to no residual disease was significantly higher in patients with NACT-IDS versus PDS (27% vs. 7.5%; P\\xa0<\\xa00.001). When compared to women treated with NACT-IDS, women with PDS had longer admissions (12 vs. 8\\xa0days; P\\xa0=\\xa00.01), more frequent intensive care unit admissions (12% vs. 0%; P\\xa0=\\xa00.01), and a trend toward a higher rate of postoperative complications (27% vs. 15%; P\\xa0=\\xa00.08). The patients who received only chemotherapy had a median OS of 23\\xa0months, compared to 33\\xa0months in the NACT-IDS group and 29\\xa0months in the PDS group (P\\xa0=\\xa00.1). NACT-IDS for stage IV ovarian cancer resulted in higher rates of complete resection to no residual disease, less morbidity, and equivalent OS compared to PDS.')}\n"
     ]
    }
   ],
   "source": [
    "print(paper_mappings)"
   ]
  },
  {
   "cell_type": "code",
   "execution_count": 9,
   "metadata": {},
   "outputs": [],
   "source": [
    "# mapping ids to (year, number of citations, and abstract tag)\n",
    "# TO DO \n",
    "# some research papers don't have years! Write an exception for this \n",
    "# some research papers may have no citations! Write exceptiosn for this \n",
    "# some research papers just don't have any abstracts lol. Fix this. \n",
    "\n",
    "paper_mappings = {} # set up the dictionary to store information \n",
    "\n",
    "# setting up important variables \n",
    "parenthesis = \"\\\"\" # string literal for \"\n",
    "bracket = r\"]\" # look for \"]\"\n",
    "paper_id_tag = \"\\\"id\\\"\" # find the first occurence of \"id\"\n",
    "paper_year_tag = \"\\\"year\\\"\" # find the first occurence of \"year\"\n",
    "paper_citation_tag = \"\\\"inCitations\\\"\" # find the occurence of \"inCitations\"\n",
    "paper_abstract_tag = \"\\\"paperAbstract\\\"\"\n",
    "\n",
    "# loop through each line of the data \n",
    "for line in data: \n",
    "    # look for the labels \"id\", \"year\", \"inCitations\", and \"paperAbstract\"\n",
    "    id_label_start = line.find(paper_id_tag) # this is the index that the id label starts\n",
    "    year_label_start = line.find(paper_year_tag) # index that the year label starts \n",
    "    citation_label_start = line.find(paper_citation_tag) # index that the citation label starts \n",
    "    abstract_label_start = line.find(paper_abstract_tag) # index that the abstrat label starts \n",
    "    \n",
    "    # look for the tag of each label \n",
    "    id_tag_start = id_label_start + 6 # this is the index that the id tag starts. Always be 6. \n",
    "    year_tag_start = year_label_start + 7 # index that the year tag starts \n",
    "    citation_tag_start = citation_label_start + 15 # index that the citation tag starts\n",
    "    abstract_tag_start = abstract_label_start + 17 # the start of the abstract tag \n",
    "    \n",
    "    # look for the last index of each tag \n",
    "    id_tag_end = line.find(parenthesis, id_tag_start) - 1 #this is the index that the id tag ends\n",
    "    year_tag_end = line.find(parenthesis, year_tag_start) - 1 # this is the index that the year tag ends\n",
    "    citation_tag_end = line.find(bracket, citation_tag_start)  # this is the index that the citation tag ends \n",
    "    abstract_tag_end = line.find(parenthesis, abstract_tag_start) # the end of the abstract tag\n",
    "    \n",
    "    # extract the tag\n",
    "    id_tag = line[id_tag_start:id_tag_end] # id tag string \n",
    "    if year_label_start == -1: # it didn't find the string year \n",
    "        year_tag = None\n",
    "    else: \n",
    "        year_tag = line[year_tag_start:year_tag_end] # year tag string\n",
    "    if citation_tag_start == citation_tag_end: # if there are no citations: \n",
    "        num_citations = 0\n",
    "    else:\n",
    "        citation_list = line[citation_tag_start:citation_tag_end].split(\",\") # make it a list, count number of entries\n",
    "        num_citations = len(citation_list) # number of citations \n",
    "    abstract_tag = line[abstract_tag_start:abstract_tag_end] # abstract tag string \n",
    "    \n",
    "    if id_tag not in paper_mappings: \n",
    "        paper_mappings[id_tag] = (year_tag, num_citations, abstract_tag)"
   ]
  },
  {
   "cell_type": "code",
   "execution_count": 10,
   "metadata": {},
   "outputs": [
    {
     "name": "stdout",
     "output_type": "stream",
     "text": [
      "Useful information for last entry\n",
      "\n",
      "ID label index start: 1743\n",
      "Year label index start: 248\n",
      "Citation label index start: 2295\n",
      "Abstract label index start: 1861\n",
      "\n",
      "ID tag index start: 1749\n",
      "Year tag index start: 255\n",
      "Citation tag index start: 2310\n",
      "Abstract tag index start: 1878\n",
      "\n",
      "ID tag index end: 1788\n",
      "Year tag index end: 259\n",
      "Citation tag index end: 2825\n",
      "Abstract tag index end: 2293\n",
      "\n",
      "ID tag: 043f91aa4e90077b17231adc6e6e98ceb8e88f6\n",
      "Year tag: 2007\n",
      "Citation tag: 12\n",
      "Abstract tag: We introduce a Sumii-Pierce-Koutavas-Wand-style bisimulation for Pitts and Stark’s nucalculus, a simply-typed lambda calculus with fresh name generation. This bisimulation coincides with contextual equivalence and provides a usable and elementary method for establishing all the subtle equivalences given by Stark [29]. We also describe the formalization of soundness and of the examples in the Coq proof assistant.\n",
      "\n",
      "Number of mappings in paper_mappings 102\n"
     ]
    }
   ],
   "source": [
    "print(\"Useful information for last entry\")\n",
    "print()\n",
    "print(\"ID label index start:\",id_label_start)\n",
    "print(\"Year label index start:\",year_label_start)\n",
    "print(\"Citation label index start:\",citation_label_start)\n",
    "print(\"Abstract label index start:\",abstract_label_start)\n",
    "print()\n",
    "print(\"ID tag index start:\", id_tag_start)\n",
    "print(\"Year tag index start:\", year_tag_start)\n",
    "print(\"Citation tag index start:\", citation_tag_start)\n",
    "print(\"Abstract tag index start:\", abstract_tag_start)\n",
    "print()\n",
    "print(\"ID tag index end:\", id_tag_end)\n",
    "print(\"Year tag index end:\", year_tag_end)\n",
    "print(\"Citation tag index end:\", citation_tag_end)\n",
    "print(\"Abstract tag index end:\", abstract_tag_end)\n",
    "print()\n",
    "print(\"ID tag:\", id_tag)\n",
    "print(\"Year tag:\", year_tag)\n",
    "print(\"Citation tag:\", num_citations)\n",
    "print(\"Abstract tag:\", abstract_tag)\n",
    "print()\n",
    "print(\"Number of mappings in paper_mappings\", len(paper_mappings))\n"
   ]
  },
  {
   "cell_type": "code",
   "execution_count": 11,
   "metadata": {},
   "outputs": [],
   "source": [
    "#print(paper_mappings.keys())"
   ]
  },
  {
   "cell_type": "code",
   "execution_count": 39,
   "metadata": {},
   "outputs": [
    {
     "data": {
      "text/plain": [
       "'\\nfor key in keys: \\n    if paper_mappings[key][0] == \"tie\":\\n        print(key)\\n    i += 1\\n    #print(i)\\n    print(paper_mappings[key][0])\\n'"
      ]
     },
     "execution_count": 39,
     "metadata": {},
     "output_type": "execute_result"
    }
   ],
   "source": [
    "# testing years \n",
    "#keys = list(paper_mappings.keys())\n",
    "i = 0\n",
    "'''\n",
    "for key in keys: \n",
    "    if paper_mappings[key][0] == \"tie\":\n",
    "        print(key)\n",
    "    i += 1\n",
    "    #print(i)\n",
    "    print(paper_mappings[key][0])\n",
    "'''\n"
   ]
  },
  {
   "cell_type": "code",
   "execution_count": 37,
   "metadata": {},
   "outputs": [],
   "source": [
    "# testing citations\n",
    "keys = list(paper_mappings.keys())\n",
    "#for key in keys: \n",
    "    #print(paper_mappings[key][1])"
   ]
  },
  {
   "cell_type": "code",
   "execution_count": 12,
   "metadata": {},
   "outputs": [
    {
     "name": "stdout",
     "output_type": "stream",
     "text": [
      "0.254901960784\n",
      "\n"
     ]
    },
    {
     "data": {
      "image/png": "[encoded data removed]",
      "text/plain": [
       "<matplotlib.figure.Figure at 0x7f2d6a1d4208>"
      ]
     },
     "metadata": {
      "needs_background": "light"
     },
     "output_type": "display_data"
    }
   ],
   "source": [
    "# testing length of abstracts \n",
    "from matplotlib import pyplot\n",
    "%matplotlib inline\n",
    "keys = list(paper_mappings.keys())\n",
    "values = []\n",
    "for key in keys: \n",
    "    values.append(len(paper_mappings[key][2]))\n",
    "    #print(len(paper_mappings[key][2]))\n",
    "\n",
    "x = pyplot.hist(values)\n",
    "print(x[0][0]/sum(x[0]))\n",
    "print()\n",
    "    "
   ]
  },
  {
   "cell_type": "code",
   "execution_count": 42,
   "metadata": {},
   "outputs": [
    {
     "name": "stdout",
     "output_type": "stream",
     "text": [
      "this is key: 1\n",
      "4cbba8127c8747a3b2cfb9c1f48c43e5c15e323\n",
      "this is key: 2\n",
      "4c61478345166be0d917854bd5e5f42a6ade236\n",
      "this is key: 3\n",
      "34ca6d85db744543ddc27d74d7f225b13c66b95\n",
      "this is key: 4\n",
      "3316b8b97c1e17ac93f220f4b64842905c40cd9\n",
      "this is key: 5\n",
      "58ff17c7d8ca006731facf7771761946350db06\n",
      "this is key: 6\n",
      "f487c60cc4b4637584f89d4bc892aae4eb8c8a1\n",
      "this is key: 7\n",
      "69662bd2a2f5ff9cf2b0230bcc852290eadfbfc\n",
      "this is key: 8\n",
      "3f1b5aa320422a4df10ed248898125e6fd3440d\n",
      "this is key: 9\n",
      "453ae606c4c5f2dd278b8892b1eed9ecd5154ec\n",
      "this is key: 10\n",
      "c739d07173f366ba99a948c7888459c5d70adcf\n",
      "this is key: 11\n",
      "cb61fc1ebdeb5835460c18044d331388d5b1067\n",
      "this is key: 12\n",
      "50ef31b58a30dfefb624db6f72cda7bc242cde5\n",
      "this is key: 13\n",
      "10b5e8d1ab6f8002c89b2bfe4002a22c4f6ea9d\n",
      "this is key: 14\n",
      "ccc67f73db54afc3f016ba5449d30235b7c256b\n",
      "this is key: 15\n",
      "7e1dc0e805fbb13112da580c37c50d117944afe\n",
      "this is key: 16\n",
      "7331b32342d54e97ca7e32f01b9e1ae94ed563d\n",
      "this is key: 17\n",
      "177e662ac662c21b02f28d8bf6c35ef98487411\n",
      "this is key: 18\n",
      "ac1ccf2f8d373a4964b127ba651a21b75e184be\n",
      "this is key: 19\n",
      "06f3d20b2c9191b4f03761a61312a1c71345a00\n",
      "this is key: 20\n",
      "b048c1886c86e65fdfa489038372f938cf62a59\n",
      "this is key: 21\n",
      "a19381d3b56fbe1b7e5426c92ee1e140cd752e5\n",
      "this is key: 22\n",
      "213a87540ca26cc97a356689654dd4338cb327a\n",
      "this is key: 23\n",
      "dabb12f12f5ea266754c7b966af3f588a885ff2\n",
      "this is key: 24\n",
      "9ecd00055f711268afd477b367df56e1beb79ce\n",
      "this is key: 25\n",
      "2a16e045f92b79c50de8c766ab5066d4c6506fc\n",
      "this is key: 26\n",
      "de0d959928f27cc5f2c544aaddd1129a2265558\n",
      "this is key: 27\n",
      "676415ecd7062992875cdca0e7c015eb0790885\n",
      "this is key: 28\n",
      "5d0d040fedd41f6e7bd4f04c8c09f2cf48c42ea\n",
      "this is key: 29\n",
      "2a57a968fd686019eaee407e63b622842e5cc8b\n",
      "this is key: 30\n",
      "a9e115bebedb7a35480290d2d80811c56b20f00\n",
      "this is key: 31\n",
      "257c568ccac74ff428c6216afae6bffcc979635\n",
      "this is key: 32\n",
      "13ad44a4e755e9c350b0aa12fb57f62322b27a7\n",
      "this is key: 33\n",
      "5d57969d18a733dbc13755d404a899600fcfe0a\n",
      "this is key: 34\n",
      "a8673869f70b6a41be1022fc951bdbb0e57eade\n",
      "this is key: 35\n",
      "22fb2f5e1ea2656a189e15a35971abd8c95e3b2\n",
      "this is key: 36\n",
      "6739f08784213707b6330dfd4594adee325deb2\n",
      "this is key: 37\n",
      "a5408858acf547d8dfc4bf22ddfc57eeac3d0ce\n",
      "this is key: 38\n",
      "faace5297a27e219887cdcffb34d3af105d39e9\n",
      "this is key: 39\n",
      "e174852b8c13028cf60746d075ef03cc5c9a32e\n",
      "this is key: 40\n",
      "9e5b61fbe0a934514e9e5b54a6a72ed35055463\n",
      "this is key: 41\n",
      "18a4f66d92c7e3d13338a59d8f0243f5f6fa08a\n",
      "this is key: 42\n",
      "bb074796d8db89facf3cdbb05de4999f2093093\n",
      "this is key: 43\n",
      "6b9a6f81bd27a05c0d9738fc462f0881ef18c16\n",
      "this is key: 44\n",
      "d2b2c64fa3045ddccdfc16fde48d17a5cf6c217\n",
      "this is key: 45\n",
      "530d70bbc74182fea3f749d330968df35e5e97e\n",
      "this is key: 46\n",
      "c0d1e573ba600b1ca172c30a329a38e79369351\n",
      "this is key: 47\n",
      "79a98d16e3ec63a443d97207e769a2b00075d5e\n",
      "this is key: 48\n",
      "928308d1152f0d5ccf427c4851d26c9be580e29\n",
      "this is key: 49\n",
      "85f824cdbe6f98554eef436ceaf6fbf06014629\n",
      "this is key: 50\n",
      "7177f1ed139b1dbb926f597ad13da2616abacca\n",
      "this is key: 51\n",
      "b5c852fe42849359e98ed970409d28f03425dcb\n",
      "this is key: 52\n",
      "957795b6b95fe2c201cddc9cb0e35a08638fd6e\n",
      "this is key: 53\n",
      "aea0d984c50ded5a331f4d47595e95da4aecdbc\n",
      "this is key: 54\n",
      "a2291096b31547e07acd9db51c3baa99e1d7669\n",
      "this is key: 55\n",
      "6f455dc604758fdf3c0805db38713283882443d\n",
      "this is key: 56\n",
      "a98c825c2223041e95ed1b74d3a803f3cc093e2\n",
      "this is key: 57\n",
      "a2eed550b03440b654e8576ea3e035f8eb3813d\n",
      "this is key: 58\n",
      "7265b7c2235d3420a0bd0e974699a7f631d1276\n",
      "this is key: 59\n",
      "661c29e2048adeee683fa78bbd17fd58eb073fe\n",
      "this is key: 60\n",
      "1d9579304fa36e70bad0c0d6b4aa7baa85ecebe\n",
      "this is key: 61\n",
      "96b8a0e42ada3a1d4eb6c4abb92992dcae68985\n",
      "this is key: 62\n",
      "284c7adfec4627d59da15e804423d687911f9d2\n",
      "this is key: 63\n",
      "732bc43c480a1bdf9cb94ce8fe906724d4a787e\n",
      "this is key: 64\n",
      "ef4dda97d63ac1d30ca38cd70ed534d0e97b1da\n",
      "this is key: 65\n",
      "110b5a87f41391d860bf4c523c824b78bbbfe1b\n",
      "this is key: 66\n",
      "3016c9b9e3aeafe6fc93558316b472953d8b5bb\n",
      "this is key: 67\n",
      "2a04eab09be9ffbb99437f4661efb88e0c2e900\n",
      "this is key: 68\n",
      "fdc28c7410841edbd79110f1f9a0690d8748bc1\n",
      "this is key: 69\n",
      "f50adf73827d0fc6a1c2687482ce034409ff9c0\n",
      "this is key: 70\n",
      "8d8a61fba567968df238f2b3197df1e271e2688\n",
      "this is key: 71\n",
      "506809b08e90f2bea4a2f0367fa85c87745db5d\n",
      "this is key: 72\n",
      "ef969bf59c7bf487f9d6b9f125b406960b43ef1\n",
      "this is key: 73\n",
      "41e640069b7a529337b22ad187ee80290079fa0\n",
      "this is key: 74\n",
      "be4cab584e6a1d59847d87a8354c017dc1a9e0d\n",
      "this is key: 75\n",
      "588b8e0563d8c0cafe3f78e9cb5b7ad00f2c4ae\n",
      "this is key: 76\n",
      "bcc64f4e1aed2602797232e40b4701e2cec243b\n",
      "this is key: 77\n",
      "a3ec095282c2824dc95d90e3109fe5cb1309a59\n",
      "this is key: 78\n",
      "74f4e3eaf4f5117154a34dc4a84a837405c18cf\n",
      "this is key: 79\n",
      "88092fb7437b2f2afd8cd7643a8fd1377d6764f\n",
      "this is key: 80\n",
      "7d73717faec6a2054829049892c0835812518b9\n",
      "this is key: 81\n",
      "c120ca14ef444d3ee9a5296cc73cfa0c72e655c\n",
      "this is key: 82\n",
      "706584ee31864a32464a8459948bbb072358561\n",
      "this is key: 83\n",
      "e7b0dd48ecfcd9676a1f2175fe034d852fc4bf6\n",
      "this is key: 84\n",
      "8148fb09aac1912861fcf1954d756a4979e1f85\n",
      "this is key: 85\n",
      "8d4462951e97e43ddf511745a5704e41c03b0a9\n",
      "this is key: 86\n",
      "248647e053c227b6375d119bb16a7508fdfbef2\n",
      "this is key: 87\n",
      "8e0592e19c7aee693511abc2bc5ed64c3a652f4\n",
      "this is key: 88\n",
      "60cc08c5c8588a752eac1560c082d7b8221c883\n",
      "this is key: 89\n",
      "0ff687d5cf1d59c8f63a6fbeac5ebd749c7f2b9\n",
      "this is key: 90\n",
      "a4556c50148d42728f3c5a511a8edc0d7b1f234\n",
      "this is key: 91\n",
      "3ceae822154903274e877a2146071343435b3d1\n",
      "this is key: 92\n",
      "b7aab33f28914d43e3e7597a5439a5a8cba36d9\n",
      "this is key: 93\n",
      "185e6a412b05973b280bdad525907eb1d12a0a3\n",
      "this is key: 94\n",
      "3501a7869367d68b50666eac91a5dfb76c0b301\n",
      "this is key: 95\n",
      "6374215829deb1843e01716dfa815404016602b\n",
      "this is key: 96\n",
      "0bf6e21f6eaa4fec02f3c4573b0466b71c68814\n",
      "this is key: 97\n",
      "c7886223beb224eb15a75b22c50df8f90a8d517\n",
      "this is key: 98\n",
      "630cd25ecf943ac9c1c0cec3b862e8cac5875f7\n",
      "this is key: 99\n",
      "b8f59e9c7b1728a205293d70bac82361607836d\n",
      "this is key: 100\n",
      "3da08f98d471a65762bdf070fd29c888ea14276\n",
      "this is key: 101\n",
      "d169494be0045e845470ae04a84f022021fbb5b\n",
      "this is key: 102\n",
      "043f91aa4e90077b17231adc6e6e98ceb8e88f6\n"
     ]
    }
   ],
   "source": [
    "# testing keys\n",
    "keys = list(paper_mappings.keys())\n",
    "i = 0 \n",
    "for key in keys: \n",
    "    i += 1\n",
    "    print(\"this is key:\", i)\n",
    "    print(key)"
   ]
  },
  {
   "cell_type": "code",
   "execution_count": 14,
   "metadata": {},
   "outputs": [],
   "source": [
    "test_string = \"\\\"inCitations\\\":[],\"\n",
    "citation_label_start = test_string.find(paper_citation_tag) # index that the citation label starts\n",
    "citation_tag_start = citation_label_start + 15 # index that the citation tag starts\n",
    "citation_tag_end = test_string.find(bracket, citation_tag_start)  # this is the index that the citation tag ends\n",
    "citation_list = test_string[citation_tag_start:citation_tag_end].split(\",\") # make it a list, count number of entries\n",
    "num_citations = len(citation_list) # number of citations "
   ]
  },
  {
   "cell_type": "code",
   "execution_count": 15,
   "metadata": {},
   "outputs": [
    {
     "name": "stdout",
     "output_type": "stream",
     "text": [
      "0\n",
      "15\n",
      "15\n",
      "['']\n",
      "1\n"
     ]
    }
   ],
   "source": [
    "print(citation_label_start)\n",
    "print(citation_tag_start)\n",
    "print(citation_tag_end)\n",
    "print(citation_list)\n",
    "print(num_citations)"
   ]
  },
  {
   "cell_type": "code",
   "execution_count": 16,
   "metadata": {},
   "outputs": [],
   "source": [
    "test_string = \"\\\"paperAbstract\\\":\\\"\\\"\""
   ]
  },
  {
   "cell_type": "code",
   "execution_count": 17,
   "metadata": {},
   "outputs": [
    {
     "data": {
      "text/html": [
       "\n",
       "            <div>\n",
       "                <p><b>SparkSession - hive</b></p>\n",
       "                \n",
       "        <div>\n",
       "            <p><b>SparkContext</b></p>\n",
       "\n",
       "            <p><a href=\"http://ec2-52-40-20-182.us-west-2.compute.amazonaws.com:4041\">Spark UI</a></p>\n",
       "\n",
       "            <dl>\n",
       "              <dt>Version</dt>\n",
       "                <dd><code>v2.3.1</code></dd>\n",
       "              <dt>Master</dt>\n",
       "                <dd><code>local[*]</code></dd>\n",
       "              <dt>AppName</dt>\n",
       "                <dd><code>PySparkShell</code></dd>\n",
       "            </dl>\n",
       "        </div>\n",
       "        \n",
       "            </div>\n",
       "        "
      ],
      "text/plain": [
       "<pyspark.sql.session.SparkSession at 0x7f2d6b664cc0>"
      ]
     },
     "execution_count": 17,
     "metadata": {},
     "output_type": "execute_result"
    }
   ],
   "source": []
  },
  {
   "cell_type": "code",
   "execution_count": null,
   "metadata": {},
   "outputs": [],
   "source": []
  }
 ],
 "metadata": {
  "kernelspec": {
   "display_name": "Python 3",
   "language": "python",
   "name": "python3"
  },
  "language_info": {
   "codemirror_mode": {
    "name": "ipython",
    "version": 3
   },
   "file_extension": ".py",
   "mimetype": "text/x-python",
   "name": "python",
   "nbconvert_exporter": "python",
   "pygments_lexer": "ipython3",
   "version": "3.6.3"
  }
 },
 "nbformat": 4,
 "nbformat_minor": 2
}
