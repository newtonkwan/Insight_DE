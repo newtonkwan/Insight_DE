{
 "cells": [
  {
   "cell_type": "code",
   "execution_count": 6,
   "metadata": {},
   "outputs": [],
   "source": [
    "import redis \n",
    "from pyspark import SparkContext \n",
    "'''\n",
    "This file pulls 1GB .gz file of data from an S3 bucket\n",
    "'''\n",
    "rdb = redis.Redis(host=\"10.0.0.6\", port=6379) # set up the redis database connection \n",
    "filenames = \"s3a://open-research-corpus/sample-S2-records.gz\" # path to the example file from S3 file \n",
    "#sc = SparkContext(appName = \"Pull Open Research Corpus\") # setup the Spark Context \n",
    "data = sc.textFile(filenames) # reads and stores the data file "
   ]
  },
  {
   "cell_type": "code",
   "execution_count": 13,
   "metadata": {},
   "outputs": [],
   "source": [
    "first_entry = data.take(0)"
   ]
  },
  {
   "cell_type": "code",
   "execution_count": null,
   "metadata": {},
   "outputs": [],
   "source": [
    "file = sc.textFile(\"hdfs://<public_dns>:9000/user/test.txt\")\n",
    "counts = file.flatMap(lambda line: line.split(\" \"))\\\n",
    "           .map(lambda word: (word, 1))\\\n",
    "           .reduceByKey(lambda a, b: a + b)\n",
    "res = counts.collect()\n",
    "for val in res:\n",
    "    print(val)"
   ]
  },
  {
   "cell_type": "code",
   "execution_count": null,
   "metadata": {},
   "outputs": [],
   "source": []
  }
 ],
 "metadata": {
  "kernelspec": {
   "display_name": "Python 3",
   "language": "python",
   "name": "python3"
  },
  "language_info": {
   "codemirror_mode": {
    "name": "ipython",
    "version": 3
   },
   "file_extension": ".py",
   "mimetype": "text/x-python",
   "name": "python",
   "nbconvert_exporter": "python",
   "pygments_lexer": "ipython3",
   "version": "3.6.3"
  }
 },
 "nbformat": 4,
 "nbformat_minor": 2
}
